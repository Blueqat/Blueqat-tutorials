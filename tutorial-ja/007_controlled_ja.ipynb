{
 "cells": [
  {
   "cell_type": "markdown",
   "metadata": {},
   "source": [
    "# CX, CY, CZゲート\n",
    "制御ゲートを見てみたいと思います。\n",
    "\n",
    "## 今回学ぶこと\n",
    "1. パウリゲートの制御ゲートを学びます。\n",
    "2. そのゲートの実装例を学びます。\n",
    "\n",
    "## Blueqatのインストール\n",
    "pipからBlueqatをインストールします。"
   ]
  },
  {
   "cell_type": "code",
   "execution_count": null,
   "metadata": {
    "colab": {
     "base_uri": "https://localhost:8080/",
     "height": 136
    },
    "colab_type": "code",
    "id": "Z2z6oBnToiqa",
    "outputId": "413f3f56-1b22-40f7-fcff-4621af4596d4"
   },
   "outputs": [],
   "source": [
    "!pip install blueqat"
   ]
  },
  {
   "cell_type": "markdown",
   "metadata": {},
   "source": [
    "## 2量子ゲート\n",
    "2量子ゲートは主に1量子ゲートに制御ビットが加わったものがあります。\n",
    "\n",
    "### CX, CZ\n",
    "CX, CY, CZ ゲートは以下で実装できます。\n",
    "\n",
    "| CX | CY | CZ | \n",
    "|:-:|:-:|:-:|\n",
    "|`cx`or`cnot`|`cy`|`cz`|"
   ]
  },
  {
   "cell_type": "markdown",
   "metadata": {},
   "source": [
    "#### 実装\n",
    "以上のゲートを実装します。\n",
    "\n",
    "###### CX ゲート"
   ]
  },
  {
   "cell_type": "code",
   "execution_count": 2,
   "metadata": {},
   "outputs": [
    {
     "data": {
      "text/plain": [
       "Counter({'00': 100})"
      ]
     },
     "execution_count": 2,
     "metadata": {},
     "output_type": "execute_result"
    }
   ],
   "source": [
    "from blueqat import Circuit\n",
    "\n",
    "Circuit().cx[0,1].m[:].run(shots=100)\n",
    "#or\n",
    "Circuit().cnot[0,1].m[:].run(shots=100)"
   ]
  },
  {
   "cell_type": "markdown",
   "metadata": {},
   "source": [
    "###### CY ゲート"
   ]
  },
  {
   "cell_type": "code",
   "execution_count": 3,
   "metadata": {},
   "outputs": [
    {
     "data": {
      "text/plain": [
       "Counter({'00': 100})"
      ]
     },
     "execution_count": 3,
     "metadata": {},
     "output_type": "execute_result"
    }
   ],
   "source": [
    "Circuit().cy[0,1].m[:].run(shots=100)"
   ]
  },
  {
   "cell_type": "markdown",
   "metadata": {},
   "source": [
    "###### CZ ゲート"
   ]
  },
  {
   "cell_type": "code",
   "execution_count": 4,
   "metadata": {},
   "outputs": [
    {
     "data": {
      "text/plain": [
       "Counter({'00': 100})"
      ]
     },
     "execution_count": 4,
     "metadata": {},
     "output_type": "execute_result"
    }
   ],
   "source": [
    "Circuit().cz[0,1].m[:].run(shots=100)"
   ]
  },
  {
   "cell_type": "markdown",
   "metadata": {},
   "source": [
    "## CX, CY ゲート\n",
    "制御ゲートは「コントロールビット」と「ターゲットビット」で構成されます。 \n",
    "\n",
    "制御ゲートは2量子ビットを用います。これらは1ビット目が $|1\\rangle$ のときに2ビット目を変換させるゲートです。   \n",
    "例としてよく使う CXゲートを紹介します。\n",
    "\n",
    "<img src=\"./img/007/007_0.png\" width=\"60%\">\n",
    "\n",
    "見てわかる通り1ビット目が $|1\\rangle$ のときに2ビット目にXゲートを施しているのがわかります。   \n",
    "それ以外の制御ゲートも1ビット目が $|1\\rangle$ のときに2ビット目にそれぞれのゲートを施してます。"
   ]
  },
  {
   "cell_type": "markdown",
   "metadata": {},
   "source": [
    "# 制御任意回転ゲート\n",
    "\n",
    "制御任意回転ゲートを学びます"
   ]
  },
  {
   "cell_type": "markdown",
   "metadata": {},
   "source": [
    "## 今回学ぶこと\n",
    "1. Rx,Ry,Rz,CU1,CU2,CU3ゲートについて\n",
    "2. 回路を作成"
   ]
  },
  {
   "cell_type": "markdown",
   "metadata": {},
   "source": [
    "### CRx, CRy, CRz,\n",
    "CRx, CRy, CRz ゲートは以下で実装できます。\n",
    "\n",
    "| CRx | CRy | CRz |\n",
    "|:-:|:-:|:-:|\n",
    "|`crx(θ)`|`cry(θ)`|`crz(θ)`|\n",
    "\n",
    "$\\theta$に関してはRX,RY,RZゲートと同じです。"
   ]
  },
  {
   "cell_type": "markdown",
   "metadata": {},
   "source": [
    "###### CRx ゲート"
   ]
  },
  {
   "cell_type": "code",
   "execution_count": 5,
   "metadata": {},
   "outputs": [
    {
     "data": {
      "text/plain": [
       "Counter({'00': 100})"
      ]
     },
     "execution_count": 5,
     "metadata": {},
     "output_type": "execute_result"
    }
   ],
   "source": [
    "import math\n",
    "\n",
    "Circuit().crx(math.pi/2)[0,1].m[:].run(shots=100)"
   ]
  },
  {
   "cell_type": "markdown",
   "metadata": {},
   "source": [
    "###### CRy ゲート"
   ]
  },
  {
   "cell_type": "code",
   "execution_count": 6,
   "metadata": {},
   "outputs": [
    {
     "data": {
      "text/plain": [
       "Counter({'00': 1000})"
      ]
     },
     "execution_count": 6,
     "metadata": {},
     "output_type": "execute_result"
    }
   ],
   "source": [
    "Circuit().cry(math.pi/2)[0,1].m[:].run(shots=1000)"
   ]
  },
  {
   "cell_type": "markdown",
   "metadata": {},
   "source": [
    "###### CRz ゲート"
   ]
  },
  {
   "cell_type": "code",
   "execution_count": 7,
   "metadata": {},
   "outputs": [
    {
     "data": {
      "text/plain": [
       "Counter({'00': 1000})"
      ]
     },
     "execution_count": 7,
     "metadata": {},
     "output_type": "execute_result"
    }
   ],
   "source": [
    "Circuit().crz(math.pi/2)[0,1].m[:].run(shots=1000)"
   ]
  },
  {
   "cell_type": "markdown",
   "metadata": {},
   "source": [
    "### CU1, CU2, CU3\n",
    "CU1, CU2, CU3 ゲートは以下で実装できます。\n",
    "\n",
    "| CU1 | CU2 | CU3 |\n",
    "|:-:|:-:|:-:|\n",
    "|`cu1(λ)`or`cphase(λ)`|`cu2(φ,λ)`|`cu3(θ,φ,λ)`|\n",
    "\n",
    "$\\theta, \\lambda, \\phi$ に関しては1量子ゲートのときと同じです。"
   ]
  },
  {
   "cell_type": "markdown",
   "metadata": {},
   "source": [
    "###### CU1 ゲート"
   ]
  },
  {
   "cell_type": "code",
   "execution_count": 8,
   "metadata": {},
   "outputs": [
    {
     "data": {
      "text/plain": [
       "Counter({'00': 100})"
      ]
     },
     "execution_count": 8,
     "metadata": {},
     "output_type": "execute_result"
    }
   ],
   "source": [
    "Circuit().cu1(math.pi)[0,1].m[:].run(shots=100)\n",
    "#or\n",
    "Circuit().cphase(math.pi)[0,1].m[:].run(shots=100)"
   ]
  },
  {
   "cell_type": "markdown",
   "metadata": {},
   "source": [
    "###### CU2 ゲート"
   ]
  },
  {
   "cell_type": "code",
   "execution_count": 9,
   "metadata": {},
   "outputs": [
    {
     "data": {
      "text/plain": [
       "Counter({'00': 100})"
      ]
     },
     "execution_count": 9,
     "metadata": {},
     "output_type": "execute_result"
    }
   ],
   "source": [
    "Circuit().cu2(0,math.pi)[0,1].m[:].run(shots=100)"
   ]
  },
  {
   "cell_type": "markdown",
   "metadata": {},
   "source": [
    "###### CU3 ゲート"
   ]
  },
  {
   "cell_type": "code",
   "execution_count": 10,
   "metadata": {},
   "outputs": [
    {
     "data": {
      "text/plain": [
       "Counter({'00': 100})"
      ]
     },
     "execution_count": 10,
     "metadata": {},
     "output_type": "execute_result"
    }
   ],
   "source": [
    "Circuit().cu3(math.pi/2,0,math.pi)[0,1].m[:].run(shots=100)"
   ]
  },
  {
   "cell_type": "markdown",
   "metadata": {},
   "source": [
    "## 解説\n",
    "制御ゲートは「コントロールビット」と「ターゲットビット」を持ちます。これらは1ビット目が $|1\\rangle$ のときに2ビット目に指定のゲートを適用します。 "
   ]
  }
 ],
 "metadata": {
  "colab": {
   "collapsed_sections": [],
   "name": "007_02_fullgate.ipynb",
   "provenance": []
  },
  "kernelspec": {
   "display_name": "Python 3",
   "language": "python",
   "name": "python3"
  },
  "language_info": {
   "codemirror_mode": {
    "name": "ipython",
    "version": 3
   },
   "file_extension": ".py",
   "mimetype": "text/x-python",
   "name": "python",
   "nbconvert_exporter": "python",
   "pygments_lexer": "ipython3",
   "version": "3.8.4"
  }
 },
 "nbformat": 4,
 "nbformat_minor": 4
}
