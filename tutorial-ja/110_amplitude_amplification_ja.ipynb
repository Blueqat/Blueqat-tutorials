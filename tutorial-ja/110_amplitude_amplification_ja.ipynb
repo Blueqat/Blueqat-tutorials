{
 "cells": [
  {
   "cell_type": "markdown",
   "id": "raised-above",
   "metadata": {},
   "source": [
    "# 量子振幅増幅\n",
    "\n",
    "量子振幅増幅は、重ね合わせ状態におけるある特定の状態の振幅を増幅させるアルゴリズムです。  \n",
    "後に説明するグローバーのアルゴリズムの中核をなします。"
   ]
  },
  {
   "cell_type": "markdown",
   "id": "written-confusion",
   "metadata": {},
   "source": [
    "## アルゴリズムの説明"
   ]
  },
  {
   "cell_type": "markdown",
   "id": "dense-jersey",
   "metadata": {},
   "source": [
    "### Amplitude amplification (振幅増幅)\n",
    "振幅という言葉が出てきましたが、各状態の係数のことを**振幅**、各状態が測定される確率のことを**確率振幅**と言います。\n",
    "\n",
    "以下の式を見てみます。\n",
    "\n",
    "$$\n",
    "H \\lvert 0 \\rangle \\otimes H \\lvert 0 \\rangle = \\frac{1}{2} (\\lvert 00 \\rangle + \\lvert 01 \\rangle + \\lvert10 \\rangle + \\lvert 11 \\rangle) \\xrightarrow{\\text{振幅増幅}} \\lvert 00 \\rangle\n",
    "$$\n",
    "\n",
    "この場合、矢印の左側では確率振幅は全て $1/4$ となり、\n",
    "右側の状態は $00$ の確率振幅が $1$ となっています。\n",
    "\n",
    "Amplitude amplification は言葉の通りこの確率振幅を上のように増幅させるアルゴリズムです。"
   ]
  },
  {
   "cell_type": "markdown",
   "id": "tamil-lewis",
   "metadata": {},
   "source": [
    "以下の図を用いて具体的な計算を説明します。\n",
    "\n",
    "<img width=\"30%\" src=\"https://upload.wikimedia.org/wikipedia/commons/1/16/Grovers_algorithm_geometry.png\">\n",
    "\n",
    "参考: https://en.wikipedia.org/wiki/Grover%27s_algorithm\n",
    "\n",
    "まずは記号の説明をします。\n",
    "$\\lvert s\\rangle$ は任意の初期状態です。  \n",
    "ここでは具体例として、全状態の重ね合わせとして考えます。この初期状態は後に説明するグローバーのアルゴリズムで用いられます。\n",
    "\n",
    "$$\n",
    "\\lvert s \\rangle = \\otimes^n  H  \\lvert 0 \\rangle =\\frac{1}{\\sqrt{2^n}}\\sum^{2^n}_{x\\in \\{0, 1\\}^n}\\lvert x \\rangle\n",
    "$$\n",
    "\n",
    "このうち、振幅増幅させたい状態を $\\omega$ としています。\n",
    "\n",
    "$$\n",
    "\\lvert \\omega \\rangle = \\frac{1}{\\sqrt{2^n}} \\lvert 00...010...00\\rangle\n",
    "$$\n",
    "\n",
    "$x$ 番目に1が入っているとします。\n",
    "\n",
    "$\\lvert s'\\rangle$ は $\\lvert s\\rangle$ から $\\omega$ を除いたベクトルです。\n",
    "\n",
    "$$\n",
    "\\lvert s' \\rangle = \\lvert s \\rangle - \\lvert \\omega \\rangle = \\lvert \\omega^{\\perp} \\rangle\n",
    "$$\n",
    "\n",
    "$\\lvert \\omega \\rangle$ に垂直なことがわかります。"
   ]
  },
  {
   "cell_type": "markdown",
   "id": "printable-currency",
   "metadata": {},
   "source": [
    "$U_{\\omega}$ は $\\lvert s' \\rangle$ を軸に $\\psi$ を反転させる行列です。\n",
    "すなわち $\\psi$ を $-\\phi$ 回転させます。\n",
    "\n",
    "$$\n",
    "U_{\\omega} \\lvert \\psi \\rangle = \\cos(-\\phi) \\tilde{\\lvert s' \\rangle} + \\sin(-\\phi) \\tilde{\\lvert \\omega \\rangle} = \\cos(\\phi) \\tilde{\\lvert s' \\rangle} - \\sin(\\phi) \\tilde{\\lvert \\omega \\rangle}\n",
    "$$\n",
    "\n",
    "$U_s$ は $\\psi$ を $\\lvert s \\rangle$ を軸に反転させる行列です。\n",
    "\n",
    "$$\n",
    "U_s \\lvert \\psi \\rangle = \\cos \\bigg\\{ \\frac{\\theta}{2} + \\big(\\frac{\\theta}{2} - \\phi \\big) \\bigg\\} \\tilde{\\lvert s' \\rangle} + \\sin \\bigg\\{ \\frac{\\theta}{2} + \\big(\\frac{\\theta}{2} - \\phi \\big) \\bigg\\}\\tilde{\\lvert \\omega \\rangle} = \\cos(\\theta - \\phi)\\tilde{\\lvert s' \\rangle} + \\sin(\\theta - \\phi) \\tilde{\\lvert \\omega \\rangle}\n",
    "$$"
   ]
  },
  {
   "cell_type": "markdown",
   "id": "perceived-lesson",
   "metadata": {},
   "source": [
    "### 概要\n",
    "アルゴリズムの概要は以下のようになります。\n",
    "\n",
    "1. $\\lvert s \\rangle$ を $U_{\\omega}$ を用いて $\\lvert s' \\rangle$ で折り返す。\n",
    "\n",
    "2. $U_{\\omega}\\lvert s \\rangle$ を $U_s$ を用いて $\\lvert s \\rangle$ で折り返す。\n",
    "\n",
    "以上の流れを詳しく説明していきます。"
   ]
  },
  {
   "cell_type": "markdown",
   "id": "attempted-mercy",
   "metadata": {},
   "source": [
    "#### 1. $\\lvert s' \\rangle$ に関する折り返し\n",
    "$\\lvert s \\rangle$ について上の図のように $\\theta$ を用いて\n",
    "\n",
    "$$\n",
    "\\lvert s \\rangle = \\cos\\bigl(\\frac{\\theta}{2}\\bigr) \\tilde{\\lvert s' \\rangle} - \\sin\\bigl(\\frac{\\theta}{2}\\bigr) \\tilde{\\lvert \\omega \\rangle}\n",
    "$$\n",
    "\n",
    "と定義します。\n",
    "\n",
    "このとき\n",
    "\n",
    "$$\n",
    "\\cos\\bigl( \\frac{\\theta}{2} \\bigr) = \\sqrt{\\frac{2^n-1}{2^n}},\\ \\ \\ \\  \\sin\\bigl( \\frac{\\theta}{2} \\bigr) = \\sqrt{\\frac{1}{2^n}}\n",
    "$$\n",
    "\n",
    "と表せます。"
   ]
  },
  {
   "cell_type": "markdown",
   "id": "governmental-discretion",
   "metadata": {},
   "source": [
    "$U_{\\omega}$ で $\\lvert s \\rangle$ を $\\lvert s' \\rangle$ を軸に折り返します。\n",
    "上の図から以下のようにかけます。\n",
    "\n",
    "$$\n",
    "U_{\\omega} \\lvert s \\rangle = \\cos\\bigl(-\\frac{\\theta}{2}\\bigr)\\tilde{\\lvert s' \\rangle} + \\sin\\bigl(-\\frac{\\theta}{2}\\bigr)\\tilde{\\lvert \\omega \\rangle} = \\cos\\bigl(\\frac{\\theta}{2}\\bigr)\\tilde{\\lvert s' \\rangle} - \\sin\\bigl(\\frac{\\theta}{2}\\bigr)\\tilde{\\lvert \\omega \\rangle}\n",
    "$$\n",
    "\n",
    "この操作に関しては $\\lvert \\omega \\rangle$ のみに作用しているので $U_{\\omega}$ は上で述べた Oracle を表していることがわかります。"
   ]
  },
  {
   "cell_type": "markdown",
   "id": "agricultural-richards",
   "metadata": {},
   "source": [
    "#### 2. $\\lvert s \\rangle$ に関する折り返し\n",
    "$U_s$ で $U_{\\omega}\\lvert s \\rangle$ を $\\lvert s \\rangle$ を軸に折り返します。\n",
    "\n",
    "$$\n",
    "U_s U_{\\omega} \\lvert s\\rangle = U_s\\biggl( \\cos\\bigl(-\\frac{\\theta}{2}\\bigr)\\tilde{\\lvert s' \\rangle} + \\sin\\bigl(-\\frac{\\theta}{2}\\bigr)\\tilde{\\lvert \\omega \\rangle}  \\biggr)\n",
    "$$\n",
    "\n",
    "ここで $2\\theta$ 回転させれば良いので\n",
    "\n",
    "$$\n",
    "U_s U_{\\omega} \\lvert s\\rangle =  \\cos\\bigl(\\frac{3}{2}\\theta\\bigr)\\tilde{\\lvert s' \\rangle} + \\sin\\bigl(\\frac{3}{2}\\theta\\bigr)\\tilde{\\lvert \\omega \\rangle}\n",
    "$$\n",
    "\n",
    "具体的に $\\cos$ と $\\sin$ を求めると加法定理から\n",
    "\n",
    "$$\n",
    "\\cos \\frac{3}{2}\\theta = \\bigl( 1-\\frac{4}{2^n} \\bigr) \\sqrt{\\frac{2^n-1}{2^n}},\\ \\ \\ \\ \\sin \\frac{3}{2}\\theta = \\bigl( 3-\\frac{4}{2^n} \\bigr) \\sqrt{\\frac{1}{2^n}}\n",
    "$$\n",
    "\n",
    "よって、$\\lvert s' \\rangle$, $\\lvert \\omega \\rangle$ を用いると\n",
    "\n",
    "$$\n",
    "U_s U_{\\omega} \\lvert s\\rangle =  \\bigl(1 - \\frac{4}{2^n}\\bigr)\\lvert s' \\rangle + \\bigl(3 - \\frac{4}{2^n}\\bigr)\\lvert \\omega \\rangle\n",
    "$$\n",
    "\n",
    "この操作によって $2^n$ 個の振幅のうち $\\lvert \\omega \\rangle$ が他のよりも約３倍大きくなりました。\n",
    "以上で振幅増幅させることができました。"
   ]
  },
  {
   "cell_type": "markdown",
   "id": "promising-zimbabwe",
   "metadata": {},
   "source": [
    "## 回路の実装"
   ]
  },
  {
   "cell_type": "markdown",
   "id": "tough-groove",
   "metadata": {},
   "source": [
    "これをblueqatで実装してみましょう。\n",
    "\n",
    "2量子ビットの量子振幅増幅を考えます。  \n",
    "2量子ビットの状態は、00,01,10,11の4通りです。その中から特定の状態を増幅したいと思います。  \n",
    "増幅したい状態は上記の $\\lvert \\omega \\rangle$ に対応します。  \n",
    "\n"
   ]
  },
  {
   "cell_type": "markdown",
   "id": "latest-origin",
   "metadata": {},
   "source": [
    "#### 1. $\\lvert s \\rangle$ を $U_{\\omega}$ を用いて $\\lvert s' \\rangle$ で折り返す。\n",
    "まず、 $\\lvert \\omega \\rangle$ と垂直な $\\lvert s' \\rangle$ を軸に、状態を反転させるゲート $U_{\\omega}$ を実現する必要があります。  \n",
    "そのためにはゲート操作をつかって、「解に対応する状態ベクトルだけに-1がかかる対角行列」を数学的に作ります。  \n",
    "ここではHゲート、Sゲート、CZゲートを用いれば可能です。"
   ]
  },
  {
   "cell_type": "markdown",
   "id": "blond-barrier",
   "metadata": {},
   "source": [
    "各回路を一つ一つ見ていきましょう。.run_with_sympy_unitary()を実行することで、回路のユニタリ行列を確認することができます。  \n",
    "CZゲートの対角行列から始めて、それを変更しながら回路を作っていきます。"
   ]
  },
  {
   "cell_type": "code",
   "execution_count": 3,
   "id": "square-atmosphere",
   "metadata": {},
   "outputs": [],
   "source": [
    "from blueqat import Circuit"
   ]
  },
  {
   "cell_type": "code",
   "execution_count": 4,
   "id": "returning-consensus",
   "metadata": {},
   "outputs": [
    {
     "data": {
      "text/latex": [
       "$\\displaystyle \\left[\\begin{matrix}1 & 0 & 0 & 0\\\\0 & 1 & 0 & 0\\\\0 & 0 & 1 & 0\\\\0 & 0 & 0 & -1\\end{matrix}\\right]$"
      ],
      "text/plain": [
       "Matrix([\n",
       "[1, 0, 0,  0],\n",
       "[0, 1, 0,  0],\n",
       "[0, 0, 1,  0],\n",
       "[0, 0, 0, -1]])"
      ]
     },
     "execution_count": 4,
     "metadata": {},
     "output_type": "execute_result"
    }
   ],
   "source": [
    "'''\n",
    "#marking on 11\n",
    "\n",
    "-------*-----\n",
    "-------Z-----\n",
    "'''\n",
    "\n",
    "Circuit(2).cz[0,1].run_with_sympy_unitary()"
   ]
  },
  {
   "cell_type": "code",
   "execution_count": 5,
   "id": "personal-innocent",
   "metadata": {},
   "outputs": [
    {
     "data": {
      "text/latex": [
       "$\\displaystyle \\left[\\begin{matrix}1 & 0 & 0 & 0\\\\0 & -1 & 0 & 0\\\\0 & 0 & 1 & 0\\\\0 & 0 & 0 & 1\\end{matrix}\\right]$"
      ],
      "text/plain": [
       "Matrix([\n",
       "[1,  0, 0, 0],\n",
       "[0, -1, 0, 0],\n",
       "[0,  0, 1, 0],\n",
       "[0,  0, 0, 1]])"
      ]
     },
     "execution_count": 5,
     "metadata": {},
     "output_type": "execute_result"
    }
   ],
   "source": [
    "'''\n",
    "#marking on 01\n",
    " \n",
    "----S--*--S---\n",
    "-------Z-------\n",
    "'''\n",
    "\n",
    "Circuit(2).s[0].cz[0,1].s[0].run_with_sympy_unitary()"
   ]
  },
  {
   "cell_type": "code",
   "execution_count": 6,
   "id": "going-crazy",
   "metadata": {},
   "outputs": [
    {
     "data": {
      "text/latex": [
       "$\\displaystyle \\left[\\begin{matrix}1 & 0 & 0 & 0\\\\0 & 1 & 0 & 0\\\\0 & 0 & -1 & 0\\\\0 & 0 & 0 & 1\\end{matrix}\\right]$"
      ],
      "text/plain": [
       "Matrix([\n",
       "[1, 0,  0, 0],\n",
       "[0, 1,  0, 0],\n",
       "[0, 0, -1, 0],\n",
       "[0, 0,  0, 1]])"
      ]
     },
     "execution_count": 6,
     "metadata": {},
     "output_type": "execute_result"
    }
   ],
   "source": [
    "'''\n",
    "#marking on 10\n",
    " \n",
    "--------*------\n",
    "----S--Z--S---\n",
    "'''\n",
    "\n",
    "Circuit(2).s[1].cz[0,1].s[1].run_with_sympy_unitary()"
   ]
  },
  {
   "cell_type": "code",
   "execution_count": 7,
   "id": "engaged-apartment",
   "metadata": {},
   "outputs": [
    {
     "data": {
      "text/latex": [
       "$\\displaystyle \\left[\\begin{matrix}1 & 0 & 0 & 0\\\\0 & -1 & 0 & 0\\\\0 & 0 & -1 & 0\\\\0 & 0 & 0 & -1\\end{matrix}\\right]$"
      ],
      "text/plain": [
       "Matrix([\n",
       "[1,  0,  0,  0],\n",
       "[0, -1,  0,  0],\n",
       "[0,  0, -1,  0],\n",
       "[0,  0,  0, -1]])"
      ]
     },
     "execution_count": 7,
     "metadata": {},
     "output_type": "execute_result"
    }
   ],
   "source": [
    "\n",
    "'''\n",
    "#00\n",
    " \n",
    "----S--*--S--\n",
    "----S--Z--S--\n",
    "'''\n",
    "\n",
    "Circuit(2).s[:].cz[0,1].s[:].run_with_sympy_unitary()"
   ]
  },
  {
   "cell_type": "markdown",
   "id": "democratic-payday",
   "metadata": {},
   "source": [
    "最後の結果は符号が反転しています。このような場合には、すべてのマイナス記号をプラスに、プラス記号をマイナスに反転させるグローバル位相を考えることができます。"
   ]
  },
  {
   "cell_type": "markdown",
   "id": "civil-january",
   "metadata": {},
   "source": [
    "#### 2. $U_{\\omega}\\lvert s \\rangle$ を $U_s$ を用いて $\\lvert s \\rangle$ で折り返す。\n",
    "\n",
    "$U_s$ については以下のように考えます。\n",
    "\n",
    "$\\lvert s \\rangle$ の定義から $\\lvert s \\rangle = \\lvert s' \\rangle + \\lvert \\omega \\rangle$ と分けて考えると、$U_{\\omega}$ はシンプルに\n",
    "\n",
    "$$\n",
    "U_{\\omega} (\\lvert s' \\rangle + \\lvert \\omega \\rangle) = \\lvert s' \\rangle - \\lvert \\omega \\rangle\n",
    "$$\n",
    "\n",
    "となります。\n",
    "つまりZ、CZゲートなどのように特定の状態だけ符号を変えるゲートを用いれば良いことがわかります。\n",
    "\n",
    "$U_s$ は上の図から幾何的に考えると以下のようにかけます。\n",
    "\n",
    "$$\n",
    "\\begin{align}\n",
    "U_s U_{\\omega} \\lvert s \\rangle &= 2(\\langle s \\lvert U_{\\omega} \\rvert s \\rangle \\rvert s \\rangle - U_{\\omega}\\lvert s \\rangle) + U_{\\omega}\\lvert s \\rangle \\\\\n",
    "&= 2\\lvert s \\rangle \\langle s \\lvert U_{\\omega} \\rvert s \\rangle - U_{\\omega}\\lvert s \\rangle \\\\\n",
    "&= (2\\lvert s\\rangle \\langle s\\rvert - I) U_{\\omega}\\lvert s \\rangle\n",
    "\\end{align}\n",
    "$$\n",
    "\n",
    "よって $U_s = 2\\lvert s\\rangle \\langle s\\rvert - I$ となります。\n",
    "\n",
    "さらに初期状態 $\\lvert s \\rangle = \\otimes^n  H  \\lvert 0 \\rangle$ とした場合、 $U_s$ は以下のように分解できます。\n",
    "\n",
    "$$\n",
    "2\\lvert s\\rangle \\langle s\\rvert - I = 2H^{\\otimes n}\\lvert 0^n\\rangle \\langle 0^n\\rvert H^{\\otimes n} - I = H^{\\otimes n} (2\\lvert 0^n\\rangle \\langle 0^n\\rvert - I) H^{\\otimes n}\\ \\ \\ \\ (\\lvert 0^n \\rangle = \\lvert 00\\cdots 00 \\rangle)\n",
    "$$\n",
    "\n",
    "ここで $2\\lvert 0^n\\rangle \\langle 0^n\\rvert - I$ に関して\n",
    "\n",
    "$$\n",
    "2\\lvert 0^n\\rangle \\langle 0^n\\rvert - I = \n",
    "    \\begin{pmatrix}\n",
    "      -1 & 0 & 0 & \\ldots & 0 & 0 \\\\\n",
    "      0 & 1 & 0 & \\ldots & 0 & 0 \\\\\n",
    "      0 & 0 & 1 & \\ldots & 0 & 0 \\\\\n",
    "      \\vdots & \\vdots & \\vdots & \\ddots & \\vdots & \\vdots \\\\\n",
    "      0 & 0 & 0 & \\ldots & 1 & 0 \\\\\n",
    "      0 & 0 & 0 & \\ldots & 0 & 1\n",
    "    \\end{pmatrix}\n",
    "$$\n",
    "\n",
    "と表せます。\n",
    "\n",
    "これは\n",
    "\n",
    "$$\n",
    "XZX =\n",
    "    \\begin{pmatrix}\n",
    "      -1 & 0 \\\\\n",
    "      0 & 1\n",
    "    \\end{pmatrix}\n",
    "$$\n",
    "\n",
    "の性質から\n",
    "\n",
    "$$\n",
    "2\\lvert 0^n\\rangle \\langle 0^n\\rvert - I = X^{\\otimes n}C^n ZX^{\\otimes n}\n",
    "$$\n",
    "\n",
    "とかけます。\n",
    "\n",
    "こちらをBlueqatに直してみます。"
   ]
  },
  {
   "cell_type": "code",
   "execution_count": 9,
   "id": "enclosed-blues",
   "metadata": {},
   "outputs": [
    {
     "data": {
      "text/latex": [
       "$\\displaystyle \\left[\\begin{matrix}\\frac{1}{2} & - \\frac{1}{2} & - \\frac{1}{2} & - \\frac{1}{2}\\\\- \\frac{1}{2} & \\frac{1}{2} & - \\frac{1}{2} & - \\frac{1}{2}\\\\- \\frac{1}{2} & - \\frac{1}{2} & \\frac{1}{2} & - \\frac{1}{2}\\\\- \\frac{1}{2} & - \\frac{1}{2} & - \\frac{1}{2} & \\frac{1}{2}\\end{matrix}\\right]$"
      ],
      "text/plain": [
       "Matrix([\n",
       "[ 1/2, -1/2, -1/2, -1/2],\n",
       "[-1/2,  1/2, -1/2, -1/2],\n",
       "[-1/2, -1/2,  1/2, -1/2],\n",
       "[-1/2, -1/2, -1/2,  1/2]])"
      ]
     },
     "execution_count": 9,
     "metadata": {},
     "output_type": "execute_result"
    }
   ],
   "source": [
    "'''\n",
    "--H-X-*-X-H--\n",
    "--H-X-Z-X-H--\n",
    "'''\n",
    "\n",
    "Circuit(2).h[:].x[:].cz[0,1].x[:].h[:].run_with_sympy_unitary()"
   ]
  },
  {
   "cell_type": "markdown",
   "id": "biblical-fairy",
   "metadata": {},
   "source": [
    "以上から振幅増幅用オラクルをゲートで書き直すことができました。  "
   ]
  },
  {
   "cell_type": "markdown",
   "id": "discrete-modification",
   "metadata": {},
   "source": [
    "では、実際の回路の実装です。"
   ]
  },
  {
   "cell_type": "code",
   "execution_count": 10,
   "id": "professional-thirty",
   "metadata": {},
   "outputs": [
    {
     "data": {
      "text/plain": [
       "Counter({'00': 100})"
      ]
     },
     "execution_count": 10,
     "metadata": {},
     "output_type": "execute_result"
    }
   ],
   "source": [
    "#振幅増幅反転\n",
    "a = Circuit(2).h[:].x[:].cz[0,1].x[:].h[:].m[:]\n",
    "\n",
    "'''\n",
    "#00回路\n",
    "--H--S--*--S----H-X-*-X-H--\n",
    "--H--S--Z--S----H-X-Z-X-H--\n",
    "'''\n",
    "\n",
    "(Circuit(2).h[:].s[:].cz[0,1].s[:] + a).run(shots=100)"
   ]
  },
  {
   "cell_type": "code",
   "execution_count": 11,
   "id": "random-furniture",
   "metadata": {},
   "outputs": [
    {
     "data": {
      "text/plain": [
       "Counter({'01': 100})"
      ]
     },
     "execution_count": 11,
     "metadata": {},
     "output_type": "execute_result"
    }
   ],
   "source": [
    "'''\n",
    "#01回路\n",
    "--H-----*-------H-X-*-X-H--\n",
    "--H--S--Z--S---H-X-Z-X-H--\n",
    "'''\n",
    "\n",
    "(Circuit(2).h[:].s[1].cz[0,1].s[1] + a).run(shots=100)"
   ]
  },
  {
   "cell_type": "code",
   "execution_count": 12,
   "id": "sapphire-edgar",
   "metadata": {},
   "outputs": [
    {
     "data": {
      "text/plain": [
       "Counter({'10': 100})"
      ]
     },
     "execution_count": 12,
     "metadata": {},
     "output_type": "execute_result"
    }
   ],
   "source": [
    "'''\n",
    "#10回路\n",
    "--H--S--*--S----H-X-*-X-H--\n",
    "--H-----Z--------H-X-Z-X-H--\n",
    "'''\n",
    "(Circuit(2).h[:].s[0].cz[0,1].s[0] + a).run(shots=100)"
   ]
  },
  {
   "cell_type": "code",
   "execution_count": 13,
   "id": "blessed-cleaner",
   "metadata": {},
   "outputs": [
    {
     "data": {
      "text/plain": [
       "Counter({'11': 100})"
      ]
     },
     "execution_count": 13,
     "metadata": {},
     "output_type": "execute_result"
    }
   ],
   "source": [
    "'''\n",
    "#11回路\n",
    "--H-----*-------H-X-*-X-H--\n",
    "--H-----Z-------H-X-Z-X-H--\n",
    "'''\n",
    "(Circuit(2).h[:].cz[0,1] + a).run(shots=100)"
   ]
  },
  {
   "cell_type": "markdown",
   "id": "funded-sterling",
   "metadata": {},
   "source": [
    "以上より、特定の状態が測定される確率を増幅できました。"
   ]
  },
  {
   "cell_type": "code",
   "execution_count": null,
   "id": "ignored-faculty",
   "metadata": {},
   "outputs": [],
   "source": []
  }
 ],
 "metadata": {
  "kernelspec": {
   "display_name": "Python 3",
   "language": "python",
   "name": "python3"
  },
  "language_info": {
   "codemirror_mode": {
    "name": "ipython",
    "version": 3
   },
   "file_extension": ".py",
   "mimetype": "text/x-python",
   "name": "python",
   "nbconvert_exporter": "python",
   "pygments_lexer": "ipython3",
   "version": "3.8.2"
  }
 },
 "nbformat": 4,
 "nbformat_minor": 5
}
