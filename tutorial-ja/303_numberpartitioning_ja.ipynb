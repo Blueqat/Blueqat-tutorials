{
 "cells": [
  {
   "cell_type": "markdown",
   "metadata": {
    "colab_type": "text",
    "id": "WBR-Vd1FcBF1"
   },
   "source": [
    "# 自然数分割問題を計算する\n",
    "\n",
    "自然数分割問題とは、ある自然数の集合を２つのグループA, Bに分割し、それぞれのグループ内の自然数の和が同じになるような分割方法を探す問題です。"
   ]
  },
  {
   "cell_type": "markdown",
   "metadata": {
    "colab_type": "text",
    "id": "V1qLi57eeO8l"
   },
   "source": [
    "解きたい問題のQUBOを作成します。\n",
    "N個の自然数の$i$番目の自然数を$n_i$とし、その自然数がどちらのグループに属するかを$q_i$で表します。\n",
    "$n_i$がグループAに属する時には\n",
    "$q_i=1$、グループBに属する時には$q_i=0$とします。\n",
    "ここで、２つのグループ内のそれぞれの和が等しい時に最小となるようなコスト関数$E$を考えます。"
   ]
  },
  {
   "cell_type": "markdown",
   "metadata": {
    "colab_type": "text",
    "id": "V1qLi57eeO8l"
   },
   "source": [
    "この場合、\n",
    "\n",
    "　$E=\\{\\sum_{i=1}^{N}n_i*(2q_i-1)\\}^2$ \n",
    "\n",
    "とすれば、自然数$n_i$がグループＡに属するとき$2q_i-1=1$、グループBに属するとき$2q_i-1=-1$\n",
    "になりますので、グループＡとグループＢに属する自然数の和が等しいときに\n",
    "$E=0$になり、異なると$E>0$になります。\n",
    "\n",
    "展開すると、\n",
    "\n",
    "　$E=(\\sum_{i=1}^{N}2n_iq_i)^2 -  2(\\sum_{i=1}^{N}2n_iq_i)(\\sum_{j=1}^{N}n_j) + (\\sum_{i=1}^{N}n_i)^2$ \n",
    "\n",
    "コスト関数Eは最小化すれば良いので、最後の定数項は要らなくなります。またコスト関数は大きさのみ関係あるので、全体を４で割って\n",
    "\n",
    "　$E=(\\sum_{i=1}^{N}n_iq_i)^2 - \\sum_{i=1}^{N}n_iq_i\\sum_{j=1}^{N}n_j$ \n",
    "\n",
    "また、$q_i=1$または$q_i=0$のとき、$q_i^2=q_i$です。また、$\\sum_{j=1}^N{n_j}$ はnの総和で定数ですので、\n",
    "$n_{sum}$とします。さらに展開して整理すると</br>\n",
    "\n",
    "　$E=\\sum_{i=1}^{N}(n_i^2 - n_{sum}n_i)q_i +2 \\sum_{i < j}n_in_jq_iq_j$ \n",
    "\n",
    "これを行列表記すると下記のようになります。\n",
    "\n",
    "　$qubo = \\left[\\begin{array}{rrrrr}n_1^2 - n_{sum}n_1 & 2n_1n_2 & 2n_1n_3 & 2n_1n_4 & ...\\\\ 0 & n_2^2 - n_{sum}n_2 & 2n_2n_3& 2n_2n_4 &...\\\\ 0 & 0 & n_3^2 - n_{sum}n_3 & 2n_3n_4 & ...\\\\ 0 & 0 & 0 & n_4^2 - n_{sum}n_4 & ...\\\\ ... & ... & ... & ... &... \\end{array} \\right]$ \n",
    "\n",
    "これをpythonプログラムで書き、シミュレータを実行して結果を得ます。"
   ]
  },
  {
   "cell_type": "code",
   "execution_count": 1,
   "metadata": {
    "colab": {},
    "colab_type": "code",
    "id": "1wqDGvAheHnd"
   },
   "outputs": [
    {
     "name": "stdout",
     "output_type": "stream",
     "text": [
      "[[-201.   12.   36.   54.   12.   30.   42.   18.   18.   36.   42.   18.\n",
      "    30.   18.   12.   12.   12.]\n",
      " [   0. -136.   24.   36.    8.   20.   28.   12.   12.   24.   28.   12.\n",
      "    20.   12.    8.    8.    8.]\n",
      " [   0.    0. -384.  108.   24.   60.   84.   36.   36.   72.   84.   36.\n",
      "    60.   36.   24.   24.   24.]\n",
      " [   0.    0.    0. -549.   36.   90.  126.   54.   54.  108.  126.   54.\n",
      "    90.   54.   36.   36.   36.]\n",
      " [   0.    0.    0.    0. -136.   20.   28.   12.   12.   24.   28.   12.\n",
      "    20.   12.    8.    8.    8.]\n",
      " [   0.    0.    0.    0.    0. -325.   70.   30.   30.   60.   70.   30.\n",
      "    50.   30.   20.   20.   20.]\n",
      " [   0.    0.    0.    0.    0.    0. -441.   42.   42.   84.   98.   42.\n",
      "    70.   42.   28.   28.   28.]\n",
      " [   0.    0.    0.    0.    0.    0.    0. -201.   18.   36.   42.   18.\n",
      "    30.   18.   12.   12.   12.]\n",
      " [   0.    0.    0.    0.    0.    0.    0.    0. -201.   36.   42.   18.\n",
      "    30.   18.   12.   12.   12.]\n",
      " [   0.    0.    0.    0.    0.    0.    0.    0.    0. -384.   84.   36.\n",
      "    60.   36.   24.   24.   24.]\n",
      " [   0.    0.    0.    0.    0.    0.    0.    0.    0.    0. -441.   42.\n",
      "    70.   42.   28.   28.   28.]\n",
      " [   0.    0.    0.    0.    0.    0.    0.    0.    0.    0.    0. -201.\n",
      "    30.   18.   12.   12.   12.]\n",
      " [   0.    0.    0.    0.    0.    0.    0.    0.    0.    0.    0.    0.\n",
      "  -325.   30.   20.   20.   20.]\n",
      " [   0.    0.    0.    0.    0.    0.    0.    0.    0.    0.    0.    0.\n",
      "     0. -201.   12.   12.   12.]\n",
      " [   0.    0.    0.    0.    0.    0.    0.    0.    0.    0.    0.    0.\n",
      "     0.    0. -136.    8.    8.]\n",
      " [   0.    0.    0.    0.    0.    0.    0.    0.    0.    0.    0.    0.\n",
      "     0.    0.    0. -136.    8.]\n",
      " [   0.    0.    0.    0.    0.    0.    0.    0.    0.    0.    0.    0.\n",
      "     0.    0.    0.    0. -136.]]\n"
     ]
    }
   ],
   "source": [
    "import numpy as np\n",
    "from blueqat.wq import *\n",
    "from blueqat import vqe\n",
    "\n",
    "numbers = np.array([3,2,6,9,2,5,7,3,3,6,7,3,5,3,2,2,2])\n",
    "qubo = np.zeros((numbers.size,numbers.size))\n",
    "for i in range(numbers.size):\n",
    "  for j in range(numbers.size):\n",
    "    if i == j:\n",
    "      qubo[i][i]=numbers[i]**2-numbers.sum()*numbers[i]\n",
    "    elif i<j:\n",
    "      qubo[i][j]=2*numbers[i] * numbers[j]\n",
    "    \n",
    "print(qubo)"
   ]
  },
  {
   "cell_type": "markdown",
   "metadata": {
    "colab_type": "text",
    "id": "MJuEqL6VRptU"
   },
   "source": [
    "ここで、blueqatにはqubo matrixをハミルトニアンに直接直す機能があります。"
   ]
  },
  {
   "cell_type": "code",
   "execution_count": 2,
   "metadata": {},
   "outputs": [
    {
     "name": "stdout",
     "output_type": "stream",
     "text": [
      "3.0*Z[0]*Z[1] + 9.0*Z[0]*Z[2] + 13.5*Z[0]*Z[3] + 3.0*Z[0]*Z[4] + 7.5*Z[0]*Z[5] + 10.5*Z[0]*Z[6] + 4.5*Z[0]*Z[7] + 4.5*Z[0]*Z[8] + 9.0*Z[0]*Z[9] + 10.5*Z[0]*Z[10] + 4.5*Z[0]*Z[11] + 7.5*Z[0]*Z[12] + 4.5*Z[0]*Z[13] + 3.0*Z[0]*Z[14] + 3.0*Z[0]*Z[15] + 3.0*Z[0]*Z[16] - 1133.5*I + 6.0*Z[1]*Z[2] + 9.0*Z[1]*Z[3] + 2.0*Z[1]*Z[4] + 5.0*Z[1]*Z[5] + 7.0*Z[1]*Z[6] + 3.0*Z[1]*Z[7] + 3.0*Z[1]*Z[8] + 6.0*Z[1]*Z[9] + 7.0*Z[1]*Z[10] + 3.0*Z[1]*Z[11] + 5.0*Z[1]*Z[12] + 3.0*Z[1]*Z[13] + 2.0*Z[1]*Z[14] + 2.0*Z[1]*Z[15] + 2.0*Z[1]*Z[16] + 27.0*Z[2]*Z[3] + 6.0*Z[2]*Z[4] + 15.0*Z[2]*Z[5] + 21.0*Z[2]*Z[6] + 9.0*Z[2]*Z[7] + 9.0*Z[2]*Z[8] + 18.0*Z[2]*Z[9] + 21.0*Z[2]*Z[10] + 9.0*Z[2]*Z[11] + 15.0*Z[2]*Z[12] + 9.0*Z[2]*Z[13] + 6.0*Z[2]*Z[14] + 6.0*Z[2]*Z[15] + 6.0*Z[2]*Z[16] + 9.0*Z[3]*Z[4] + 22.5*Z[3]*Z[5] + 31.5*Z[3]*Z[6] + 13.5*Z[3]*Z[7] + 13.5*Z[3]*Z[8] + 27.0*Z[3]*Z[9] + 31.5*Z[3]*Z[10] + 13.5*Z[3]*Z[11] + 22.5*Z[3]*Z[12] + 13.5*Z[3]*Z[13] + 9.0*Z[3]*Z[14] + 9.0*Z[3]*Z[15] + 9.0*Z[3]*Z[16] + 5.0*Z[4]*Z[5] + 7.0*Z[4]*Z[6] + 3.0*Z[4]*Z[7] + 3.0*Z[4]*Z[8] + 6.0*Z[4]*Z[9] + 7.0*Z[4]*Z[10] + 3.0*Z[4]*Z[11] + 5.0*Z[4]*Z[12] + 3.0*Z[4]*Z[13] + 2.0*Z[4]*Z[14] + 2.0*Z[4]*Z[15] + 2.0*Z[4]*Z[16] + 17.5*Z[5]*Z[6] + 7.5*Z[5]*Z[7] + 7.5*Z[5]*Z[8] + 15.0*Z[5]*Z[9] + 17.5*Z[5]*Z[10] + 7.5*Z[5]*Z[11] + 12.5*Z[5]*Z[12] + 7.5*Z[5]*Z[13] + 5.0*Z[5]*Z[14] + 5.0*Z[5]*Z[15] + 5.0*Z[5]*Z[16] + 10.5*Z[6]*Z[7] + 10.5*Z[6]*Z[8] + 21.0*Z[6]*Z[9] + 24.5*Z[6]*Z[10] + 10.5*Z[6]*Z[11] + 17.5*Z[6]*Z[12] + 10.5*Z[6]*Z[13] + 7.0*Z[6]*Z[14] + 7.0*Z[6]*Z[15] + 7.0*Z[6]*Z[16] + 4.5*Z[7]*Z[8] + 9.0*Z[7]*Z[9] + 10.5*Z[7]*Z[10] + 4.5*Z[7]*Z[11] + 7.5*Z[7]*Z[12] + 4.5*Z[7]*Z[13] + 3.0*Z[7]*Z[14] + 3.0*Z[7]*Z[15] + 3.0*Z[7]*Z[16] + 9.0*Z[8]*Z[9] + 10.5*Z[8]*Z[10] + 4.5*Z[8]*Z[11] + 7.5*Z[8]*Z[12] + 4.5*Z[8]*Z[13] + 3.0*Z[8]*Z[14] + 3.0*Z[8]*Z[15] + 3.0*Z[8]*Z[16] + 21.0*Z[9]*Z[10] + 9.0*Z[9]*Z[11] + 15.0*Z[9]*Z[12] + 9.0*Z[9]*Z[13] + 6.0*Z[9]*Z[14] + 6.0*Z[9]*Z[15] + 6.0*Z[9]*Z[16] + 10.5*Z[10]*Z[11] + 17.5*Z[10]*Z[12] + 10.5*Z[10]*Z[13] + 7.0*Z[10]*Z[14] + 7.0*Z[10]*Z[15] + 7.0*Z[10]*Z[16] + 7.5*Z[11]*Z[12] + 4.5*Z[11]*Z[13] + 3.0*Z[11]*Z[14] + 3.0*Z[11]*Z[15] + 3.0*Z[11]*Z[16] + 7.5*Z[12]*Z[13] + 5.0*Z[12]*Z[14] + 5.0*Z[12]*Z[15] + 5.0*Z[12]*Z[16] + 3.0*Z[13]*Z[14] + 3.0*Z[13]*Z[15] + 3.0*Z[13]*Z[16] + 2.0*Z[14]*Z[15] + 2.0*Z[14]*Z[16] + 2.0*Z[15]*Z[16]\n"
     ]
    }
   ],
   "source": [
    "hamiltonian = pauli(qubo)\n",
    "print(hamiltonian)"
   ]
  },
  {
   "cell_type": "markdown",
   "metadata": {
    "colab_type": "text",
    "id": "MJuEqL6VRptU"
   },
   "source": [
    "こちらの式をQAOAに入れます。式が長いので多少計算に時間がかかります。"
   ]
  },
  {
   "cell_type": "code",
   "execution_count": 5,
   "metadata": {},
   "outputs": [
    {
     "name": "stdout",
     "output_type": "stream",
     "text": [
      "(0, 0, 1, 1, 0, 1, 1, 0, 0, 1, 1, 0, 1, 0, 0, 0, 0)\n"
     ]
    }
   ],
   "source": [
    "result = vqe.Vqe(vqe.QaoaAnsatz(hamiltonian, step=1)).run()\n",
    "answer = result.most_common()[0][0]\n",
    "print(answer)"
   ]
  },
  {
   "cell_type": "markdown",
   "metadata": {
    "colab_type": "text",
    "id": "MJuEqL6VRptU"
   },
   "source": [
    "自然数が２つのグループに分けられ、和が等しくなっています。"
   ]
  },
  {
   "cell_type": "code",
   "execution_count": 6,
   "metadata": {
    "colab": {
     "base_uri": "https://localhost:8080/",
     "height": 51
    },
    "colab_type": "code",
    "id": "laK0z-S3Rnkm",
    "outputId": "1d945282-03f9-45e1-efcf-985d5f517dfb"
   },
   "outputs": [
    {
     "name": "stdout",
     "output_type": "stream",
     "text": [
      "3+2+2+3+3+3+3+2+2+2 = 25\n",
      "6+9+5+7+6+7+5 = 25\n"
     ]
    }
   ],
   "source": [
    "group1_string = \"\"\n",
    "group2_string = \"\"\n",
    "group1_sum = 0\n",
    "group2_sum = 0\n",
    "for i in range(numbers.size):\n",
    "  if answer[i] == 0:\n",
    "    group1_string+= '+' + str(numbers[i])\n",
    "    group1_sum+=numbers[i]\n",
    "  else:\n",
    "    group2_string+= '+' + str(numbers[i])\n",
    "    group2_sum+=numbers[i]\n",
    "\n",
    "print(group1_string[1:],\"=\",group1_sum)\n",
    "print(group2_string[1:],\"=\",group1_sum)"
   ]
  }
 ],
 "metadata": {
  "colab": {
   "name": "027_numberpartitioning",
   "provenance": []
  },
  "kernelspec": {
   "display_name": "Python 3",
   "language": "python",
   "name": "python3"
  },
  "language_info": {
   "codemirror_mode": {
    "name": "ipython",
    "version": 3
   },
   "file_extension": ".py",
   "mimetype": "text/x-python",
   "name": "python",
   "nbconvert_exporter": "python",
   "pygments_lexer": "ipython3",
   "version": "3.9.5"
  }
 },
 "nbformat": 4,
 "nbformat_minor": 4
}
