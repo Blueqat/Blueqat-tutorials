{
 "cells": [
  {
   "cell_type": "markdown",
   "id": "french-dispatch",
   "metadata": {},
   "source": [
    "# 連続量量子テレポーテーション\n",
    "\n",
    "直交位相状態を量子テレポーテーションにより転送します。\n",
    "\n",
    "Braunstein, Samuel L., and H. Jeff Kimble. \"Teleportation of continuous quantum variables.\" Physical Review Letters 80.4 (1998): 869."
   ]
  },
  {
   "cell_type": "code",
   "execution_count": 1,
   "id": "vulnerable-omaha",
   "metadata": {},
   "outputs": [],
   "source": [
    "import photonqat as pq\n",
    "import numpy as np\n",
    "import matplotlib.pyplot as plt"
   ]
  },
  {
   "cell_type": "code",
   "execution_count": 30,
   "id": "recent-magazine",
   "metadata": {},
   "outputs": [
    {
     "data": {
      "image/png": "[encoded data removed]",
      "text/plain": [
       "<Figure size 432x288 with 1 Axes>"
      ]
     },
     "metadata": {
      "needs_background": "light"
     },
     "output_type": "display_data"
    },
    {
     "name": "stdout",
     "output_type": "stream",
     "text": [
      "Mode 0: Original state = [1.4142135623730951, 0.7071067811865476]\n",
      "measured x = 0.09753237918346547\n",
      "measured p = 0.43004092887159817\n",
      "teleported mu = [1.36830261 0.70354778]\n"
     ]
    }
   ],
   "source": [
    "G = pq.Gaussian(3)\n",
    "\n",
    "# original state\n",
    "x_origin = 1\n",
    "p_origin = 0.5\n",
    "\n",
    "# squeezeng level\n",
    "r = 2\n",
    "\n",
    "G.D(0, x_origin + p_origin * 1j) # state to teleport\n",
    "G.S(1, -r)\n",
    "G.S(2, r)\n",
    "G.BS(1, 2, np.pi/4) # 50:50 beam splitter\n",
    "G.BS(0, 1, np.pi/4) # 50:50 beam splitter\n",
    "G.MeasX(0)\n",
    "G.MeasP(1)\n",
    "G.X(2, G.Creg(0, \"x\", scale = np.sqrt(2)))\n",
    "G.Z(2, G.Creg(1, \"p\", scale = np.sqrt(2)))\n",
    "#G.X(2, G.Creg(0, \"x\"))\n",
    "#G.Z(2, G.Creg(1, \"p\"))\n",
    "\n",
    "G.run()\n",
    "\n",
    "G.Wigner(2) # plot\n",
    "print('Mode 0: Original state =', [x_origin * np.sqrt(2), p_origin * np.sqrt(2)])\n",
    "print('measured x =', G.Creg(0, \"x\").read())\n",
    "print('measured p =', G.Creg(1, \"p\").read())\n",
    "print('teleported mu =', G.mean(2)) # mu of qumode 0"
   ]
  },
  {
   "cell_type": "code",
   "execution_count": 29,
   "id": "dental-african",
   "metadata": {},
   "outputs": [
    {
     "name": "stdout",
     "output_type": "stream",
     "text": [
      "Mode 0: Original state = [1, 0.5]\n",
      "measured x = [0.95984364]\n",
      "measured p = [-0.-1.71546523j]\n"
     ]
    },
    {
     "data": {
      "image/png": "[encoded data removed]",
      "text/plain": [
       "<Figure size 432x288 with 1 Axes>"
      ]
     },
     "metadata": {
      "needs_background": "light"
     },
     "output_type": "display_data"
    }
   ],
   "source": [
    "F = pq.Fock(3, cutoff = 25)\n",
    "\n",
    "# original state\n",
    "x_origin = 1\n",
    "p_origin = 0.5\n",
    "\n",
    "# squeezeng level\n",
    "r = 2\n",
    "\n",
    "# prepare the state to teleport\n",
    "F.D(0, x_origin + p_origin * 1j) # Displacement\n",
    "\n",
    "F.S(1, -r) # Squeezing\n",
    "F.S(2, r) # Squeezing\n",
    "F.BS(1, 2, np.pi/4) # 50:50 beam splitter\n",
    "F.BS(0, 1, np.pi/4) # 50:50 beam splitter\n",
    "F.MeasX(0)\n",
    "F.MeasP(1)\n",
    "F.D(2, F.Creg(0, \"x\", scale = 1))\n",
    "F.D(2, F.Creg(1, \"p\", scale = 1j))\n",
    "F.run()\n",
    "\n",
    "print('Mode 0: Original state =', [x_origin, p_origin])\n",
    "print('measured x =', F.Creg(0, \"x\", scale = 1).read())\n",
    "print('measured p =', F.Creg(1, \"p\", scale = 1j).read())\n",
    "\n",
    "W, x, p = F.Wigner(2) # plot"
   ]
  },
  {
   "cell_type": "code",
   "execution_count": null,
   "id": "arabic-treasurer",
   "metadata": {},
   "outputs": [],
   "source": []
  }
 ],
 "metadata": {
  "kernelspec": {
   "display_name": "Python 3",
   "language": "python",
   "name": "python3"
  },
  "language_info": {
   "codemirror_mode": {
    "name": "ipython",
    "version": 3
   },
   "file_extension": ".py",
   "mimetype": "text/x-python",
   "name": "python",
   "nbconvert_exporter": "python",
   "pygments_lexer": "ipython3",
   "version": "3.8.2"
  }
 },
 "nbformat": 4,
 "nbformat_minor": 5
}
