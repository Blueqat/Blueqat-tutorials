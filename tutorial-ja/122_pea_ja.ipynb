{
 "cells": [
  {
   "cell_type": "markdown",
   "metadata": {},
   "source": [
    "# 量子位相推定 (Quantum Phase Estimation)\n",
    "ユニタリ$U$と固有状態$\\mid \\psi \\rangle$が準備されたとき、その固有値$\\lambda = e^{-i\\alpha}$の位相$\\alpha$を求めることができる量子位相推定を確認しま\\す。\n",
    "\n",
    "$$\n",
    "U \\lvert \\psi \\rangle = e^{-i\\alpha} \\lvert \\psi \\rangle\n",
    "$$"
   ]
  },
  {
   "cell_type": "markdown",
   "metadata": {},
   "source": [
    "## 量子位相推定の量子回路\n",
    "量子位相推定アルゴリズムの全体像は下記の通りです。\n",
    "\n",
    "1. 固有ベクトルとしての量子状態の準備  \n",
    "2. 固有値を量子状態として取り出す（位相キックバック）  \n",
    "3. 固有値の量子状態をビットに変換（逆量子フーリエ変換）  \n",
    "\n",
    "の３つからなります。\n",
    "\n",
    "\n",
    "```\n",
    "                         step2                   step3\n",
    "      \n",
    "|0> ----H----------------------*-------iQFT---\n",
    "|0> ----H--------------*-------|-------iQFT---\n",
    "|0> ----H--------*-----|-------|-------iQFT---\n",
    "|0> ----H--*-----|-----|-------|-------iQFT---\n",
    "                  |       |       |         |\n",
    "                  |       |       |         |\n",
    "|ψ> -------U1--U2---U4-- -U2n------------\n",
    "step1\n",
    "```"
   ]
  },
  {
   "cell_type": "markdown",
   "metadata": {},
   "source": [
    "## 位相キックバック\n",
    "\n",
    "位相キックバックについて復習しましょう。\n",
    "\n",
    "まず、固有ベクトル$\\lvert \\psi \\rangle$とそれに対応する固有値$e^{2\\pi i \\phi}$を持つユニタリについて、制御ユニタリ回路を導入します。  \n",
    "これから確認するように、固有値は制御ビットの$\\lvert 1 \\rangle$状態の係数に埋め込むことができます。\n",
    "\n",
    "ユニタリについての固有値方程式は以下のように書けます。\n",
    "\n",
    "$$\n",
    "U\\lvert \\psi \\rangle = e^{2\\pi i \\phi} \\lvert \\psi \\rangle\n",
    "$$\n",
    "\n",
    "量子状態$\\lvert \\psi \\rangle$は準備されていると仮定すると、制御ユニタリ回路によって位相を取り出すことができます。"
   ]
  },
  {
   "cell_type": "markdown",
   "metadata": {},
   "source": [
    "まず初期状態からアダマールゲートを使って結果を取り出したい方の量子ビットを重ね合わせ状態にします。\n",
    "\n",
    "$$\n",
    "\\lvert 0 \\rangle \\lvert \\psi \\rangle \\rightarrow \\frac{\\lvert 0\\rangle + \\lvert 1 \\rangle}{\\sqrt{2}} \\lvert \\psi \\rangle = \\frac{\\lvert 0\\rangle \\lvert \\psi \\rangle + \\lvert 1 \\rangle \\lvert \\psi \\rangle}{\\sqrt{2}}\n",
    "$$\n",
    "\n",
    "次に制御ユニタリ回路を導入することで、制御量子ビットが$\\lvert 1 \\rangle$の状態にのみユニタリがかかります。\n",
    "\n",
    "$$\n",
    "\\frac{\\lvert 0\\rangle \\lvert \\psi \\rangle + \\lvert 1 \\rangle U \\lvert \\psi \\rangle}{\\sqrt{2}}\n",
    "$$"
   ]
  },
  {
   "cell_type": "markdown",
   "metadata": {},
   "source": [
    "固有値方程式より、次のように書けます。\n",
    "\n",
    "$$\n",
    "\\frac{\\lvert 0\\rangle \\lvert \\psi \\rangle + \\lvert 1 \\rangle e^{2\\pi i \\phi} \\lvert \\psi \\rangle}{\\sqrt{2}} = \\frac{\\lvert 0\\rangle \\lvert \\psi \\rangle +  e^{2\\pi i \\phi} \\lvert 1 \\rangle \\lvert \\psi \\rangle}{\\sqrt{2}} = \\frac{\\lvert 0\\rangle +  e^{2\\pi i \\phi} \\mid 1 \\rangle}{\\sqrt{2}} \\lvert \\psi \\rangle\n",
    "$$\n",
    "\n",
    "以上より、固有値を係数として取り出すことが出来ます。"
   ]
  },
  {
   "cell_type": "markdown",
   "metadata": {},
   "source": [
    "## 量子フーリエ変換\n",
    "\n",
    "量子フーリエ変換についても復習します。\n",
    "\n",
    "量子フーリエ変換はバイナリ(0 or 1)配列からなる入力を、その配列に対応する位相をもつ量子状態に変形することができます。量子フーリエ変換の逆回路である逆量子フーリエ変換を利用することで、上記の位相キックバックで移した位相をビット列で書き出すことができます。\n",
    "\n",
    "$$\n",
    "QFT:\\lvert x \\rangle \\mapsto \\frac{1}{\\sqrt{N}}\\sum_{k=0}^{N-1} \\omega_n^{xk}\\lvert k\\rangle\n",
    "$$\n",
    "\n",
    "<!-- \n",
    "$\\omega_n = e^{\\frac{2\\pi i}{N}}$とすると、\n",
    "\n",
    "$$\n",
    "{F_N= \n",
    "\\frac{1}{\\sqrt{N}} \n",
    "\\left[ \n",
    " \\begin{array}{rrrr} \n",
    "  1 & 1 & 1 & \\cdots &1\\\\ \n",
    "  1 & \\omega_n&\\omega_n^2&\\cdots&\\omega_n^{N-1}\\\\ \n",
    "  1 & \\omega_n^2&\\omega_n^4&\\cdots&\\omega_n^{2(N-1)}\\\\ \n",
    "  1 & \\omega_n^3&\\omega_n^6&\\cdots&\\omega_n^{3(N-1)}\\\\ \n",
    "  \\vdots&\\vdots&\\vdots&&\\vdots\\\\ \n",
    "  1 & \\omega_n^{N-1}&\\omega_n^{2(N-1)}&\\cdots&\\omega_n^{(N-1)(N-1)} \n",
    " \\end{array} \n",
    "\\right]\n",
    "}\n",
    "$$\n",
    "\n",
    "のようになります。 -->\n",
    "\n",
    "ビット列$x_n$...$x_1$を入力すると、出力される量子状態はそれに対応した位相を持ちます。\n",
    "\n",
    "$$\n",
    "QFT(\\lvert x_n,x_{n-1},…,x_1 \\rangle) = \\frac{1}{\\sqrt{N}}(\\lvert 0 \\rangle + e^{2\\pi i [0.x_n]} \\lvert 1 \\rangle) \\otimes … \\otimes (\\lvert 0 \\rangle + e^{2\\pi i [0.x_1x_2…x_n]} \\lvert 1 \\rangle)\n",
    "$$\n",
    "\n",
    "$$[0.x_1x_2…] = \\frac{x_1}{2}+\\frac{x_2}{2^2}+…$$\n",
    "\n",
    "出力された量子状態のそれぞれの量子ビットの相対位相には、入力された状態(ビット列)が桁をずらしながらエンコードされています。ただし各量子ビットの$\\lvert 1\\rangle$の係数はすべて絶対値が$1/\\sqrt{N}$なので、個別の量子ビットを測定しただけでは0と1が完全に50%ずつ出てしまうのが特徴です。"
   ]
  },
  {
   "cell_type": "markdown",
   "metadata": {},
   "source": [
    "## 位相キックバック + 逆量子フーリエ変換"
   ]
  },
  {
   "cell_type": "markdown",
   "metadata": {},
   "source": [
    "量子位相推定では、先程の位相キックバックを応用して次のような状態を準備します。\n",
    "\n",
    "$$\n",
    "\\frac{1}{\\sqrt{2^n}}\\sum_{k=0}^{2^n-1} e^{i2\\pi k\\phi}\\lvert k \\rangle\n",
    "$$\n",
    "\n",
    "$\\phi$ はユニタリの固有値で、これを求めたいのでした。  \n",
    "このような状態を用意できれば、逆量子フーリエ変換によって、$\\phi$ のバイナリエンコードビット列からなる量子状態 $\\lvert \\phi_n,\\phi_{n-1},...,\\phi_1\\rangle$ へ変換することができます。  \n",
    "よって最後に測定を行えば、$\\phi$ を取り出すことができます。\n",
    "\n",
    "各項でオリジナルの位相 $\\phi$ に $k$ がかかっていますが、これは固有値を $k$ 回かけていることと同じです。よって $U^k$ のように同じユニタリ操作を $k$ 回実行します。すなわち、$k$ 回のControlled-Unitary操作を行えれば実現できます。\n",
    "\n",
    "$$\n",
    "\\frac{\\mid 0\\rangle +  U^k \\mid 1 \\rangle}{\\sqrt{2}} \\mid \\psi \\rangle = \\frac{\\mid 0\\rangle +  e^{2\\pi i k \\phi} \\mid 1 \\rangle}{\\sqrt{2}} \\mid \\psi \\rangle\n",
    "$$\n",
    "\n",
    "よって、各量子ビットに対して対応する $k$ 回の制御付きユニタリゲートをかけることで、上記の状態を準備できます。"
   ]
  },
  {
   "cell_type": "markdown",
   "metadata": {},
   "source": [
    "## Zゲートの位相を推定する\n",
    "例題をやってみます。まずはユニタリとしてZゲートを用意します。\n",
    "\n",
    "$$\n",
    "Z = \\begin{pmatrix}\n",
    "1&0\\\\\n",
    "0&-1\n",
    "\\end{pmatrix}\n",
    "$$\n",
    "\n",
    "まずは手計算で答えを確認します。次の特性方程式を計算し、\n",
    "\n",
    "$$\n",
    "det\\begin{pmatrix}\n",
    "1-\\lambda&0\\\\\n",
    "0&-1-\\lambda\n",
    "\\end{pmatrix} = 0\n",
    "$$\n",
    "\n",
    "固有値は $\\lambda = 1,-1$ となります。  \n",
    "固有ベクトルは、次のようになります。\n",
    "\n",
    "$$\n",
    "\\begin{pmatrix}\n",
    "1\\\\\n",
    "0\n",
    "\\end{pmatrix},\n",
    "\\begin{pmatrix}\n",
    "0\\\\\n",
    "1\n",
    "\\end{pmatrix}\n",
    "$$\n",
    "\n",
    "早速確かめてみましょう。"
   ]
  },
  {
   "cell_type": "markdown",
   "metadata": {},
   "source": [
    "## blueqatのインストール\n",
    "pip経由でインストールを行います。"
   ]
  },
  {
   "cell_type": "code",
   "execution_count": null,
   "metadata": {},
   "outputs": [],
   "source": [
    "!pip install blueqat"
   ]
  },
  {
   "cell_type": "markdown",
   "metadata": {},
   "source": [
    "## 回路の全体概要\n",
    "今回の回路の概要です。\n",
    "\n",
    "```\n",
    "|0> ----H--*--iQFT--M\n",
    "                  |\n",
    "|0> ------- Z--------\n",
    "```\n",
    "\n",
    "まず２量子ビットを準備し、それぞれ0番目、1番目とします。どちらも状態$\\lvert 0 \\rangle$からスタートします。\n",
    "\n",
    "1. 1番目の量子ビットに固有状態を準備します。  \n",
    "2. 0番目の量子ビットにアダマールゲートを作用させ、重ね合わせ状態とします。\n",
    "3. 制御ユニタリとしてCZゲートをかけて、位相を0番目の量子ビットにキックバックします。  \n",
    "4. 逆量子フーリエ変換を実行し、測定して位相を取り出します。\n",
    "\n",
    "量子状態の準備について、まずは固有状態 $\\lvert 0 \\rangle$ について計算します。すなわち、初期状態のまま何もしません。\n",
    "\n",
    "また1量子ビットの量子フーリエ変換はアダマールゲートと等価です。  \n",
    "(アダマール行列はエルミートなので、この場合の逆量子フーリエ変換もアダマールゲートです)\n",
    "\n",
    "よって、実装は以下のようになります。"
   ]
  },
  {
   "cell_type": "code",
   "execution_count": 3,
   "metadata": {},
   "outputs": [
    {
     "data": {
      "text/plain": [
       "Counter({'00': 100})"
      ]
     },
     "execution_count": 3,
     "metadata": {},
     "output_type": "execute_result"
    }
   ],
   "source": [
    "from blueqat import Circuit\n",
    "\n",
    "Circuit().h[0].cz[0,1].h[0].m[:].run(shots=100)"
   ]
  },
  {
   "cell_type": "markdown",
   "metadata": {},
   "source": [
    "よって $\\phi = 0.0$ です。\n",
    "\n",
    "求める固有値は、次のようになります。\n",
    "\n",
    "$$\n",
    "e^{2\\pi i \\phi} = e^{2\\pi i \\cdot 0} = e^0 = 1\n",
    "$$"
   ]
  },
  {
   "cell_type": "markdown",
   "metadata": {},
   "source": [
    "次に、用意する固有状態を $\\lvert 1 \\rangle$ にしてみます。\n",
    "\n",
    "```\n",
    "|0> --H--*--iQFT--M\n",
    "               |\n",
    "|0> --X--Z--------\n",
    "```"
   ]
  },
  {
   "cell_type": "code",
   "execution_count": 4,
   "metadata": {},
   "outputs": [
    {
     "data": {
      "text/plain": [
       "Counter({'11': 100})"
      ]
     },
     "execution_count": 4,
     "metadata": {},
     "output_type": "execute_result"
    }
   ],
   "source": [
    "Circuit().x[1].h[0].cz[0,1].h[0].m[:].run(shots=100)"
   ]
  },
  {
   "cell_type": "markdown",
   "metadata": {},
   "source": [
    "今度は $\\phi = 1/2 = 0.5$ です。\n",
    "\n",
    "よって固有値は次の通りです。\n",
    "\n",
    "$$\n",
    "e^{2\\pi i \\cdot 0.5} = -1\n",
    "$$"
   ]
  },
  {
   "cell_type": "markdown",
   "metadata": {},
   "source": [
    "## Xゲートの位相を推定する場合\n",
    "\n",
    "Xゲートは、次のような行列です。\n",
    "\n",
    "$$\n",
    "X = \n",
    "\\begin{pmatrix}\n",
    "0&1\\\\\n",
    "1&0\n",
    "\\end{pmatrix}\n",
    "$$\n",
    "\n",
    "固有ベクトルとしてまずは次を考えます。固有値は1です。\n",
    "\n",
    "$$\n",
    "\\mid \\psi \\rangle = \n",
    "\\begin{pmatrix}\n",
    "1\\\\\n",
    "1\n",
    "\\end{pmatrix}\n",
    "$$\n",
    "\n",
    "実行する回路は次の通りです。\n",
    "\n",
    "```\n",
    "|0> --H--*--H--M\n",
    "         　　　　　　|\n",
    "|0> --H--X-----\n",
    "```"
   ]
  },
  {
   "cell_type": "code",
   "execution_count": 7,
   "metadata": {},
   "outputs": [
    {
     "data": {
      "text/plain": [
       "Counter({'00': 100})"
      ]
     },
     "execution_count": 7,
     "metadata": {},
     "output_type": "execute_result"
    }
   ],
   "source": [
    "Circuit(2).h[:].cx[0,1].h[0].m[0].run(shots=100)"
   ]
  },
  {
   "cell_type": "markdown",
   "metadata": {},
   "source": [
    "こちらは、$\\phi = 0.0$となり、\n",
    "\n",
    "$$\n",
    "\\lambda = e^0=1\n",
    "$$\n",
    "\n",
    "となりました。\n",
    "\n",
    "続いて固有ベクトルが次の場合を考えます。固有値は-1です。\n",
    "\n",
    "$$\n",
    "\\mid \\psi \\rangle = \n",
    "\\begin{pmatrix}\n",
    "1\\\\\n",
    "-1\n",
    "\\end{pmatrix}\n",
    "$$\n",
    "\n",
    "\n",
    "```\n",
    "|0> --H---*--H--M\n",
    "          　　　　　　|\n",
    "|0> --HZ--X-----\n",
    "```"
   ]
  },
  {
   "cell_type": "code",
   "execution_count": 5,
   "metadata": {},
   "outputs": [
    {
     "data": {
      "text/plain": [
       "Counter({'10': 100})"
      ]
     },
     "execution_count": 5,
     "metadata": {},
     "output_type": "execute_result"
    }
   ],
   "source": [
    "Circuit(2).h[:].z[1].cx[0,1].h[0].m[0].run(shots=100)"
   ]
  },
  {
   "cell_type": "markdown",
   "metadata": {},
   "source": [
    "これより $\\phi = 0.5$となり、\n",
    "\n",
    "$$\n",
    "\\lambda = e^{2\\pi i \\cdot0.5}=-1\n",
    "$$\n",
    "\n",
    "となりました。"
   ]
  },
  {
   "cell_type": "code",
   "execution_count": null,
   "metadata": {},
   "outputs": [],
   "source": []
  }
 ],
 "metadata": {
  "colab": {
   "collapsed_sections": [],
   "name": "015_algo_pea_simple.ipynb",
   "provenance": [],
   "version": "0.3.2"
  },
  "kernelspec": {
   "display_name": "Python 3",
   "language": "python",
   "name": "python3"
  },
  "language_info": {
   "codemirror_mode": {
    "name": "ipython",
    "version": 3
   },
   "file_extension": ".py",
   "mimetype": "text/x-python",
   "name": "python",
   "nbconvert_exporter": "python",
   "pygments_lexer": "ipython3",
   "version": "3.8.2"
  }
 },
 "nbformat": 4,
 "nbformat_minor": 1
}
