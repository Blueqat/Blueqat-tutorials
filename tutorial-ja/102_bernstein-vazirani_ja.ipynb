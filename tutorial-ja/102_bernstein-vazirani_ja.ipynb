{
 "cells": [
  {
   "cell_type": "markdown",
   "id": "better-daniel",
   "metadata": {},
   "source": [
    "# Bernstein-Vazirani algorithm(ベルンシュタイン・ヴァジラニ アルゴリズム)（概要）"
   ]
  },
  {
   "cell_type": "markdown",
   "id": "whole-wedding",
   "metadata": {},
   "source": [
    "Bernstein-Vazirani algorithm を説明します。\n",
    "\n",
    "このアルゴリズムでは $x$ を入力とし、内部に持つビット列 $a$ を用いて出力を計算する次のような関数を考えます。\n",
    "\n",
    "$$\n",
    "f_a(x) = (a\\cdot x) \\bmod2 = (\\sum_i a_i x_i) \\bmod2\n",
    "$$\n",
    "\n",
    "目的は、$f_a(x)$ の出力からビット列 $a$ を求めることです。\n",
    "\n",
    "ただし、$a, x$ はそれぞれ $n$ビット列 $a = a_0 a_1... a_{n-1}$, $x = x_0 x_1... x_{n-1}$ と表します。"
   ]
  },
  {
   "cell_type": "markdown",
   "id": "conscious-professional",
   "metadata": {},
   "source": [
    "$a$ が4ビット列 $1001$ の場合を考えましょう。  \n",
    "古典計算における愚直な求め方は、$x=1000, 0100, 0010, 0001$ のように1つのビットだけを1とし、他を0とした $x$ を順に入力します。   \n",
    "$0 \\cdot 0 = 0 \\cdot 1  = 0$ より $x_i=0$としたビットは結果に影響しないため、$x_i = 1$ とした1ビットずつ $a_i$ の値を決定することができます。  \n",
    "\n",
    "$a=1001$ なる $f_a(x)$ を、4通りの $x$ について計算すると以下のようになります。\n",
    "\n",
    "$(1001 \\cdot 1000) \\bmod2 = 1$  \n",
    "$(1001 \\cdot 0100) \\bmod2 = 0$  \n",
    "$(1001 \\cdot 0010) \\bmod2 = 0$  \n",
    "$(1001 \\cdot 0001) \\bmod2 = 1$\n",
    "\n",
    "以上の出力より $a=1001$ を得ることができます。"
   ]
  },
  {
   "cell_type": "markdown",
   "id": "enclosed-truth",
   "metadata": {},
   "source": [
    "Bernstein-Vazirani algorithm は量子の重ね合わせを用いて1度の計算で $a$ を求めます。  \n",
    "\n",
    "$a=1001$ の場合の具体的な回路は次の通りです。  \n",
    "\n",
    "<img src=\"./img/102_img.png\" width=\"30%\">\n",
    "\n",
    "$a_i=1$ である量子ビット $i$ をそれぞれ制御量子ビットとした、$CX$ゲートを作用させます。  \n",
    "ターゲット量子ビットは全て4番目の補助量子ビットです。"
   ]
  },
  {
   "cell_type": "markdown",
   "id": "stupid-ethiopia",
   "metadata": {},
   "source": [
    "それぞれの状態を確認します。\n",
    "\n",
    "$$\n",
    "\\begin{align}\n",
    "\\lvert \\psi_1\\rangle &= \\biggl(\\otimes^4 H\\lvert 0\\rangle \\biggr)\\otimes H \\lvert 1\\rangle \\\\\n",
    "&= \\frac{1}{\\sqrt{2}}(\\lvert 0\\rangle + \\lvert 1\\rangle) \\otimes \\frac{1}{\\sqrt{2}}(\\lvert 0\\rangle + \\lvert 1\\rangle) \\otimes \\frac{1}{\\sqrt{2}}(\\lvert 0\\rangle + \\lvert 1\\rangle) \\otimes \\frac{1}{\\sqrt{2}}(\\lvert 0\\rangle + \\lvert 1\\rangle) \\otimes \\frac{1}{\\sqrt{2}}(\\lvert 0\\rangle - \\lvert 1\\rangle)\n",
    "\\end{align}\n",
    "$$"
   ]
  },
  {
   "cell_type": "markdown",
   "id": "circular-waste",
   "metadata": {},
   "source": [
    "次に $\\lvert \\psi_2\\rangle$ の状態を確認します。  \n",
    "$CX$ゲートを作用させる0番目と4番目の量子ビットだけに注目してみましょう。\n",
    "\n",
    "$$\n",
    "\\begin{align}\n",
    "\\lvert \\psi_1\\rangle_{04} &= \\frac{1}{\\sqrt{2}}(\\lvert 0\\rangle_0 + \\lvert 1\\rangle_0) \\otimes \\frac{1}{\\sqrt{2}}(\\lvert 0\\rangle_4 - \\lvert 1\\rangle_4) \\\\\n",
    "&= \\lvert +\\rangle_0 \\otimes \\lvert -\\rangle_4\n",
    "\\end{align}\n",
    "$$\n",
    "\n",
    "$$\n",
    "\\begin{align}\n",
    "\\lvert \\psi_2\\rangle_{04} &= \\frac{1}{\\sqrt{2}}\\lvert 0\\rangle_0 \\otimes \\frac{1}{\\sqrt{2}}(\\lvert 0\\rangle_4 - \\lvert 1\\rangle_4) + \\frac{1}{\\sqrt{2}}\\lvert 1\\rangle_0 \\otimes \\frac{1}{\\sqrt{2}}(\\lvert 1\\rangle_4 - \\lvert 0\\rangle_4) \\\\\n",
    "&= \\frac{1}{\\sqrt{2}}\\lvert 0\\rangle_0 \\otimes \\frac{1}{\\sqrt{2}}(\\lvert 0\\rangle_4 - \\lvert 1\\rangle_4) - \\frac{1}{\\sqrt{2}}\\lvert 1\\rangle_0 \\otimes \\frac{1}{\\sqrt{2}}(\\lvert 0\\rangle_4 - \\lvert 1\\rangle_4) \\\\\n",
    "&= \\frac{1}{\\sqrt{2}}(\\lvert 0\\rangle_0 - \\lvert 1\\rangle_0 ) \\otimes \\frac{1}{\\sqrt{2}}(\\lvert 0\\rangle_4 - \\lvert 1\\rangle_4) \\\\\n",
    "&=  \\lvert -\\rangle_0 \\otimes \\lvert -\\rangle_4\n",
    "\\end{align}\n",
    "$$\n",
    "\n"
   ]
  },
  {
   "cell_type": "markdown",
   "id": "expired-aging",
   "metadata": {},
   "source": [
    "0番目と4番目の量子ビットに$CX$ゲートを作用させることで、0番目の量子ビットの位相を反転させて$\\lvert + \\rangle \\to \\lvert - \\rangle$と変化させました。  \n",
    "同様に3番目と4番目の量子ビットに$CX$ゲートを作用させた状態 $\\lvert \\psi_3\\rangle$ は次の通りです。\n",
    "\n",
    "$$\n",
    "\\lvert \\psi_3\\rangle = \\frac{1}{\\sqrt{2}}(\\lvert 0\\rangle - \\lvert 1\\rangle) \\otimes \\frac{1}{\\sqrt{2}}(\\lvert 0\\rangle + \\lvert 1\\rangle) \\otimes \\frac{1}{\\sqrt{2}}(\\lvert 0\\rangle + \\lvert 1\\rangle) \\otimes \\frac{1}{\\sqrt{2}}(\\lvert 0\\rangle - \\lvert 1\\rangle) \\otimes \\frac{1}{\\sqrt{2}}(\\lvert 0\\rangle - \\lvert 1\\rangle)\n",
    "$$"
   ]
  },
  {
   "cell_type": "markdown",
   "id": "korean-repeat",
   "metadata": {},
   "source": [
    "最後にHゲートを作用させます。\n",
    "\n",
    "$$\n",
    "\\lvert \\psi_4\\rangle = \\lvert 1\\rangle \\otimes \\lvert 0\\rangle \\otimes \\lvert 0\\rangle \\otimes \\lvert 1\\rangle \\otimes \\frac{1}{\\sqrt{2}}(\\lvert 0\\rangle - \\lvert 1\\rangle)\n",
    "$$\n",
    "\n",
    "0番目から3番目の量子ビットを測定すると、$1001$が測定結果として得られます。  \n",
    "以上で$a$を求めることができました。"
   ]
  },
  {
   "cell_type": "markdown",
   "id": "listed-governor",
   "metadata": {},
   "source": [
    "これをblueqatで実装してみましょう。"
   ]
  },
  {
   "cell_type": "code",
   "execution_count": 1,
   "id": "generous-hindu",
   "metadata": {},
   "outputs": [],
   "source": [
    "from blueqat import Circuit\n",
    "import numpy as np"
   ]
  },
  {
   "cell_type": "markdown",
   "id": "equal-poker",
   "metadata": {},
   "source": [
    "まず、オラクル$U_f$を作用させる関数を用意します。"
   ]
  },
  {
   "cell_type": "code",
   "execution_count": null,
   "id": "weighted-wesley",
   "metadata": {},
   "outputs": [],
   "source": [
    "def Uf(c, a):\n",
    "    N = len(a)\n",
    "    for i, val in enumerate(list(a)):\n",
    "        if val == '1':\n",
    "            c.cx[i, len(a)]"
   ]
  },
  {
   "cell_type": "markdown",
   "id": "fleet-questionnaire",
   "metadata": {},
   "source": [
    "以下がアルゴリズム本体です。  \n",
    "最初に、求めたい $a$ を乱数で決めます。\n",
    "\n",
    "オラクルを用いた量子回路の出力結果から $a$ を求め、正解かを確認します。"
   ]
  },
  {
   "cell_type": "code",
   "execution_count": 67,
   "id": "younger-fishing",
   "metadata": {},
   "outputs": [
    {
     "name": "stdout",
     "output_type": "stream",
     "text": [
      "Counter({'11001': 1000})\n",
      "OK\n"
     ]
    }
   ],
   "source": [
    "n = 4\n",
    "\n",
    "a = ''\n",
    "for i in range(n):\n",
    "    a += str(np.random.randint(2))\n",
    "    \n",
    "c = Circuit(n + 1)\n",
    "c.x[n].h[:]\n",
    "Uf(c, a)\n",
    "c.h[:].m[:]\n",
    "res = c.run(shots = 1000)\n",
    "\n",
    "print(res)\n",
    "\n",
    "if [arr[:n] for arr in res.keys()] == [a]:\n",
    "    print(\"OK\")\n",
    "else:\n",
    "    print(\"incorrect\")"
   ]
  },
  {
   "cell_type": "markdown",
   "id": "heard-microwave",
   "metadata": {},
   "source": [
    "以上より、Bernstein-Vazirani algorithm によってオラクルが内部的に持つ $a$ を求めることができました。"
   ]
  },
  {
   "cell_type": "code",
   "execution_count": null,
   "id": "entertaining-tolerance",
   "metadata": {},
   "outputs": [],
   "source": []
  }
 ],
 "metadata": {
  "kernelspec": {
   "display_name": "Python 3",
   "language": "python",
   "name": "python3"
  },
  "language_info": {
   "codemirror_mode": {
    "name": "ipython",
    "version": 3
   },
   "file_extension": ".py",
   "mimetype": "text/x-python",
   "name": "python",
   "nbconvert_exporter": "python",
   "pygments_lexer": "ipython3",
   "version": "3.8.2"
  }
 },
 "nbformat": 4,
 "nbformat_minor": 5
}
