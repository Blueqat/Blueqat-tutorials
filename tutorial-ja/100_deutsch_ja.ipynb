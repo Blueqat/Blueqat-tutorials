{
 "cells": [
  {
   "cell_type": "markdown",
   "metadata": {},
   "source": [
    "# Deutsch algorithm(ドイチ アルゴリズム)（概要）\n",
    "\n",
    "## Oracle\n",
    "まずはこのアルゴリズムに出てくるオラクルから説明します。\n",
    "簡単にいうと、ある入力に対し 0 あるいは 1 を返す関数です。  \n",
    "例として、物を買う状況を考えましょう。入力がお肉屋さんで買える場合に 1、 買えない場合に 0 を出力とします。\n",
    "\n",
    "すると以下の状況になります。\n",
    "\n",
    "$$\n",
    "f(x) = \\begin{cases}\n",
    "   1\\ \\  (x\\ がお肉屋さんで買える。)\\\\\n",
    "    0\\ \\  (x\\ がお肉屋さんで買えない。)\n",
    "  \\end{cases}\n",
    "$$\n",
    "\n",
    "これを用いるとパソコンはお肉屋さんで買えなく、牛肉は買えるので、\n",
    "\n",
    "$$\n",
    "f(パソコン) = 0,\\ \\ \\ \\ f(牛肉) = 1\n",
    "$$\n",
    "\n",
    "となります。\n",
    "\n",
    "このように入力に応じて 0 か 1 を出力する関数をオラクルと言います。\n",
    "\n",
    "量子コンピュータでは $x$ に状態を入れて、特定の状態のみを取り出すのに使います。\n",
    "つまりある状態のみを取り出すゲートのことを言います。"
   ]
  },
  {
   "cell_type": "markdown",
   "metadata": {},
   "source": [
    "## Deutsch algorithm\n",
    "まずは Deutsch さんが考えたアルゴリズムについて説明していきます。\n",
    "Deutsch algorithm とは、$\\lvert 0\\rangle$ か $\\lvert1\\rangle$ である1ビットの入力のOracleを判別するというものです。\n",
    "\n",
    "つまりはこういう状況のことを言います。\n",
    "$x =\\lvert 0\\rangle$ または $\\lvert1\\rangle$ のとき考えられるオラクルは以下の4通りになります。\n",
    "\n",
    "$$\n",
    "f(x) = \\begin{cases}\n",
    "   0\\ \\  (x= \\lvert 0\\rangle)\\\\\n",
    "    0\\ \\  (x= \\lvert1\\rangle)\n",
    "  \\end{cases}\n",
    "  \\mathrm{or}\\ \n",
    "  \\begin{cases}\n",
    "   0\\ \\  (x=\\lvert 0\\rangle)\\\\\n",
    "    1\\ \\  (x=\\lvert 1\\rangle)\n",
    "  \\end{cases}\n",
    "    \\mathrm{or}\\ \n",
    "  \\begin{cases}\n",
    "   1\\ \\  (x=\\lvert 0\\rangle)\\\\\n",
    "    0\\ \\  (x=\\lvert 1\\rangle)\n",
    "  \\end{cases}\n",
    "    \\mathrm{or}\\ \n",
    "  \\begin{cases}\n",
    "   1\\ \\  (x=\\lvert 0\\rangle)\\\\\n",
    "    1\\ \\  (x=\\lvert 1\\rangle)\n",
    "  \\end{cases}\n",
    "$$\n",
    "\n",
    "Deutsch algorithm はこの $f$ が $\\lvert 0\\rangle$ と $\\lvert 1\\rangle$ で値が同じものなのか、それとも違うものなのかを判定してくれます。"
   ]
  },
  {
   "cell_type": "markdown",
   "metadata": {},
   "source": [
    "具体的な回路を考えます。\n",
    "\n",
    "<img src=\"./img/016/016_3_new.png\" width=\"40%\">\n",
    "\n",
    "この $U_f$ が Oracle です。\n",
    "ただし $q_0$については入ってきた値($x$)をそのまま返し、$q_1$の$\\oplus$は$q_1$に入ってきた値($y$)と $f(x)$ との和のmod2をとるものとします。(mod2 → 2で割った余り)"
   ]
  },
  {
   "cell_type": "markdown",
   "metadata": {},
   "source": [
    "ではそれぞれの状態を確認します。\n",
    "\n",
    "$$\n",
    "|\\psi_1\\rangle = H|0\\rangle \\otimes H|1\\rangle = \\frac{1}{\\sqrt{2}}(\\lvert0\\rangle + \\lvert1\\rangle) \\otimes \\frac{1}{\\sqrt{2}}(\\lvert0\\rangle - \\lvert1\\rangle)\n",
    "$$\n",
    "\n",
    "ここで上の式を\n",
    "\n",
    "$$\n",
    "|\\psi_1\\rangle =  \\frac{1}{2} \\lvert0\\rangle \\otimes (\\lvert0\\rangle - \\lvert1\\rangle) + \\frac{1}{2} \\lvert1\\rangle \\otimes (\\lvert0\\rangle - \\lvert1\\rangle) \\ \\ \\ \\ \\cdots (\\star)\n",
    "$$\n",
    "\n",
    "と変形させます。\n",
    "\n",
    "1番目のビットを見ると、$\\lvert0\\rangle$ と $\\lvert1\\rangle$ を入れ替えると符号が変わることがわかります。  \n",
    "この状態で上の4通りの $f(x)$ について $\\lvert \\psi_2\\rangle$ を考えてみます。\n",
    "\n",
    "$f(x)$ は 1番目のビットにかかるので\n",
    "\n",
    "$$\n",
    "f(x)=0 \\to q_1 は変化しない\n",
    "$$\n",
    "\n",
    "$$\n",
    "f(x)=1 \\to q_1は反転する\n",
    "$$\n",
    "\n",
    "よって、変形した2つの項で作られた式$(\\star)$を見ると\n",
    "\n",
    "$$\n",
    "f(0)=f(1) \\to 各項は同符号\n",
    "$$\n",
    "\n",
    "$$\n",
    "f(0)\\neq f(1) \\to 各項は異符号\n",
    "$$"
   ]
  },
  {
   "cell_type": "markdown",
   "metadata": {},
   "source": [
    "このことから\n",
    "\n",
    "$$\n",
    "\\begin {align}\n",
    "\\lvert \\psi_2 \\rangle &= \\begin{cases}\n",
    "\\pm \\frac{1}{2} \\lvert 0 \\rangle \\otimes (\\lvert 0\\rangle - \\lvert 1\\rangle) \\pm \\frac{1}{2} \\lvert 1 \\rangle \\otimes (\\lvert 0\\rangle - \\lvert 1\\rangle)  \\ \\  \\ \\ (f(0)= f(1)) \\\\\n",
    "\\pm \\frac{1}{2} \\lvert 0 \\rangle \\otimes (\\lvert 0\\rangle - \\lvert 1\\rangle) \\mp \\frac{1}{2} \\lvert 1 \\rangle \\otimes (\\lvert 0\\rangle - \\lvert 1\\rangle)  \\ \\  \\ \\ (f(0)\\neq f(1)) \\end{cases} \\\\\n",
    "&= \\begin{cases}\n",
    "\\pm H\\lvert 0 \\rangle \\otimes H \\lvert 1 \\rangle \\ \\  \\ \\ (f(0)= f(1)) \\\\\n",
    " \\pm H\\lvert 1 \\rangle \\otimes H \\lvert 1 \\rangle \\ \\  \\ \\ (f(0)\\neq f(1))\n",
    "\\end{cases}\n",
    "\\end {align}\n",
    "$$\n",
    "\n",
    "となります。\n",
    "\n",
    "さらに $q_0$ に$H$ゲートをかけます。  \n",
    "すると $|\\psi_3\\rangle$ は\n",
    "\n",
    "$$\n",
    "\\lvert \\psi_3 \\rangle = \\begin{cases}\n",
    "\\pm \\lvert 0\\rangle \\otimes H\\lvert 1 \\rangle\\ \\  \\ \\ (f(0)= f(1)) \\\\\n",
    "\\pm \\lvert 1\\rangle \\otimes H\\lvert 1 \\rangle\\ \\  \\ \\ (f(0)\\neq f(1))\n",
    "\\end{cases}\n",
    "$$\n",
    "\n",
    "\n",
    "測定には $\\pm$ は関係ないので、0番目のビットを測定するとOracleを判別することがわかります。\n",
    "\n",
    "以上が Deutsch algorithm の説明です。"
   ]
  },
  {
   "cell_type": "markdown",
   "metadata": {},
   "source": [
    "これをblueqatで実装してみましょう。"
   ]
  },
  {
   "cell_type": "code",
   "execution_count": 7,
   "metadata": {},
   "outputs": [],
   "source": [
    "from blueqat import Circuit\n",
    "import numpy as np"
   ]
  },
  {
   "cell_type": "markdown",
   "metadata": {},
   "source": [
    "$f(x)$ の入出力値に対して、4通りのオラクルが考えられました。  \n",
    "今回は4通りをそれぞれ実装し、乱数によってランダムにオラクルが選ばれるようにします。  "
   ]
  },
  {
   "cell_type": "code",
   "execution_count": 191,
   "metadata": {},
   "outputs": [],
   "source": [
    "def oracle_00(c):\n",
    "    c.i[:]\n",
    "    \n",
    "def oracle_01(c):\n",
    "    c.cx[0, 1]\n",
    "    \n",
    "def oracle_10(c):\n",
    "    c.x[0]\n",
    "    c.cx[0, 1]\n",
    "    c.x[0]\n",
    "    \n",
    "def oracle_11(c):\n",
    "    c.x[1]\n",
    "    \n",
    "def oracle(c):\n",
    "    f = np.random.rand()\n",
    "    if f < 0.25:\n",
    "        oracle_00(c)\n",
    "        return \"f(0) = 0, f(1) = 0\"\n",
    "    elif f < 0.5:\n",
    "        oracle_01(c)\n",
    "        return \"f(0) = 0, f(1) = 1\"\n",
    "    elif f < 0.75:\n",
    "        oracle_10(c)\n",
    "        return \"f(0) = 1, f(1) = 0\"\n",
    "    else:\n",
    "        oracle_11(c)\n",
    "        return \"f(0) = 1, f(1) = 1\""
   ]
  },
  {
   "cell_type": "markdown",
   "metadata": {},
   "source": [
    "ここでDeutsch のアルゴリズムを用いると、測定結果から確率1でオラクルを判別できます。"
   ]
  },
  {
   "cell_type": "code",
   "execution_count": 197,
   "metadata": {},
   "outputs": [
    {
     "name": "stdout",
     "output_type": "stream",
     "text": [
      "Counter({'10': 128})\n",
      "Selected oracle: f(0) = 1, f(1) = 0\n"
     ]
    }
   ],
   "source": [
    "c = Circuit(2)\n",
    "c.x[1].h[:]\n",
    "oracle_str = oracle(c)\n",
    "c.h[0].m[0]\n",
    "res = c.run(shots = 128)\n",
    "print(res)\n",
    "print(\"Selected oracle:\", oracle_str)"
   ]
  },
  {
   "cell_type": "markdown",
   "metadata": {},
   "source": [
    "オラクルが  \n",
    "$f(0) = f(1)$ ならば測定結果は全て '00'  \n",
    "$f(0) \\neq f(1)$ ならば測定結果は全て '10'  \n",
    "となります。"
   ]
  },
  {
   "cell_type": "code",
   "execution_count": null,
   "metadata": {},
   "outputs": [],
   "source": []
  }
 ],
 "metadata": {
  "file_extension": ".py",
  "kernelspec": {
   "display_name": "Python 3",
   "language": "python",
   "name": "python3"
  },
  "language_info": {
   "codemirror_mode": {
    "name": "ipython",
    "version": 3
   },
   "file_extension": ".py",
   "mimetype": "text/x-python",
   "name": "python",
   "nbconvert_exporter": "python",
   "pygments_lexer": "ipython3",
   "version": "3.8.2"
  },
  "mimetype": "text/x-python",
  "name": "python",
  "npconvert_exporter": "python",
  "pygments_lexer": "ipython3",
  "version": 3
 },
 "nbformat": 4,
 "nbformat_minor": 2
}
