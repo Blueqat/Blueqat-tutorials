{
 "cells": [
  {
   "cell_type": "markdown",
   "metadata": {},
   "source": [
    "### Matrix"
   ]
  },
  {
   "cell_type": "markdown",
   "metadata": {},
   "source": [
    "We use uppercase letter and parentheses for matrix.\n",
    "\n",
    "$\n",
    "A = \\begin{pmatrix}\n",
    "A_{11} & A_{12} \\\\\n",
    "A_{21} & A_{22} \\\\\n",
    "\\end{pmatrix}\n",
    "$"
   ]
  },
  {
   "cell_type": "markdown",
   "metadata": {},
   "source": [
    "### Dirac Notation"
   ]
  },
  {
   "cell_type": "markdown",
   "metadata": {},
   "source": [
    "Ket vector:   \n",
    "$$\\lvert 0 \\rangle = \\begin{pmatrix} 1 \\\\ 0 \\\\ \\end{pmatrix}$$  \n",
    "$$\\lvert 1 \\rangle = \\begin{pmatrix} 0 \\\\ 1 \\\\ \\end{pmatrix}$$  \n",
    "$$\\lvert \\psi \\rangle = \\begin{pmatrix} \\alpha \\\\ \\beta \\\\ \\end{pmatrix} = \\alpha \\lvert 0 \\rangle + \\beta \\lvert 1 \\rangle$$\n",
    "\n",
    "Bra vector: \n",
    "$$ \\langle \\psi\\rvert  = \\begin{pmatrix} \\alpha & \\beta \\end{pmatrix} = \\begin{pmatrix} \\alpha \\\\ \\beta \\\\ \\end{pmatrix}^\\mathrm{T}$$\n",
    "\n",
    "Bra-ket:  \n",
    "$$\\langle \\psi_1 \\vert \\psi_2 \\rangle = \\begin{pmatrix} \\alpha & \\beta \\end{pmatrix} \\begin{pmatrix} \\gamma \\\\ \\delta \\\\ \\end{pmatrix} = \\alpha \\gamma + \\beta \\delta$$  \n",
    "\n",
    "$$\\langle \\psi_1 \\vert A \\vert \\psi_2 \\rangle = \\begin{pmatrix} \\alpha & \\beta \\end{pmatrix} \\begin{pmatrix} A_{11} & A_{12} \\\\ A_{21} & A_{22} \\\\ \\end{pmatrix} \\begin{pmatrix} \\gamma \\\\ \\delta \\\\ \\end{pmatrix}$$"
   ]
  },
  {
   "cell_type": "code",
   "execution_count": null,
   "metadata": {},
   "outputs": [],
   "source": []
  }
 ],
 "metadata": {
  "kernelspec": {
   "display_name": "Python 3",
   "language": "python",
   "name": "python3"
  },
  "language_info": {
   "codemirror_mode": {
    "name": "ipython",
    "version": 3
   },
   "file_extension": ".py",
   "mimetype": "text/x-python",
   "name": "python",
   "nbconvert_exporter": "python",
   "pygments_lexer": "ipython3",
   "version": "3.7.7"
  }
 },
 "nbformat": 4,
 "nbformat_minor": 5
}
