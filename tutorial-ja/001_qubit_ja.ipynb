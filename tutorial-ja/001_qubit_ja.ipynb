{
 "cells": [
  {
   "cell_type": "markdown",
   "metadata": {
    "colab_type": "text",
    "id": "NjHnSAbHrInP"
   },
   "source": [
    "# 量子ビットの操作\n",
    "## １量子ビットの計算\n",
    "\n",
    "量子コンピュータのはじめの一歩を行います。\n",
    "\n",
    "まず、blueqatをインストールします。"
   ]
  },
  {
   "cell_type": "code",
   "execution_count": null,
   "metadata": {},
   "outputs": [],
   "source": [
    "!pip install blueqat"
   ]
  },
  {
   "cell_type": "markdown",
   "metadata": {},
   "source": [
    "準備完了です。"
   ]
  },
  {
   "cell_type": "markdown",
   "metadata": {
    "colab_type": "text",
    "id": "PKhFYi-drld1"
   },
   "source": [
    "## 量子回路の作成\n",
    "量子コンピュータでは、量子ゲートを順番に繋げた、量子回路を作ります。Circuitで回路を準備し、その後ろに量子ゲートを繋げます。\n",
    "\n",
    "今回はxゲートを0番目の量子ビットにかけてみましょう。  \n",
    "xと書き、カッコの中に量子ビットの番号である0を入れます。\n",
    "\n",
    "最後に答えを取り出す測定を、mと書いて、runで100回実行をします。\n",
    "\n",
    "最初に回路を作るためのツール読み込み、２行目に量子回路を書いてみます。"
   ]
  },
  {
   "cell_type": "code",
   "execution_count": 1,
   "metadata": {},
   "outputs": [
    {
     "data": {
      "text/plain": [
       "Counter({'1': 100})"
      ]
     },
     "execution_count": 1,
     "metadata": {},
     "output_type": "execute_result"
    }
   ],
   "source": [
    "from blueqat import Circuit\n",
    "Circuit().x[0].m[:].run(shots=100)"
   ]
  },
  {
   "cell_type": "markdown",
   "metadata": {},
   "source": [
    "答えは1が100回出ました。\n",
    "このとき、量子回路は0からスタートし、以下のようになります。\n",
    "\n",
    "```\n",
    "0 ----X---\n",
    "```\n",
    "\n",
    "今回は0からスタートし、0を1にするXゲートを使って最初の計算を行いました。"
   ]
  },
  {
   "cell_type": "markdown",
   "metadata": {},
   "source": [
    "# 概要\n",
    "ここでは 1量子ビット操作の概要を説明します。\n",
    "\n",
    "## 量子ビット\n",
    "古典コンピュータは1bitに対して0または1の値を入力することができます。\n",
    "\n",
    "量子ビットでは1bitのことを1qubitと言い、ベクトルで表現します。   \n",
    "$\\lvert0\\rangle$, $\\lvert1\\rangle$ はそれぞれ\n",
    "\n",
    "$$\n",
    "\\lvert0\\rangle = \\begin{pmatrix}1\\\\0\\end{pmatrix} , \\lvert 1 \\rangle = \\begin{pmatrix}0\\\\1\\end{pmatrix}\n",
    "$$\n",
    "\n",
    "と表します。\n",
    "\n",
    "一般的に1qubitには $\\lvert0\\rangle$, $\\lvert1\\rangle$ と複素数 $\\alpha,\\beta$ を用いて $\\alpha\\lvert0\\rangle+\\beta\\lvert1\\rangle$ で表せます。   \n",
    "ただし、\n",
    "\n",
    "$$\n",
    "|\\alpha|^2 + |\\beta|^2 = 1\n",
    "$$\n",
    "\n",
    "である必要があります。"
   ]
  },
  {
   "cell_type": "markdown",
   "metadata": {},
   "source": [
    "## 回路の作成\n",
    "初期値を $|0\\rangle$ とします。\n",
    "\n",
    "回路はゲートと呼ばれる行列をかけて作ります。試しにXゲートをかけてみます。   \n",
    "Xゲートは以下のような行列です。\n",
    "\n",
    "$$\n",
    "X = \\begin{pmatrix} 0&1\\\\1&0\\end{pmatrix}\n",
    "$$\n",
    "\n",
    "これを $|0\\rangle$ にかけると\n",
    "\n",
    "$$\n",
    "X \\lvert 0 \\rangle = \\begin{pmatrix} 0&1\\\\1&0\\end{pmatrix}\\begin{pmatrix}1\\\\0\\end{pmatrix} = \\begin{pmatrix}0\\\\1\\end{pmatrix} = \\lvert 1 \\rangle\n",
    "$$\n",
    "\n",
    "と $\\lvert1\\rangle$ に反転できることがわかります。"
   ]
  },
  {
   "cell_type": "markdown",
   "metadata": {},
   "source": [
    "## 測定\n",
    "量子コンピュータでは確率的に 0,1 が出力されますがこの出力させる操作を測定と言います。   \n",
    "0,1 それぞれの出力される確率は $\\alpha\\lvert0\\rangle+\\beta\\lvert1\\rangle$ に対して、それぞれ $|\\alpha|^2, |\\beta|^2$ となります。\n",
    "\n",
    "例えば以下のようなビットを考えます。\n",
    "\n",
    "$$\n",
    "\\frac{1}{\\sqrt{2}}\\lvert0\\rangle + \\frac{1}{\\sqrt{2}}\\lvert1\\rangle = \\frac{1}{\\sqrt{2}}\\begin{pmatrix}1\\\\1\\end{pmatrix}\n",
    "$$\n",
    "\n",
    "これを1回測定すると 0,1 が出力される確率はそれぞれ 1/2 となります。   \n",
    "つまり100回測定した場合は 0,1 はそれぞれ 50回ずつ出力されます。"
   ]
  },
  {
   "cell_type": "markdown",
   "metadata": {},
   "source": [
    "## 状態ベクトル\n",
    "一般的に上記で述べたベクトルを状態ベクトルと言います。\n",
    "\n",
    "回路を作成し最終的にできた状態ベクトルは測定をした場合に 0,1 で出力されます。\n",
    "\n",
    "Blueqatで状態ベクトルを求めるには、測定をせずに.run()メソッドを実行します。"
   ]
  },
  {
   "cell_type": "code",
   "execution_count": 5,
   "metadata": {},
   "outputs": [
    {
     "data": {
      "text/plain": [
       "array([0.70710678+0.j, 0.70710678+0.j])"
      ]
     },
     "execution_count": 5,
     "metadata": {},
     "output_type": "execute_result"
    }
   ],
   "source": [
    "Circuit().h[0].run()"
   ]
  },
  {
   "cell_type": "markdown",
   "metadata": {},
   "source": [
    "## ２量子ビットの計算\n",
    "量子コンピュータでは、複数の量子ビットの操作により、複雑な計算を行うことができます。"
   ]
  },
  {
   "cell_type": "markdown",
   "metadata": {},
   "source": [
    "## 量子回路の作成\n",
    "量子回路の作成方法は１量子ビットの場合と同じです。CXゲートを使ってみます。小文字でcxと書き、カッコの中に、0と1をカンマで繋げて記入します。そして、測定を行うmをかいて、runで100回実行します。"
   ]
  },
  {
   "cell_type": "code",
   "execution_count": 3,
   "metadata": {},
   "outputs": [
    {
     "data": {
      "text/plain": [
       "Counter({'00': 100})"
      ]
     },
     "execution_count": 3,
     "metadata": {},
     "output_type": "execute_result"
    }
   ],
   "source": [
    "Circuit().cx[0,1].m[:].run(shots=100)"
   ]
  },
  {
   "cell_type": "markdown",
   "metadata": {},
   "source": [
    "00という答えが100回出ました。CXゲートは、「コントロールビット」と「ターゲットビット」を順番に指定します。これは、コントロールビットの値が1の時だけ、ターゲットビットにXゲートをかけます。\n",
    "\n",
    "今回は、量子ビットは、両方とも0からスタートして、cxゲートがかかりました。コントロールビットが0なので、ターゲットビットには何もおきません。回路は以下のようになります。\n",
    "\n",
    "```\n",
    "0 ---*---\n",
    "     |\n",
    "0 ---X---\n",
    "```\n",
    "\n",
    "次にコントロールビットにXゲートをかけて、0を1にしてから、CXゲートをかけてみます。"
   ]
  },
  {
   "cell_type": "code",
   "execution_count": 4,
   "metadata": {},
   "outputs": [
    {
     "data": {
      "text/plain": [
       "Counter({'11': 1})"
      ]
     },
     "execution_count": 4,
     "metadata": {},
     "output_type": "execute_result"
    }
   ],
   "source": [
    "Circuit().x[0].cx[0,1].m[:].run(shots=1)"
   ]
  },
  {
   "cell_type": "markdown",
   "metadata": {},
   "source": [
    "今度は、11という答えが出ました。コントロールビットが1のため、ターゲットビットにもXゲートがかかり、0から1になりました。このように2つの量子ビットを指定して計算を行います。"
   ]
  },
  {
   "cell_type": "markdown",
   "metadata": {},
   "source": [
    "## （応用）量子ビットの数を指定する\n",
    "量子ビットの数を最初から指定することもできます。その際にはCircuit()のなかに引数を設定しましょう。"
   ]
  },
  {
   "cell_type": "code",
   "execution_count": 5,
   "metadata": {},
   "outputs": [
    {
     "data": {
      "text/plain": [
       "Counter({'110': 1})"
      ]
     },
     "execution_count": 5,
     "metadata": {},
     "output_type": "execute_result"
    }
   ],
   "source": [
    "Circuit(3).x[0].cx[0,1].m[:].run(shots=1)"
   ]
  },
  {
   "cell_type": "markdown",
   "metadata": {},
   "source": [
    "110となりました。最初の2量子ビットは計算に使用されましたが、最後の量子ビットは使用されないままでした。以上です。"
   ]
  },
  {
   "cell_type": "markdown",
   "metadata": {},
   "source": [
    "# 概要\n",
    "ここでは２量子ビットの計算を説明します。\n",
    "\n",
    "## 量子ビット\n",
    "２量子ビットの場合は 00, 01, 10, 11 は以下のような状態ベクトルで表します。\n",
    "\n",
    "<img src=\"./img/002/002_02_0.png\" width=\"50%\">\n",
    "\n",
    "00 の状態ベクトルはテンソル積を用いると以下のように計算できます。\n",
    "\n",
    "<img src=\"./img/002/002_02_1.png\" width=\"50%\">"
   ]
  },
  {
   "cell_type": "markdown",
   "metadata": {},
   "source": [
    "## CX回路\n",
    "CXゲートはコントロールビットが1ならばターゲットビットにXゲートを施すものです。\n",
    "\n",
    "CXゲートは以下のような行列です。\n",
    "\n",
    "<img src=\"./img/002/002_02_2.png\" width=\"20%\">\n",
    "\n",
    "00 にCXゲートを施すと以下のようになります。\n",
    "\n",
    "<img src=\"./img/002/002_02_3.png\" width=\"43%\">\n",
    "\n",
    "この場合コントロールビットは0なので何も変化しません。\n",
    "\n",
    "次に 10 にCXゲートを施すと以下のようになります。\n",
    "\n",
    "<img src=\"./img/002/002_02_4.png\" width=\"43%\">\n",
    "\n",
    "この場合コントロールビットは1なのでターゲットビットが反転して1になっているのがわかります。"
   ]
  },
  {
   "cell_type": "markdown",
   "metadata": {},
   "source": [
    "## 測定\n",
    "２量子ビットの場合の測定は 00, 01, 10, 11 が確率的に観測されます。   \n",
    "それぞれ出力される確率は１量子ビットの場合と同じように各係数の絶対値の2乗となります。\n",
    "\n",
    "例えば以下のような状態ベクトルを考えます。\n",
    "\n",
    "<img src=\"./img/002/002_02_5.png\" width=\"40%\">\n",
    "\n",
    "これを1回測定すると 00, 01, 10, 11 が出力される確率は 1/4 となります。"
   ]
  },
  {
   "cell_type": "markdown",
   "metadata": {},
   "source": [
    "## 2量子ビット以上の場合\n",
    "３量子ビットの場合で最初の２量子ビットにCXゲートをかけるとします。\n",
    "100 にCXを施したとき計算は以下のようになります。\n",
    "\n",
    "<img src=\"./img/002/002_02_6.png\" width=\"45%\">\n",
    "\n",
    "上の式から最後のビットには何も変化しない行列Iを施して計算していることがわかります。"
   ]
  }
 ],
 "metadata": {
  "colab": {
   "name": "tutorial001_basic_circuit.ipynb",
   "provenance": [],
   "version": "0.3.2"
  },
  "kernelspec": {
   "display_name": "Python 3",
   "language": "python",
   "name": "python3"
  },
  "language_info": {
   "codemirror_mode": {
    "name": "ipython",
    "version": 3
   },
   "file_extension": ".py",
   "mimetype": "text/x-python",
   "name": "python",
   "nbconvert_exporter": "python",
   "pygments_lexer": "ipython3",
   "version": "3.8.4"
  }
 },
 "nbformat": 4,
 "nbformat_minor": 4
}
