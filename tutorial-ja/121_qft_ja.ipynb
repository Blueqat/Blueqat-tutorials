{
 "cells": [
  {
   "cell_type": "markdown",
   "metadata": {
    "colab_type": "text",
    "id": "NjHnSAbHrInP"
   },
   "source": [
    "# 量子フーリエ変換\n",
    "\n",
    "古典的なフーリエ変換は波や信号の解析において重要なツールであり、関数をそれぞれ異なる周波数を持つ成分に分解します。\n",
    "\n",
    "この離散的な対応である離散フーリエ変換は、$n$ 個の複素数 $x_0,\\ldots,x_{N-1}$ に作用し、次式のように、別の $n$ 個の複素数列 $\\tilde x_0,\\ldots,\\tilde x_{N-1}$ へと変換します。\n",
    "\n",
    "$$\\tilde x_k = \\sum_{y=0}^{N-1}e^{-\\frac{2\\pi ikn}N} \\cdot x_k$$\n",
    "\n",
    "$n$ 個の量子ビットに対する量子フーリエ変換（一般にQFTと略します）は各基底状態 $x\\in \\{0,1\\}^n$ に対して同様にはたらき、次式のように表されます（ただし、$N=2^n$）。\n",
    "\n",
    "$$\\text{QFT}(\\lvert x\\rangle) = \\frac 1{\\sqrt N}\\sum_{y=0}^{N-1}e^{\\frac{2\\pi ixy}N}\\lvert y\\rangle\\qquad \\qquad (1)$$\n",
    "\n",
    "ここでは、ビット列 $x\\in\\{0, 1\\}^n$ を整数 $\\sum_{j=0}^{n-1}2^{n-1-j}x_j$ として表記するものとします。\n",
    "\n",
    "QFTは事実上、計算基底から \"フーリエ基底\" に基底を変換したものと考えることができます。"
   ]
  },
  {
   "cell_type": "markdown",
   "metadata": {
    "colab_type": "text",
    "id": "CJhIv6UdASWQ"
   },
   "source": [
    "## QFTのテンソル積分解\n",
    "\n",
    "いくつかの代数的な操作によって、式$(1)$の総和を純粋状態同士のテンソル積へと分解できることがわかります。\n",
    "\n",
    "$$\\text{QFT}(\\lvert x\\rangle) = \\frac 1{\\sqrt N}\\left(\\vert 0\\rangle + e^{\\frac{2\\pi ix}{2^1}}\\vert 1\\rangle\\right)\\otimes \\left(\\vert 0\\rangle + e^{\\frac{2\\pi ix}{2^2}}\\vert 1\\rangle\\right)\\otimes \\cdots \\otimes \\left(\\vert 0\\rangle + e^{\\frac{2\\pi ix}{2^n}}\\vert 1\\rangle\\right).$$\n",
    "\n",
    "この定式化により、QFTを実現する量子回路をどのように実装すればよいかが明確になります。\n",
    "\n",
    "## 制御位相回転\n",
    "\n",
    "回路構成を見る前に、次のゲートを定義します。\n",
    "\n",
    "$$R_k = \\begin{pmatrix}1 & 0\\\\ 0 & e^{\\frac{2\\pi i}{2^k}}\\end{pmatrix},$$\n",
    "\n",
    "そしてこのゲートを制御ゲート化したものが、制御量子ビットの値に応じてターゲット量子ビットの位相を変えることを思い出しましょう。  \n",
    "言い換えると、$CR_k(\\lvert 0\\rangle|x\\rangle) = |0\\rangle \\lvert x\\rangle$ かつ\n",
    "\n",
    "\\begin{aligned}CR_k(\\lvert 1\\rangle \\lvert x\\rangle) = \\lvert 1\\rangle\\otimes R_k(\\lvert x \\rangle) &=\\lvert 1\\rangle\\otimes R_k\\left( \\langle 0\\lvert x\\rangle \\lvert  0\\rangle + \\langle 1 \\lvert x\\rangle \\lvert 1\\rangle\\right)\n",
    " \\\\ & = \\lvert 1\\rangle\\otimes \\left( \\langle 0 \\lvert x\\rangle \\lvert  0\\rangle + \\langle 1 \\lvert x\\rangle e^{\\frac{2\\pi i}{2^k}} \\lvert 1\\rangle\\right)\\end{aligned}\n",
    " \n",
    " となります。\n",
    "\n",
    "より簡潔に、次のように表されます。\n",
    "\n",
    "$$CR_k(\\lvert y\\rangle \\lvert x\\rangle) = \\lvert y\\rangle \\otimes \\left( \\langle 0 \\vert x\\rangle \\lvert  0\\rangle + \\langle 1 \\vert x\\rangle e^{\\frac{2\\pi iy}{2^k}} \\lvert 1\\rangle\\right).$$\n",
    "\n",
    "よって、  \n",
    "$$CR_k = \\begin{pmatrix}1 & 0 & 0 & 0\\\\ 0 & 1 & 0 & 0\\\\ 0& 0& 1 & 0\\\\ 0 & 0&0 &e^{\\frac{2\\pi i}{2^k}}\\end{pmatrix} = \\text{CPhase}\\left(\\frac{2\\pi}{2^k}\\right).$$"
   ]
  },
  {
   "cell_type": "markdown",
   "metadata": {
    "colab_type": "text",
    "id": "oXg3hf3yAkMS"
   },
   "source": [
    "## 回路構造\n",
    "\n",
    "これで、QFTを実現する回路を構築するために必要な材料が揃いました。  \n",
    "以下は、$n=4$量子ビットの回路例です。\n",
    "\n",
    "![Circuit Image](../tutorial/img/121_qft_ckt.png)\n",
    "\n",
    "ここでは、$\\lvert \\varphi_1\\rangle$から$\\lvert \\varphi_4\\rangle$までの状態を見ていきます。"
   ]
  },
  {
   "cell_type": "markdown",
   "metadata": {
    "colab_type": "text",
    "id": "U1uxGVsCCi85"
   },
   "source": [
    "$\\lvert \\varphi_1\\rangle$ において、先頭の量子ビットの状態を、基底状態 $x_0\\in\\{0,1\\}$ 上で解析します。すると、$\\lvert x_0\\rangle$ は次のようになります（ここでは計算を簡単にするために、正規化は無視します）。\n",
    "+ $H$: $\\lvert 0\\rangle + e^{\\pi i x_0}\\lvert 1\\rangle$,\n",
    "+ $R_2$: $\\lvert 0\\rangle + e^{\\pi i x_0 + \\frac{2\\pi i x_1}{2^2}}\\lvert 1\\rangle$\n",
    "+ $R_3$: $\\lvert 0\\rangle + e^{\\pi i x_0 + \\frac{2\\pi i x_1}{2^2} + \\frac{2\\pi i x_2}{2^3}}\\lvert 1\\rangle$\n",
    "+ $R_4$: $\\lvert 0\\rangle + e^{\\pi i x_0 + \\frac{2\\pi i x_1}{2^2} + \\frac{2\\pi i x_2}{2^3} + \\frac{2\\pi i x_3}{2^4}}\\lvert 1\\rangle = \\lvert 0\\rangle + e^{\\frac{2\\pi i}{2^4} (8x_0 + 4x_1 + 2x_2 + x_3)}\\lvert 1\\rangle = |0\\rangle + e^{\\frac{2\\pi i x}{2^4}}\\lvert 1\\rangle$.\n",
    "\n",
    "よって、$\\lvert \\varphi_1\\rangle = \\left(\\lvert 0\\rangle + e^{\\frac{2\\pi i x}{2^4}}\\lvert 1\\rangle\\right)\\otimes \\lvert x_1x_2x_3\\rangle$ となります。\n",
    "\n",
    "帰納的に、$\\lvert \\varphi_2\\rangle$ が量子ビット $\\lvert x_1\\rangle$ の状態を次のように変えることが簡単に確かめられます。\n",
    "+ $\\lvert 0\\rangle + e^{\\frac{2\\pi i}{2^3}(4x_1 + 2x_2 + x_3)}\\lvert 1\\rangle$.  \n",
    "\n",
    "ただし、$e^{2\\pi ix_0} = 1$ なので、$e^{\\frac{2\\pi i}{2^3}(4x_1 + 2x_2 + x_3)}=e^{\\frac{2\\pi i}{2^3}(8x_0 + 4x_1 + 2x_2 + x_3)}= e^{\\frac{2\\pi ix}{2^3}}$ とできます。\n",
    "\n",
    "よって $\\lvert \\varphi_2\\rangle = \\left(\\lvert 0\\rangle + e^{\\frac{2\\pi i x}{2^4}}\\lvert 1\\rangle\\right)\\otimes \\left(\\lvert 0\\rangle + e^{\\frac{2\\pi i x}{2^3}}\\lvert 1\\rangle\\right)\\otimes \\lvert x_2x_3\\rangle$ となります。\n",
    "\n",
    "このように続けると、 $\\lvert \\varphi_4 \\rangle$ は私達が求める量子ビットを逆の順序で与えることが確認できます。そのため2つのスワップ操作を行って、QFTの回路を完成させました。\n",
    "\n",
    "## Blueqat によるQFTの実装"
   ]
  },
  {
   "cell_type": "code",
   "execution_count": 2,
   "metadata": {
    "collapsed": true
   },
   "outputs": [
    {
     "name": "stdout",
     "output_type": "stream",
     "text": [
      "Requirement already satisfied: blueqat in /home/ec2-user/anaconda3/envs/python3/lib/python3.6/site-packages (0.3.13)\n",
      "Requirement already satisfied: scipy>=1.1.0 in /home/ec2-user/anaconda3/envs/python3/lib/python3.6/site-packages (from blueqat) (1.1.0)\n",
      "Requirement already satisfied: numpy~=1.12 in /home/ec2-user/anaconda3/envs/python3/lib/python3.6/site-packages (from blueqat) (1.18.3)\n",
      "\u001b[33mWARNING: You are using pip version 20.0.2; however, version 20.1 is available.\n",
      "You should consider upgrading via the '/home/ec2-user/anaconda3/envs/python3/bin/python -m pip install --upgrade pip' command.\u001b[0m\n"
     ]
    }
   ],
   "source": [
    "!pip install blueqat"
   ]
  },
  {
   "cell_type": "code",
   "execution_count": 1,
   "metadata": {
    "colab": {
     "base_uri": "https://localhost:8080/",
     "height": 51
    },
    "colab_type": "code",
    "id": "3eRpgppa_1FI",
    "outputId": "d638cc92-9486-43bc-c94a-14a65c6705d7"
   },
   "outputs": [],
   "source": [
    "# モジュールをインポート\n",
    "from blueqat import Circuit\n",
    "import math"
   ]
  },
  {
   "cell_type": "code",
   "execution_count": 2,
   "metadata": {},
   "outputs": [],
   "source": [
    "# qftを作用させる関数\n",
    "def apply_qft(circuit: Circuit(), qubits):\n",
    "    num_qubits = len(qubits)\n",
    "    for i in range(num_qubits):\n",
    "        circuit.h[qubits[i]]\n",
    "        for j in range(i+1, num_qubits):\n",
    "            circuit.cphase(math.pi/(2 ** (j-i)))[qubits[j],qubits[i]] # Apply gate CR_{j-i}(qubit j, qubit i)\n",
    "    # 最後に量子ビットの順序を逆にする\n",
    "    for i in range(int(num_qubits/2)):\n",
    "        circuit.swap(qubits[i],qubits[num_qubits-i-1])"
   ]
  },
  {
   "cell_type": "markdown",
   "metadata": {},
   "source": [
    "### 回路の実行"
   ]
  },
  {
   "cell_type": "code",
   "execution_count": 3,
   "metadata": {},
   "outputs": [
    {
     "data": {
      "text/plain": [
       "array([ 2.50000000e-01+0.j        ,  2.30969883e-01-0.09567086j,\n",
       "        1.76776695e-01-0.1767767j ,  9.56708581e-02-0.23096988j,\n",
       "       -1.53080850e-17-0.25j      , -9.56708581e-02-0.23096988j,\n",
       "       -1.76776695e-01-0.1767767j , -2.30969883e-01-0.09567086j,\n",
       "       -2.50000000e-01+0.j        , -2.30969883e-01+0.09567086j,\n",
       "       -1.76776695e-01+0.1767767j , -9.56708581e-02+0.23096988j,\n",
       "        1.53080850e-17+0.25j      ,  9.56708581e-02+0.23096988j,\n",
       "        1.76776695e-01+0.1767767j ,  2.30969883e-01+0.09567086j])"
      ]
     },
     "execution_count": 3,
     "metadata": {},
     "output_type": "execute_result"
    }
   ],
   "source": [
    "n = 4  # QFTを行う量子ビット数\n",
    "qc = Circuit()\n",
    "qc.x[:]  # 状態 |1111> を用意\n",
    "apply_qft(qc, range(n))\n",
    "qc.run()"
   ]
  },
  {
   "cell_type": "markdown",
   "metadata": {
    "colab_type": "text",
    "id": "JM9lexiT_034"
   },
   "source": [
    "QFTは個々の量子ビットの位相を変化させるだけなので、測定によって物理的に観測することはできません。以下は、$\\text{QFT}(|1111\\rangle)$から得られた上記の状態ベクトルを視覚的に表したものです。\n",
    "\n",
    "![Statevector](../tutorial/img/121_qft_statevec.png)\n"
   ]
  },
  {
   "cell_type": "markdown",
   "metadata": {},
   "source": [
    "## QFTの応用\n",
    "\n",
    "QFT has wide applications in Algorithms design, and is the building block for many influential quantum algorithms such as Quantum Phase Estimation [[1]] , Shor's Algorithm [[2]], and the Hidden Subgroup Problem [[3]].\n",
    "\n",
    "[1]: https://en.wikipedia.org/wiki/Quantum_phase_estimation_algorithm\n",
    "[2]: https://en.wikipedia.org/wiki/Shor's_algorithm\n",
    "[3]: https://en.wikipedia.org/wiki/Hidden_subgroup_problem"
   ]
  },
  {
   "cell_type": "code",
   "execution_count": null,
   "metadata": {},
   "outputs": [],
   "source": []
  }
 ],
 "metadata": {
  "colab": {
   "collapsed_sections": [],
   "name": "013_algo_qft.ipynb",
   "provenance": [],
   "version": "0.3.2"
  },
  "kernelspec": {
   "display_name": "Python 3",
   "language": "python",
   "name": "python3"
  },
  "language_info": {
   "codemirror_mode": {
    "name": "ipython",
    "version": 3
   },
   "file_extension": ".py",
   "mimetype": "text/x-python",
   "name": "python",
   "nbconvert_exporter": "python",
   "pygments_lexer": "ipython3",
   "version": "3.7.7"
  }
 },
 "nbformat": 4,
 "nbformat_minor": 1
}
