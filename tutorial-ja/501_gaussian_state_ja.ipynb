{
 "cells": [
  {
   "cell_type": "markdown",
   "metadata": {},
   "source": [
    "# Gaussian formula\n",
    "\n",
    "光の量子状態は\"ガウス状態\"と\"非ガウス状態\"分けることができます。\n",
    "その内\"ガウス状態\"のみで記述される状態同士の計算は、より簡単に定式化することができます。\n",
    "\n",
    "- Gaussian Wigner function[[1]](https://arxiv.org/abs/quant-ph/0410100)\n",
    "\n",
    "$W(\\xi) = \\frac{1}{(2\\pi)^{N} \\sqrt{\\det V^{(N)}}} \\exp{\\left( -\\frac{1}{2}(\\xi-\\mu) [V^{(N)}]^{-1} (\\xi-\\mu)^{T} \\right)}$\n",
    "\n",
    "見ての通り、古典的なガウス分布とよく似ています。\n",
    "\n",
    "$\\xi = [q_{1}, p_{1}, q_{2}, p_{2}, \\dots, q_{N}, p_{N}]$には$N$個のqumodeの直交位相が埋め込まれています。  \n",
    "$\\mu$は$\\xi$の平均に対応します。  \n",
    "$V^{(N)}$は$2N \\times 2N$の共分散行列です。\n",
    "\n",
    "\n",
    "古典的なガウス分布分布がそうであるように、Gaussian Wigner functionも1次と2次のモーメント(平均と共分散)でパラメタライズされます。\n",
    "\n",
    "- first moment  \n",
    "$\\bar{\\boldsymbol{\\xi}} = \\langle \\hat{\\boldsymbol{\\xi}} \\rangle= \\mathrm{Tr}[\\hat{\\boldsymbol{\\xi}} \\hat{\\rho}]$\n",
    "\n",
    "- second moment  \n",
    "$V_{ij} = \\frac{1}{2}\\langle \\{\\Delta\\hat{\\xi}_i, \\Delta\\hat{\\xi}_j \\}\\rangle$  \n",
    "$\\{ A, B \\} = AB+BA$\n",
    "\n",
    "Gaussian formulaにおけるゲート演算は、この平均や共分散行列を使って演算します。"
   ]
  },
  {
   "cell_type": "markdown",
   "metadata": {},
   "source": [
    "### Gaussian formulaの計算効率について\n",
    "\n",
    "Gaussian formulaは現実にユニバーサルな量子計算を行うために必要な非線形ゲートを持ちません。  \n",
    "\n",
    "実際、Gaussian formulaではqumode数Nの計算に$2N\\times 2N$行列を用います。  \n",
    "qumode数に対し計算リソースが多項式的にしか増えないため、古典計算で効率的にシミュレートできます。\n",
    "\n",
    "よってGaussian formulaで扱えるゲートのみでは、いわゆる\"古典コンピュータで効率的に実行できない計算\"を効率的に実行することはできません。"
   ]
  },
  {
   "cell_type": "code",
   "execution_count": 1,
   "metadata": {},
   "outputs": [],
   "source": [
    "import photonqat as pq\n",
    "import numpy as np"
   ]
  },
  {
   "cell_type": "markdown",
   "metadata": {},
   "source": [
    "## 基本的なゲート操作"
   ]
  },
  {
   "cell_type": "markdown",
   "metadata": {},
   "source": [
    "### Desplacement gate\n",
    "\n",
    "$(q, p)$位相平面上で状態を$(Re(\\alpha), Im(\\alpha))$だけ平行移動させます。\n",
    "\n",
    "$$\n",
    "\\begin{bmatrix}\n",
    "q \\\\\n",
    "p\n",
    "\\end{bmatrix}\n",
    "\\to \n",
    "\\begin{bmatrix}\n",
    "q+Re(\\sqrt{2}\\alpha) \\\\\n",
    "p+Im(\\sqrt{2}\\alpha)\n",
    "\\end{bmatrix}\n",
    "$$"
   ]
  },
  {
   "cell_type": "code",
   "execution_count": 2,
   "metadata": {},
   "outputs": [
    {
     "data": {
      "image/png": "[encoded data removed]",
      "text/plain": [
       "<Figure size 432x288 with 1 Axes>"
      ]
     },
     "metadata": {
      "needs_background": "light"
     },
     "output_type": "display_data"
    }
   ],
   "source": [
    "alpha = (1 + 1j) # parameter\n",
    "\n",
    "G = pq.Gaussian(1)\n",
    "G.D(0, alpha) # Dgate\n",
    "\n",
    "G.run()\n",
    "\n",
    "(x, p, W) = G.Wigner(0, plot = 'y', xrange = 5.0, prange = 5.0) # plot Wigner function"
   ]
  },
  {
   "cell_type": "markdown",
   "metadata": {},
   "source": [
    "### Squeezing gate \n"
   ]
  },
  {
   "cell_type": "markdown",
   "metadata": {},
   "source": [
    "$(q, p)$位相平面上で状態を狭窄化(squeeze)します。  \n",
    "パラメータ$r$はsqueezeの強さを指します($r>0:q$方向, $r<0:p$方向)。  \n",
    "ある方向にsqueezeされ分布が狭くなると、それと直交する方向は逆に分布が広がります。\n",
    "\n",
    "$$\n",
    "S=\\begin{bmatrix}\n",
    "e^{-r} & 0 \\\\\n",
    "0 & e^{r}\n",
    "\\end{bmatrix}\n",
    "$$\n",
    "\n",
    "$$\n",
    "V \\to SVS^{T} \\\\\n",
    "\\mu \\to S\\mu\n",
    "$$"
   ]
  },
  {
   "cell_type": "code",
   "execution_count": 3,
   "metadata": {},
   "outputs": [
    {
     "data": {
      "image/png": "[encoded data removed]",
      "text/plain": [
       "<Figure size 432x288 with 1 Axes>"
      ]
     },
     "metadata": {
      "needs_background": "light"
     },
     "output_type": "display_data"
    }
   ],
   "source": [
    "r = .5\n",
    "\n",
    "G = pq.Gaussian(1)\n",
    "G.S(0, r) # Sgate\n",
    "\n",
    "G.run()\n",
    "\n",
    "(x, p, W) = G.Wigner(0, plot = 'y', xrange = 5.0, prange = 5.0) # plot Wigner function"
   ]
  },
  {
   "cell_type": "markdown",
   "metadata": {},
   "source": [
    "### Beam splitter\n",
    "\n"
   ]
  },
  {
   "cell_type": "markdown",
   "metadata": {},
   "source": [
    "ビームスプリッタという素子で2つのモードにある光を混ぜ合わせます。  \n",
    "ビームスプリッタとは入ってきた光の$R$%を反射し、$T$%を透過する($R + T=100$)素子で、一定量の光を透過する鏡のようなものです。  \n",
    "以下の$V, \\mu$は2qumodeからなるそれぞれ$4\\times4$行列、$4$要素ベクトルです。\n",
    "\n",
    "$$\n",
    "S=\\begin{bmatrix}\n",
    "\\cos{\\theta} & 0 & \\sin{\\theta} & 0\\\\\n",
    "0 & \\cos{\\theta} & 0 & \\sin{\\theta} \\\\\n",
    "-\\sin{\\theta} & 0 & \\cos{\\theta} & 0 \\\\\n",
    "0 & -\\sin{\\theta} & 0 & \\cos{\\theta}\n",
    "\\end{bmatrix}\n",
    "$$\n",
    "\n",
    "\n",
    "$$\n",
    "V \\to SVS^{T} \\\\\n",
    "\\mu \\to S\\mu\n",
    "$$"
   ]
  },
  {
   "cell_type": "markdown",
   "metadata": {},
   "source": [
    "Gaussian formulaでは光子数状態を直接扱えないため、HOM干渉計のような例をシミュレートすることはできません。  \n",
    "代わりにD gateを使用してmode 0をDesplaceし、ビームスプリッタでmode 0とmode 1をかけ合わせた後にmode 1が変化しているか見てみます。"
   ]
  },
  {
   "cell_type": "code",
   "execution_count": 4,
   "metadata": {},
   "outputs": [
    {
     "data": {
      "image/png": "[encoded data removed]",
      "text/plain": [
       "<Figure size 432x288 with 1 Axes>"
      ]
     },
     "metadata": {
      "needs_background": "light"
     },
     "output_type": "display_data"
    }
   ],
   "source": [
    "alpha = np.sqrt(2)\n",
    "G = pq.Gaussian(2)\n",
    "G.D(0, alpha) # mode 0をDesplace\n",
    "G.BS(0, 1, -np.pi/4) # 50:50 ビームスプリッタ\n",
    "G.run()\n",
    "\n",
    "(x, p, W) = G.Wigner(1, plot = 'y', xrange = 5.0, prange = 5.0) # plot Wigner function for mode1"
   ]
  },
  {
   "cell_type": "markdown",
   "metadata": {},
   "source": [
    "## 参考文献"
   ]
  },
  {
   "cell_type": "markdown",
   "metadata": {},
   "source": [
    "[1] https://arxiv.org/abs/quant-ph/0410100"
   ]
  },
  {
   "cell_type": "code",
   "execution_count": null,
   "metadata": {},
   "outputs": [],
   "source": []
  }
 ],
 "metadata": {
  "kernelspec": {
   "display_name": "Python 3",
   "language": "python",
   "name": "python3"
  },
  "language_info": {
   "codemirror_mode": {
    "name": "ipython",
    "version": 3
   },
   "file_extension": ".py",
   "mimetype": "text/x-python",
   "name": "python",
   "nbconvert_exporter": "python",
   "pygments_lexer": "ipython3",
   "version": "3.8.2"
  }
 },
 "nbformat": 4,
 "nbformat_minor": 2
}
