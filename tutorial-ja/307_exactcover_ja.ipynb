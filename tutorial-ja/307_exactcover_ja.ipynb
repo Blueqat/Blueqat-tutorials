{
 "cells": [
  {
   "cell_type": "markdown",
   "metadata": {
    "colab_type": "text",
    "id": "j8DLT-IMd9v_"
   },
   "source": [
    "# Exact Cover問題\n",
    "\n",
    "最初にExact Cover問題について説明します。\n",
    "\n",
    "ある自然数の集合Uを考えます。またその自然数を含むいくつかのグループ$V_{1}, V_{2}, \\ldots, V_{N}$を想定します。１つの自然数が複数のグループに属していても構いません。さて、そのグループ$V_{i}$からいくつかピックアップしたときに、それらに同じ自然数が複数回含まれず、Uに含まれる自然数セットと同じになるようにピックアップする問題をExact Cover問題といいます。\n",
    "さらに、選んだグループ数を最小になるようにするものを、Smallest Exact Coverといいます。"
   ]
  },
  {
   "cell_type": "markdown",
   "metadata": {
    "colab_type": "text",
    "id": "-a00GQ6kd9wB"
   },
   "source": [
    "## 準備"
   ]
  },
  {
   "cell_type": "code",
   "execution_count": 2,
   "metadata": {
    "colab": {},
    "colab_type": "code",
    "id": "g60jclr5d9wF"
   },
   "outputs": [],
   "source": [
    "%matplotlib inline\n",
    "\n",
    "import numpy as np\n",
    "import matplotlib.pyplot as plt\n",
    "import blueqat.wq as wq\n",
    "from blueqat import vqe"
   ]
  },
  {
   "cell_type": "markdown",
   "metadata": {
    "colab_type": "text",
    "id": "RmBsdCOWd9wI"
   },
   "source": [
    "## QUBOの作成"
   ]
  },
  {
   "cell_type": "markdown",
   "metadata": {
    "colab_type": "text",
    "id": "QwGfu3RYd9wJ"
   },
   "source": [
    "解きたい問題のQUBOマトリクスを作成します。\n",
    "\n",
    "最初に自然数の集合を $U = \\{1, \\ldots, n\\}$、グループを$V_{i} \\subseteq U(i=1, \\ldots, N)$とします。また、i番目のグループをピックアップしたかどうかを$x_{i} \\in \\{1, 0\\}$で表します。ピックアップされた場合は1、されなかった場合は0です。ここで、各自然数（αとします）についてピックアップされた1つのグループのみに含まれている場合に最小となるようなコスト関数$E_{A}$を考えます。\n",
    "\n",
    "この場合、\n",
    "\n",
    "$E_{A} = A \\sum _ { \\alpha = 1 } ^ { n } \\left( 1 - \\sum _ { i : \\alpha \\in V _ { i } } x _ { i } \\right) ^ { 2 }$\n",
    "\n",
    "とすると、各自然数αに対して1つのグループのみがピックアップされた場合、$E_{A} = 0$となります。\n",
    "\n",
    "これをQUBO形式に変換していきます。まず括弧の中を展開します。\n",
    "\n",
    "$E_{A} = A \\sum _ { \\alpha = 1 } ^ { n } \\{ 1 - 2\\sum _ { i : \\alpha \\in V _ { i } } x _ { i } + ( \\sum _ { i : \\alpha \\in V _ { i } } x _ { i } ) ^ { 2 } \\} $\n",
    "\n",
    "今回$E_{A}$を最小化する問題なので、定数である{}内の第一項は無視できます。\n",
    "第二項は、$x_{i} \\in {1,0}$であることを利用して、次のように書き換えることができます。\n",
    "\n",
    "$ - 2\\sum _ { i : \\alpha \\in V _ { i } } x _ { i } = - 2\\sum _ { i = j, i : \\alpha \\in V _ { i }, j : \\alpha \\in V _ { j } } x _ { i } x _ {j}$\n",
    "\n",
    "第三項についても、i = jの場合と、$i \\neq j$の場合に分けると、次の様に書き換えられます。\n",
    "\n",
    "$ ( \\sum _ { i : \\alpha \\in V _ { i } } x _ { i } ) ^ { 2 } = \\sum _ { i = j, i : \\alpha \\in V _ { i }, j : \\alpha \\in V _ { j } } x _ { i } x _ {j} + 2 \\sum _ { i \\neq j, i : \\alpha \\in V _ { i }, j : \\alpha \\in V _ { j } } x _ { i } x _ {j} $\n",
    "\n",
    "まとめると、\n",
    "\n",
    "$E_{A} = A \\sum _ { \\alpha = 1 } ^ { n } ( - \\sum _ { i = j, i : \\alpha \\in V _ { i }, j : \\alpha \\in V _ { j } } x _ { i } x _ {j} + 2 \\sum _ { i \\neq j, i : \\alpha \\in V _ { i }, j : \\alpha \\in V _ { j } } x _ { i } x _ {j} )$\n",
    "\n",
    "となり、QUBO形式にすることができました。"
   ]
  },
  {
   "cell_type": "code",
   "execution_count": 3,
   "metadata": {
    "colab": {},
    "colab_type": "code",
    "id": "tVCr8wSId9wK"
   },
   "outputs": [],
   "source": [
    "U = [1,2,3,4,5,6,7,8,9,10]\n",
    "A = 1\n",
    "\n",
    "def get_qubo(V):\n",
    "    Q = np.zeros( (len(V), len(V)) )\n",
    "\n",
    "    for i in range(len(V)):\n",
    "        for j in range(len(V)):\n",
    "            for k in range(len(U)):\n",
    "                alpha = U[k]\n",
    "                in_Vi = V[i].count(alpha) > 0 #V[i]に存在しているか\n",
    "                in_Vj = V[j].count(alpha) > 0 #V[j]に存在しているか\n",
    "                if i == j and in_Vi:\n",
    "                    Q[i][j] += -1\n",
    "                elif i < j and in_Vi and in_Vj:\n",
    "                    Q[i][j] += 2\n",
    "\n",
    "    return Q * A"
   ]
  },
  {
   "cell_type": "markdown",
   "metadata": {
    "colab_type": "text",
    "id": "7d6ypaSZd9wN"
   },
   "source": [
    "また、結果を表示する関数を定義しておきます。"
   ]
  },
  {
   "cell_type": "code",
   "execution_count": 4,
   "metadata": {
    "colab": {},
    "colab_type": "code",
    "id": "T4lH4-nzd9wO"
   },
   "outputs": [],
   "source": [
    "def display_answer(list_x, energies = None, show_graph = False):\n",
    "    print(\"Result x:\", list_x)\n",
    "    text = \"\"\n",
    "    for i in range(len(list_x)):\n",
    "        if(list_x[i]):\n",
    "            text += str(V[i])\n",
    "    print(\"Picked {} group(s): {}\".format(sum(list_x), text))\n",
    "    if energies is not None:\n",
    "        print(\"Energy:\", a.E[-1])\n",
    "    if show_graph:\n",
    "        plt.plot(a.E)\n",
    "        plt.show()"
   ]
  },
  {
   "cell_type": "markdown",
   "metadata": {
    "colab_type": "text",
    "id": "CGRYzGuzd9wR"
   },
   "source": [
    "次の通り実行してみると、正しい答えが得られていることが分かります。"
   ]
  },
  {
   "cell_type": "code",
   "execution_count": 6,
   "metadata": {},
   "outputs": [
    {
     "name": "stdout",
     "output_type": "stream",
     "text": [
      "(((1, 1, 1, 0, 0), 0.3783998933018464), ((0, 0, 1, 1, 0), 0.19080753539598078), ((1, 0, 1, 1, 0), 0.10904143237775482), ((1, 1, 1, 0, 1), 0.0890989364939838), ((0, 0, 1, 1, 1), 0.0449279949063271), ((0, 1, 1, 1, 0), 0.030382807525070173), ((1, 1, 0, 0, 1), 0.028032010700668703), ((1, 0, 1, 1, 1), 0.025675154329096672), ((0, 0, 1, 0, 0), 0.022072489455340405), ((1, 0, 1, 0, 0), 0.014930464403380785), ((0, 0, 0, 1, 1), 0.014135096147402253), ((1, 1, 1, 1, 0), 0.0095426809095386))\n",
      "Result x: (1, 1, 1, 0, 0)\n",
      "Picked 3 group(s): [1, 2][3, 4, 5, 6][7, 8, 9, 10]\n"
     ]
    }
   ],
   "source": [
    "V = [ [1,2], [3,4,5,6], [7,8,9,10], [1,3,5], [10] ]\n",
    "qubo = get_qubo(V)\n",
    "result = vqe.Vqe(vqe.QaoaAnsatz(wq.pauli(qubo), step=4)).run()\n",
    "answer = result.most_common(12)\n",
    "print(answer)\n",
    "display_answer(answer[0][0])"
   ]
  },
  {
   "cell_type": "markdown",
   "metadata": {
    "colab_type": "text",
    "id": "d8cWoCO4d9wW"
   },
   "source": [
    "## Vをもう少し複雑にしてみる"
   ]
  },
  {
   "cell_type": "markdown",
   "metadata": {
    "colab_type": "text",
    "id": "kRQLaYuNd9wW"
   },
   "source": [
    "Vをもう少し複雑にして（2つグループを追加して）、実行してみます。"
   ]
  },
  {
   "cell_type": "code",
   "execution_count": 18,
   "metadata": {},
   "outputs": [
    {
     "name": "stdout",
     "output_type": "stream",
     "text": [
      "(((1, 1, 1, 0, 0, 0, 0), 0.0700844494957699), ((0, 0, 0, 1, 1, 1, 1), 0.0700844494957699), ((1, 1, 0, 0, 1, 1, 0), 0.0695151945834572), ((0, 0, 1, 1, 0, 0, 1), 0.0695151945834572), ((1, 1, 0, 0, 0, 0, 0), 0.03942041130713249), ((0, 0, 1, 1, 1, 1, 1), 0.03942041130713249), ((1, 0, 0, 0, 1, 1, 0), 0.031317165076161634), ((0, 1, 1, 1, 0, 0, 1), 0.031317165076161634), ((1, 1, 1, 0, 1, 0, 0), 0.02802224137437182), ((0, 0, 0, 1, 0, 1, 1), 0.02802224137437182), ((1, 0, 1, 0, 0, 0, 0), 0.02728514456746815), ((0, 1, 0, 1, 1, 1, 1), 0.02728514456746815))\n",
      "Result x: (1, 1, 1, 0, 0, 0, 0)\n",
      "Picked 3 group(s): [1, 2][3, 4, 5, 6][7, 8, 9, 10]\n"
     ]
    }
   ],
   "source": [
    "V = [ [1,2], [3,4,5,6], [7,8,9,10], [1,3,5], [10], [7,9], [2,4,6,8] ]\n",
    "qubo = get_qubo(V)\n",
    "result = vqe.Vqe(vqe.QaoaAnsatz(wq.pauli(qubo), step=2)).run()\n",
    "answer = result.most_common(12)\n",
    "print(answer)\n",
    "display_answer(answer[0][0])"
   ]
  },
  {
   "cell_type": "markdown",
   "metadata": {
    "colab_type": "text",
    "id": "kmbAIcEcd9wa"
   },
   "source": [
    "正しい答えが得られていることが分かります。"
   ]
  },
  {
   "cell_type": "markdown",
   "metadata": {
    "colab_type": "text",
    "id": "91-5bOqsd9wn"
   },
   "source": [
    "### 意地悪ケース\n",
    "最後に意地悪なケースを試します。\n",
    "{1,2}{3}{4}{5}{6}{7}{8}{9}{10}が選ばれるのが正解です。\n",
    "\n",
    "結果を見ると、概ね正しい答えが選ばれるようですが、まれに少しエネルギーの高い不正解の方が選ばれてしまいます。"
   ]
  },
  {
   "cell_type": "code",
   "execution_count": 33,
   "metadata": {
    "colab": {
     "base_uri": "https://localhost:8080/",
     "height": 357
    },
    "colab_type": "code",
    "id": "YmmtuVQXd9wo",
    "outputId": "e86bc280-c5f9-42fc-c8c3-acf9b3240d70"
   },
   "outputs": [
    {
     "name": "stdout",
     "output_type": "stream",
     "text": [
      "---1回目\n",
      "Result x: (1, 1, 1, 1, 1, 1, 1, 1, 1, 0)\n",
      "Picked 9 group(s): [1, 2][3][4][5][6][7][8][9][10]\n",
      "---2回目\n",
      "Result x: (1, 1, 1, 1, 1, 1, 1, 1, 1, 0)\n",
      "Picked 9 group(s): [1, 2][3][4][5][6][7][8][9][10]\n",
      "---3回目\n",
      "Result x: (1, 0, 0, 0, 0, 0, 0, 0, 0, 1)\n",
      "Picked 2 group(s): [1, 2][2, 3, 4, 5, 6, 7, 8, 9, 10]\n",
      "---4回目\n",
      "Result x: (1, 1, 1, 1, 1, 1, 1, 1, 1, 0)\n",
      "Picked 9 group(s): [1, 2][3][4][5][6][7][8][9][10]\n",
      "---5回目\n",
      "Result x: (1, 0, 0, 0, 0, 0, 0, 0, 0, 1)\n",
      "Picked 2 group(s): [1, 2][2, 3, 4, 5, 6, 7, 8, 9, 10]\n"
     ]
    }
   ],
   "source": [
    "V = [ [1,2], [3], [4], [5], [6], [7], [8], [9], [10], [2,3,4,5,6,7,8,9,10]]\n",
    "for i in range(5):\n",
    "    print(\"---{}回目\".format(i+1))\n",
    "    qubo = get_qubo(V)\n",
    "    result = vqe.Vqe(vqe.QaoaAnsatz(wq.pauli(qubo), step=6)).run()\n",
    "    answer = result.most_common(12)\n",
    "    display_answer(answer[0][0])"
   ]
  }
 ],
 "metadata": {
  "colab": {
   "name": "031_exact_cover",
   "provenance": []
  },
  "kernelspec": {
   "display_name": "Python 3",
   "language": "python",
   "name": "python3"
  },
  "language_info": {
   "codemirror_mode": {
    "name": "ipython",
    "version": 3
   },
   "file_extension": ".py",
   "mimetype": "text/x-python",
   "name": "python",
   "nbconvert_exporter": "python",
   "pygments_lexer": "ipython3",
   "version": "3.9.5"
  }
 },
 "nbformat": 4,
 "nbformat_minor": 4
}
