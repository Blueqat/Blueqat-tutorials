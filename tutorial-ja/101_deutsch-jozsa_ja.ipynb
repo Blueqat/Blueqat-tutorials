{
 "cells": [
  {
   "cell_type": "markdown",
   "metadata": {},
   "source": [
    "# Deutsch-Jozsa algorithm(ドイチ・ジョザ アルゴリズム)（概要）\n",
    "\n",
    "Deutsch algorithm の一般化である Deutsch-Jozsa algorithm を説明します。  \n",
    "Deutsch-Jozsa algorithm は 00...000 から 11...111の $2^n$ 通りの入力をとりうる $f$ について、以下の条件のどちらかが成り立つものとします。\n",
    "\n",
    "1. 全ての入力で $f(x)$ が同じ。\n",
    "すなわち、全ての $x$ で $f(x)=0$ または 全ての $x$ で $f(x)=1$\n",
    "\n",
    "2. 入力の半分で $f(x)$ が異なる。\n",
    "すなわち、$2^{n-1}$ 個の $x$ で $f(x)=0$ 、残りの $x$ で $f(x)=1$\n",
    "\n",
    "このアルゴリズムでは Oracle が上の1. か 2. かを判別します。\n",
    "\n",
    "具体的な回路を考えます。\n",
    "\n",
    "<img src=\"./img/101_img.png\" width=\"60%\">"
   ]
  },
  {
   "cell_type": "markdown",
   "metadata": {},
   "source": [
    "$\\lvert 0\\rangle$ は $n$ 個並んでいるものとします。\n",
    "\n",
    "ではそれぞれの状態を確認します。\n",
    "\n",
    "$$\n",
    "\\begin{align}\n",
    "\\lvert \\psi_1\\rangle &= \\biggl(\\otimes^n H\\lvert 0\\rangle \\biggr)\\otimes H \\lvert 1\\rangle \\\\\n",
    "&= \\frac{1}{ \\sqrt{2^{n+1}} } \\sum^{2^n}_{x\\in \\{ 0, 1 \\}^n} \\bigl( \\lvert x\\rangle \\otimes (\\lvert 0\\rangle - \\lvert 1\\rangle) \\bigr) \\\\\n",
    "&= \\frac{1}{ \\sqrt{2^{n+1}} } \\sum^{2^n}_{x\\in \\{ 0, 1 \\}^n} \\lvert x\\rangle \\otimes \\lvert 0\\rangle - \\frac{1}{ \\sqrt{2^{n+1}} } \\sum^{2^n}_{x\\in \\{ 0, 1 \\}^n} \\lvert x\\rangle \\otimes \\lvert 1\\rangle \\\\\n",
    "\\end{align}\n",
    "$$\n",
    "\n",
    "$n$ 番目のビットについて、$\\lvert 0\\rangle$ と $\\lvert 1\\rangle$ を入れ替えると全体の符号が変わることがわかります。"
   ]
  },
  {
   "cell_type": "markdown",
   "metadata": {},
   "source": [
    "次に $\\psi_2$ を考えてみます。\n",
    "$f(x)$ は $n$ 番目のビットにかかるので\n",
    "\n",
    "$$\n",
    "f(x) = 0 \\to n番目のビットは入れ替わらない\n",
    "$$\n",
    "$$\n",
    "f(x) = 1 \\to n番目のビットが入れ替わる\n",
    "$$\n",
    "\n",
    "となリます。"
   ]
  },
  {
   "cell_type": "markdown",
   "metadata": {},
   "source": [
    "各項について $f(x) = 0, 1$ でシグマを分けると\n",
    "\n",
    "$$\n",
    "\\frac{1}{ \\sqrt{2^{n+1}} } \\sum^{2^n}_{x\\in \\{ 0, 1 \\}^n} \\lvert x\\rangle \\otimes \\lvert 0\\rangle \\xrightarrow{U_f} \\frac{1}{ \\sqrt{2^{n+1}} } \\sum_{f(x)=0} \\lvert x\\rangle \\otimes \\lvert 0\\rangle + \\frac{1}{ \\sqrt{2^{n+1}} } \\sum_{f(x)=1} \\lvert x\\rangle \\otimes \\lvert 1\\rangle\n",
    "$$\n",
    "\n",
    "$$\n",
    "\\frac{1}{ \\sqrt{2^{n+1}} } \\sum^{2^n}_{x\\in \\{ 0, 1 \\}^n} \\lvert x\\rangle \\otimes \\lvert 1\\rangle \\xrightarrow{U_f} \\frac{1}{ \\sqrt{2^{n+1}} } \\sum_{f(x)=0} \\lvert x\\rangle \\otimes \\lvert 1\\rangle + \\frac{1}{ \\sqrt{2^{n+1}} } \\sum_{f(x)=1} \\lvert x\\rangle \\otimes \\lvert 0\\rangle\n",
    "$$\n",
    "\n",
    "$f(x)=1$ のときビットが変わっていることがわかります。"
   ]
  },
  {
   "cell_type": "markdown",
   "metadata": {},
   "source": [
    "まとめると、\n",
    "\n",
    "$$\n",
    "\\lvert \\psi_2\\rangle = \\frac{1}{\\sqrt{2^n}} \\biggl( \\sum_{f(x)=0}\\lvert x\\rangle - \\sum_{f(x)=1}\\lvert x\\rangle \\biggr) \\otimes \\frac{1}{\\sqrt{2}} (\\lvert 0\\rangle - \\lvert 1\\rangle)\n",
    "$$"
   ]
  },
  {
   "cell_type": "markdown",
   "metadata": {},
   "source": [
    "\"1.全ての入力で $f(x)$ が同じ\" のときは $f(x)=0,1$ のどちらかのシグマが消えるので\n",
    "\n",
    "$$\n",
    "\\begin{align}\n",
    "\\lvert \\psi_2 \\rangle &= \\pm \\frac{1}{ \\sqrt{2^{n}} } \\sum^{2^n}_{x\\in \\{ 0, 1 \\}^n} \\lvert x\\rangle \\otimes \\frac{1}{\\sqrt{2}} (\\lvert 0\\rangle - \\lvert 1\\rangle) \\\\\n",
    "&= \\pm \\biggl( \\otimes^{n} H \\lvert 0\\rangle \\biggr) \\otimes H \\lvert 1\\rangle\n",
    "\\end{align}\n",
    "$$\n",
    "\n",
    "よって、$\\lvert \\psi_3 \\rangle$は以下のようになります。\n",
    "\n",
    "$$\n",
    "\\lvert \\psi_3 \\rangle = \\pm \\lvert 00...00 \\rangle \\otimes H\\lvert 1 \\rangle\n",
    "$$\n",
    "\n",
    "この時、上から$n$量子ビットまでを測定した結果は全て\"0\"となります。"
   ]
  },
  {
   "cell_type": "markdown",
   "metadata": {},
   "source": [
    "\"2.入力の半分で $f(x)$ が異なる\" の場合を考えます。$f(x)$によって符号が異なるので\n",
    "\n",
    "$$\n",
    "\\lvert \\psi_2 \\rangle = \\frac{1}{ \\sqrt{2^{n}} } \\sum^{2^n}_{x\\in \\{ 0, 1 \\}^n} (-1)^{f(x)} \\lvert x\\rangle \\otimes \\frac{1}{\\sqrt{2}} (\\lvert 0\\rangle - \\lvert 1\\rangle)\n",
    "$$\n",
    "\n",
    "$$\n",
    "\\begin{align}\n",
    "\\lvert \\psi_3 \\rangle &= \\frac{1}{ \\sqrt{2^{n}} } \\sum^{2^n}_{x\\in \\{ 0, 1 \\}^n} (-1)^{f(x)} (\\otimes^nH) \\lvert x\\rangle \\otimes \\frac{1}{\\sqrt{2}} (\\lvert 0\\rangle - \\lvert 1\\rangle) \\\\\n",
    "&= \\frac{1}{ 2^{n} } \\sum^{2^n}_{x\\in \\{ 0, 1 \\}^n} (-1)^{f(x)} \\bigl( \\sum^{2^n-1}_{y=0}(-1)^{x\\cdot y}\\lvert y \\rangle \\bigr) \\otimes \\frac{1}{\\sqrt{2}} (\\lvert 0\\rangle - \\lvert 1\\rangle)\n",
    "\\end{align}\n",
    "$$"
   ]
  },
  {
   "cell_type": "markdown",
   "metadata": {},
   "source": [
    "ここで、上から$n$量子ビットまでを測定した結果が全て\"0\"となる確率$\\rm{Pr}(0)$を考えます。  \n",
    "これは状態 $\\lvert y \\rangle\\ (y=0)$ の振幅の絶対値の2乗です。  \n",
    "\n",
    "$y=0$ の時 $x\\cdot y=0$のため、\n",
    "\n",
    "$$\n",
    "\\mathrm{Pr}(0) = \\biggl| \\frac{1}{2^n} \\sum^{2^n}_{x\\in \\{ 0, 1 \\}^n} (-1)^{f(x)} \\biggr|^2\n",
    "$$\n",
    "\n",
    "入力の半分で $f(x)$ が異なる場合、全ての項が打ち消し合うため $\\mathrm{Pr}(0) =0$ となります。  \n",
    "よって、上から$n$量子ビットまでを測定した結果は決して、全て\"0\"とはなりません。"
   ]
  },
  {
   "cell_type": "markdown",
   "metadata": {},
   "source": [
    "以上から、$n-1$番目までのビットを測定した結果が全て $0$ かそれ以外かで Oracleを判別できます。"
   ]
  },
  {
   "cell_type": "markdown",
   "metadata": {},
   "source": [
    "これをblueqatで実装してみましょう。"
   ]
  },
  {
   "cell_type": "code",
   "execution_count": 2,
   "metadata": {},
   "outputs": [],
   "source": [
    "from blueqat import Circuit\n",
    "import numpy as np"
   ]
  },
  {
   "cell_type": "markdown",
   "metadata": {},
   "source": [
    "1\\. と 2\\. の場合のオラクルをそれぞれ実装します。\n",
    "\n",
    "1\\. の場合は$n-1$番目までのビットに関係なく、$n$番目のビットを反転するものとします。\n",
    "\n",
    "2\\. の場合は$n-1$番目までのビット1つ1つを制御ビットとし、ターゲットビットは全て$n$番目のビットであるような $CX$ゲート $n$個を用意します。  \n",
    "この時$n-1$番目までのビットがとりうる値の半分について$n$番目のビットが反転し、もう半分については元のままです。"
   ]
  },
  {
   "cell_type": "code",
   "execution_count": 28,
   "metadata": {},
   "outputs": [],
   "source": [
    "def oracle_1(c):\n",
    "    n = c.n_qubits\n",
    "    c.x[n-1]\n",
    "    \n",
    "def oracle_2(c):\n",
    "    n = c.n_qubits\n",
    "    for i in range(n-1):\n",
    "        c.cx[i, n-1]"
   ]
  },
  {
   "cell_type": "markdown",
   "metadata": {},
   "source": [
    "以下がアルゴリズム本体です。  \n",
    "まず、オラクルが 1\\. と2\\. のどちらであるかを乱数で決めます。これが求めたい正解となります。  \n",
    "次に、Deutsch-Jozsa algorithmでオラクルを判別します。  \n",
    "最後に判別の結果と、事前に乱数で選択したオラクルが一致しているかを確認します。"
   ]
  },
  {
   "cell_type": "code",
   "execution_count": 75,
   "metadata": {},
   "outputs": [
    {
     "name": "stdout",
     "output_type": "stream",
     "text": [
      "Oracle: f(x) = 1 for all x.\n",
      "Results of quantum circuit: Counter({'00001': 1000})\n",
      "OK\n"
     ]
    }
   ],
   "source": [
    "n = 4\n",
    "\n",
    "c = Circuit(n + 1)\n",
    "c.x[n].h[:]\n",
    "\n",
    "if np.random.rand() > 0.5:\n",
    "    oracle_1(c)\n",
    "    oracle = \"f(x) = 1 for all x.\"\n",
    "else:\n",
    "    oracle_2(c)\n",
    "    oracle = \"f(x) = 0 for half x and f(x) = 1 for others.\"\n",
    "\n",
    "c.h[:]\n",
    "res = c.m[:].run(shots = 1000)\n",
    "\n",
    "print(\"Oracle:\", oracle)\n",
    "print(\"Results of quantum circuit:\", res)\n",
    "\n",
    "if [arr[:n] for arr in res.keys()] == ['0'*n] and oracle == \"f(x) = 1 for all x.\":\n",
    "    print(\"OK\")\n",
    "elif [arr[:n] for arr in res.keys()] != ['0'*n] and oracle == \"f(x) = 0 for half x and f(x) = 1 for others.\":\n",
    "    print(\"OK\")\n",
    "else:\n",
    "    print(\"incorrect\")"
   ]
  },
  {
   "cell_type": "markdown",
   "metadata": {},
   "source": [
    "以上より、Deutsch-Jozsa algorithmでオラクルを判別できました。"
   ]
  },
  {
   "cell_type": "code",
   "execution_count": null,
   "metadata": {},
   "outputs": [],
   "source": []
  }
 ],
 "metadata": {
  "file_extension": ".py",
  "kernelspec": {
   "display_name": "Python 3",
   "language": "python",
   "name": "python3"
  },
  "language_info": {
   "codemirror_mode": {
    "name": "ipython",
    "version": 3
   },
   "file_extension": ".py",
   "mimetype": "text/x-python",
   "name": "python",
   "nbconvert_exporter": "python",
   "pygments_lexer": "ipython3",
   "version": "3.8.2"
  },
  "mimetype": "text/x-python",
  "name": "python",
  "npconvert_exporter": "python",
  "pygments_lexer": "ipython3",
  "version": 3
 },
 "nbformat": 4,
 "nbformat_minor": 2
}
