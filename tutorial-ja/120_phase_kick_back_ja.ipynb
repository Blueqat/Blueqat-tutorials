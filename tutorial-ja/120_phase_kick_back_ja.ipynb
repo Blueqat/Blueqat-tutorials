{
 "cells": [
  {
   "cell_type": "markdown",
   "id": "incident-attachment",
   "metadata": {},
   "source": [
    "# 位相キックバック\n",
    "\n",
    "ユニタリゲート $U$ と、その固有状態 $\\lvert\\psi\\rangle$ を考えます。  \n",
    "ユニタリゲートの性質より、固有値はある位相角 $\\theta$ を用いて、$e^{i\\theta}$ と表されます。\n",
    "\n",
    "$$\n",
    "U\\lvert\\psi\\rangle = e^{i \\theta} \\lvert\\psi\\rangle\n",
    "$$\n",
    "\n",
    "この $\\theta$ を求めるとしましょう。グローバル位相として現れているため、直接測定することは難しいです。  \n",
    "\n",
    "位相キックバックは、$\\lvert\\psi\\rangle$ とは別の量子ビットに $\\theta$ の情報を取り出して測定するテクニックです。  \n",
    "そのためにはユニタリゲート $U$ を制御ゲート化した $CU$ を用います。"
   ]
  },
  {
   "cell_type": "markdown",
   "id": "confirmed-helmet",
   "metadata": {},
   "source": [
    "簡単な例を考えてみましょう。\n",
    "\n",
    "まず、ユニタリゲートを次のように設定します。\n",
    "$$\n",
    "U(\\theta) = \\begin{pmatrix}\n",
    "1 & 0 \\\\\n",
    "0 & e^{i\\theta} \\\\\n",
    "\\end{pmatrix}\n",
    "$$\n",
    "\n",
    "このとき、$\\lvert 1 \\rangle$ が固有状態になります。固有値は $e^{i\\theta}$ です。\n",
    "\n",
    "$$\n",
    "U(\\theta)\\lvert 1 \\rangle = e^{i\\theta}\\lvert 1 \\rangle\n",
    "$$\n",
    "\n",
    "制御ユニタリゲートは次のようになります。\n",
    "$$\n",
    "CU(\\theta) = CR(\\theta) = \\begin{pmatrix}\n",
    "1 & 0 & 0 & 0 \\\\\n",
    "0 & 1 & 0 & 0 \\\\\n",
    "0 & 0 & 1 & 0 \\\\\n",
    "0 & 0 & 0 & e^{i\\theta} \\\\\n",
    "\\end{pmatrix}\n",
    "$$"
   ]
  },
  {
   "cell_type": "markdown",
   "id": "nutritional-payroll",
   "metadata": {},
   "source": [
    "位相キックバックでは次のような量子回路を用います。  \n",
    "\n",
    "<img src=\"./img/120_img.png\" width=\"40%\">"
   ]
  },
  {
   "cell_type": "markdown",
   "id": "charged-notion",
   "metadata": {},
   "source": [
    "まず、補助量子ビットに $H$ゲートを作用させて重ね合わせ状態を作ります。\n",
    "\n",
    "$$\n",
    "\\lvert\\psi_1\\rangle = \\frac{1}{\\sqrt{2}}(\\lvert0\\rangle + \\lvert1\\rangle) \\otimes \\lvert1\\rangle\n",
    "$$\n",
    "\n",
    "次に、補助量子ビットを制御量子ビットとして固有状態に $U(\\theta)$ を作用させます。  \n",
    "これにより、固有値が係数として取り出せます。\n",
    "\n",
    "$$\n",
    "\\begin{align}\n",
    "\\lvert\\psi_2\\rangle &= \\frac{1}{\\sqrt{2}}(\\lvert0\\rangle \\otimes \\lvert1\\rangle + \\lvert1\\rangle \\otimes U(\\theta)\\lvert1\\rangle) \\\\\n",
    "&= \\frac{1}{\\sqrt{2}}(\\lvert0\\rangle \\otimes \\lvert1\\rangle + \\lvert1\\rangle \\otimes e^{i\\theta}\\lvert1\\rangle) \\\\\n",
    "&= \\frac{1}{\\sqrt{2}}(\\lvert0\\rangle \\otimes \\lvert1\\rangle + e^{i\\theta}\\lvert1\\rangle \\otimes \\lvert1\\rangle) \\\\\n",
    "&= \\frac{1}{\\sqrt{2}}(\\lvert0\\rangle + e^{i\\theta} \\lvert1\\rangle) \\otimes \\lvert1\\rangle)\n",
    "\\end{align}\n",
    "$$\n",
    "\n",
    "以上のように、$\\theta$ を補助量子ビットの重ね合わせ状態の係数として取り出せました。  \n",
    "\n",
    "ここで補助量子ビットだけに注目します。  \n",
    "このまま補助量子ビットを測定しても $\\lvert0\\rangle$, $\\lvert1\\rangle$ が等確率なので、再度 $H$ゲートを作用させます。\n",
    "\n",
    "$$\n",
    "\\begin{align}\n",
    "H\\cdot \\frac{1}{\\sqrt{2}}(\\lvert0\\rangle + e^{i\\theta} \\lvert1\\rangle) &= \\frac{1}{\\sqrt{2}} \n",
    "\\begin{pmatrix} 1 & 1\n",
    "\\\\ 1 & -1 \\\\\n",
    "\\end{pmatrix}\n",
    "\\cdot\n",
    "\\frac{1}{\\sqrt{2}}\n",
    "\\begin{pmatrix} \n",
    "1 \\\\ e^{i\\theta} \\\\ \n",
    "\\end{pmatrix} \\\\\n",
    "&= \\frac{1}{2} \n",
    "\\begin{pmatrix} \n",
    "1 + e^{i\\theta} \\\\ 1 - e^{i\\theta} \\\\ \n",
    "\\end{pmatrix}\n",
    "\\end{align}\n",
    "$$\n",
    "\n",
    "$H$ ゲートを用いて相対位相の差を振幅の差へ変換することができました。  \n",
    "最後に補助量子ビットを繰り返し測定すると、$\\lvert0\\rangle$ を測定する確率 $\\rm{Pr}(\\lvert0\\rangle)$ は\n",
    "\n",
    "$$\n",
    "\\begin{align}\n",
    "\\mathrm{Pr}(\\lvert0\\rangle) &= \\biggl| \\frac{1+e^{i\\theta}}{2} \\biggr|^2 \\\\\n",
    "&= \\frac{1}{2}(1 + \\cos\\theta)\n",
    "\\end{align}\n",
    "$$\n",
    "\n",
    "以上より、固有値の実部を推定することができます。"
   ]
  },
  {
   "cell_type": "markdown",
   "id": "healthy-guitar",
   "metadata": {},
   "source": [
    "以上をblueqatで実装してみましょう。"
   ]
  },
  {
   "cell_type": "code",
   "execution_count": 3,
   "id": "speaking-directive",
   "metadata": {},
   "outputs": [],
   "source": [
    "from blueqat import Circuit\n",
    "import numpy as np"
   ]
  },
  {
   "cell_type": "markdown",
   "id": "israeli-notice",
   "metadata": {},
   "source": [
    "上記の量子回路を実装します。  \n",
    "$\\theta$ は乱数で決めておきます。"
   ]
  },
  {
   "cell_type": "code",
   "execution_count": 47,
   "id": "accessible-background",
   "metadata": {},
   "outputs": [],
   "source": [
    "theta = np.random.rand() * np.pi\n",
    "shots = 1024\n",
    "\n",
    "c = Circuit(2)\n",
    "\n",
    "c.x[1].h[0].cr(theta)[0, 1].h[0].m[0]\n",
    "res = c.run(shots = shots)"
   ]
  },
  {
   "cell_type": "markdown",
   "id": "academic-adaptation",
   "metadata": {},
   "source": [
    "実行結果から、補助量子ビットで$\\lvert 0 \\rangle$を測定した割合を求めます。  \n",
    "それより計算した推定値 $\\theta_{est}$ と、事前に乱数で決めた $\\theta$ を比較します。"
   ]
  },
  {
   "cell_type": "code",
   "execution_count": 48,
   "id": "composed-shaft",
   "metadata": {},
   "outputs": [],
   "source": [
    "p0 = res['00'] / shots\n",
    "theta_est = np.arccos(2 * p0 - 1)"
   ]
  },
  {
   "cell_type": "code",
   "execution_count": 56,
   "id": "strategic-mainland",
   "metadata": {},
   "outputs": [
    {
     "name": "stdout",
     "output_type": "stream",
     "text": [
      "θ推定値　 : 0.3718944104475685\n",
      "実際の値 : 0.36989050621867126\n"
     ]
    }
   ],
   "source": [
    "print(\"θ推定値　 :\", theta_est)\n",
    "print(\"実際の値 :\", theta)"
   ]
  },
  {
   "cell_type": "markdown",
   "id": "greek-mountain",
   "metadata": {},
   "source": [
    "以上より、位相キックバックで $\\theta$ を推定できました。  \n",
    "推定の精度は、ショット数に依存します。"
   ]
  },
  {
   "cell_type": "code",
   "execution_count": null,
   "id": "prepared-spectacular",
   "metadata": {},
   "outputs": [],
   "source": []
  }
 ],
 "metadata": {
  "kernelspec": {
   "display_name": "Python 3",
   "language": "python",
   "name": "python3"
  },
  "language_info": {
   "codemirror_mode": {
    "name": "ipython",
    "version": 3
   },
   "file_extension": ".py",
   "mimetype": "text/x-python",
   "name": "python",
   "nbconvert_exporter": "python",
   "pygments_lexer": "ipython3",
   "version": "3.8.2"
  }
 },
 "nbformat": 4,
 "nbformat_minor": 5
}
