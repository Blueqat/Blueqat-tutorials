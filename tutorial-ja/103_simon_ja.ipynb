{
 "cells": [
  {
   "cell_type": "markdown",
   "id": "quiet-average",
   "metadata": {},
   "source": [
    "# Simon algorithm(サイモン アルゴリズム)（概要）"
   ]
  },
  {
   "cell_type": "markdown",
   "id": "suitable-works",
   "metadata": {},
   "source": [
    "Simon algorithm を説明します。\n",
    "\n",
    "このアルゴリズムでは $n$ ビット入出力を持つ関数 $f_s(x)$ ($s$ は任意の $n$ ビット列)について、以下のどちらかが成り立つものとします。\n",
    "\n",
    "1. 異なる入力に対し、必ず異なる出力を返す(1対1対応)\n",
    "\n",
    "2. 入力 $x, x'$ について $x' = x\\oplus s$ ならば、$f_s(x) = f_s(x')$. すなわち、2つの入力に対し同じ出力を返す.\n",
    "\n",
    "\n",
    "このアルゴリズムでは Oracle が上の1. か 2. かを判別します。\n",
    "\n",
    "具体的な量子回路は次のとおりです。$U_f$ の中身は上記 2\\.、$s=1001$ の場合を示しています。  \n",
    "量子ビット数は $2 n$ です。\n",
    "\n",
    "<img src=\"./img/103_img.png\" width=\"50%\">"
   ]
  },
  {
   "cell_type": "markdown",
   "id": "judicial-democrat",
   "metadata": {},
   "source": [
    "それぞれの状態を確認します。\n",
    "\n",
    "$$\n",
    "\\begin{align}\n",
    "\\lvert \\psi_1\\rangle &= \\frac{1}{\\sqrt{2^n}} \\biggl(\\otimes^n H\\lvert 0\\rangle \\biggr) \\lvert 0\\rangle^{\\otimes n} \\\\\n",
    "&= \\frac{1}{\\sqrt{2^n}} \\sum_{x=0}^{2^n-1} \\lvert x\\rangle \\lvert 0\\rangle^{\\otimes n}\n",
    "\\end{align}\n",
    "$$"
   ]
  },
  {
   "cell_type": "markdown",
   "id": "electronic-variance",
   "metadata": {},
   "source": [
    "次に $\\lvert \\psi_2 \\rangle$ を考えます。\n",
    "\n",
    "ここでは$f_s(x)$について、次にようなオラクルゲート $U_f$ を用意します。\n",
    "\n",
    "$$\n",
    "U_f \\lvert x \\rangle \\lvert 0 \\rangle = \\lvert x \\rangle \\lvert f_s(x) \\rangle\n",
    "$$\n",
    "\n",
    "この $U_f$ を用いると、\n",
    "\n",
    "$$\n",
    "\\lvert \\psi_2 \\rangle = \\frac{1}{\\sqrt{2^n}} \\sum_{x=0}^{2^n-1} \\lvert x\\rangle \\lvert f_s(x)\\rangle\n",
    "$$\n",
    "\n",
    "よって $\\lvert \\psi_3 \\rangle$ は次のようになります。\n",
    "\n",
    "$$\n",
    "\\lvert \\psi_3 \\rangle = \\frac{1}{2^n} \\sum_{x=0}^{2^n-1}\\sum_{y=0}^{2^n-1} (-1)^{x\\cdot y} \\lvert y\\rangle \\lvert f_s(x)\\rangle\n",
    "$$"
   ]
  },
  {
   "cell_type": "markdown",
   "id": "after-support",
   "metadata": {},
   "source": [
    "ここで、$f_s(x)$ が次のような場合に $\\lvert y \\rangle$ の測定結果がどうなるか考えましょう。\n",
    "\n",
    "1\\. 異なる入力に対し、必ず異なる出力を返す(1対1対応)場合.\n",
    "\n",
    "全ての測定結果が均等な確率で得られます。"
   ]
  },
  {
   "cell_type": "markdown",
   "id": "analyzed-flush",
   "metadata": {},
   "source": [
    "2\\. 入力 $x, x'$ について $x' = x\\oplus s$ ならば、$f_s(x) = f_s(x')$. すなわち、2つの入力に対し同じ出力を返す場合.\n",
    "\n",
    "1つの状態 $\\lvert y \\rangle \\lvert f_s(x) \\rangle = \\lvert y \\rangle \\lvert f_s(x\\oplus s) \\rangle$ の振幅 $A(y, x)$ に注目します。\n",
    "\n",
    "$$\n",
    "A(y, x) = \\frac{1}{2^n} \\{(-1)^{x\\cdot y} + (-1)^{(x\\oplus s) \\cdot y}\\}\n",
    "$$\n",
    "\n",
    "式からわかるように、$y\\cdot s \\equiv 1 \\bmod2$ となる $y$ は打ち消し合いにより振幅 $0$ となります。  \n",
    "よって、$y\\cdot s \\equiv 0 \\bmod2$ となるような $y$ のみが測定されます。"
   ]
  },
  {
   "cell_type": "markdown",
   "id": "authentic-mention",
   "metadata": {},
   "source": [
    "1\\. と 2\\. のどちらの場合でも、複数回の測定によってこのような $y$ が $n$ 通り(ただし $00...0$ を除く)得られれば、それら全ての $y$ について $y\\cdot s' \\equiv 0 \\bmod2$ となるような $s'$ が決まります。\n",
    "\n",
    "1\\. の場合には $s'$ は完全にランダムです。  \n",
    "しかし 2\\. の場合は、$s' = 0\\oplus s'$ のため必ず $f_s(s') = f_s(0)$ となります。\n",
    "\n",
    "よって、1\\. から偶然 $f_s(s') = f_s(0)$ なる $s'$ が得られた場合(確率 $1 / 2^n$)を除き、$s'$ が 1\\. と 2\\. のどちらから得られたかオラクルゲートを用いて確認できます。  \n",
    "以上よりオラクルを判別できます。"
   ]
  },
  {
   "cell_type": "markdown",
   "id": "interracial-building",
   "metadata": {},
   "source": [
    "最後にオラクルゲート $U_f$ の実装を考えます。\n",
    "\n",
    "1\\. の場合は、入力 $x$ に対して出力が1対1対応しさえすれば良いです。  \n",
    "簡単に、$X$ ゲートをランダムに挿入する回路を考えましょう。\n",
    "\n",
    "2\\. の場合は、少し複雑です。  \n",
    "まず$CX$ゲートにより次のような状態を作ります。\n",
    "\n",
    "$$\n",
    "\\lvert \\psi_{1a} \\rangle = \\frac{1}{\\sqrt{2^n}} \\sum_{x=0}^{2^n-1} \\lvert x\\rangle \\lvert x\\rangle\n",
    "$$\n",
    "\n",
    "次に、$s_i=1$ である最も下位のインデックス $i'$ について、$x_{i'} = 0$の場合のみ補助レジスタと $s$ のXORをとります。  \n",
    "結果として、次のような$\\lvert \\psi_2 \\rangle$ を得ます。\n",
    "\n",
    "$$\n",
    "\\begin{align}\n",
    "\\lvert \\psi_{2} \\rangle &= \\frac{1}{\\sqrt{2^n}} \\biggl(\\sum_{\\{x_{i'}=0\\}} \\lvert x\\rangle \\lvert x \\oplus s\\rangle + \\sum_{\\{x_{i'}=1\\}} \\lvert x\\rangle \\lvert x\\rangle \\biggr) \\\\\n",
    "&= \\frac{1}{\\sqrt{2^n}} \\sum_{x=0}^{2^n-1} \\lvert x\\rangle \\lvert f_s(x)\\rangle\n",
    "\\end{align}\n",
    "$$\n",
    "\n",
    "この $f_s(x)$ は2\\. を満たすことが計算により確かめられます。"
   ]
  },
  {
   "cell_type": "markdown",
   "id": "gothic-village",
   "metadata": {},
   "source": [
    "これをblueqatで実装してみましょう。"
   ]
  },
  {
   "cell_type": "code",
   "execution_count": 178,
   "id": "premium-seller",
   "metadata": {},
   "outputs": [],
   "source": [
    "from blueqat import Circuit\n",
    "import numpy as np"
   ]
  },
  {
   "cell_type": "markdown",
   "id": "collectible-minneapolis",
   "metadata": {},
   "source": [
    "2種類のオラクルゲート $U_f$ を作用させる関数を用意します。"
   ]
  },
  {
   "cell_type": "code",
   "execution_count": 179,
   "id": "eligible-soldier",
   "metadata": {},
   "outputs": [],
   "source": [
    "def oracle_1(c, s):\n",
    "    _n = len(s)\n",
    "    for i in range(_n):\n",
    "        if np.random.rand() > 0.5:\n",
    "            c.x[i]\n",
    "    for i in range(_n):\n",
    "        c.cx[i, i + _n]\n",
    "        \n",
    "def oracle_2(c, s):\n",
    "    _n = len(s)\n",
    "    flag = 0\n",
    "    for i, si in enumerate(reversed(s)):\n",
    "        c.cx[i, i + _n]\n",
    "        if si == '1' and flag == 0:\n",
    "            c.x[i]\n",
    "            for j, sj in enumerate(s):\n",
    "                if sj == '1':\n",
    "                    c.cx[i, j + _n]\n",
    "            c.x[i]\n",
    "            flag = 1"
   ]
  },
  {
   "cell_type": "markdown",
   "id": "southeast-sixth",
   "metadata": {},
   "source": [
    "以下がアルゴリズム本体です。  \n",
    "最初に、オラクル(2種類のいずれか)と求めたい $s$ を乱数で決めます。  \n",
    "(以下では上図の量子回路を再現するように値を固定しています)"
   ]
  },
  {
   "cell_type": "code",
   "execution_count": 180,
   "id": "animated-front",
   "metadata": {},
   "outputs": [],
   "source": [
    "n = 4\n",
    "N = np.random.randint(1, 2**n-1)\n",
    "s = bin(N)[2:].zfill(n)\n",
    "which_oracle = np.random.rand()\n",
    "\n",
    "### 上量子回路図の結果を再現するため ###\n",
    "### この2行を消すとランダムに決まります ###\n",
    "s = \"1001\" \n",
    "which_oracle = 0\n",
    "######\n",
    "\n",
    "c = Circuit(n * 2)\n",
    "c.h[:n]\n",
    "\n",
    "if which_oracle > 0.5:\n",
    "    oracle_1(c, s)\n",
    "    oracle = \"oracle 1\"\n",
    "else:\n",
    "    oracle_2(c, s)\n",
    "    oracle = \"oracle 2\"\n",
    "    \n",
    "c.h[:n].m[:n]\n",
    "res = c.run(shots = 1000)"
   ]
  },
  {
   "cell_type": "code",
   "execution_count": 181,
   "id": "eastern-thermal",
   "metadata": {},
   "outputs": [
    {
     "data": {
      "text/plain": [
       "Counter({'10010000': 111,\n",
       "         '00100000': 120,\n",
       "         '10110000': 128,\n",
       "         '11110000': 123,\n",
       "         '01100000': 137,\n",
       "         '01000000': 133,\n",
       "         '00000000': 115,\n",
       "         '11010000': 133})"
      ]
     },
     "execution_count": 181,
     "metadata": {},
     "output_type": "execute_result"
    }
   ],
   "source": [
    "res"
   ]
  },
  {
   "cell_type": "markdown",
   "id": "celtic-example",
   "metadata": {},
   "source": [
    "サンプリング結果から、'00...0' 以外の結果を $n$ 個抜き出します。  "
   ]
  },
  {
   "cell_type": "code",
   "execution_count": 182,
   "id": "sustained-judgment",
   "metadata": {},
   "outputs": [
    {
     "name": "stdout",
     "output_type": "stream",
     "text": [
      "['1001', '0010', '1011', '1111']\n"
     ]
    }
   ],
   "source": [
    "res_list = list(res.keys())\n",
    "_res_list = []\n",
    "for i in res_list:\n",
    "    if i[:n] != '0'*4:\n",
    "        _res_list.append(i[:n])\n",
    "    if len(_res_list) == 4:\n",
    "        break\n",
    "            \n",
    "print(_res_list)"
   ]
  },
  {
   "cell_type": "markdown",
   "id": "uniform-queue",
   "metadata": {},
   "source": [
    "抜き出した結果から $s'$ を求めます。  \n",
    "(ここでは単純に条件に合う $s'$ を総当りで探していますが、線形代数的に効率よく求めることが可能です。)\n",
    "\n",
    "2\\. の場合のオラクルが選択されていれば、得られた $s'$ は $s$ と等しくなるはずです。"
   ]
  },
  {
   "cell_type": "code",
   "execution_count": 185,
   "id": "threaded-while",
   "metadata": {},
   "outputs": [],
   "source": [
    "for i in range(2**n):\n",
    "    l = bin(i)[2:].zfill(n)\n",
    "    flag = 1\n",
    "    for sampled in _res_list: \n",
    "        mod = np.sum(np.array(list(l), dtype = np.int) * np.array(list(sampled), dtype = np.int)) % 2\n",
    "        if mod:\n",
    "            flag = 0\n",
    "            break\n",
    "    if flag:\n",
    "        output_s = l"
   ]
  },
  {
   "cell_type": "code",
   "execution_count": 186,
   "id": "acquired-trout",
   "metadata": {
    "scrolled": true
   },
   "outputs": [
    {
     "name": "stdout",
     "output_type": "stream",
     "text": [
      "s' = 1001\n",
      "s = 1001\n"
     ]
    }
   ],
   "source": [
    "print(\"s' =\", output_s)\n",
    "print(\"s =\", s)"
   ]
  },
  {
   "cell_type": "code",
   "execution_count": null,
   "id": "public-spine",
   "metadata": {},
   "outputs": [],
   "source": []
  }
 ],
 "metadata": {
  "kernelspec": {
   "display_name": "Python 3",
   "language": "python",
   "name": "python3"
  },
  "language_info": {
   "codemirror_mode": {
    "name": "ipython",
    "version": 3
   },
   "file_extension": ".py",
   "mimetype": "text/x-python",
   "name": "python",
   "nbconvert_exporter": "python",
   "pygments_lexer": "ipython3",
   "version": "3.8.2"
  }
 },
 "nbformat": 4,
 "nbformat_minor": 5
}
