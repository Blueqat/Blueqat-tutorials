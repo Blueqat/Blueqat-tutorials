{
 "cells": [
  {
   "cell_type": "markdown",
   "metadata": {
    "colab_type": "text",
    "id": "jal7xDYFe3Nq"
   },
   "source": [
    "# QUBOで足し算を行う"
   ]
  },
  {
   "cell_type": "markdown",
   "metadata": {
    "colab_type": "text",
    "id": "-x7dmTzre7AN"
   },
   "source": [
    "今回解きたい問題は、  \n",
    "\n",
    "$$1+ 1 = x$$\n",
    "\n",
    "となるようなxを求めます。QUBOにおいて足し算は上記右辺から左辺を引いてその最小値を求めることに相当しますので、\n",
    "\n",
    "$$E = (x-2)^2$$\n",
    "\n",
    "というコスト関数ができます。こちらを展開すると、\n",
    "\n",
    "$$E = x^2 -4x + 4$$\n",
    "\n",
    "という式が得られます。これを計算します。一方、xは量子ビットを使って、\n",
    "\n",
    "$$x = q_0 + 2q_1$$\n",
    "\n",
    "という二進数表記ができますので、さらにこれを上記のコスト関数に代入すると、\n",
    "\n",
    "$$H = q_0^2 + 4*q_0*q_1 - 4*q_0 + 4*q_1^2 - 8*q_1 + 4$$\n",
    "\n",
    "と展開されます。ここで、QUBOはバイナリ値{0,1}を取りますので、二乗の項はすべて指数がとれます。\n",
    "\n",
    "$$q_0^2 = q_0  q_1^2 = q_1$$\n",
    "\n",
    "より、\n",
    "\n",
    "$$H = -3q_0 + 4q_0q_1 - 4q_1 +4$$\n",
    "\n",
    "となります。これのハミルトニアンの最小値を求めることにより足し算の答えを求めることができます。"
   ]
  },
  {
   "cell_type": "markdown",
   "metadata": {},
   "source": [
    "blueqatにはQUBO対応の機能があり、ハミルトニアンをqubo形式で入力できます。"
   ]
  },
  {
   "cell_type": "code",
   "execution_count": 14,
   "metadata": {
    "colab": {},
    "colab_type": "code",
    "id": "wImQpd7_eum_"
   },
   "outputs": [],
   "source": [
    "from blueqat import vqe\n",
    "from blueqat.pauli import qubo_bit as q"
   ]
  },
  {
   "cell_type": "markdown",
   "metadata": {
    "colab_type": "text",
    "id": "BRLbSqcZfCzz"
   },
   "source": [
    "こちらを使って定式化をして解いてみます。"
   ]
  },
  {
   "cell_type": "code",
   "execution_count": 16,
   "metadata": {
    "colab": {
     "base_uri": "https://localhost:8080/",
     "height": 34
    },
    "colab_type": "code",
    "id": "tYYg8-xeeylP",
    "outputId": "8e6c872c-7809-4d67-c7ed-635e3c220e8c"
   },
   "outputs": [
    {
     "name": "stdout",
     "output_type": "stream",
     "text": [
      "(0, 1)\n"
     ]
    }
   ],
   "source": [
    "qubo = -3*q(0)+4*q(0)*q(1)-4*q(1)\n",
    "\n",
    "result = vqe.Vqe(vqe.QaoaAnsatz(qubo, step=1)).run()\n",
    "print(result.most_common()[0][0])"
   ]
  },
  {
   "cell_type": "markdown",
   "metadata": {
    "colab_type": "text",
    "id": "HFw1v_jMfGeR"
   },
   "source": [
    "これはQUBOで$q_0=0,q_1=1$となりましたので、$1+1$の答えは、\n",
    "\n",
    "$$1 + 1 = 0 + 2*1 = 2$$\n",
    "\n",
    "となります。"
   ]
  }
 ],
 "metadata": {
  "colab": {
   "name": "026_one_plus_one.ipynb",
   "provenance": []
  },
  "kernelspec": {
   "display_name": "Python 3",
   "language": "python",
   "name": "python3"
  },
  "language_info": {
   "codemirror_mode": {
    "name": "ipython",
    "version": 3
   },
   "file_extension": ".py",
   "mimetype": "text/x-python",
   "name": "python",
   "nbconvert_exporter": "python",
   "pygments_lexer": "ipython3",
   "version": "3.9.5"
  }
 },
 "nbformat": 4,
 "nbformat_minor": 4
}
