{
 "cells": [
  {
   "cell_type": "markdown",
   "metadata": {},
   "source": [
    "# ランダムなエルミート行列の量子位相推定\n",
    "\n",
    "Authors: Takumi Kato (Blueqat inc.), Maho Nakata (Riken), Shinya Morino, Seiya Sugo (Quemix inc.), Yuichiro Minato (Blueqat inc.)\n",
    "\n",
    "[前回](113_pea_ja.ipynb)はZゲートやXゲートの行列の固有値を求めました。今回は、ランダムな2x2エルミート行列の量子位相推定をします。\n",
    "\n",
    "エルミート行列の固有値を求めることは量子力学において物理量を求めることに相当し、量子化学や量子シミュレーションなどの分野で広く応用が期待されます。"
   ]
  },
  {
   "cell_type": "markdown",
   "metadata": {},
   "source": [
    "## 固有値の和が0になるエルミート行列の量子位相推定\n",
    "\n",
    "エルミート行列の固有値を量子位相推定アルゴリズムで求める方法も、大まかな原理は前回と全く同じです。ですが、前回はZ行列やX行列の固有値を求めるために、Controlled-Uゲートとして、Controlled-ZゲートやControlled-Xゲートを用意しましたが、今回、エルミート行列はユニタリ行列になるとは限らないため、Controlled-Uゲートを直接用意することができません。\n",
    "\n",
    "結論だけを言うと、エルミート行列$\\hat H$の固有ベクトルを作るような量子回路を用意して、また、Controlled-UゲートとしてControlled-$e^{2\\pi i\\hat H}$ゲートを作ります。そうして量子位相推定を行うことで、固有値を求めることができます。\n",
    "\n",
    "以下の説明は少し難しいので、飛ばしてコードを読んでも構いません。また、ここに書かれていることを理解するには[行列指数関数](https://ja.wikipedia.org/wiki/%E8%A1%8C%E5%88%97%E6%8C%87%E6%95%B0%E9%96%A2%E6%95%B0)についての知識が必要です。\n",
    "\n",
    "固有値の和が0になるようなエルミート行列$\\hat H$を考えます。\n",
    "\n",
    "$\\hat H$が固有値と固有ベクトルの組$\\{(\\lambda_j, \\left|\\psi_j\\right\\rangle)\\}$を持つとき、任意の$i$について\n",
    "$$\\hat H\\left|\\psi_j\\right\\rangle = \\lambda_j \\left|\\psi_j\\right\\rangle$$\n",
    "の関係を満たします。$\\hat H$がエルミート行列の場合、$\\lambda_j$が必ず実数となることが知られています。\n",
    "\n",
    "前回は、$\\hat H = Z$または$\\hat H = X$のようにして、位相キックバックにはControlled-ZゲートやControlled-Xゲートを使いました。ですが、量子ゲートを並べて作れるのはユニタリ行列だけなので、一般のエルミート行列については、全く同じ方法は取ることができません。\n",
    "\n",
    "そこで、天下り式ですが、ユニタリ行列 $U = e^{2\\pi i\\hat H}$を使って量子位相推定することを考えてみます。\n",
    "\n",
    "### $U = e^{2\\pi i\\hat H}$はユニタリ行列になるか?\n",
    "\n",
    "$U U^\\dagger = I$を示したいので、$U^\\dagger$を考えます。\n",
    "$$\\begin{eqnarray}\n",
    "U^\\dagger &=& (e^{2\\pi i\\hat H})^\\dagger\\nonumber\\\\\n",
    "&=& (\\sum_n^\\infty \\frac{(2\\pi i\\hat H)^n}{n!})^\\dagger\\nonumber\\\\\n",
    "&=& \\sum_n^\\infty \\frac{((2\\pi i\\hat H)^n)^\\dagger}{n!}\\nonumber\\\\\n",
    "&=& \\sum_n^\\infty \\frac{(-2\\pi i\\hat H^\\dagger)^n)}{n!}\\nonumber\\\\\n",
    "&=& \\sum_n^\\infty \\frac{(-2\\pi i\\hat H)^n)}{n!}\\nonumber\\\\\n",
    "&=& e^{-2\\pi i\\hat H}\\nonumber\n",
    "\\end{eqnarray}$$\n",
    "なので、$U U^\\dagger = e^{2\\pi i\\hat H} e^{-2\\pi i\\hat H}$となります。ここで、$[2\\pi i\\hat H, -2\\pi i\\hat H] = 0$なので、$e^{2\\pi i\\hat H} e^{-2\\pi i\\hat H} = e^{2\\pi i\\hat H -2\\pi i\\hat H} = e^{0\\hat H} = I$とできます。すなわち$U U^\\dagger = I$なので$U$はユニタリ行列です。\n",
    "\n",
    "### $U$の固有値と固有ベクトルは何になるか。$\\hat H$のそれとの関係は?\n",
    "\n",
    "$U$の固有ベクトルが$\\hat H$の固有ベクトルと同じであることを示し、その固有値を求めます。\n",
    "\n",
    "ある$\\hat H$の固有値と固有ベクトルの組$\\lambda_j, \\left|\\psi_j\\right\\rangle$を考えます。このとき、\n",
    "$$\\begin{eqnarray}\n",
    "U \\left|\\psi_j\\right\\rangle &=& (\\sum_n^\\infty \\frac{(2\\pi i\\hat H)^n}{n!})\\left|\\psi_j\\right\\rangle\\nonumber\\\\\n",
    "&=& \\sum_n^\\infty \\frac{(2\\pi i)^n \\hat H^n \\left|\\psi_j\\right\\rangle}{n!}\\nonumber\\\\\n",
    "&=& \\sum_n^\\infty \\frac{(2\\pi i)^n \\lambda_j^n \\left|\\psi_j\\right\\rangle}{n!}\\nonumber\\\\\n",
    "&=& \\sum_n^\\infty \\frac{(2\\pi i)^n \\lambda_j^n}{n!}\\left|\\psi_j\\right\\rangle\\nonumber\\\\\n",
    "&=& \\sum_n^\\infty \\frac{(2\\pi i \\lambda_j)^n}{n!}\\left|\\psi_j\\right\\rangle\\nonumber\\\\\n",
    "&=& e^{2\\pi i \\lambda_j}\\left|\\psi_j\\right\\rangle\\nonumber\n",
    "\\end{eqnarray}$$\n",
    "なので、$\\left|\\psi_j\\right\\rangle$は$U$のひとつの固有ベクトルで、対応する固有値は$e^{2\\pi i \\lambda_j}$です。\n",
    "\n",
    "これにより、\n",
    "$$U\\left|\\psi_j\\right\\rangle = e^{2\\pi i\\lambda_j} \\left|\\psi_j\\right\\rangle$$\n",
    "を量子位相推定することで、$\\hat H$の固有値$\\lambda_j$を計算できることが分かりました。"
   ]
  },
  {
   "cell_type": "markdown",
   "metadata": {},
   "source": [
    "## 実装\n",
    "まず、必要なライブラリをインポートします。また、今回はnumbaバックエンドを使用します。"
   ]
  },
  {
   "cell_type": "code",
   "execution_count": 1,
   "metadata": {},
   "outputs": [],
   "source": [
    "import math\n",
    "import cmath\n",
    "import random\n",
    "import numpy as np\n",
    "\n",
    "from blueqat import *\n",
    "from blueqat.pauli import X, Y, Z, I\n",
    "\n",
    "BlueqatGlobalSetting.set_default_backend('numba')\n",
    "pi = math.pi\n",
    "\n",
    "# Blueqat バージョンチェック\n",
    "try:\n",
    "    Circuit().r(0.1)[0].run()\n",
    "except AttributeError:\n",
    "    raise ImportError('Blueqat version is old.')"
   ]
  },
  {
   "cell_type": "markdown",
   "metadata": {},
   "source": [
    "次に、ランダムなエルミート行列を作ります。\n",
    "\n",
    "位相推定により固有値を求めるには、ターゲットとなるエルミート行列$\\hat H$の他に\n",
    "- 固有ベクトル(またはその近似値)を与える量子回路\n",
    "- Controlled-$e^{i2\\pi \\hat H 2^n}$を与える量子回路\n",
    "\n",
    "が必要です。これらも得られるような形で、エルミート行列を作ります。\n",
    "\n",
    "\n",
    "エルミート行列は$\\hat H = P D P^\\dagger$\n",
    "(ここで、$P$はユニタリ行列、$D$は実対角行列)の形で書き表せます。\n",
    "\n",
    "このとき、$D$の対角成分が固有値になり、$P$の各列が固有ベクトルとなります。今は、固有値の合計が0になる2x2のエルミート行列を考えるので、$D$の成分は$\\pm E$となります(ただし、$\\hat H$の固有値のひとつを$E$とおいた)。\n",
    "\n",
    "そのため、$D$の成分となる$E$をランダムに生成し、また、$P$は、任意のユニタリ行列を与えるゲートであるUゲートのパラメータ$\\theta, \\phi, \\lambda$の3つ組をランダムに生成し、\n",
    "\n",
    "- エルミート行列$\\hat H$\n",
    "- 答え合わせのための固有値$E$\n",
    "- 固有ベクトルを与える量子回路を作るために必要なUゲートのパラメータ$\\theta, \\phi, \\lambda$\n",
    "\n",
    "を返すような関数を定義します。 U ゲートの $\\gamma$ は固有値には影響しませんので今回は使用しません。"
   ]
  },
  {
   "cell_type": "code",
   "execution_count": 23,
   "metadata": {},
   "outputs": [],
   "source": [
    "def is_hermitian(mat):\n",
    "    \"\"\"matがエルミート行列かどうかを判定する\"\"\"\n",
    "    # matの転置共役がmatと等しい場合、matはエルミート行列\n",
    "    return np.allclose(mat, mat.T.conjugate())\n",
    "\n",
    "def get_u_matrix(theta, phi, lam):\n",
    "    \"\"\"Uをユニタリ行列の形で得る\"\"\"\n",
    "    # Blueqatのto_unitary()で得られる行列を、numpy形式に変換して作ります。\n",
    "    u = Circuit().u(theta, phi, lam)[0].to_unitary()\n",
    "    return np.array(u.tolist()).astype(np.complex64)\n",
    "\n",
    "def random_hermitian():\n",
    "    \"\"\"ランダムにエルミート行列を作り、\n",
    "    エルミート行列, 固有値, パラメータ(3つ組)\n",
    "    を返す。\n",
    "    \"\"\"\n",
    "    # 固有値のひとつをランダムに決める\n",
    "    eigval = random.random()\n",
    "    # Uゲートのパラメータをランダムに決める\n",
    "    theta = random.random()\n",
    "    phi = random.random()\n",
    "    lam = random.random()\n",
    "    # これらから、エルミート行列を作る\n",
    "    u = get_u_matrix(theta, phi, lam)\n",
    "    hermitian = u @ np.diag([eigval, -eigval]) @ u.T.conjugate()\n",
    "    # エルミート行列であることを確認\n",
    "    assert is_hermitian(hermitian)\n",
    "    # エルミート行列, 固有値, パラメータを返す\n",
    "    return hermitian, eigval, (theta, phi, lam)"
   ]
  },
  {
   "cell_type": "markdown",
   "metadata": {},
   "source": [
    "エルミート行列を作ってみます。"
   ]
  },
  {
   "cell_type": "code",
   "execution_count": 52,
   "metadata": {},
   "outputs": [
    {
     "name": "stdout",
     "output_type": "stream",
     "text": [
      "[[ 0.2029128 +4.33680869e-19j  0.07328433-1.03103831e-02j]\n",
      " [ 0.07328433+1.03103831e-02j -0.20291281+0.00000000e+00j]]\n"
     ]
    }
   ],
   "source": [
    "H, E, (theta, phi, lam) = random_hermitian()\n",
    "print(H)"
   ]
  },
  {
   "cell_type": "markdown",
   "metadata": {},
   "source": [
    "固有ベクトルは、`theta, phi, lam`と U ゲートから作ることができます。"
   ]
  },
  {
   "cell_type": "code",
   "execution_count": 55,
   "metadata": {},
   "outputs": [
    {
     "name": "stdout",
     "output_type": "stream",
     "text": [
      "[0.98475034+0.j         0.17227681+0.02423765j]\n"
     ]
    }
   ],
   "source": [
    "vec = Circuit().u(theta, phi, lam)[0].run()\n",
    "print(vec)"
   ]
  },
  {
   "cell_type": "markdown",
   "metadata": {},
   "source": [
    "これが固有ベクトルであることを確かめるために、`H vec = E vec`が成り立つことを確かめます。"
   ]
  },
  {
   "cell_type": "code",
   "execution_count": 56,
   "metadata": {},
   "outputs": [
    {
     "data": {
      "text/plain": [
       "True"
      ]
     },
     "execution_count": 56,
     "metadata": {},
     "output_type": "execute_result"
    }
   ],
   "source": [
    "np.allclose(np.dot(H, vec), E * vec)"
   ]
  },
  {
   "cell_type": "markdown",
   "metadata": {},
   "source": [
    "準備ができたので、これから量子位相推定を実装していきます。具体的には、`theta, phi, lam`から量子回路を作って、量子位相推定により`E`を求めます。"
   ]
  },
  {
   "cell_type": "code",
   "execution_count": 57,
   "metadata": {},
   "outputs": [],
   "source": [
    "def iqft(c, q0, n_qubits):\n",
    "    \"\"\"回路のq0〜q0 + n_qubits - 1番目ビットに量子逆フーリエ変換の操作を付け加える\"\"\"\n",
    "    for i in reversed(range(n_qubits)):\n",
    "        angle = -0.5\n",
    "        for j in range(i + 1, n_qubits):\n",
    "            c.cr(angle * pi)[q0 + j, q0 + i]\n",
    "            angle *= 0.5\n",
    "        c.h[q0 + i]\n",
    "    return c\n",
    "\n",
    "\n",
    "def initial_circuit(theta, phi, lam):\n",
    "    \"\"\"初期回路(つまり、固有ベクトルを表す回路)を用意します\"\"\"\n",
    "    return Circuit().u(theta, phi, lam)[0]\n",
    "\n",
    "\n",
    "def apply_cu(c, ctrl, theta, phi, lam, eigval, n):\n",
    "    \"\"\"Controlled-U^(2^n)を量子回路cに付け加えて返します。\n",
    "    制御ビットをctrl, 標的ビットを0としています。\n",
    "    \n",
    "    ここで、この関数は固有値eigvalを引数にとっていることに気をつけて下さい。\n",
    "    今回は、固有値を使って(ズルをして)Controlled-U^(2^n)を作ります。\n",
    "    固有値を使わなくても、鈴木-トロッター展開などにより、近似的に作ることはできますが、\n",
    "    その場合、精度には十分注意が必要です。\n",
    "    このようなズルをせず、効率よく高精度に、こういった回路を作ることは、一般には困難です。\n",
    "    \"\"\"\n",
    "    return c.u(-theta, -lam, -phi)[0].crz(-2 * pi * eigval * (2**n))[ctrl, 0].u(theta, phi, lam)[0]\n",
    "\n",
    "def qpe_circuit(eigval, theta, phi, lam, precision):\n",
    "    \"\"\"固有値、Uのパラメータ、位相推定の精度(何桁求めるか)から、量子位相推定の回路を作成して返します。\"\"\"\n",
    "    c = initial_circuit(theta, phi, lam)\n",
    "    c.h[1:1 + precision]\n",
    "    for i in range(precision):\n",
    "        apply_cu(c, i + 1, theta, phi, lam, eigval, i)\n",
    "    iqft(c, 1, precision)\n",
    "    return c"
   ]
  },
  {
   "cell_type": "markdown",
   "metadata": {},
   "source": [
    "試しに、量子回路を見てみましょう。"
   ]
  },
  {
   "cell_type": "code",
   "execution_count": 58,
   "metadata": {},
   "outputs": [
    {
     "data": {
      "image/png": "[encoded data removed]",
      "text/plain": [
       "<Figure size 1591.6x806.68 with 1 Axes>"
      ]
     },
     "execution_count": 58,
     "metadata": {},
     "output_type": "execute_result"
    }
   ],
   "source": [
    "qpe_circuit(E, theta, phi, lam, 4).run_with_ibmq(returns='draw', output='mpl')"
   ]
  },
  {
   "cell_type": "markdown",
   "metadata": {},
   "source": [
    "続いて、測定結果から固有値を計算する関数を作ります。"
   ]
  },
  {
   "cell_type": "code",
   "execution_count": 59,
   "metadata": {},
   "outputs": [],
   "source": [
    "def run_qpe(c, shots=1000, max_candidates=5):\n",
    "    \"\"\"量子位相推定の回路を実行し、実行結果から固有値の候補を求めます。\n",
    "    shots: 量子回路をrunする際のショット数, max_candidates: 固有値の候補をいくつ返すか?\n",
    "    \"\"\"\n",
    "    cnt = c.m[1:].run(shots=shots)\n",
    "\n",
    "    # 測定結果を値に変換する\n",
    "    def to_value(k):\n",
    "        k = k[1:] # 測定結果のうち、最初のビットは無関係なので捨てる\n",
    "        val = 0 # 値\n",
    "        a = 1.0 \n",
    "        for ch in k:\n",
    "            if ch == '1':\n",
    "                val += a\n",
    "            a *= 0.5\n",
    "        if val > 1:\n",
    "            # 位相がπを越えたら、2π引いて、マイナスで考える\n",
    "            val = val - 2\n",
    "        return val\n",
    "\n",
    "    return [(to_value(k), v) for k, v in cnt.most_common(max_candidates)]"
   ]
  },
  {
   "cell_type": "markdown",
   "metadata": {},
   "source": [
    "いよいよ、量子位相推定を行い、結果を見ていきます。"
   ]
  },
  {
   "cell_type": "code",
   "execution_count": 60,
   "metadata": {},
   "outputs": [
    {
     "name": "stdout",
     "output_type": "stream",
     "text": [
      "Eigenvalue (expected): 0.2159872778327041\n",
      "3 bit precision:\n",
      "939  0.25              (deviation:  3.401e-02)\n",
      "26   0                 (deviation: -2.160e-01)\n",
      "16   0.5               (deviation:  2.840e-01)\n",
      "\n",
      "4 bit precision:\n",
      "792  0.25              (deviation:  3.401e-02)\n",
      "116  0.125             (deviation: -9.099e-02)\n",
      "29   0.375             (deviation:  1.590e-01)\n",
      "\n",
      "5 bit precision:\n",
      "471  0.1875            (deviation: -2.849e-02)\n",
      "329  0.25              (deviation:  3.401e-02)\n",
      "52   0.3125            (deviation:  9.651e-02)\n",
      "\n",
      "6 bit precision:\n",
      "974  0.21875           (deviation:  2.763e-03)\n",
      "11   0.1875            (deviation: -2.849e-02)\n",
      "10   0.25              (deviation:  3.401e-02)\n",
      "\n",
      "7 bit precision:\n",
      "892  0.21875           (deviation:  2.763e-03)\n",
      "40   0.203125          (deviation: -1.286e-02)\n",
      "24   0.234375          (deviation:  1.839e-02)\n",
      "\n",
      "8 bit precision:\n",
      "654  0.21875           (deviation:  2.763e-03)\n",
      "193  0.2109375         (deviation: -5.050e-03)\n",
      "44   0.2265625         (deviation:  1.058e-02)\n",
      "\n",
      "9 bit precision:\n",
      "765  0.21484375        (deviation: -1.144e-03)\n",
      "125  0.21875           (deviation:  2.763e-03)\n",
      "40   0.2109375         (deviation: -5.050e-03)\n",
      "\n",
      "10 bit precision:\n",
      "554  0.216796875       (deviation:  8.096e-04)\n",
      "285  0.21484375        (deviation: -1.144e-03)\n",
      "45   0.21875           (deviation:  2.763e-03)\n",
      "\n",
      "11 bit precision:\n",
      "905  0.2158203125      (deviation: -1.670e-04)\n",
      "49   0.216796875       (deviation:  8.096e-04)\n",
      "11   0.2177734375      (deviation:  1.786e-03)\n",
      "\n",
      "12 bit precision:\n",
      "683  0.2158203125      (deviation: -1.670e-04)\n",
      "183  0.21630859375     (deviation:  3.213e-04)\n",
      "33   0.21533203125     (deviation: -6.552e-04)\n",
      "\n",
      "13 bit precision:\n",
      "721  0.216064453125    (deviation:  7.718e-05)\n",
      "152  0.2158203125      (deviation: -1.670e-04)\n",
      "41   0.21630859375     (deviation:  3.213e-04)\n",
      "\n",
      "14 bit precision:\n",
      "616  0.2159423828125   (deviation: -4.490e-05)\n",
      "228  0.216064453125    (deviation:  7.718e-05)\n",
      "48   0.2158203125      (deviation: -1.670e-04)\n",
      "\n",
      "15 bit precision:\n",
      "798  0.21600341796875  (deviation:  1.614e-05)\n",
      "103  0.2159423828125   (deviation: -4.490e-05)\n",
      "34   0.216064453125    (deviation:  7.718e-05)\n",
      "\n"
     ]
    }
   ],
   "source": [
    "print('Eigenvalue (expected):', E) # これが答え。これ(に近い値が出てほしい)\n",
    "# 精度が小さいときと大きいときの違いを見るため、精度を振って動かしてみる。\n",
    "for precision in range(3, 16):\n",
    "    print(precision, 'bit precision:')\n",
    "    c = qpe_circuit(E, theta, phi, lam, precision)\n",
    "    result = run_qpe(c, 1000, 3)\n",
    "    for value, count in result:\n",
    "        # 1000 shotsのうち、その数が出た回数 得られた固有値 実際の固有値との差分 を表示します。\n",
    "        print(f'{count:<5}{value:<18}(deviation: {value - E: .3e})')\n",
    "    print('')"
   ]
  },
  {
   "cell_type": "markdown",
   "metadata": {},
   "source": [
    "比較的精度よく求まっていることが分かります。"
   ]
  },
  {
   "cell_type": "markdown",
   "metadata": {},
   "source": [
    "## 固有値の和が0にならないエルミート行列の量子位相推定\n",
    "一般には、エルミート行列の固有値は和が0になりません。その場合も基本的には、固有値の和が0の場合と変わらないのですが、Controlled-Uゲートの作り方が少し変わってきます。\n",
    "\n",
    "$U = e^{2\\pi i\\hat H}$ の部分に注目します。固有値の和は、行列のトレース(対角和)に相当しましたので、$U$のトレースを考えると、\n",
    "$$\\begin{eqnarray}\n",
    "\\mathrm{tr}(U) &=& \\mathrm{tr}\\left(\\sum_{n=0}^{\\infty}\\frac{(2\\pi i \\hat H)^n}{n!}\\right)\\nonumber\\\\\n",
    "&=&\\sum_{n=0}^{\\infty}\\mathrm{tr}\\left(\\frac{(2\\pi i \\hat H)^n}{n!}\\right)\\nonumber\\\\\n",
    "&=&\\sum_{n=0}^{\\infty}\\frac{(2\\pi i \\mathrm{tr}(\\hat H))^n}{n!}\\nonumber\\\\\n",
    "&=&e^{2\\pi i \\mathrm{tr}(\\hat H)}\\nonumber\\\\\n",
    "\\end{eqnarray}$$\n",
    "となります。このトレース部分は$U$のグローバル位相として現れます。$U$のグローバル位相を考慮に入れたControlled-Uゲートを作ることで、先ほどと同じように量子位相推定ができます。このようなControlled-Uゲートは、制御ビットにRZゲートを余分に入れることで作ることができます。"
   ]
  },
  {
   "cell_type": "code",
   "execution_count": 61,
   "metadata": {},
   "outputs": [],
   "source": [
    "def random_hermitian2():\n",
    "    \"\"\"ランダムにエルミート行列を作り、\n",
    "    エルミート行列, 固有値(2つ組), パラメータ(3つ組)\n",
    "    を返す。\n",
    "    \"\"\"\n",
    "    # 固有値をランダムに決める。先程は固有値の範囲を0〜1にしたが、今回は-1〜1にしてみる。\n",
    "    eigvals = [random.random() * 2 - 1, random.random() * 2 - 1]\n",
    "    # 固有値を小さい順に並べる(この処理は、望まないならコメントアウトしてもよい)\n",
    "    eigvals.sort()\n",
    "    # Uゲートのパラメータをランダムに決める\n",
    "    theta = random.random()\n",
    "    phi = random.random()\n",
    "    lam = random.random()\n",
    "    # これらから、エルミート行列を作る\n",
    "    u = get_u_matrix(theta, phi, lam)\n",
    "    hermitian = u @ np.diag(eigvals) @ u.T.conjugate()\n",
    "    # エルミート行列であることを確認\n",
    "    assert is_hermitian(hermitian)\n",
    "    # エルミート行列, 固有値, パラメータを返す\n",
    "    return hermitian, eigvals, (theta, phi, lam)"
   ]
  },
  {
   "cell_type": "code",
   "execution_count": 62,
   "metadata": {},
   "outputs": [
    {
     "name": "stdout",
     "output_type": "stream",
     "text": [
      "[[-0.51300386+0.j         -0.21889067+0.05400945j]\n",
      " [-0.21889067-0.05400945j  0.48505083+0.j        ]]\n"
     ]
    }
   ],
   "source": [
    "H, eigvals, (theta, phi, lam) = random_hermitian2()\n",
    "print(H)"
   ]
  },
  {
   "cell_type": "code",
   "execution_count": 65,
   "metadata": {},
   "outputs": [],
   "source": [
    "def apply_cu2(c, ctrl, theta, phi, lam, eigvals, n):\n",
    "    \"\"\"apply_cuを改造し、グローバル位相も考慮に入れられるようにした。\n",
    "    eigvals引数には、固有値の組を入れる。\n",
    "    \"\"\"\n",
    "    bias = sum(eigvals) / 2\n",
    "    angle = (eigvals[0] - eigvals[1]) / 2\n",
    "    return c.u(-theta, -lam, -phi)[0].crz(-2 * pi * angle * (2**n))[ctrl, 0].u(theta, phi, lam)[0].rz(pi * bias * (2**n))[ctrl]\n",
    "\n",
    "def qpe_circuit2(eigvals, theta, phi, lam, precision):\n",
    "    \"\"\"apply_cu2を使うよう、改造した。\"\"\"\n",
    "    c = initial_circuit(theta, phi, lam)\n",
    "    c.h[1:1 + precision]\n",
    "    for i in range(precision):\n",
    "        apply_cu2(c, i + 1, theta, phi, lam, eigvals, i)\n",
    "    iqft(c, 1, precision)\n",
    "    return c"
   ]
  },
  {
   "cell_type": "markdown",
   "metadata": {},
   "source": [
    "まず、1番目の固有値を求めます。"
   ]
  },
  {
   "cell_type": "code",
   "execution_count": 66,
   "metadata": {},
   "outputs": [
    {
     "name": "stdout",
     "output_type": "stream",
     "text": [
      "Eigenvalue (expected): -0.5615698109697824\n",
      "3 bit precision:\n",
      "830  -0.5              (deviation:  6.157e-02)\n",
      "84   -0.75             (deviation: -1.884e-01)\n",
      "33   -0.25             (deviation:  3.116e-01)\n",
      "\n",
      "4 bit precision:\n",
      "420  -0.625            (deviation: -6.343e-02)\n",
      "376  -0.5              (deviation:  6.157e-02)\n",
      "50   -0.75             (deviation: -1.884e-01)\n",
      "\n",
      "5 bit precision:\n",
      "1000 -0.5625           (deviation: -9.302e-04)\n",
      "\n",
      "6 bit precision:\n",
      "992  -0.5625           (deviation: -9.302e-04)\n",
      "3    -0.59375          (deviation: -3.218e-02)\n",
      "3    -0.53125          (deviation:  3.032e-02)\n",
      "\n",
      "7 bit precision:\n",
      "989  -0.5625           (deviation: -9.302e-04)\n",
      "4    -0.53125          (deviation:  3.032e-02)\n",
      "3    -0.59375          (deviation: -3.218e-02)\n",
      "\n",
      "8 bit precision:\n",
      "946  -0.5625           (deviation: -9.302e-04)\n",
      "20   -0.5546875        (deviation:  6.882e-03)\n",
      "9    -0.5703125        (deviation: -8.743e-03)\n",
      "\n",
      "9 bit precision:\n",
      "842  -0.5625           (deviation: -9.302e-04)\n",
      "70   -0.55859375       (deviation:  2.976e-03)\n",
      "38   -0.56640625       (deviation: -4.836e-03)\n",
      "\n",
      "10 bit precision:\n",
      "465  -0.5625           (deviation: -9.302e-04)\n",
      "355  -0.560546875      (deviation:  1.023e-03)\n",
      "48   -0.55859375       (deviation:  2.976e-03)\n",
      "\n",
      "11 bit precision:\n",
      "992  -0.5615234375     (deviation:  4.637e-05)\n",
      "3    -0.5625           (deviation: -9.302e-04)\n",
      "2    -0.5595703125     (deviation:  1.999e-03)\n",
      "\n",
      "12 bit precision:\n",
      "978  -0.5615234375     (deviation:  4.637e-05)\n",
      "8    -0.56201171875    (deviation: -4.419e-04)\n",
      "6    -0.56103515625    (deviation:  5.347e-04)\n",
      "\n",
      "13 bit precision:\n",
      "893  -0.5615234375     (deviation:  4.637e-05)\n",
      "50   -0.561767578125   (deviation: -1.978e-04)\n",
      "14   -0.56201171875    (deviation: -4.419e-04)\n",
      "\n",
      "14 bit precision:\n",
      "608  -0.5615234375     (deviation:  4.637e-05)\n",
      "234  -0.5616455078125  (deviation: -7.570e-05)\n",
      "41   -0.5614013671875  (deviation:  1.684e-04)\n",
      "\n",
      "15 bit precision:\n",
      "820  -0.56158447265625 (deviation: -1.466e-05)\n",
      "96   -0.5615234375     (deviation:  4.637e-05)\n",
      "29   -0.5616455078125  (deviation: -7.570e-05)\n",
      "\n"
     ]
    }
   ],
   "source": [
    "print('Eigenvalue (expected):', eigvals[0]) # これが答え。これ(に近い値が出てほしい)\n",
    "# 精度が小さいときと大きいときの違いを見るため、精度を振って動かしてみる。\n",
    "for precision in range(3, 16):\n",
    "    print(precision, 'bit precision:')\n",
    "    c = qpe_circuit2(eigvals, theta, phi, lam, precision)\n",
    "    result = run_qpe(c, 1000, 3)\n",
    "    for value, count in result:\n",
    "        # 1000 shotsのうち、その数が出た回数 得られた固有値 実際の固有値との差分 を表示します。\n",
    "        print(f'{count:<5}{value:<18}(deviation: {value - eigvals[0]: .3e})')\n",
    "    print('')"
   ]
  },
  {
   "cell_type": "markdown",
   "metadata": {},
   "source": [
    "Controlled-Uゲートを工夫することで、同じように求まりました。\n",
    "\n",
    "続いて、もうひとつの固有値を求められないか考えてみましょう。もうひとつの固有値は、もうひとつの固有ベクトルを用意して同じように量子位相推定を行うことで求まります。\n",
    "\n",
    "今回、エルミート行列を$\\hat H = P D P^\\dagger$で書けるようにして、$P$は、Uゲートを使って$\\mathrm{U}(\\theta, \\phi, \\lambda)$でできるユニタリ行列としました。つまり、$\\hat H$の固有ベクトルは、$\\mathrm{U}(\\theta, \\phi, \\lambda)$のユニタリ行列の1列目、2列目ということになります。これまでは、空の量子回路に$\\mathrm{U}(\\theta, \\phi, \\lambda)$ゲートを適用するとユニタリ行列の1列目の固有ベクトルになることを利用して、1つ目の固有ベクトルを用意して、量子位相推定を行いました。2列目の固有ベクトルは$\\mathrm{U}(\\theta, \\phi, \\lambda)$の前に$X$ゲートを付け加えることで得られます。\n",
    "\n",
    "それをやってみましょう。"
   ]
  },
  {
   "cell_type": "code",
   "execution_count": 69,
   "metadata": {},
   "outputs": [],
   "source": [
    "def initial_circuit2(theta, phi, lam):\n",
    "    \"\"\"2つ目の固有ベクトルを用意する初期回路を作ります。\"\"\"\n",
    "    return Circuit().x[0].u(theta, phi, lam)[0]\n",
    "\n",
    "def qpe_circuit3(eigvals, theta, phi, lam, precision):\n",
    "    \"\"\"apply_cu2とinitial_circuit2を使うよう、改造した。\"\"\"\n",
    "    c = initial_circuit2(theta, phi, lam)\n",
    "    c.h[1:1 + precision]\n",
    "    for i in range(precision):\n",
    "        apply_cu2(c, i + 1, theta, phi, lam, eigvals, i)\n",
    "    iqft(c, 1, precision)\n",
    "    return c"
   ]
  },
  {
   "cell_type": "code",
   "execution_count": 68,
   "metadata": {},
   "outputs": [
    {
     "name": "stdout",
     "output_type": "stream",
     "text": [
      "Eigenvalue (expected): 0.5336168124263685\n",
      "3 bit precision:\n",
      "955  0.5               (deviation: -3.362e-02)\n",
      "14   0.75              (deviation:  2.164e-01)\n",
      "9    0.25              (deviation: -2.836e-01)\n",
      "\n",
      "4 bit precision:\n",
      "784  0.5               (deviation: -3.362e-02)\n",
      "94   0.625             (deviation:  9.138e-02)\n",
      "34   0.375             (deviation: -1.586e-01)\n",
      "\n",
      "5 bit precision:\n",
      "469  0.5625            (deviation:  2.888e-02)\n",
      "348  0.5               (deviation: -3.362e-02)\n",
      "42   0.625             (deviation:  9.138e-02)\n",
      "\n",
      "6 bit precision:\n",
      "980  0.53125           (deviation: -2.367e-03)\n",
      "6    0.5625            (deviation:  2.888e-02)\n",
      "5    0.5               (deviation: -3.362e-02)\n",
      "\n",
      "7 bit precision:\n",
      "912  0.53125           (deviation: -2.367e-03)\n",
      "37   0.546875          (deviation:  1.326e-02)\n",
      "21   0.515625          (deviation: -1.799e-02)\n",
      "\n",
      "8 bit precision:\n",
      "731  0.53125           (deviation: -2.367e-03)\n",
      "144  0.5390625         (deviation:  5.446e-03)\n",
      "29   0.5234375         (deviation: -1.018e-02)\n",
      "\n",
      "9 bit precision:\n",
      "601  0.53515625        (deviation:  1.539e-03)\n",
      "235  0.53125           (deviation: -2.367e-03)\n",
      "40   0.5390625         (deviation:  5.446e-03)\n",
      "\n",
      "10 bit precision:\n",
      "863  0.533203125       (deviation: -4.137e-04)\n",
      "60   0.53515625        (deviation:  1.539e-03)\n",
      "25   0.53125           (deviation: -2.367e-03)\n",
      "\n",
      "11 bit precision:\n",
      "563  0.533203125       (deviation: -4.137e-04)\n",
      "263  0.5341796875      (deviation:  5.629e-04)\n",
      "56   0.5322265625      (deviation: -1.390e-03)\n",
      "\n",
      "12 bit precision:\n",
      "919  0.53369140625     (deviation:  7.459e-05)\n",
      "36   0.533203125       (deviation: -4.137e-04)\n",
      "16   0.53271484375     (deviation: -9.020e-04)\n",
      "\n",
      "13 bit precision:\n",
      "747  0.53369140625     (deviation:  7.459e-05)\n",
      "120  0.533447265625    (deviation: -1.695e-04)\n",
      "48   0.533935546875    (deviation:  3.187e-04)\n",
      "\n",
      "14 bit precision:\n",
      "607  0.5335693359375   (deviation: -4.748e-05)\n",
      "211  0.53369140625     (deviation:  7.459e-05)\n",
      "50   0.533447265625    (deviation: -1.695e-04)\n",
      "\n",
      "15 bit precision:\n",
      "841  0.53363037109375  (deviation:  1.356e-05)\n",
      "72   0.5335693359375   (deviation: -4.748e-05)\n",
      "32   0.53369140625     (deviation:  7.459e-05)\n",
      "\n"
     ]
    }
   ],
   "source": [
    "print('Eigenvalue (expected):', eigvals[1]) # これが答え。これ(に近い値が出てほしい)\n",
    "# 精度が小さいときと大きいときの違いを見るため、精度を振って動かしてみる。\n",
    "for precision in range(3, 16):\n",
    "    print(precision, 'bit precision:')\n",
    "    c = qpe_circuit3(eigvals, theta, phi, lam, precision)\n",
    "    result = run_qpe(c, 1000, 3)\n",
    "    for value, count in result:\n",
    "        # 1000 shotsのうち、その数が出た回数 得られた固有値 実際の固有値との差分 を表示します。\n",
    "        print(f'{count:<5}{value:<18}(deviation: {value - eigvals[1]: .3e})')\n",
    "    print('')"
   ]
  },
  {
   "cell_type": "markdown",
   "metadata": {},
   "source": [
    "2つ目の固有値も求まりました。"
   ]
  }
 ],
 "metadata": {
  "kernelspec": {
   "display_name": "blueqat-tutorial",
   "language": "python",
   "name": "blueqat-tutorial"
  },
  "language_info": {
   "codemirror_mode": {
    "name": "ipython",
    "version": 3
   },
   "file_extension": ".py",
   "mimetype": "text/x-python",
   "name": "python",
   "nbconvert_exporter": "python",
   "pygments_lexer": "ipython3",
   "version": "3.9.2"
  }
 },
 "nbformat": 4,
 "nbformat_minor": 4
}
