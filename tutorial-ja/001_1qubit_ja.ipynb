{
 "cells": [
  {
   "cell_type": "markdown",
   "metadata": {
    "colab_type": "text",
    "id": "NjHnSAbHrInP"
   },
   "source": [
    "# １量子ビットの計算\n",
    "量子コンピュータのはじめの一歩を行います。\n",
    "\n",
    "まず、blueqatをインストールします。"
   ]
  },
  {
   "cell_type": "code",
   "execution_count": null,
   "metadata": {},
   "outputs": [],
   "source": [
    "!pip install blueqat"
   ]
  },
  {
   "cell_type": "markdown",
   "metadata": {},
   "source": [
    "準備完了です。"
   ]
  },
  {
   "cell_type": "markdown",
   "metadata": {
    "colab_type": "text",
    "id": "PKhFYi-drld1"
   },
   "source": [
    "## 量子回路の作成\n",
    "量子コンピュータでは、量子ゲートを順番に繋げた、量子回路を作ります。\n",
    "\n",
    "Circuitで回路を準備し、その後ろに量子ゲートを繋げます。\n",
    "\n",
    "今回はxゲートを0番目の量子ビットにかけてみましょう。  \n",
    "xと書き、カッコの中に量子ビットの番号である0を入れます。\n",
    "\n",
    "最後に答えを取り出す測定を、mと書いて、runで100回実行をします。\n",
    "\n",
    "最初に回路を作るためのツール読み込み、２行目に量子回路を書いてみます。"
   ]
  },
  {
   "cell_type": "code",
   "execution_count": 4,
   "metadata": {},
   "outputs": [
    {
     "data": {
      "text/plain": [
       "Counter({'1': 100})"
      ]
     },
     "execution_count": 4,
     "metadata": {},
     "output_type": "execute_result"
    }
   ],
   "source": [
    "from blueqat import Circuit\n",
    "Circuit().x[0].m[:].run(shots=100)"
   ]
  },
  {
   "cell_type": "markdown",
   "metadata": {},
   "source": [
    "答えは1が100回出ました。\n",
    "このとき、量子回路は0からスタートし、以下のようになります。\n",
    "\n",
    "```\n",
    "0 ----X---\n",
    "```\n",
    "\n",
    "今回は0からスタートし、0を1にするXゲートを使って最初の計算を行いました。"
   ]
  },
  {
   "cell_type": "markdown",
   "metadata": {},
   "source": [
    "# 概要\n",
    "ここでは 1量子ビット操作の概要を説明します。\n",
    "\n",
    "## 量子ビット\n",
    "古典コンピュータは1bitに対して0または1の値を入力することができます。\n",
    "\n",
    "量子ビットでは1bitのことを1qubitと言い、ベクトルで表現します。   \n",
    "$\\lvert0\\rangle$, $\\lvert1\\rangle$ はそれぞれ\n",
    "\n",
    "$$\n",
    "\\lvert0\\rangle = \\begin{pmatrix}1\\\\0\\end{pmatrix} , \\lvert 1 \\rangle = \\begin{pmatrix}0\\\\1\\end{pmatrix}\n",
    "$$\n",
    "\n",
    "と表します。\n",
    "\n",
    "一般的に1qubitには $\\lvert0\\rangle$, $\\lvert1\\rangle$ と複素数 $\\alpha,\\beta$ を用いて $\\alpha\\lvert0\\rangle+\\beta\\lvert1\\rangle$ で表せます。   \n",
    "ただし、\n",
    "\n",
    "$$\n",
    "|\\alpha|^2 + |\\beta|^2 = 1\n",
    "$$\n",
    "\n",
    "である必要があります。"
   ]
  },
  {
   "cell_type": "markdown",
   "metadata": {},
   "source": [
    "## 回路の作成\n",
    "初期値を $|0\\rangle$ とします。\n",
    "\n",
    "回路はゲートと呼ばれる行列をかけて作ります。試しにXゲートをかけてみます。   \n",
    "Xゲートは以下のような行列です。\n",
    "\n",
    "$$\n",
    "X = \\begin{pmatrix} 0&1\\\\1&0\\end{pmatrix}\n",
    "$$\n",
    "\n",
    "これを $|0\\rangle$ にかけると\n",
    "\n",
    "$$\n",
    "X \\lvert 0 \\rangle = \\begin{pmatrix} 0&1\\\\1&0\\end{pmatrix}\\begin{pmatrix}1\\\\0\\end{pmatrix} = \\begin{pmatrix}0\\\\1\\end{pmatrix} = \\lvert 1 \\rangle\n",
    "$$\n",
    "\n",
    "と $\\lvert1\\rangle$ に反転できることがわかります。"
   ]
  },
  {
   "cell_type": "markdown",
   "metadata": {},
   "source": [
    "## 測定\n",
    "量子コンピュータでは確率的に 0,1 が出力されますがこの出力させる操作を測定と言います。   \n",
    "0,1 それぞれの出力される確率は $\\alpha\\lvert0\\rangle+\\beta\\lvert1\\rangle$ に対して、それぞれ $|\\alpha|^2, |\\beta|^2$ となります。\n",
    "\n",
    "例えば以下のようなビットを考えます。\n",
    "\n",
    "$$\n",
    "\\frac{1}{\\sqrt{2}}\\lvert0\\rangle + \\frac{1}{\\sqrt{2}}\\lvert1\\rangle = \\frac{1}{\\sqrt{2}}\\begin{pmatrix}1\\\\1\\end{pmatrix}\n",
    "$$\n",
    "\n",
    "これを1回測定すると 0,1 が出力される確率はそれぞれ 1/2 となります。   \n",
    "つまり100回測定した場合は 0,1 はそれぞれ 50回ずつ出力されます。"
   ]
  },
  {
   "cell_type": "markdown",
   "metadata": {},
   "source": [
    "## 状態ベクトル\n",
    "一般的に上記で述べたベクトルを状態ベクトルと言います。\n",
    "\n",
    "回路を作成し最終的にできた状態ベクトルは測定をした場合に 0,1 で出力されます。\n",
    "\n",
    "Blueqatで状態ベクトルを求めるには、測定をせずに.run()メソッドを実行します。"
   ]
  },
  {
   "cell_type": "code",
   "execution_count": 5,
   "metadata": {},
   "outputs": [
    {
     "data": {
      "text/plain": [
       "array([0.70710678+0.j, 0.70710678+0.j])"
      ]
     },
     "execution_count": 5,
     "metadata": {},
     "output_type": "execute_result"
    }
   ],
   "source": [
    "Circuit().h[0].run()"
   ]
  }
 ],
 "metadata": {
  "colab": {
   "name": "tutorial001_basic_circuit.ipynb",
   "provenance": [],
   "version": "0.3.2"
  },
  "kernelspec": {
   "display_name": "Python 3",
   "language": "python",
   "name": "python3"
  },
  "language_info": {
   "codemirror_mode": {
    "name": "ipython",
    "version": 3
   },
   "file_extension": ".py",
   "mimetype": "text/x-python",
   "name": "python",
   "nbconvert_exporter": "python",
   "pygments_lexer": "ipython3",
   "version": "3.8.4"
  }
 },
 "nbformat": 4,
 "nbformat_minor": 4
}
