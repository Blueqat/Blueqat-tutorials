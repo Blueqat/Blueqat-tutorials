{
 "cells": [
  {
   "cell_type": "markdown",
   "metadata": {},
   "source": [
    "## 数値微分\n",
    "関数 $f(x)$ と微小変化 $h$ より微分係数を数値的に求めることができます。\n",
    "\n",
    "$$\n",
    "\\frac{df(x)}{dx} = \\lim_{h \\rightarrow 0}\\frac{f(x+h) - f(x)}{h}\n",
    "$$\n",
    "\n",
    "例えば、$f(x) = x^2$ で、$x=1$において、$h=0.1$の時の微分係数は下記のようになります。"
   ]
  },
  {
   "cell_type": "code",
   "execution_count": 2,
   "metadata": {},
   "outputs": [
    {
     "data": {
      "text/plain": [
       "2.100000000000002"
      ]
     },
     "execution_count": 2,
     "metadata": {},
     "output_type": "execute_result"
    }
   ],
   "source": [
    "x = 1\n",
    "h = 0.1\n",
    "((x+h)**2 - x**2) / h"
   ]
  },
  {
   "cell_type": "markdown",
   "metadata": {},
   "source": [
    "## 偏微分\n",
    "NISQでよく用いられるパラメータ付き量子回路では、たくさんの角度が回路に変数パラメータとして登場します。  \n",
    "偏微分によって、特定のパラメータにおける微分係数を求めることができます。\n",
    "\n",
    "$f(x, y)$ の $x$ についての偏微分\n",
    "\n",
    "$$\n",
    "\\frac{\\partial f(x,y)}{\\partial x}\n",
    "$$\n",
    "\n",
    "$f(x, y)$ の $y$ についての偏微分\n",
    "\n",
    "$$\n",
    "\\frac{\\partial f(x,y)}{\\partial y}\n",
    "$$"
   ]
  },
  {
   "cell_type": "markdown",
   "metadata": {},
   "source": [
    "## 勾配\n",
    "勾配は、各パラメータについての偏微分をベクトルの形式で書いたものです。\n",
    "\n",
    "$$\n",
    "(\\frac{\\partial f(x,y)}{\\partial x},\\frac{\\partial f(x,y)}{\\partial y})\n",
    "$$\n",
    "\n",
    "勾配は関数が極小値、最小値をとる点(まとめて極小点とします)を求めるために役立ちます。  \n",
    "極小点では微分が0になり、その周り(近傍)の点は正、または負の傾きを持ちます。\n",
    "\n",
    "- 現在地点の座標が極小点より大きい値の場合、傾きは正です。よって現在地座標から傾きを引くと極小点に近づけます。\n",
    "- 現在地点の座標が極小点より小さい値の場合、傾きは負です。よってやはり、現在地座標から傾きを引くと極小点に近づけます。\n",
    "\n",
    "以上から、勾配を用いて現在地を更新することによって極小点を探すことができます。$e$ はここでは学習率を示します。\n",
    "\n",
    "$$\n",
    "x' = x -e\\cdot\\frac{\\partial f(x,y)}{\\partial x}\\\\\n",
    "y' = y -e\\cdot\\frac{\\partial f(x,y)}{\\partial y}\n",
    "$$\n",
    "\n",
    "このプロセスを繰り返します。"
   ]
  },
  {
   "cell_type": "markdown",
   "metadata": {},
   "source": [
    "## 勾配降下法\n",
    "RYゲートを使った回路で、測定の期待値の最小値を求めるVQEをやってみます。"
   ]
  },
  {
   "cell_type": "code",
   "execution_count": 3,
   "metadata": {},
   "outputs": [
    {
     "name": "stdout",
     "output_type": "stream",
     "text": [
      "\u001b[33mWARNING: You are using pip version 19.2.3, however version 21.0.1 is available.\r\n",
      "You should consider upgrading via the 'pip install --upgrade pip' command.\u001b[0m\r\n"
     ]
    }
   ],
   "source": [
    "!pip install -q blueqat"
   ]
  },
  {
   "cell_type": "code",
   "execution_count": 5,
   "metadata": {},
   "outputs": [
    {
     "name": "stdout",
     "output_type": "stream",
     "text": [
      "3.1411949016315885\n"
     ]
    },
    {
     "data": {
      "image/png": "[encoded data removed]",
      "text/plain": [
       "<Figure size 432x288 with 1 Axes>"
      ]
     },
     "metadata": {
      "needs_background": "light"
     },
     "output_type": "display_data"
    }
   ],
   "source": [
    "from blueqat import Circuit\n",
    "import matplotlib.pyplot as plt\n",
    "import numpy as np\n",
    "%matplotlib inline\n",
    "\n",
    "def abs_sq(k):\n",
    "    return np.square(np.abs(k))\n",
    "\n",
    "#Zの期待値\n",
    "def exptZ(a):\n",
    "    res = Circuit().ry(a)[0].run()\n",
    "    return abs_sq(res[0]) - abs_sq(res[1])\n",
    "\n",
    "#初期設定\n",
    "ainit = [np.random.rand()*2*np.pi]\n",
    "a = ainit.copy()\n",
    "h = 0.001\n",
    "e = 0.01\n",
    "\n",
    "#勾配の更新と記録\n",
    "for i in range(1000):\n",
    "    a.append(a[i] - e*(exptZ(a[i]+h) - exptZ(a[i]))/h)\n",
    "\n",
    "#最終の値\n",
    "print(a[-1])\n",
    "\n",
    "#期待値のプロット\n",
    "plt.plot(list(map(exptZ, a)))\n",
    "plt.show()"
   ]
  },
  {
   "cell_type": "markdown",
   "metadata": {},
   "source": [
    "1量子ビットの $Z$ 測定期待値が最小となるのは、状態が $\\lvert 1 \\rangle$ のときです。  \n",
    "期待値最小化後の $RY$ ゲート回転角は約 $\\pi = 3.14...$ であり、初期状態 $\\lvert 0 \\rangle$ を $\\lvert 1 \\rangle$ に変えます。  \n",
    "以上から、VQEができました。"
   ]
  },
  {
   "cell_type": "markdown",
   "metadata": {},
   "source": [
    "## パラメータシフト則\n",
    "\n",
    "参考文献: arXiv:1803.00745 [quant-ph] (https://arxiv.org/abs/1803.00745)"
   ]
  },
  {
   "cell_type": "markdown",
   "metadata": {},
   "source": [
    "微小変化 $h$ を用いた数値微分は実際の量子コンピュータで実行する上で課題があります。  \n",
    "量子コンピュータによって計算される期待値は、サンプリングやノイズに起因するばらつきを伴います。微小変化 $h$ が小さすぎるとそれらのばらつきに埋もれてしまい、大きすぎると数値微分の精度が悪くなります。よって $h$ をハイパーパラメータとして調整する必要が生じます。\n",
    "\n",
    "このような背景から、量子コンピュータにおいて勾配を算出する手法についても研究が進められています。  \n",
    "ここでは代表的な \"パラメータシフト則\" を紹介します。\n",
    "\n",
    "ある観測量 $\\hat{B}$ の期待値 $\\langle \\hat{B}\\rangle$ とします。  \n",
    "パウリ回転ゲート$U(\\theta) = \\exp{(-i\\theta P)}\\ \\ (P\\in \\{X, Y, Z, I\\})$ 中のパラメータ$\\theta$について、$\\langle \\hat{B}\\rangle$ の勾配は以下のように求められます。  \n",
    "\n",
    "\n",
    "$$\\frac{\\partial \\langle \\hat{B}\\rangle}{\\partial \\theta} = \\frac{1}{2} \\bigl(\\langle \\hat{B}\\rangle_+ - \\langle \\hat{B}\\rangle_- \\bigr)$$\n",
    "\n",
    "$$U(\\theta + \\frac{\\pi}{2}) = \\langle \\hat{B}\\rangle_+$$\n",
    "$$U(\\theta - \\frac{\\pi}{2}) = \\langle \\hat{B}\\rangle_-$$\n",
    "\n",
    "つまり、傾きを求めたいパラメータ1つ1つについて $+\\frac{\\pi}{2}$, $-\\frac{\\pi}{2}$ シフトした量子回路を実行して期待値をそれぞれ求めれば良いことになります。  \n",
    "この手法では微小変化 $h$ の代わりに固定かつ十分に大きいシフト量 $\\pm\\frac{\\pi}{2}$ を用いるため、上記の課題を解決することが可能です。  \n",
    "\n",
    "これは$RX(\\theta)$ゲート, $RY(\\theta)$ゲート, $RZ(\\theta)$ゲートなどのパラメータ $\\theta$ に適用可能です。これに2量子ビットエンタングルゲートを組み合わせることで、汎用的な量子古典ハイブリッド機械学習回路を構築することが可能です。"
   ]
  },
  {
   "cell_type": "markdown",
   "metadata": {},
   "source": [
    "以下はパラメータシフト則を用いて、先程の勾配降下法の例を再び計算しています。"
   ]
  },
  {
   "cell_type": "code",
   "execution_count": 7,
   "metadata": {},
   "outputs": [
    {
     "name": "stdout",
     "output_type": "stream",
     "text": [
      "3.141732372485875\n"
     ]
    },
    {
     "data": {
      "image/png": "[encoded data removed]",
      "text/plain": [
       "<Figure size 432x288 with 1 Axes>"
      ]
     },
     "metadata": {
      "needs_background": "light"
     },
     "output_type": "display_data"
    }
   ],
   "source": [
    "#初期設定\n",
    "ainit = [np.random.rand()*2*np.pi]\n",
    "a = ainit.copy()\n",
    "e = 0.01\n",
    "\n",
    "#勾配の更新と記録\n",
    "for i in range(1000):\n",
    "    grad = (exptZ(a[i]+np.pi/2) - exptZ(a[i]-np.pi/2)) / 2\n",
    "    a.append(a[i] - e*grad)\n",
    "\n",
    "#最終の値\n",
    "print(a[-1])\n",
    "\n",
    "#期待値のプロット\n",
    "plt.plot(list(map(exptZ, a)))\n",
    "plt.show()"
   ]
  },
  {
   "cell_type": "markdown",
   "metadata": {},
   "source": [
    "## 損失関数\n",
    "VQEでは測定の期待値を最小化しますが、上のような考え方では最小化の対象は必ずしも測定期待値でなくても良いです。  \n",
    "ここではより一般的な損失関数を定義し、使ってみます。こうすると機械学習として覚えられます。"
   ]
  },
  {
   "cell_type": "code",
   "execution_count": 10,
   "metadata": {},
   "outputs": [
    {
     "name": "stdout",
     "output_type": "stream",
     "text": [
      "3.3233131527307167\n"
     ]
    },
    {
     "data": {
      "image/png": "[encoded data removed]",
      "text/plain": [
       "<Figure size 432x288 with 1 Axes>"
      ]
     },
     "metadata": {
      "needs_background": "light"
     },
     "output_type": "display_data"
    },
    {
     "name": "stdout",
     "output_type": "stream",
     "text": [
      "0.00027112202406906325\n"
     ]
    }
   ],
   "source": [
    "from blueqat import Circuit\n",
    "import matplotlib.pyplot as plt\n",
    "import numpy as np\n",
    "%matplotlib inline\n",
    "\n",
    "def abs_sq(k):\n",
    "    return np.square(np.abs(k))\n",
    "\n",
    "#期待値\n",
    "def expt(a):\n",
    "    res = Circuit().ry(a)[0].run()\n",
    "    return abs_sq(res[0])-abs_sq(res[1])\n",
    "\n",
    "#損失関数\n",
    "def loss(res,tar):\n",
    "    return np.square(res-tar)\n",
    "\n",
    "#微分係数\n",
    "def dfx(a,h,tgt=-1):\n",
    "    return (loss(expt(a+h),tgt) - loss(expt(a),tgt))/h\n",
    "#    return (expt(a+h)-expt(a))/h\n",
    "\n",
    "#勾配\n",
    "def grad(a,h,e):\n",
    "    for i in range(1000):\n",
    "        a.append(a[i] - e*dfx(a[i],h))\n",
    "    return a\n",
    "\n",
    "#初期化\n",
    "a = [np.random.rand()*2*np.pi]\n",
    "h = 0.001\n",
    "e = 0.01\n",
    "\n",
    "ra = grad(a,h,e)\n",
    "print(ra[-1])\n",
    "\n",
    "arr = [loss(expt(i),-1) for i in ra]\n",
    "\n",
    "plt.plot(arr)\n",
    "plt.show()\n",
    "\n",
    "print(arr[-1])"
   ]
  },
  {
   "cell_type": "markdown",
   "metadata": {},
   "source": [
    "## momentum SGD"
   ]
  },
  {
   "cell_type": "code",
   "execution_count": 11,
   "metadata": {},
   "outputs": [
    {
     "data": {
      "image/png": "[encoded data removed]",
      "text/plain": [
       "<Figure size 432x288 with 1 Axes>"
      ]
     },
     "metadata": {
      "needs_background": "light"
     },
     "output_type": "display_data"
    }
   ],
   "source": [
    "#momentum sgd\n",
    "def msgd(a,h,e,tgt,alpha):\n",
    "    p_delta = 0\n",
    "    for i in range(100):\n",
    "        update = -e*dfx(a[i],h,tgt) + alpha*p_delta\n",
    "        a.append(a[i] + update)\n",
    "        p_delta = update\n",
    "    return a\n",
    "\n",
    "#initialization\n",
    "a = ainit.copy()\n",
    "h = 0.001\n",
    "e = 0.01\n",
    "\n",
    "alpha = 0.9\n",
    "tgt = -1\n",
    "\n",
    "result = msgd(a,h,e,tgt,alpha)\n",
    "arr = [loss(expt(i),tgt) for i in result]\n",
    "\n",
    "plt.plot(arr)\n",
    "plt.show()"
   ]
  },
  {
   "cell_type": "markdown",
   "metadata": {},
   "source": [
    "## Adagrad"
   ]
  },
  {
   "cell_type": "code",
   "execution_count": 13,
   "metadata": {},
   "outputs": [
    {
     "data": {
      "image/png": "[encoded data removed]",
      "text/plain": [
       "<Figure size 432x288 with 1 Axes>"
      ]
     },
     "metadata": {},
     "output_type": "display_data"
    }
   ],
   "source": [
    "def adagrad(a,h,e,tgt,epsilon):\n",
    "    G = epsilon\n",
    "    for i in range(100):\n",
    "        g = dfx(a[i],h,tgt)\n",
    "        G += g*g\n",
    "        update = -e/np.sqrt(G)*g\n",
    "        a.append(a[i] + update)\n",
    "    return a\n",
    "\n",
    "#initialization\n",
    "a = ainit.copy()\n",
    "h = 0.001\n",
    "e = 0.1\n",
    "epsilon = 1e-08\n",
    "tgt = -1\n",
    "\n",
    "result = adagrad(a,h,e,tgt,epsilon)\n",
    "arr = [loss(expt(i),tgt) for i in result]\n",
    "\n",
    "plt.plot(arr)\n",
    "plt.show()"
   ]
  }
 ],
 "metadata": {
  "kernelspec": {
   "display_name": "Python 3",
   "language": "python",
   "name": "python3"
  },
  "language_info": {
   "codemirror_mode": {
    "name": "ipython",
    "version": 3
   },
   "file_extension": ".py",
   "mimetype": "text/x-python",
   "name": "python",
   "nbconvert_exporter": "python",
   "pygments_lexer": "ipython3",
   "version": "3.8.2"
  }
 },
 "nbformat": 4,
 "nbformat_minor": 4
}
