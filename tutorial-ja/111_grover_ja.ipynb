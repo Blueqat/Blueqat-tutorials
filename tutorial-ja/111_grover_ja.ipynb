{
 "cells": [
  {
   "cell_type": "markdown",
   "metadata": {
    "colab_type": "text",
    "id": "NjHnSAbHrInP"
   },
   "source": [
    "# グローバーのアルゴリズム\n",
    "グローバーのアルゴリズムは未整序のデータの検索が高速にできるというアルゴリズムです。マーキングの部分にあたるオラクルと呼ばれる関数部分に検索のアルゴリズムを入れましょう。\n",
    "\n",
    "全体の流れは下記の通りです。\n",
    "\n",
    "１. 重ね合わせ  \n",
    "２. 探したいデータのマーキング  \n",
    "３. マーキングを可視化する振幅増幅反転  \n",
    "\n",
    "マーキングと振幅増幅反転を適切な回数繰り返すと精度が上がります。こちらをBlueqatで実装してみたいと思います。"
   ]
  },
  {
   "cell_type": "markdown",
   "metadata": {},
   "source": [
    "# インストール"
   ]
  },
  {
   "cell_type": "code",
   "execution_count": 3,
   "metadata": {
    "collapsed": true
   },
   "outputs": [
    {
     "name": "stdout",
     "output_type": "stream",
     "text": [
      "Requirement already satisfied: blueqat in /home/ec2-user/anaconda3/envs/python3/lib/python3.6/site-packages (0.3.13)\n",
      "Requirement already satisfied: scipy>=1.1.0 in /home/ec2-user/anaconda3/envs/python3/lib/python3.6/site-packages (from blueqat) (1.1.0)\n",
      "Requirement already satisfied: numpy~=1.12 in /home/ec2-user/anaconda3/envs/python3/lib/python3.6/site-packages (from blueqat) (1.18.3)\n",
      "\u001b[33mWARNING: You are using pip version 20.0.2; however, version 20.1 is available.\n",
      "You should consider upgrading via the '/home/ec2-user/anaconda3/envs/python3/bin/python -m pip install --upgrade pip' command.\u001b[0m\n"
     ]
    }
   ],
   "source": [
    "!pip install blueqat"
   ]
  },
  {
   "cell_type": "markdown",
   "metadata": {
    "colab_type": "text",
    "id": "CJhIv6UdASWQ"
   },
   "source": [
    "## マーキング\n",
    "2量子ビットのGroverアルゴリズムを考えます。2量子ビットの組み合わせの場合の数は、00,01,10,11の4通りです。その中から特定の組み合わせを検索したいと思います。  \n",
    "それを実現するにはゲート操作をつかって、「解に対応する状態ベクトルだけに-1がかかる対角行列」を数学的に作ります。  \n",
    "ここではHゲート、Sゲート、CZゲートを用いれば可能です。"
   ]
  },
  {
   "cell_type": "markdown",
   "metadata": {
    "colab_type": "text",
    "id": "oXg3hf3yAkMS"
   },
   "source": [
    "各回路を一つ一つ見ていきましょう。.run_with_sympy_unitary()を実行することで、回路のユニタリ行列を確認することができます。  \n",
    "CZゲートの対角行列から始めて、それを変更しながら回路を作っていきます。"
   ]
  },
  {
   "cell_type": "code",
   "execution_count": 5,
   "metadata": {},
   "outputs": [],
   "source": [
    "from blueqat import Circuit"
   ]
  },
  {
   "cell_type": "code",
   "execution_count": 6,
   "metadata": {},
   "outputs": [
    {
     "data": {
      "text/latex": [
       "$\\displaystyle \\left[\\begin{matrix}1 & 0 & 0 & 0\\\\0 & 1 & 0 & 0\\\\0 & 0 & 1 & 0\\\\0 & 0 & 0 & -1\\end{matrix}\\right]$"
      ],
      "text/plain": [
       "Matrix([\n",
       "[1, 0, 0,  0],\n",
       "[0, 1, 0,  0],\n",
       "[0, 0, 1,  0],\n",
       "[0, 0, 0, -1]])"
      ]
     },
     "execution_count": 6,
     "metadata": {},
     "output_type": "execute_result"
    }
   ],
   "source": [
    "'''\n",
    "#marking on 11\n",
    "\n",
    "-------*-----\n",
    "-------Z-----\n",
    "'''\n",
    "\n",
    "Circuit(2).cz[0,1].run_with_sympy_unitary()"
   ]
  },
  {
   "cell_type": "code",
   "execution_count": 7,
   "metadata": {},
   "outputs": [
    {
     "data": {
      "text/latex": [
       "$\\displaystyle \\left[\\begin{matrix}1 & 0 & 0 & 0\\\\0 & -1 & 0 & 0\\\\0 & 0 & 1 & 0\\\\0 & 0 & 0 & 1\\end{matrix}\\right]$"
      ],
      "text/plain": [
       "Matrix([\n",
       "[1,  0, 0, 0],\n",
       "[0, -1, 0, 0],\n",
       "[0,  0, 1, 0],\n",
       "[0,  0, 0, 1]])"
      ]
     },
     "execution_count": 7,
     "metadata": {},
     "output_type": "execute_result"
    }
   ],
   "source": [
    "'''\n",
    "#marking on 01\n",
    " \n",
    "----S--*--S---\n",
    "-------Z-------\n",
    "'''\n",
    "\n",
    "Circuit(2).s[0].cz[0,1].s[0].run_with_sympy_unitary()"
   ]
  },
  {
   "cell_type": "code",
   "execution_count": 8,
   "metadata": {},
   "outputs": [
    {
     "data": {
      "text/latex": [
       "$\\displaystyle \\left[\\begin{matrix}1 & 0 & 0 & 0\\\\0 & 1 & 0 & 0\\\\0 & 0 & -1 & 0\\\\0 & 0 & 0 & 1\\end{matrix}\\right]$"
      ],
      "text/plain": [
       "Matrix([\n",
       "[1, 0,  0, 0],\n",
       "[0, 1,  0, 0],\n",
       "[0, 0, -1, 0],\n",
       "[0, 0,  0, 1]])"
      ]
     },
     "execution_count": 8,
     "metadata": {},
     "output_type": "execute_result"
    }
   ],
   "source": [
    "'''\n",
    "#marking on 10\n",
    " \n",
    "--------*------\n",
    "----S--Z--S---\n",
    "'''\n",
    "\n",
    "Circuit(2).s[1].cz[0,1].s[1].run_with_sympy_unitary()"
   ]
  },
  {
   "cell_type": "code",
   "execution_count": 9,
   "metadata": {},
   "outputs": [
    {
     "data": {
      "text/latex": [
       "$\\displaystyle \\left[\\begin{matrix}1 & 0 & 0 & 0\\\\0 & -1 & 0 & 0\\\\0 & 0 & -1 & 0\\\\0 & 0 & 0 & -1\\end{matrix}\\right]$"
      ],
      "text/plain": [
       "Matrix([\n",
       "[1,  0,  0,  0],\n",
       "[0, -1,  0,  0],\n",
       "[0,  0, -1,  0],\n",
       "[0,  0,  0, -1]])"
      ]
     },
     "execution_count": 9,
     "metadata": {},
     "output_type": "execute_result"
    }
   ],
   "source": [
    "\n",
    "'''\n",
    "#00\n",
    " \n",
    "----S--*--S--\n",
    "----S--Z--S--\n",
    "'''\n",
    "\n",
    "Circuit(2).s[:].cz[0,1].s[:].run_with_sympy_unitary()"
   ]
  },
  {
   "cell_type": "markdown",
   "metadata": {},
   "source": [
    "最後の結果は符号が反転しています。このような場合には、すべてのマイナス記号をプラスに、プラス記号をマイナスに反転させるグローバル位相を考えることができます。"
   ]
  },
  {
   "cell_type": "markdown",
   "metadata": {
    "colab_type": "text",
    "id": "U1uxGVsCCi85"
   },
   "source": [
    "## 振幅増幅反転\n",
    "振幅増幅反転は、対角項が $\\frac{1}{2}$、非対角項が $-\\frac{1}{2}$ の行列を用意しマーキングした回路にかけることで、マーキングしたものの振幅が増幅されます。振幅増幅反転のユニタリ変換は各パターン共通となっています。こちらをBlueqatに直してみます。"
   ]
  },
  {
   "cell_type": "code",
   "execution_count": 12,
   "metadata": {
    "colab": {},
    "colab_type": "code",
    "id": "uEO1xB4OCkcK"
   },
   "outputs": [
    {
     "data": {
      "text/latex": [
       "$\\displaystyle \\left[\\begin{matrix}\\frac{1}{2} & - \\frac{1}{2} & - \\frac{1}{2} & - \\frac{1}{2}\\\\- \\frac{1}{2} & \\frac{1}{2} & - \\frac{1}{2} & - \\frac{1}{2}\\\\- \\frac{1}{2} & - \\frac{1}{2} & \\frac{1}{2} & - \\frac{1}{2}\\\\- \\frac{1}{2} & - \\frac{1}{2} & - \\frac{1}{2} & \\frac{1}{2}\\end{matrix}\\right]$"
      ],
      "text/plain": [
       "Matrix([\n",
       "[ 1/2, -1/2, -1/2, -1/2],\n",
       "[-1/2,  1/2, -1/2, -1/2],\n",
       "[-1/2, -1/2,  1/2, -1/2],\n",
       "[-1/2, -1/2, -1/2,  1/2]])"
      ]
     },
     "execution_count": 12,
     "metadata": {},
     "output_type": "execute_result"
    }
   ],
   "source": [
    "'''\n",
    "--H-X-*-X-H--\n",
    "--H-X-Z-X-H--\n",
    "'''\n",
    "\n",
    "Circuit(2).h[:].x[:].cz[0,1].x[:].h[:].run_with_sympy_unitary()"
   ]
  },
  {
   "cell_type": "markdown",
   "metadata": {
    "colab_type": "text",
    "id": "yd5MaoRKCuWS"
   },
   "source": [
    "## 回路の実装\n",
    "では、実際の回路の実装です。"
   ]
  },
  {
   "cell_type": "code",
   "execution_count": 4,
   "metadata": {
    "colab": {
     "base_uri": "https://localhost:8080/",
     "height": 34
    },
    "colab_type": "code",
    "id": "3eRpgppa_1FI",
    "outputId": "c806ddfa-b713-4297-d97e-cb5a9f063c3b"
   },
   "outputs": [
    {
     "data": {
      "text/plain": [
       "Counter({'00': 100})"
      ]
     },
     "execution_count": 4,
     "metadata": {},
     "output_type": "execute_result"
    }
   ],
   "source": [
    "from blueqat import Circuit\n",
    "\n",
    "#振幅増幅反転\n",
    "a = Circuit(2).h[:].x[:].cz[0,1].x[:].h[:].m[:]\n",
    "\n",
    "'''\n",
    "#00回路\n",
    "--H--S--*--S----H-X-*-X-H--\n",
    "--H--S--Z--S----H-X-Z-X-H--\n",
    "'''\n",
    "\n",
    "(Circuit(2).h[:].s[:].cz[0,1].s[:] + a).run(shots=100)"
   ]
  },
  {
   "cell_type": "code",
   "execution_count": 5,
   "metadata": {
    "colab": {
     "base_uri": "https://localhost:8080/",
     "height": 34
    },
    "colab_type": "code",
    "id": "WcvE1NcLC4H7",
    "outputId": "9a109850-28fe-4991-ecd4-260ff59f11b4"
   },
   "outputs": [
    {
     "data": {
      "text/plain": [
       "Counter({'01': 100})"
      ]
     },
     "execution_count": 5,
     "metadata": {},
     "output_type": "execute_result"
    }
   ],
   "source": [
    "'''\n",
    "#01回路\n",
    "--H-----*-------H-X-*-X-H--\n",
    "--H--S--Z--S---H-X-Z-X-H--\n",
    "'''\n",
    "\n",
    "(Circuit(2).h[:].s[1].cz[0,1].s[1] + a).run(shots=100)"
   ]
  },
  {
   "cell_type": "code",
   "execution_count": 6,
   "metadata": {
    "colab": {
     "base_uri": "https://localhost:8080/",
     "height": 34
    },
    "colab_type": "code",
    "id": "N4BvigvuDHfu",
    "outputId": "8f692ae1-7dae-486b-9037-eb0592e2dfe8"
   },
   "outputs": [
    {
     "data": {
      "text/plain": [
       "Counter({'10': 100})"
      ]
     },
     "execution_count": 6,
     "metadata": {},
     "output_type": "execute_result"
    }
   ],
   "source": [
    "'''\n",
    "#10回路\n",
    "--H--S--*--S----H-X-*-X-H--\n",
    "--H-----Z--------H-X-Z-X-H--\n",
    "'''\n",
    "(Circuit(2).h[:].s[0].cz[0,1].s[0] + a).run(shots=100)"
   ]
  },
  {
   "cell_type": "code",
   "execution_count": 7,
   "metadata": {
    "colab": {
     "base_uri": "https://localhost:8080/",
     "height": 34
    },
    "colab_type": "code",
    "id": "wQ94cpSODMyP",
    "outputId": "3b57c351-6ab9-4563-9c33-2cc2bdcd16ba"
   },
   "outputs": [
    {
     "data": {
      "text/plain": [
       "Counter({'11': 100})"
      ]
     },
     "execution_count": 7,
     "metadata": {},
     "output_type": "execute_result"
    }
   ],
   "source": [
    "'''\n",
    "#11回路\n",
    "--H-----*-------H-X-*-X-H--\n",
    "--H-----Z-------H-X-Z-X-H--\n",
    "'''\n",
    "(Circuit(2).h[:].cz[0,1] + a).run(shots=100)"
   ]
  },
  {
   "cell_type": "markdown",
   "metadata": {
    "colab_type": "text",
    "id": "lP9JKP_xDgai"
   },
   "source": [
    "このようにできました。Groverのアルゴリズムが身近になりました。"
   ]
  },
  {
   "cell_type": "markdown",
   "metadata": {},
   "source": [
    "# アルゴリズムの説明"
   ]
  },
  {
   "cell_type": "markdown",
   "metadata": {},
   "source": [
    "## Oracle\n",
    "まずはこのアルゴリズムに出てくるオラクルから説明します。\n",
    "簡単にいうと、ある入力に対し 0 あるいは 1 を返す関数です。\n",
    "例として、物を買う状況を考えましょう。お肉屋さんで買える物を 1、 買えない物を 0 とします。\n",
    "\n",
    "すると以下の状況になります。\n",
    "\n",
    "$$\n",
    "f(x) = \\begin{cases}\n",
    "   1\\ \\  (x\\ がお肉屋さんで買える。)\\\\\n",
    "    0\\ \\  (x\\ がお肉屋さんで買えない。)\n",
    "  \\end{cases}\n",
    "$$\n",
    "\n",
    "これを用いるとパソコンはお肉屋さんで買えなく、牛肉は買えるので、\n",
    "\n",
    "$$\n",
    "f(パソコン) = 0,\\ \\ \\ \\ f(牛肉) = 1\n",
    "$$\n",
    "\n",
    "となります。\n",
    "\n",
    "このように 0 と 1 に分ける関数をオラクルと言います。\n",
    "\n",
    "今回は 1 つだけ 1 を返す Oracle を考えます。\n",
    "つまり $f$ の入力が 00...00 から 11...11 の $2^n$ 個でどこか一つだけ 1 を返し、それ以外は全て 0 を返すもとします。\n",
    "\n",
    "$$\n",
    "f(x) = \\begin{cases}\n",
    "   1\\ \\  (x= \\omega)\\\\\n",
    "    0\\ \\  (x\\neq \\omega)\n",
    "  \\end{cases}\n",
    "$$\n",
    "\n",
    "$x = \\omega$ で 1 を返すとしています。"
   ]
  },
  {
   "cell_type": "markdown",
   "metadata": {},
   "source": [
    "### Amplitude amplification (振幅増幅)\n",
    "振幅という言葉が出てきました。\n",
    "各状態の係数のことを**振幅**、確率のことを**確率振幅**と言います。\n",
    "\n",
    "以下の式を見てみます。\n",
    "\n",
    "$$\n",
    "H \\lvert 0 \\rangle \\otimes H \\lvert 0 \\rangle = \\frac{1}{2} (\\lvert 00 \\rangle + \\lvert 01 \\rangle + \\lvert10 \\rangle + \\lvert 11 \\rangle) \\xrightarrow{\\text{振幅増幅}} \\lvert 00 \\rangle\n",
    "$$\n",
    "\n",
    "この場合、矢印の左側では確率振幅は全て $1/4$ となり、\n",
    "右側の状態は $00$ の確率振幅が $1$ となっています。\n",
    "\n",
    "Amplitude amplification は言葉の通りこの確率振幅を上のように増幅させるアルゴリズムです。"
   ]
  },
  {
   "cell_type": "markdown",
   "metadata": {},
   "source": [
    "以下の図を用いて具体的な計算を説明します。\n",
    "\n",
    "<img width=\"30%\" src=\"https://upload.wikimedia.org/wikipedia/commons/1/16/Grovers_algorithm_geometry.png\">\n",
    "\n",
    "参考: https://en.wikipedia.org/wiki/Grover%27s_algorithm\n",
    "\n",
    "まずは記号の説明をします。\n",
    "$s$ は全ビットの重ね合わせです。\n",
    "\n",
    "$$\n",
    "\\lvert s \\rangle = \\otimes^n  H  \\lvert 0 \\rangle =\\frac{1}{\\sqrt{2^n}}\\sum^{2^n}_{x\\in \\{0, 1\\}^n}\\lvert x \\rangle\n",
    "$$\n",
    "\n",
    "このうち、振幅増幅させたい状態を $\\omega$ としています。\n",
    "\n",
    "$$\n",
    "\\lvert \\omega \\rangle = \\frac{1}{\\sqrt{2^n}} \\lvert 00...010...00\\rangle\n",
    "$$\n",
    "\n",
    "$x$ 番目に1が入っているとします。\n",
    "\n",
    "$s'$ は $s$ から $\\omega$ を除いたベクトルです。\n",
    "\n",
    "$$\n",
    "\\lvert s' \\rangle = \\lvert s \\rangle - \\lvert \\omega \\rangle = \\lvert \\omega^{\\perp} \\rangle\n",
    "$$\n",
    "\n",
    "$\\omega$ に垂直なことがわかります。"
   ]
  },
  {
   "cell_type": "markdown",
   "metadata": {},
   "source": [
    "次に上の図のように $s'$ と $\\omega$ から成る単位円を考えます。\n",
    "ただし $s'$ と $\\omega$ の長さが違うので\n",
    "\n",
    "$$\n",
    "\\tilde{\\lvert s' \\rangle} = \\sqrt{\\frac{2^n}{2^n-1}} \\lvert s' \\rangle \n",
    "$$\n",
    "$$\n",
    "\\tilde{\\lvert \\omega \\rangle} = \\sqrt{2^n} \\lvert \\omega \\rangle\n",
    "$$\n",
    "\n",
    "として長さを共に 1 にします。\n",
    "\n",
    "このことから、単位円上のベクトル $\\psi$ は以下のように表せます。\n",
    "\n",
    "$$\n",
    "\\lvert \\psi \\rangle = \\cos\\phi \\tilde{\\lvert s' \\rangle} + \\sin\\phi \\tilde{\\lvert \\omega \\rangle}\n",
    "$$"
   ]
  },
  {
   "cell_type": "markdown",
   "metadata": {},
   "source": [
    "$U_{\\omega}$ は $s'$ を軸に $\\psi$ を反転させる行列です。\n",
    "すなわち $\\psi$ を $-\\phi$ 回転させます。\n",
    "\n",
    "$$\n",
    "U_{\\omega} \\lvert \\psi \\rangle = \\cos(-\\phi) \\tilde{\\lvert s' \\rangle} + \\sin(-\\phi) \\tilde{\\lvert \\omega \\rangle} = \\cos(\\phi) \\tilde{\\lvert s' \\rangle} - \\sin(\\phi) \\tilde{\\lvert \\omega \\rangle}\n",
    "$$\n",
    "\n",
    "$U_s$ は $\\psi$ を $s$ を軸に反転させる行列です。\n",
    "\n",
    "$$\n",
    "U_s \\lvert \\psi \\rangle = \\cos \\bigg\\{ \\frac{\\theta}{2} + \\big(\\frac{\\theta}{2} - \\phi \\big) \\bigg\\} \\tilde{\\lvert s' \\rangle} + \\sin \\bigg\\{ \\frac{\\theta}{2} + \\big(\\frac{\\theta}{2} - \\phi \\big) \\bigg\\}\\tilde{\\lvert \\omega \\rangle} = \\cos(\\theta - \\phi)\\tilde{\\lvert s' \\rangle} + \\sin(\\theta - \\phi) \\tilde{\\lvert \\omega \\rangle}\n",
    "$$"
   ]
  },
  {
   "cell_type": "markdown",
   "metadata": {},
   "source": [
    "#### 概要\n",
    "アルゴリズムの概要は以下のようになります。\n",
    "\n",
    "1 $s$ を $U_{\\omega}$ を用いて $s'$ で折り返す。\n",
    "\n",
    "2 $U_{\\omega}s$ を $U_s$ を用いて $s$ で折り返す。\n",
    "\n",
    "以上の流れを詳しく説明していきます。"
   ]
  },
  {
   "cell_type": "markdown",
   "metadata": {},
   "source": [
    "#### 1. $s'$ に関する折り返し\n",
    "$s$ について上の図のように $\\theta$ を用いて\n",
    "\n",
    "$$\n",
    "\\lvert s \\rangle = \\cos\\bigl(\\frac{\\theta}{2}\\bigr) \\tilde{\\lvert s' \\rangle} - \\sin\\bigl(\\frac{\\theta}{2}\\bigr) \\tilde{\\lvert \\omega \\rangle}\n",
    "$$\n",
    "\n",
    "と定義します。\n",
    "\n",
    "このとき\n",
    "\n",
    "$$\n",
    "\\cos\\bigl( \\frac{\\theta}{2} \\bigr) = \\sqrt{\\frac{2^n-1}{2^n}},\\ \\ \\ \\  \\sin\\bigl( \\frac{\\theta}{2} \\bigr) = \\sqrt{\\frac{1}{2^n}}\n",
    "$$\n",
    "\n",
    "と表せます。"
   ]
  },
  {
   "cell_type": "markdown",
   "metadata": {},
   "source": [
    "$U_{\\omega}$ で $s$ を $s'$ を軸に折り返します。\n",
    "上の図から以下のようにかけます。\n",
    "\n",
    "$$\n",
    "U_{\\omega} \\lvert s \\rangle = \\cos\\bigl(-\\frac{\\theta}{2}\\bigr)\\tilde{\\lvert s' \\rangle} + \\sin\\bigl(-\\frac{\\theta}{2}\\bigr)\\tilde{\\lvert \\omega \\rangle} = \\cos\\bigl(\\frac{\\theta}{2}\\bigr)\\tilde{\\lvert s' \\rangle} - \\sin\\bigl(\\frac{\\theta}{2}\\bigr)\\tilde{\\lvert \\omega \\rangle}\n",
    "$$\n",
    "\n",
    "この操作に関しては $\\omega$ のみに作用しているので $U_{\\omega}$ は上で述べた Oracle を表していることがわかります。"
   ]
  },
  {
   "cell_type": "markdown",
   "metadata": {},
   "source": [
    "#### 2. $s$ に関する折り返し\n",
    "$U_s$ で $U_{\\omega}s$ を $s$ を軸に折り返します。\n",
    "\n",
    "$$\n",
    "U_s U_{\\omega} \\lvert s\\rangle = U_s\\biggl( \\cos\\bigl(-\\frac{\\theta}{2}\\bigr)\\tilde{\\lvert s' \\rangle} + \\sin\\bigl(-\\frac{\\theta}{2}\\bigr)\\tilde{\\lvert \\omega \\rangle}  \\biggr)\n",
    "$$\n",
    "\n",
    "ここで $2\\theta$ 回転させれば良いので\n",
    "\n",
    "$$\n",
    "U_s U_{\\omega} \\lvert s\\rangle =  \\cos\\bigl(\\frac{3}{2}\\theta\\bigr)\\tilde{\\lvert s' \\rangle} + \\sin\\bigl(\\frac{3}{2}\\theta\\bigr)\\tilde{\\lvert \\omega \\rangle}\n",
    "$$\n",
    "\n",
    "具体的に $\\cos$ と $\\sin$ を求めると加法定理から\n",
    "\n",
    "$$\n",
    "\\cos \\frac{3}{2}\\theta = \\bigl( 1-\\frac{4}{2^n} \\bigr) \\sqrt{\\frac{2^n-1}{2^n}},\\ \\ \\ \\ \\sin \\frac{3}{2}\\theta = \\bigl( 3-\\frac{4}{2^n} \\bigr) \\sqrt{\\frac{1}{2^n}}\n",
    "$$\n",
    "\n",
    "よって、$s'$, $\\omega$ を用いると\n",
    "\n",
    "$$\n",
    "U_s U_{\\omega} \\lvert s\\rangle =  \\bigl(1 - \\frac{4}{2^n}\\bigr)\\lvert s' \\rangle + \\bigl(3 - \\frac{4}{2^n}\\bigr)\\lvert \\omega \\rangle\n",
    "$$\n",
    "\n",
    "この操作によって $2^n$ 個の振幅のうち $\\omega$ が他のよりも約３倍大きくなりました。\n",
    "以上で振幅増幅させることができました。"
   ]
  },
  {
   "cell_type": "markdown",
   "metadata": {},
   "source": [
    "## Grover's algorithm\n",
    "このアルゴリズムでは上の Oracle が与えられたときに $\\omega$ を見つけることができます。\n",
    "\n",
    "内容としては振幅増幅を繰り返し行い、$s$ を $\\omega$ に近づけるということをします。\n",
    "\n",
    "上の式から 1 回振幅増幅を行うと\n",
    "\n",
    "$$\n",
    "\\cos\\bigl(\\frac{3}{2}\\theta\\bigr)\\tilde{\\lvert s' \\rangle} + \\sin\\bigl(\\frac{3}{2}\\theta\\bigr)\\tilde{\\lvert \\omega \\rangle}\n",
    "$$\n",
    "\n",
    "となりました。\n",
    "\n",
    "よって、$n$ 回振幅増幅を行うと\n",
    "\n",
    "$$\n",
    "\\cos\\bigl(\\frac{1}{2}\\theta + n\\theta \\bigr)\\tilde{\\lvert s' \\rangle} + \\sin\\bigl(\\frac{1}{2}\\theta + n\\theta\\bigr)\\tilde{\\lvert \\omega \\rangle} = \\cos\\biggl\\{\\bigl(\\frac{1}{2} + n \\bigr)\\theta \\biggr\\} \\tilde{\\lvert s' \\rangle} + \\sin\\biggl\\{\\bigl(\\frac{1}{2} + n \\bigr)\\theta \\biggr\\}\\tilde{\\lvert \\omega \\rangle}\n",
    "$$\n",
    "\n",
    "と表せます。\n",
    "\n",
    "振幅増幅を行うに連れて上の図の初期状態 $s$ が段々と $\\omega$ に近づいて行くことがわかります。\n",
    "つまり $\\omega$ の確率振幅が 1 になっていきます。\n",
    "ただこのまま繰り返ししても回転し続けるだけなので繰り返す回数を考える必要があります。\n",
    "\n",
    "$\\omega$ の確率振幅を 1 にするので\n",
    "\n",
    "$$\n",
    "\\sin^2\\biggl\\{\\bigl(\\frac{1}{2} + k \\bigr)\\theta \\biggr\\} < 1 \\xrightarrow{\\sin >0}\\bigl(\\frac{1}{2} + k \\bigr)\\theta < \\frac{\\pi}{2} \\Leftrightarrow k<\\frac{\\pi}{2\\theta} - \\frac{1}{2}\n",
    "$$\n",
    "\n",
    "以上から振幅増幅する回数が決まり、$\\omega$ が取れることがわかりました。"
   ]
  },
  {
   "cell_type": "markdown",
   "metadata": {},
   "source": [
    "## 補足 (量子プログラミングへの応用)\n",
    "量子プログラミングでは振幅増幅は以下のように考えます。\n",
    "\n",
    "$s$ の定義から $s = s' + \\omega$ と分けて考えると、$U_{\\omega}$ はシンプルに\n",
    "\n",
    "$$\n",
    "U_{\\omega} (\\lvert s' \\rangle + \\lvert \\omega \\rangle) = \\lvert s' \\rangle - \\lvert \\omega \\rangle\n",
    "$$\n",
    "\n",
    "となります。\n",
    "つまりZ、CZゲートなどのように特定の状態だけ符号を変えるゲートを用いれば良いことがわかります。\n",
    "\n",
    "$U_s$ は上の図から幾何的に考えると以下のようにかけます。\n",
    "\n",
    "$$\n",
    "\\begin{align}\n",
    "U_s U_{\\omega} \\lvert s \\rangle &= 2(\\langle s \\lvert U_{\\omega} \\rvert s \\rangle \\rvert s \\rangle - U_{\\omega}\\lvert s \\rangle) + U_{\\omega}\\lvert s \\rangle \\\\\n",
    "&= 2\\lvert s \\rangle \\langle s \\lvert U_{\\omega} \\rvert s \\rangle - U_{\\omega}\\lvert s \\rangle \\\\\n",
    "&= (2\\lvert s\\rangle \\langle s\\rvert - I) U_{\\omega}\\lvert s \\rangle\n",
    "\\end{align}\n",
    "$$\n",
    "\n",
    "よって $U_s = 2\\lvert s\\rangle \\langle s\\rvert - I$ となります。"
   ]
  },
  {
   "cell_type": "markdown",
   "metadata": {},
   "source": [
    "さらに $U_s$ は以下のように分解できます。\n",
    "\n",
    "$$\n",
    "2\\lvert s\\rangle \\langle s\\rvert - I = 2H^{\\otimes n}\\lvert 0^n\\rangle \\langle 0^n\\rvert H^{\\otimes n} - I = H^{\\otimes n} (2\\lvert 0^n\\rangle \\langle 0^n\\rvert - I) H^{\\otimes n}\\ \\ \\ \\ (\\lvert 0^n \\rangle = \\lvert 00\\cdots 00 \\rangle)\n",
    "$$\n",
    "\n",
    "ここで $2\\lvert 0^n\\rangle \\langle 0^n\\rvert - I$ に関して\n",
    "\n",
    "$$\n",
    "2\\lvert 0^n\\rangle \\langle 0^n\\rvert - I = \n",
    "    \\begin{pmatrix}\n",
    "      -1 & 0 & 0 & \\ldots & 0 & 0 \\\\\n",
    "      0 & 1 & 0 & \\ldots & 0 & 0 \\\\\n",
    "      0 & 0 & 1 & \\ldots & 0 & 0 \\\\\n",
    "      \\vdots & \\vdots & \\vdots & \\ddots & \\vdots & \\vdots \\\\\n",
    "      0 & 0 & 0 & \\ldots & 1 & 0 \\\\\n",
    "      0 & 0 & 0 & \\ldots & 0 & 1\n",
    "    \\end{pmatrix}\n",
    "$$\n",
    "\n",
    "と表せる。\n",
    "\n",
    "これは\n",
    "\n",
    "$$\n",
    "XZX =\n",
    "    \\begin{pmatrix}\n",
    "      -1 & 0 \\\\\n",
    "      0 & 1\n",
    "    \\end{pmatrix}\n",
    "$$\n",
    "\n",
    "の性質から\n",
    "\n",
    "$$\n",
    "2\\lvert 0^n\\rangle \\langle 0^n\\rvert - I = X^{\\otimes n}C^n ZX^{\\otimes n}\n",
    "$$\n",
    "\n",
    "とかける。\n",
    "\n",
    "以上から Grover's algorithm をゲートで書き直すことができた。"
   ]
  },
  {
   "cell_type": "code",
   "execution_count": null,
   "metadata": {},
   "outputs": [],
   "source": []
  }
 ],
 "metadata": {
  "colab": {
   "collapsed_sections": [],
   "name": "014_algo_grover.ipynb",
   "provenance": [],
   "version": "0.3.2"
  },
  "kernelspec": {
   "display_name": "Python 3",
   "language": "python",
   "name": "python3"
  },
  "language_info": {
   "codemirror_mode": {
    "name": "ipython",
    "version": 3
   },
   "file_extension": ".py",
   "mimetype": "text/x-python",
   "name": "python",
   "nbconvert_exporter": "python",
   "pygments_lexer": "ipython3",
   "version": "3.8.2"
  }
 },
 "nbformat": 4,
 "nbformat_minor": 1
}
