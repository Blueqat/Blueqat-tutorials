{
 "cells": [
  {
   "cell_type": "markdown",
   "metadata": {
    "colab_type": "text",
    "id": "NjHnSAbHrInP"
   },
   "source": [
    "# グローバーのアルゴリズム\n",
    "グローバーのアルゴリズムは未整序のデータの検索が高速にできるというアルゴリズムです。  \n",
    "量子振幅増幅がこのアルゴリズムのベースとなっています。"
   ]
  },
  {
   "cell_type": "markdown",
   "metadata": {},
   "source": [
    "# アルゴリズムの説明"
   ]
  },
  {
   "cell_type": "markdown",
   "metadata": {},
   "source": [
    "このアルゴリズムでは量子振幅増幅を繰り返し行い、初期状態 $\\lvert s\\rangle$ を探している状態 $\\lvert \\omega\\rangle$ に近づけます。\n",
    "\n",
    "$$\n",
    "\\lvert s \\rangle = \\cos\\bigl(\\frac{\\theta}{2}\\bigr) \\tilde{\\lvert s' \\rangle} - \\sin\\bigl(\\frac{\\theta}{2}\\bigr) \\tilde{\\lvert \\omega \\rangle}\n",
    "$$\n",
    "\n",
    "上の式から 1 回振幅増幅を行うと\n",
    "\n",
    "$$\n",
    "U_s U_{\\omega} \\lvert s\\rangle =  \\cos\\bigl(\\frac{3}{2}\\theta\\bigr)\\tilde{\\lvert s' \\rangle} + \\sin\\bigl(\\frac{3}{2}\\theta\\bigr)\\tilde{\\lvert \\omega \\rangle}\n",
    "$$\n",
    "\n",
    "となりました。\n",
    "\n",
    "よって、$n$ 回振幅増幅を行うと\n",
    "\n",
    "$$\n",
    "\\cos\\bigl(\\frac{1}{2}\\theta + n\\theta \\bigr)\\tilde{\\lvert s' \\rangle} + \\sin\\bigl(\\frac{1}{2}\\theta + n\\theta\\bigr)\\tilde{\\lvert \\omega \\rangle} = \\cos\\biggl\\{\\bigl(\\frac{1}{2} + n \\bigr)\\theta \\biggr\\} \\tilde{\\lvert s' \\rangle} + \\sin\\biggl\\{\\bigl(\\frac{1}{2} + n \\bigr)\\theta \\biggr\\}\\tilde{\\lvert \\omega \\rangle}\n",
    "$$\n",
    "\n",
    "と表せます。\n",
    "\n",
    "振幅増幅を行うにつれて上の図の初期状態 $\\lvert s\\rangle$ が段々と $\\lvert \\omega\\rangle$ に近づいて行くことがわかります。\n",
    "つまり $\\lvert \\omega\\rangle$ の確率振幅が 1 になっていきます。\n",
    "ただこのまま繰り返ししても回転し続けるだけなので繰り返す回数を考える必要があります。\n",
    "\n",
    "$\\lvert \\omega \\rangle$ の確率振幅を 1 にするので\n",
    "\n",
    "$$\n",
    "\\sin^2\\biggl\\{\\bigl(\\frac{1}{2} + k \\bigr)\\theta \\biggr\\} < 1 \\xrightarrow{\\sin >0}\\bigl(\\frac{1}{2} + k \\bigr)\\theta < \\frac{\\pi}{2} \\Leftrightarrow k<\\frac{\\pi}{2\\theta} - \\frac{1}{2}\n",
    "$$\n",
    "\n",
    "以上から振幅増幅する回数が決まり、測定により $\\lvert \\omega \\rangle$ を高確率で得られることがわかりました。"
   ]
  },
  {
   "cell_type": "markdown",
   "metadata": {},
   "source": [
    "振幅増幅の実装例では、1回の振幅増幅で $\\lvert \\omega \\rangle$ の測定確率が1となりました。  \n",
    "2量子ビットの等しい重ね合わせである初期状態 $\\lvert s \\rangle$ において$\\theta = \\frac{\\pi}{3}$ です。  \n",
    "この場合、1回の振幅増幅により $U_s U_{\\omega}\\lvert s \\rangle = \\tilde{\\lvert \\omega \\rangle}$ となることが上の式よりわかります。  \n",
    "よって、実質的にグローバーのアルゴリズムを実行していました。"
   ]
  },
  {
   "cell_type": "code",
   "execution_count": null,
   "metadata": {},
   "outputs": [],
   "source": []
  }
 ],
 "metadata": {
  "colab": {
   "collapsed_sections": [],
   "name": "014_algo_grover.ipynb",
   "provenance": [],
   "version": "0.3.2"
  },
  "kernelspec": {
   "display_name": "Python 3",
   "language": "python",
   "name": "python3"
  },
  "language_info": {
   "codemirror_mode": {
    "name": "ipython",
    "version": 3
   },
   "file_extension": ".py",
   "mimetype": "text/x-python",
   "name": "python",
   "nbconvert_exporter": "python",
   "pygments_lexer": "ipython3",
   "version": "3.8.2"
  }
 },
 "nbformat": 4,
 "nbformat_minor": 1
}
