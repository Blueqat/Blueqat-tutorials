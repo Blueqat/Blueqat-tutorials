{
 "cells": [
  {
   "cell_type": "markdown",
   "id": "headed-abortion",
   "metadata": {},
   "source": [
    "# 量子アルゴリズム"
   ]
  },
  {
   "cell_type": "markdown",
   "id": "processed-cargo",
   "metadata": {},
   "source": [
    "### 概論\n",
    "\n",
    "アルゴリズムとは一般に、ある問題を解くためにコンピュータに実行させる手順を指します。\n",
    "\n",
    "量子アルゴリズムとは、量子コンピュータで実行させることを前提としたアルゴリズムです。  \n",
    "ブラケット記号を用いた数式で記述されることが多いですが、最終的には具体的な量子ゲートを用いた量子回路に落とし込まれます。  \n",
    "\n",
    "量子アルゴリズムの目的は、量子コンピュータを用いて古典コンピュータより高速な計算、または古典コンピュータでは物理的な制約(例:メモリ容量)により事実上不可能な計算を行うことです。  \n",
    "これには量子ビットの持つ「重ね合わせ」や「もつれ」といった性質を利用します。  \n",
    "$n$ 個の量子ビットは(古典)ビットと異なり、$2^n$ 通りの状態を同時に、重ね合わせて保持することができます。  \n",
    "\n",
    "一見 $2^n$ 通りの計算を並列に実行可能と考えたくなりますが、残念ながらそう単純ではありません。  \n",
    "なぜなら量子コンピュータでは\"測定\"過程によって、$2^n$ 通りの状態のうち1つのみが確率的に出力されるためです。  \n",
    "つまり、量子コンピュータは内部的には膨大な情報を持つことができますが、それに対して出力できる情報は非常に絞られます。  \n",
    "よって量子アルゴリズムは、少ない出力回数で求める解が得られるよう、\"上手\"に設計される必要があります。  \n",
    "\n",
    "現状、量子アルゴリズムが古典アルゴリズムより高速であると示されている計算は非常に限られています。  \n",
    "その限られた例に含まれるのが、有名なショアのアルゴリズムやグローバーのアルゴリズムです。  \n",
    "こうしたアルゴリズムを学ぶ過程で、量子コンピュータが古典コンピュータに比べて優位性を出しやすい計算がどのようなものかが掴めると思います。　　\n",
    "そうして新たに量子アルゴリズムが高速となるような計算を発見することが、将来の量子コンピュータ利用の後押しとなります。"
   ]
  },
  {
   "cell_type": "markdown",
   "id": "revolutionary-loading",
   "metadata": {},
   "source": [
    "### NISQ アルゴリズム"
   ]
  },
  {
   "cell_type": "markdown",
   "id": "intermediate-saying",
   "metadata": {},
   "source": [
    "現在(2021年)の量子コンピュータはまだ規模が小さく、またノイズが計算結果に与える影響を無視できません。このような量子コンピュータは Noisy Intermediate-Scale Quantum (NISQ) デバイス[1]と呼ばれ、区別されます。  \n",
    "上記のような古典アルゴリズムより高速であることが理論的に示された量子アルゴリズムは、NISQデバイス上で実用的な規模、精度で動かすことができません。  \n",
    "これができるような量子コンピュータ(Learge scale, fault tolerant quantum computer)の登場には数十年程度を要すると言われています。\n",
    "\n",
    "一方\"量子超越\"として発表されたように、現状の最大のNISQデバイスは既存の古典コンピュータでは効率的にシミュレートできない領域に達しています[2]。  \n",
    "よって数十年を待たずとも、NISQデバイスを用いて既存の古典コンピュータよりも高速に実行できる計算が存在すると期待されています。  \n",
    "そのようなアルゴリズムはNISQアルゴリズムと呼ばれ、研究開発競争が現在世界中で行われています。"
   ]
  },
  {
   "cell_type": "markdown",
   "id": "placed-retrieval",
   "metadata": {},
   "source": [
    "### NISQ, 非NISQアルゴリズムの学習について"
   ]
  },
  {
   "cell_type": "markdown",
   "id": "afraid-warning",
   "metadata": {},
   "source": [
    "以降のチュートリアルでは、非NISQアルゴリズム (\"Universal Quantum Algorithm\" と称しています) とNISQアルゴリズムを区別して掲載しています。  \n",
    "量子回路の基本的な作り方や、使用する量子ゲートはどちらも共通です。  \n",
    "NISQアルゴリズムは非NISQアルゴリズムと比較し、少ない量子ビット数でも動作可能なこと、計算におけるエラーを許容できることが重視されます。\n",
    "\n",
    "学ぶにあたっては非NISQ量子アルゴリズムの方が、量子計算が古典計算より高速となる仕組みがより見えやすいと思います。　　\n",
    "一方、より近未来の実用に的を絞りたいのでしたら、NISQアルゴリズムを重点的に学ぶのが良いと思います。"
   ]
  },
  {
   "cell_type": "markdown",
   "id": "pharmaceutical-subdivision",
   "metadata": {},
   "source": [
    "### 参考文献\n",
    "\n",
    "[1] Bharti, Kishor, et al. \"Noisy intermediate-scale quantum (NISQ) algorithms.\" arXiv preprint arXiv:2101.08448 (2021).  \n",
    "[2] Arute, Frank, et al. \"Quantum supremacy using a programmable superconducting processor.\" Nature 574.7779 (2019): 505-51"
   ]
  },
  {
   "cell_type": "code",
   "execution_count": null,
   "id": "grand-implementation",
   "metadata": {},
   "outputs": [],
   "source": []
  }
 ],
 "metadata": {
  "kernelspec": {
   "display_name": "Python 3",
   "language": "python",
   "name": "python3"
  },
  "language_info": {
   "codemirror_mode": {
    "name": "ipython",
    "version": 3
   },
   "file_extension": ".py",
   "mimetype": "text/x-python",
   "name": "python",
   "nbconvert_exporter": "python",
   "pygments_lexer": "ipython3",
   "version": "3.8.2"
  }
 },
 "nbformat": 4,
 "nbformat_minor": 5
}
