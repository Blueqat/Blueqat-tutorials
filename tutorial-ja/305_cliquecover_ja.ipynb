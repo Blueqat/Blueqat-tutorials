{
 "cells": [
  {
   "cell_type": "markdown",
   "metadata": {
    "colab_type": "text",
    "id": "lf3i53RHDtdL"
   },
   "source": [
    "# Clique Cover問題\n",
    "グラフ$G=(V,E)$が与えられたとき、そのグラフをいくつかの部分グラフに分割する(別々の色$i = 1, \\dots ,n$ に塗り分ける)ことを考えます。このときそれぞれの部分グラフがクリーク(その部分グラフだけに注目したとき完全グラフとなっているもの)となるような分割の仕方を求める問題をclique cover問題といいます。"
   ]
  },
  {
   "cell_type": "markdown",
   "metadata": {
    "colab_type": "text",
    "id": "R8k45OR2DtdP"
   },
   "source": [
    "# ハミルトニアン\n",
    "頂点$v$を色$i$で塗り分けるかどうかを$x_{v,i}$と表すことにします。clique cover問題のハミルトニアン表現は以下のようになります\n",
    "\n",
    "$ \\displaystyle H = A \\sum_v \\left( 1 - \\sum_{i = 1}^n x_{v,i} \\right)^2 + B \\sum_{i=1}^n \\left[ \\frac {1}{2} \\left( -1 + \\sum_v x_{v,i} \\right) \\sum_v x_{v,i} - \\sum_{(uv) \\in E} x_{u,i}x_{v.i} \\right]$\n",
    "\n",
    "$H$の第一項は各頂点$v$について、ただ一つの色で塗られているとき最小値0をとります。\n",
    "次に第二項を見ていきます。$\\displaystyle \\frac {1}{2} \\left( -1 + \\sum_v x_{v,i} \\right) \\sum_v x_{v,i}$の部分は色$i$で塗られている頂点の数$\\displaystyle \\sum_v x_{v,i}$を$n_i$と書くと、$ {}_{n_i} C _2$と一致します。つまり全ての頂点から二つの頂点を選ぶ組み合わせとなります。これは色$i$で塗られた頂点からなる完全グラフの辺の数と一致します。後半の$\\displaystyle \\sum_{(uv) \\in E} x_{u,i}x_{v.i}$の部分は色$i$で塗られている部分グラフに含まれる実際の辺の数を表しています。これはその部分グラフが完全グラフだった場合に限り、前者の値($ {}_{n_i} C _2$)と同じになるので、第二項は問題の条件通りクリークで分割できている場合のみ最小値0を取ります。QUBO行列を計算するために以下のように式変形しておきます。\n",
    "\n",
    "$ \\displaystyle H = A \\sum_v \\left\\{ -2 \\sum_{i=1}^n x_{v,i} + \\left(\\sum_{i=1}^n x_{v,i}\\right)^2 \\right\\} + B \\sum_{i=1}^n \\left\\{ -\\frac{1}{2} \\sum_v x_{v,i} + \\frac{1}{2}\\left( \\sum_v x_{v,i}\\right)^2 - \\sum_{(u,v) \\in E} x_{u,i}x_{v,i}\\right\\}+ Const. $  \n",
    "$ \\displaystyle = A \\sum_v \\left( -2 \\sum_{i=1}^n x_{v,i} + \\sum_{i=1}^n x_{v,i}^2 + 2\\mathop{ \\sum \\sum }_{i \\neq j }^{n} x_{v,i}x_{v,j} \\right) + B \\sum_{i=1}^n \\left\\{ \\frac{1}{2} \\left(-\\sum_v x_{v,i} + \\sum_v x_{v,i}^2 + \\mathop{\\sum \\sum}_{u \\neq v}^{n} x_{u,i}x_{v,i} \\right) - \\sum_{(u,v) \\in E} x_{u,i}x_{v,i}\\right\\}+ Const. $  \n",
    "$ \\displaystyle = A \\sum_v \\left( - \\sum_{i=1}^n x_{v,i}^2 + 2\\mathop { \\sum \\sum }_{i \\neq j }^{n} x_{v,i}x_{v,j} \\right) + B \\sum_{i=1}^n \\left( \\frac{1}{2} \\mathop{\\sum \\sum}_{u \\neq v}^{n}x_{u,i}x_{v,i} - \\sum_{(u,v) \\in E} x_{u,i}x_{v,i}\\right)+ Const. $"
   ]
  },
  {
   "cell_type": "markdown",
   "metadata": {
    "colab_type": "text",
    "id": "YLgtINN2DtdR"
   },
   "source": [
    "# QUBOを計算して問題を解く\n",
    "QUBOを計算する関数と答えを表示する関数を用意します。"
   ]
  },
  {
   "cell_type": "code",
   "execution_count": 59,
   "metadata": {
    "colab": {},
    "colab_type": "code",
    "id": "RxxjSTWoDtdT"
   },
   "outputs": [],
   "source": [
    "import numpy as np\n",
    "\n",
    "def get_qubo(adjacency_matrix, n_color, A, B):\n",
    "    graph_size = len(adjacency_matrix)\n",
    "    qubo_size = graph_size * n_color\n",
    "    qubo = np.zeros((qubo_size, qubo_size))\n",
    "    indices = [(u,v,i,j) for u in range(graph_size) for v in range(graph_size) for i in range(n_color) for j in range(n_color)]\n",
    "    for u,v,i,j in indices:\n",
    "        ui = u * n_color + i\n",
    "        vj = v * n_color + j\n",
    "        if ui > vj:\n",
    "            continue\n",
    "            \n",
    "        if ui == vj:\n",
    "            qubo[ui][vj] -= A\n",
    "        if u == v and i != j:\n",
    "            qubo[ui][vj] += A * 2\n",
    "        if u != v and i == j:\n",
    "            qubo[ui][vj] += B * 0.5\n",
    "            if adjacency_matrix[u][v] > 0:\n",
    "                qubo[ui][vj] -= B\n",
    "    return qubo"
   ]
  },
  {
   "cell_type": "code",
   "execution_count": 60,
   "metadata": {
    "colab": {},
    "colab_type": "code",
    "id": "U4Uydo_2DtdY"
   },
   "outputs": [],
   "source": [
    "def show_answer(q, graph_size, n_color):\n",
    "    print(q)\n",
    "    arr = []\n",
    "    for v in range(graph_size):\n",
    "        color = []\n",
    "        for i in range(n_color):\n",
    "            index = v * n_color + i\n",
    "            if q[index] > 0:\n",
    "                color.append(i)\n",
    "        print(f\"vertex{v}'s color is {color}\")\n",
    "        arr.append(color)\n",
    "    return arr"
   ]
  },
  {
   "cell_type": "code",
   "execution_count": 61,
   "metadata": {
    "colab": {},
    "colab_type": "code",
    "id": "ds8nBpRtDtdb"
   },
   "outputs": [],
   "source": [
    "def calculate_H(q, adjacency_matrix, n_color, A, B):\n",
    "    graph_size = len(adjacency_matrix)\n",
    "    h_a = calculate_H_A(q, graph_size, n_color, A)\n",
    "    h_b = calculate_H_B(q, adjacency_matrix, n_color, B)\n",
    "    print(f\"H = {h_a + h_b}\")\n",
    "    return h_a + h_b\n",
    "\n",
    "def calculate_H_A(q, graph_size, n_color, A):\n",
    "    hamiltonian = 0\n",
    "    for v in range(graph_size):\n",
    "        sum_x = 0\n",
    "        for i in range(n_color):\n",
    "            index = v * n_color + i\n",
    "            sum_x += q[index]\n",
    "        hamiltonian += (1 - sum_x) ** 2\n",
    "    hamiltonian *= A\n",
    "    print(f\"H_A = {hamiltonian}\")\n",
    "    return hamiltonian\n",
    "\n",
    "def calculate_H_B(q, adjacency_matrix, n_color, B):\n",
    "    graph_size = len(adjacency_matrix)\n",
    "    hamiltonian = 0\n",
    "    for i in range(n_color):\n",
    "        sum_x = 0\n",
    "        for v in range(graph_size):\n",
    "            vi = v * n_color + i\n",
    "            sum_x += q[vi]\n",
    "            for u in range(graph_size):\n",
    "                if u >= v:\n",
    "                    continue\n",
    "                ui = u * n_color + i\n",
    "                hamiltonian -= adjacency_matrix[u][v] * q[ui] * q[vi]\n",
    "        hamiltonian += 0.5 * (-1 + sum_x) * sum_x\n",
    "    hamiltonian *= B\n",
    "    print(f\"H_B = {hamiltonian}\")\n",
    "    return hamiltonian"
   ]
  },
  {
   "cell_type": "markdown",
   "metadata": {
    "colab_type": "text",
    "id": "FH3C6g1EEx_s"
   },
   "source": [
    "問題設定を書いて解きます。今回解くグラフは下の図の通りです。  "
   ]
  },
  {
   "cell_type": "code",
   "execution_count": 62,
   "metadata": {
    "colab": {
     "base_uri": "https://localhost:8080/",
     "height": 319
    },
    "colab_type": "code",
    "id": "CPm-Tp0vEgPD",
    "outputId": "d65a36c0-66f6-40b1-c45f-aa07fcd34d3f"
   },
   "outputs": [
    {
     "data": {
      "image/png": "[encoded data removed]",
      "text/plain": [
       "<Figure size 432x288 with 1 Axes>"
      ]
     },
     "metadata": {},
     "output_type": "display_data"
    }
   ],
   "source": [
    "import networkx as nx\n",
    "import matplotlib.pyplot as plt\n",
    "\n",
    "options = {'node_color': '#efefef','node_size': 1200,'with_labels':'True'}\n",
    "\n",
    "G = nx.Graph()\n",
    "G.add_edges_from([(0,1),(0,2),(1,2),(1,3),(1,4),(2,3),(3,4)])\n",
    "nx.draw(G, **options)"
   ]
  },
  {
   "cell_type": "markdown",
   "metadata": {
    "colab_type": "text",
    "id": "amT6bpljDtdf"
   },
   "source": [
    "データは隣接行列の形で与えます。ハミルトニアンの各項(係数 A,B のかかった項)は常に正または0の値を取るため、 A,B のバランスはそれほど気をつける必要はないと思います。今回は0.1で揃えておきます。"
   ]
  },
  {
   "cell_type": "code",
   "execution_count": 63,
   "metadata": {},
   "outputs": [],
   "source": [
    "adjacency_matrix = \\\n",
    "[ \\\n",
    "    [0,1,1,0,0], \\\n",
    "    [1,0,1,1,1], \\\n",
    "    [1,1,0,1,0], \\\n",
    "    [0,1,1,0,1], \\\n",
    "    [0,1,0,1,0], \\\n",
    "]\n",
    "\n",
    "n_color = 2\n",
    "A = 0.1\n",
    "B = 0.1"
   ]
  },
  {
   "cell_type": "code",
   "execution_count": 64,
   "metadata": {},
   "outputs": [
    {
     "name": "stdout",
     "output_type": "stream",
     "text": [
      "(((0, 1, 0, 1, 0, 1, 1, 0, 1, 0), 0.03300339421700338), ((1, 0, 1, 0, 1, 0, 0, 1, 0, 1), 0.03300339421700337), ((0, 1, 1, 0, 0, 1, 1, 0, 1, 0), 0.033003394217003365), ((1, 0, 0, 1, 1, 0, 0, 1, 0, 1), 0.033003394217003365), ((1, 0, 1, 0, 1, 0, 1, 0, 1, 0), 0.0329922474049749), ((0, 1, 0, 1, 0, 1, 0, 1, 0, 1), 0.0329922474049749), ((1, 0, 1, 0, 1, 0, 1, 0, 0, 1), 0.032919482754343955), ((0, 1, 1, 0, 1, 0, 1, 0, 1, 0), 0.03291948275434395), ((1, 0, 0, 1, 0, 1, 0, 1, 0, 1), 0.03291948275434395), ((0, 1, 0, 1, 0, 1, 0, 1, 1, 0), 0.032919482754343934), ((0, 1, 1, 1, 0, 1, 1, 0, 1, 0), 0.017442288481315057), ((1, 0, 1, 1, 1, 0, 0, 1, 0, 1), 0.017442288481315057))\n"
     ]
    }
   ],
   "source": [
    "import blueqat.wq as wq\n",
    "from blueqat import vqe\n",
    "\n",
    "qubo = get_qubo(adjacency_matrix, n_color, A, B)\n",
    "result = vqe.Vqe(vqe.QaoaAnsatz(wq.pauli(qubo), step=4)).run()\n",
    "answer = result.most_common(12)\n",
    "print(answer)"
   ]
  },
  {
   "cell_type": "markdown",
   "metadata": {},
   "source": [
    "計算結果を表示してみます。"
   ]
  },
  {
   "cell_type": "code",
   "execution_count": 65,
   "metadata": {},
   "outputs": [
    {
     "name": "stdout",
     "output_type": "stream",
     "text": [
      "H_A = 0.0\n",
      "H_B = 0.0\n",
      "H = 0.0\n",
      "(0, 1, 0, 1, 0, 1, 1, 0, 1, 0)\n",
      "vertex0's color is [1]\n",
      "vertex1's color is [1]\n",
      "vertex2's color is [1]\n",
      "vertex3's color is [0]\n",
      "vertex4's color is [0]\n",
      "\n",
      "H_A = 0.0\n",
      "H_B = 0.0\n",
      "H = 0.0\n",
      "(1, 0, 1, 0, 1, 0, 0, 1, 0, 1)\n",
      "vertex0's color is [0]\n",
      "vertex1's color is [0]\n",
      "vertex2's color is [0]\n",
      "vertex3's color is [1]\n",
      "vertex4's color is [1]\n",
      "\n",
      "H_A = 0.0\n",
      "H_B = 0.0\n",
      "H = 0.0\n",
      "(0, 1, 1, 0, 0, 1, 1, 0, 1, 0)\n",
      "vertex0's color is [1]\n",
      "vertex1's color is [0]\n",
      "vertex2's color is [1]\n",
      "vertex3's color is [0]\n",
      "vertex4's color is [0]\n",
      "\n",
      "H_A = 0.0\n",
      "H_B = 0.0\n",
      "H = 0.0\n",
      "(1, 0, 0, 1, 1, 0, 0, 1, 0, 1)\n",
      "vertex0's color is [0]\n",
      "vertex1's color is [1]\n",
      "vertex2's color is [0]\n",
      "vertex3's color is [1]\n",
      "vertex4's color is [1]\n",
      "\n",
      "H_A = 0.0\n",
      "H_B = 0.30000000000000004\n",
      "H = 0.30000000000000004\n",
      "(1, 0, 1, 0, 1, 0, 1, 0, 1, 0)\n",
      "vertex0's color is [0]\n",
      "vertex1's color is [0]\n",
      "vertex2's color is [0]\n",
      "vertex3's color is [0]\n",
      "vertex4's color is [0]\n",
      "\n",
      "H_A = 0.0\n",
      "H_B = 0.30000000000000004\n",
      "H = 0.30000000000000004\n",
      "(0, 1, 0, 1, 0, 1, 0, 1, 0, 1)\n",
      "vertex0's color is [1]\n",
      "vertex1's color is [1]\n",
      "vertex2's color is [1]\n",
      "vertex3's color is [1]\n",
      "vertex4's color is [1]\n",
      "\n",
      "H_A = 0.0\n",
      "H_B = 0.1\n",
      "H = 0.1\n",
      "(1, 0, 1, 0, 1, 0, 1, 0, 0, 1)\n",
      "vertex0's color is [0]\n",
      "vertex1's color is [0]\n",
      "vertex2's color is [0]\n",
      "vertex3's color is [0]\n",
      "vertex4's color is [1]\n",
      "\n",
      "H_A = 0.0\n",
      "H_B = 0.1\n",
      "H = 0.1\n",
      "(0, 1, 1, 0, 1, 0, 1, 0, 1, 0)\n",
      "vertex0's color is [1]\n",
      "vertex1's color is [0]\n",
      "vertex2's color is [0]\n",
      "vertex3's color is [0]\n",
      "vertex4's color is [0]\n",
      "\n",
      "H_A = 0.0\n",
      "H_B = 0.1\n",
      "H = 0.1\n",
      "(1, 0, 0, 1, 0, 1, 0, 1, 0, 1)\n",
      "vertex0's color is [0]\n",
      "vertex1's color is [1]\n",
      "vertex2's color is [1]\n",
      "vertex3's color is [1]\n",
      "vertex4's color is [1]\n",
      "\n",
      "H_A = 0.0\n",
      "H_B = 0.1\n",
      "H = 0.1\n",
      "(0, 1, 0, 1, 0, 1, 0, 1, 1, 0)\n",
      "vertex0's color is [1]\n",
      "vertex1's color is [1]\n",
      "vertex2's color is [1]\n",
      "vertex3's color is [1]\n",
      "vertex4's color is [0]\n",
      "\n"
     ]
    }
   ],
   "source": [
    "for i in range(10):\n",
    "    calculate_H(answer[i][0], adjacency_matrix, n_color, A, B)\n",
    "    ans = show_answer(answer[i][0], len(adjacency_matrix), n_color)\n",
    "    print()"
   ]
  },
  {
   "cell_type": "markdown",
   "metadata": {
    "colab_type": "text",
    "id": "52_6659BDtdk"
   },
   "source": [
    "$H = 0$となっている解が最適解です。"
   ]
  }
 ],
 "metadata": {
  "colab": {
   "name": "029_clique_cover",
   "provenance": []
  },
  "kernelspec": {
   "display_name": "Python 3",
   "language": "python",
   "name": "python3"
  },
  "language_info": {
   "codemirror_mode": {
    "name": "ipython",
    "version": 3
   },
   "file_extension": ".py",
   "mimetype": "text/x-python",
   "name": "python",
   "nbconvert_exporter": "python",
   "pygments_lexer": "ipython3",
   "version": "3.9.5"
  }
 },
 "nbformat": 4,
 "nbformat_minor": 4
}
