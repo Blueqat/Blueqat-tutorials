{
 "cells": [
  {
   "cell_type": "markdown",
   "metadata": {
    "colab_type": "text",
    "id": "37f1qQvLpWzM"
   },
   "source": [
    "# 整数計画問題 / Binary Integer Linear Programming\n",
    "バイナリ値からなるベクトルxについてSx=bという制約条件を満たす中で、c⋅xが最大となるxを求める。\n",
    "ハミルトニアンは上記の制約条件と最大にするコスト関数を繋げて、\n",
    "\n",
    "$$H = \\sum_{j=1}^m\\left[b_j-\\sum_{i=1}^N S_{ji}x_i\\right]^2 - B\\sum_{i=1}^Nc_ix_i$$\n",
    "\n"
   ]
  },
  {
   "cell_type": "markdown",
   "metadata": {
    "colab_type": "text",
    "id": "hAKGp9-RpyJF"
   },
   "source": [
    "## 例題\n",
    "下記のような例題を用意します。\n",
    "\n",
    "$$\n",
    "\\begin{bmatrix}\n",
    "3&2&1\\\\5&2&3\n",
    "\\end{bmatrix}\n",
    "\\begin{bmatrix}\n",
    "x_1\\\\x_2\\\\x_3\n",
    "\\end{bmatrix}\n",
    "=\n",
    "\\begin{bmatrix}\n",
    "3\\\\5\n",
    "\\end{bmatrix}\n",
    "$$\n",
    "\n",
    "を満たす時、\n",
    "\n",
    "$$\n",
    "\\begin{bmatrix}\n",
    "1&2&1\n",
    "\\end{bmatrix}\n",
    "\\begin{bmatrix}\n",
    "x_1\\\\x_2\\\\x_3\n",
    "\\end{bmatrix}\n",
    "$$\n",
    "\n",
    "を最大にするようなベクトル$x$を求めます。\n"
   ]
  },
  {
   "cell_type": "markdown",
   "metadata": {
    "colab_type": "text",
    "id": "Uy6U_6rIqLHH"
   },
   "source": [
    "## 第1項を計算する\n",
    "第1項目は$Sx=b$という条件を満たす組み合わせを指定します。\n",
    "指定の式を$b^2 - 2*b*A + A^2$の形にします。定数は無視します。"
   ]
  },
  {
   "cell_type": "code",
   "execution_count": 30,
   "metadata": {
    "colab": {
     "base_uri": "https://localhost:8080/",
     "height": 68
    },
    "colab_type": "code",
    "id": "ubiKxrvuqoCi",
    "outputId": "b4ba8a64-549a-487f-c041-579ff96ad41c"
   },
   "outputs": [
    {
     "name": "stdout",
     "output_type": "stream",
     "text": [
      "[[-34.  32.  36.]\n",
      " [  0. -24.  16.]\n",
      " [  0.   0. -26.]]\n"
     ]
    }
   ],
   "source": [
    "import numpy as np\n",
    "import blueqat.wq as wq\n",
    "from blueqat import vqe\n",
    "\n",
    "A = [[3,2,1],[5,2,3]]\n",
    "b = [3,5]\n",
    "\n",
    "qubo = np.zeros((3,3))\n",
    "\n",
    "for i in range(len(b)):\n",
    "  qubo += -2*b[i]*np.diag(A[i]) + wq.sqr(A[i])\n",
    "\n",
    "print(qubo)"
   ]
  },
  {
   "cell_type": "markdown",
   "metadata": {
    "colab_type": "text",
    "id": "P01zzQ6MrtEO"
   },
   "source": [
    "ここで一旦確認をしてみます。上記の条件を満たすのは、"
   ]
  },
  {
   "cell_type": "code",
   "execution_count": 25,
   "metadata": {
    "colab": {
     "base_uri": "https://localhost:8080/",
     "height": 34
    },
    "colab_type": "code",
    "id": "CiCLoHalrStB",
    "outputId": "92de9d54-6384-4be3-b2df-a5eaba2206b2"
   },
   "outputs": [
    {
     "name": "stdout",
     "output_type": "stream",
     "text": [
      "(((1, 0, 0), 0.4740483041946056), ((0, 1, 1), 0.4740483041946056), ((0, 1, 0), 0.013873620237192762), ((1, 0, 1), 0.013873620237192762), ((1, 1, 0), 0.0075247127169019755), ((0, 0, 1), 0.0075247127169019755), ((0, 0, 0), 0.004553362851299381), ((1, 1, 1), 0.004553362851299381))\n"
     ]
    }
   ],
   "source": [
    "result = vqe.Vqe(vqe.QaoaAnsatz(wq.pauli(qubo), step=2)).run()\n",
    "answer = result.most_common(12)\n",
    "print(answer)"
   ]
  },
  {
   "cell_type": "markdown",
   "metadata": {
    "colab_type": "text",
    "id": "mNloFgUrrso7"
   },
   "source": [
    "上記のように[1,0,0]や[0,1,1]がでてきました。"
   ]
  },
  {
   "cell_type": "markdown",
   "metadata": {
    "colab_type": "text",
    "id": "hSCF36qsrRG7"
   },
   "source": [
    "## 次に第2項を計算する\n",
    "その次にもう１つのコスト関数を計算します。こちらは下記のようになります。"
   ]
  },
  {
   "cell_type": "code",
   "execution_count": 26,
   "metadata": {
    "colab": {
     "base_uri": "https://localhost:8080/",
     "height": 68
    },
    "colab_type": "code",
    "id": "1X4BrX2srO5S",
    "outputId": "d8e25abb-0739-421c-c295-5b7b27cdd899"
   },
   "outputs": [
    {
     "name": "stdout",
     "output_type": "stream",
     "text": [
      "[[1 0 0]\n",
      " [0 2 0]\n",
      " [0 0 1]]\n"
     ]
    }
   ],
   "source": [
    "matrix2 = np.diag([1,2,1])\n",
    "print(matrix2)"
   ]
  },
  {
   "cell_type": "markdown",
   "metadata": {
    "colab_type": "text",
    "id": "Zkbs5pjFsPHL"
   },
   "source": [
    "# QUBOをつなげて計算する\n",
    "これらをつなげて計算してみます。"
   ]
  },
  {
   "cell_type": "code",
   "execution_count": 31,
   "metadata": {
    "colab": {
     "base_uri": "https://localhost:8080/",
     "height": 34
    },
    "colab_type": "code",
    "id": "3tSYIYUIsT2i",
    "outputId": "ecec2073-cf9e-4bb1-dd29-7b45d53026fc"
   },
   "outputs": [
    {
     "name": "stdout",
     "output_type": "stream",
     "text": [
      "(((0, 1, 1), 0.6881917820176535), ((1, 0, 0), 0.19239554109430343), ((1, 0, 1), 0.05175245548622831), ((1, 1, 1), 0.033712227096117826), ((0, 1, 0), 0.014905610166535091), ((0, 0, 1), 0.0105463169840855), ((0, 0, 0), 0.007355716679034651), ((1, 1, 0), 0.0011403504760410786))\n"
     ]
    }
   ],
   "source": [
    "B = 1\n",
    "qubo += - B * matrix2\n",
    "\n",
    "result = vqe.Vqe(vqe.QaoaAnsatz(wq.pauli(qubo), step=4)).run()\n",
    "answer = result.most_common(12)\n",
    "print(answer)"
   ]
  },
  {
   "cell_type": "markdown",
   "metadata": {
    "colab_type": "text",
    "id": "561L2mKAsynt"
   },
   "source": [
    "答えは、[0,1,1]となりました。以上です。"
   ]
  }
 ],
 "metadata": {
  "colab": {
   "name": "028_BIL",
   "provenance": []
  },
  "kernelspec": {
   "display_name": "Python 3",
   "language": "python",
   "name": "python3"
  },
  "language_info": {
   "codemirror_mode": {
    "name": "ipython",
    "version": 3
   },
   "file_extension": ".py",
   "mimetype": "text/x-python",
   "name": "python",
   "nbconvert_exporter": "python",
   "pygments_lexer": "ipython3",
   "version": "3.9.5"
  }
 },
 "nbformat": 4,
 "nbformat_minor": 4
}
