{
 "cells": [
  {
   "cell_type": "markdown",
   "metadata": {
    "colab_type": "text",
    "id": "NjHnSAbHrInP"
   },
   "source": [
    "# たし算\n",
    "量子コンピュータには従来のコンピュータと同じ計算もできるという特徴があります。たし算の回路を確認します。"
   ]
  },
  {
   "cell_type": "markdown",
   "metadata": {},
   "source": [
    "## 今回学ぶこと\n",
    "1. 量子ゲートを使って二進数のたし算を実装\n",
    "2. 量子の重ね合わせを使って1つの回路で複数のたし算"
   ]
  },
  {
   "cell_type": "markdown",
   "metadata": {},
   "source": [
    "## Blueqatのインストール\n",
    "pipからBlueqatをインストールします。"
   ]
  },
  {
   "cell_type": "code",
   "execution_count": 2,
   "metadata": {
    "colab": {},
    "colab_type": "code",
    "collapsed": true,
    "id": "OF-AmKpXtgSJ",
    "jupyter": {
     "outputs_hidden": true
    }
   },
   "outputs": [
    {
     "name": "stdout",
     "output_type": "stream",
     "text": [
      "Requirement already satisfied: blueqat in /home/ec2-user/anaconda3/envs/python3/lib/python3.6/site-packages (0.3.13)\n",
      "Requirement already satisfied: numpy~=1.12 in /home/ec2-user/anaconda3/envs/python3/lib/python3.6/site-packages (from blueqat) (1.18.3)\n",
      "Requirement already satisfied: scipy>=1.1.0 in /home/ec2-user/anaconda3/envs/python3/lib/python3.6/site-packages (from blueqat) (1.1.0)\n",
      "\u001b[33mWARNING: You are using pip version 20.0.2; however, version 20.1 is available.\n",
      "You should consider upgrading via the '/home/ec2-user/anaconda3/envs/python3/bin/python -m pip install --upgrade pip' command.\u001b[0m\n"
     ]
    }
   ],
   "source": [
    "!pip install blueqat"
   ]
  },
  {
   "cell_type": "markdown",
   "metadata": {
    "colab_type": "text",
    "id": "PKhFYi-drld1"
   },
   "source": [
    "## 二進数のたし算\n",
    "たし算は桁上がりを実行するccxゲートと、位の足し合わせを実行するcxゲートを使います。今回はa+b=cdという二進数のたし算の量子回路を行います。今回はaとbの値によって4種類のたし算を実装します。それぞれのたし算は、\n",
    "\n",
    "0+0 = 00 => 0000  \n",
    "0+1 = 01 => 0101  \n",
    "1+0 = 01 => 1001  \n",
    "1+1 = 10 => 1110  \n",
    "\n",
    "となります。4量子ビットのビット列で表現し、前半の2量子ビットが入力値aとbで、後半の2量子ビットが出力値cとdです。aとbを入力する回路と、実際にたし合わせを実現する回路を別に作り、何度か使い回します。1のようなデータの入力はXゲートを使って0を反転させて実装します。"
   ]
  },
  {
   "cell_type": "markdown",
   "metadata": {},
   "source": [
    "たし算の回路部分はこのようになります。*はコントロールビットです。\n",
    "\n",
    "```\n",
    "a ---*---*------- a\n",
    "b ---*---|---*--- b\n",
    "0 ---X---|---|--- c\n",
    "0 -------X---X--- d\n",
    "```\n",
    "\n",
    "aとbにXゲートを使ってデータを入れると、ccx回路で桁上がり、cx回路で位のたし合わせを行います。"
   ]
  },
  {
   "cell_type": "code",
   "execution_count": 6,
   "metadata": {
    "colab": {
     "base_uri": "https://localhost:8080/",
     "height": 34
    },
    "colab_type": "code",
    "id": "O674HiVxjc7P",
    "outputId": "63d75a71-0b78-4b7b-b759-56b2d018e284"
   },
   "outputs": [],
   "source": [
    "#ツールの読み込み\n",
    "from blueqat import Circuit\n",
    "\n",
    "#たし算部分を実現します。\n",
    "adder = Circuit().ccx[0,1,2].cx[0,3].cx[1,3]"
   ]
  },
  {
   "cell_type": "code",
   "execution_count": 13,
   "metadata": {
    "colab": {
     "base_uri": "https://localhost:8080/",
     "height": 34
    },
    "colab_type": "code",
    "id": "O674HiVxjc7P",
    "outputId": "63d75a71-0b78-4b7b-b759-56b2d018e284"
   },
   "outputs": [
    {
     "data": {
      "text/plain": [
       "Counter({'0000': 100})"
      ]
     },
     "execution_count": 13,
     "metadata": {},
     "output_type": "execute_result"
    }
   ],
   "source": [
    "#0+0\n",
    "(Circuit() + adder).m[:].run(shots=100)"
   ]
  },
  {
   "cell_type": "code",
   "execution_count": 14,
   "metadata": {
    "colab": {
     "base_uri": "https://localhost:8080/",
     "height": 34
    },
    "colab_type": "code",
    "id": "xlTAVvSt3iZv",
    "outputId": "c6e6810e-4569-4849-da61-ab41e72f83c0"
   },
   "outputs": [
    {
     "data": {
      "text/plain": [
       "Counter({'0101': 100})"
      ]
     },
     "execution_count": 14,
     "metadata": {},
     "output_type": "execute_result"
    }
   ],
   "source": [
    "#0+1\n",
    "(Circuit().x[1] + adder).m[:].run(shots=100)"
   ]
  },
  {
   "cell_type": "code",
   "execution_count": 15,
   "metadata": {
    "colab": {
     "base_uri": "https://localhost:8080/",
     "height": 34
    },
    "colab_type": "code",
    "id": "BtkqFj8n3kBS",
    "outputId": "5db803d7-a2dc-417b-95c2-eacf35e160c2"
   },
   "outputs": [
    {
     "data": {
      "text/plain": [
       "Counter({'1001': 100})"
      ]
     },
     "execution_count": 15,
     "metadata": {},
     "output_type": "execute_result"
    }
   ],
   "source": [
    "#1+0\n",
    "(Circuit().x[0] + adder).m[:].run(shots=100)"
   ]
  },
  {
   "cell_type": "code",
   "execution_count": 16,
   "metadata": {
    "colab": {
     "base_uri": "https://localhost:8080/",
     "height": 34
    },
    "colab_type": "code",
    "id": "JnmWCnOf3xGw",
    "outputId": "b89c5e8a-899b-47da-faed-dc5a3a5035e5"
   },
   "outputs": [
    {
     "data": {
      "text/plain": [
       "Counter({'1110': 100})"
      ]
     },
     "execution_count": 16,
     "metadata": {},
     "output_type": "execute_result"
    }
   ],
   "source": [
    "#1+1\n",
    "(Circuit().x[0,1] + adder).m[:].run(shots=100)"
   ]
  },
  {
   "cell_type": "markdown",
   "metadata": {
    "colab_type": "text",
    "id": "OPe8FDu04AtN"
   },
   "source": [
    "このように、たし算が実装できました。"
   ]
  },
  {
   "cell_type": "markdown",
   "metadata": {
    "colab_type": "text",
    "id": "OPe8FDu04AtN"
   },
   "source": [
    "## 重ね合わせを利用したたし算\n",
    "ここで、Xゲートでデータを一つ一つ入れる代わりに、Hゲートを使ってたし算をしてみます。"
   ]
  },
  {
   "cell_type": "code",
   "execution_count": 17,
   "metadata": {},
   "outputs": [
    {
     "data": {
      "text/plain": [
       "Counter({'0101': 27, '1110': 30, '0000': 24, '1001': 19})"
      ]
     },
     "execution_count": 17,
     "metadata": {},
     "output_type": "execute_result"
    }
   ],
   "source": [
    "#Xゲートの代わりにHゲートを入力に使う\n",
    "(Circuit().h[0,1] + adder).m[:].run(shots=100)"
   ]
  },
  {
   "cell_type": "markdown",
   "metadata": {},
   "source": [
    "アダマールゲートを利用すると4つのたし算が大体1/4ずつ答えとして出てきました。このように汎用たし算回路を作ると、重ね合わせ状態を利用した計算を実行できます。"
   ]
  },
  {
   "cell_type": "markdown",
   "metadata": {},
   "source": [
    "## もつれを利用したたし算\n",
    "次にHゲートの代わりにa+b=1となるたし算を量子のもつれを使って行ってみます。"
   ]
  },
  {
   "cell_type": "code",
   "execution_count": 19,
   "metadata": {},
   "outputs": [
    {
     "data": {
      "text/plain": [
       "Counter({'0101': 41, '1001': 59})"
      ]
     },
     "execution_count": 19,
     "metadata": {},
     "output_type": "execute_result"
    }
   ],
   "source": [
    "#01と10のもつれを作る\n",
    "(Circuit().h[0].cx[0,1].x[0] + adder).m[:].run(shots=100)"
   ]
  },
  {
   "cell_type": "markdown",
   "metadata": {},
   "source": [
    "このように、入力値が01と10がもつれているので、この2つのたし算が約1/2ずつ出てきます。"
   ]
  },
  {
   "cell_type": "markdown",
   "metadata": {},
   "source": [
    "--------"
   ]
  },
  {
   "cell_type": "markdown",
   "metadata": {},
   "source": [
    "## 解説：回路の作成（１桁目）\n",
    "まずは上の1桁目から作成します。\n",
    "1桁目を見ると、0, 0, 0, 1 の順になっています。\n",
    "\n",
    "表で表すと以下になります。\n",
    "\n",
    "|X|Y|X+Yの2桁目|\n",
    "|:-:|:-:|:-:|\n",
    "|0|0|0|\n",
    "|0|1|0|\n",
    "|1|0|0|\n",
    "|1|1|1|\n",
    "\n",
    "これを見ると CCXゲートと同じことがわかります。\n",
    "(CCXは入力の頭2つのビットが1ならば3番目のビットを反転させる)\n",
    "\n",
    "このことから入力が 11 の場合は以下の回路を考えることができます。\n",
    "\n",
    "<img src=\"./img/008/008_02_0.png\" width=\"23%\">\n",
    "\n",
    "上から2ビットを入力、残りの1ビットを出力だと考えると上の回路から 1 が出力されるのがわかります。"
   ]
  },
  {
   "cell_type": "markdown",
   "metadata": {},
   "source": [
    "## 解説：回路の作成（２桁目）\n",
    "次にもう一つのくらいを作成します。\n",
    "2桁目を見ると、0, 1, 1, 0 の順になっています。\n",
    "\n",
    "表で表すと以下になります。\n",
    "\n",
    "|X|Y|X+Yの1桁目|\n",
    "|:-:|:-:|:-:|\n",
    "|0|0|0|\n",
    "|0|1|1|\n",
    "|1|0|1|\n",
    "|1|1|0|\n",
    "\n",
    "これを見ると CXゲートと同じことがわかります。\n",
    "(左辺がCXの入力で右辺が出力の2番目のビット)\n",
    "\n",
    "このことから入力が 10 の場合は以下の回路を考えることができます。\n",
    "\n",
    "<img src=\"./img/008/008_02_1.png\" width=\"27%\">\n",
    "\n",
    "上から2ビットを入力、残りの1ビットを出力だと考えると上の回路から 1 が出力されるのがわかります。"
   ]
  },
  {
   "cell_type": "markdown",
   "metadata": {},
   "source": [
    "## 解説：回路の作成（全体）\n",
    "最後に上の二つの回路をまとめます。\n",
    "\n",
    "入力を 00 としてまとめた回路を以下に示します。\n",
    "\n",
    "<img src=\"./img/008/008_02_2.png\" width=\"30%\">\n",
    "\n",
    "上2ビットを入力、残りの2ビットが出力です。\n",
    "始めの CCX は1桁目の部分で残りの 2つの CX は2桁目の部分です。"
   ]
  },
  {
   "cell_type": "markdown",
   "metadata": {},
   "source": [
    "## 解説：重ね合わせ回路の実装\n",
    "量子の重ね合わせを用いると4パターンを一気に操作することができます。\n",
    "\n",
    "式としては以下の物を考えます。\n",
    "\n",
    "<img src=\"./img/009/009_02_0.png\" width=\"35%\">\n",
    "\n",
    "見てわかる通り右辺に入力の4パターンが出てきました。\n",
    "この性質を用いて実装します。\n",
    "\n",
    "回路は以下のようになります。\n",
    "\n",
    "<img src=\"./img/009/009_02_1.png\" width=\"35%\">\n",
    "\n",
    "今まで Xゲートを施していた部分を Hゲートにして 4パターンを作っています。"
   ]
  },
  {
   "cell_type": "markdown",
   "metadata": {},
   "source": [
    "## (応用) 一般の足し算\n",
    "一般の10進数同士で足し算を実装します。  \n",
    "$a, b$ の和を考えることとします。\n",
    "$a, b$ は $a = a_n ... a_0$, $b = b_n ... b_0$ と2進数で表示できます。  \n",
    "(ここで n は数が大きい方の位を基準とします。)\n",
    "\n",
    "回路は以下のようになります。\n",
    "\n",
    "<img src=\"https://qiita-user-contents.imgix.net/https%3A%2F%2Fqiita-image-store.s3.ap-northeast-1.amazonaws.com%2F0%2F218694%2F489c8ea6-130c-d44b-4bae-4d86f64556c2.png?ixlib=rb-1.2.2&auto=format&gif-q=60&q=75&s=e67fbf71779fa7ebb443e93663c56dc4\">\n",
    "\n",
    "$c_i$ を carry ビットと言って繰り上がった数を表します。  \n",
    "足し算回路は carry と呼ばれる繰り上がりの部分と sum の合計の部分にわかれています。\n",
    "\n",
    "まずはこの2つの部分を考察します。"
   ]
  },
  {
   "cell_type": "markdown",
   "metadata": {},
   "source": [
    "### 繰り上がり\n",
    "回路は以下のようになります。\n",
    "\n",
    "<img src=\"./img/100_0.png\" width=\"30%\">\n",
    "\n",
    "回路を上から $c_i, a_i, b_i, c_{i+1}$ とすると $c_{i+1}$ に繰り上がりの部分が現れます。"
   ]
  },
  {
   "cell_type": "markdown",
   "metadata": {},
   "source": [
    "### 合計\n",
    "各位の和を考えます。回路は以下のようになります。\n",
    "\n",
    "<img src=\"./img/100_1.png\" width=\"30%\">\n",
    "\n",
    "回路を上から $c_i, a_i, b_i$ とすると $b_i$ に3つの数の和の繰り上がりを除いた部分が現れます。"
   ]
  },
  {
   "cell_type": "markdown",
   "metadata": {},
   "source": [
    "### 実装\n",
    "足し算回路を実装します。流れは以下のようになります。  \n",
    "\n",
    "1. carry 回路で各位の繰り上がりを求める。  \n",
    "2. CXゲートで最後のcarryの部分を元に戻す。  \n",
    "3. sum 回路で $b_n$ に各位の和を出力する。  \n",
    "4. carry の逆回路でその位の値を元に戻す。  \n",
    "5. sum 回路で $b_i$ に各位の和を出力する。  \n",
    "6. 4,5の繰り返し。\n",
    "\n",
    "以上の流れから $a+b$ は $b_{n+1} ... b_0$ の部分に出力されることが分かります。\n",
    "\n",
    "足し算回路を実装するために下準備をします。  \n",
    "まずは carry とその逆回路, sum 回路を作ります。"
   ]
  },
  {
   "cell_type": "code",
   "execution_count": 2,
   "metadata": {},
   "outputs": [],
   "source": [
    "from blueqat import Circuit\n",
    "\n",
    "def carry(i):\n",
    "    return Circuit().ccx[i+1,i+2,i+3].cx[i+1,i+2].ccx[i,i+2,i+3]\n",
    "\n",
    "def carry_reverse(i):\n",
    "    return Circuit().ccx[i,i+2,i+3].cx[i+1,i+2].ccx[i+1,i+2,i+3]\n",
    "\n",
    "def sum(i):\n",
    "    return Circuit().cx[i+1,i+2].cx[i,i+2]"
   ]
  },
  {
   "cell_type": "markdown",
   "metadata": {},
   "source": [
    "10進数を2進数にする関数も作っておきます。"
   ]
  },
  {
   "cell_type": "code",
   "execution_count": 3,
   "metadata": {},
   "outputs": [
    {
     "data": {
      "text/plain": [
       "'1010'"
      ]
     },
     "execution_count": 3,
     "metadata": {},
     "output_type": "execute_result"
    }
   ],
   "source": [
    "def tobinary(A):\n",
    "    return bin(A)[2:]\n",
    "\n",
    "tobinary(10)"
   ]
  },
  {
   "cell_type": "markdown",
   "metadata": {},
   "source": [
    "数を回路にマッピングする関数を作ります。"
   ]
  },
  {
   "cell_type": "code",
   "execution_count": 4,
   "metadata": {},
   "outputs": [
    {
     "data": {
      "text/plain": [
       "'0000110'"
      ]
     },
     "execution_count": 4,
     "metadata": {},
     "output_type": "execute_result"
    }
   ],
   "source": [
    "def digits(a,b): \n",
    "     # 2進数に変換\n",
    "     aa = tobinary(a)  \n",
    "     bb = tobinary(b)  \n",
    "     alen = len(aa)  \n",
    "     blen = len(bb)  \n",
    "\n",
    "     # nを決めて大きい方にビット数を合わせる\n",
    "     maxlen = max(alen,blen) \n",
    "     if alen>blen: \n",
    "         bb = bb.zfill(alen) \n",
    "     elif blen>alen: \n",
    "         aa = aa.zfill(blen) \n",
    "\n",
    "     # マッピング\n",
    "     str = '' \n",
    "     for i in range(maxlen): \n",
    "         str += '0' + aa[maxlen-i-1] + bb[maxlen-i-1] \n",
    "     str += '0' \n",
    "     return str\n",
    "\n",
    "digits(2,2)"
   ]
  },
  {
   "cell_type": "markdown",
   "metadata": {},
   "source": [
    "回路の初期状態は全て0なので、マッピングした値に合うようにXゲートを施す必要があります。  \n",
    "この関数を作ります。"
   ]
  },
  {
   "cell_type": "code",
   "execution_count": 5,
   "metadata": {},
   "outputs": [
    {
     "data": {
      "text/plain": [
       "Counter({'101': 100})"
      ]
     },
     "execution_count": 5,
     "metadata": {},
     "output_type": "execute_result"
    }
   ],
   "source": [
    "def toX(a): \n",
    "     cir = Circuit(len(a)) \n",
    "     for i in range(len(a)): \n",
    "         if a[i] == \"1\": \n",
    "             cir += Circuit().x[i] \n",
    "     return cir\n",
    "\n",
    "toX(\"101\").m[:].run(shots=100)"
   ]
  },
  {
   "cell_type": "markdown",
   "metadata": {},
   "source": [
    "最後に出力の部分を考えます。  \n",
    "まずは出力は2進数なので10進数に変換する関数を考えます。"
   ]
  },
  {
   "cell_type": "code",
   "execution_count": 6,
   "metadata": {},
   "outputs": [
    {
     "data": {
      "text/plain": [
       "9"
      ]
     },
     "execution_count": 6,
     "metadata": {},
     "output_type": "execute_result"
    }
   ],
   "source": [
    "def todecimal(A):\n",
    "    return int(str(A),2) \n",
    "\n",
    "todecimal(1001)"
   ]
  },
  {
   "cell_type": "markdown",
   "metadata": {},
   "source": [
    "回路では $a_i, b_i, c_i$ が混ざった値が出力されるのでその中で $b_i$ のみ取り出します。"
   ]
  },
  {
   "cell_type": "code",
   "execution_count": 7,
   "metadata": {},
   "outputs": [
    {
     "data": {
      "text/plain": [
       "2"
      ]
     },
     "execution_count": 7,
     "metadata": {},
     "output_type": "execute_result"
    }
   ],
   "source": [
    "def getb(result): \n",
    "     str = result[-1] \n",
    "     digi = int((len(result)-1)/3) \n",
    "     for i in range(digi): \n",
    "         str += result[-2-i*3] \n",
    "     return todecimal(str)\n",
    "\n",
    "getb(\"0000110\")"
   ]
  },
  {
   "cell_type": "markdown",
   "metadata": {},
   "source": [
    "### 一般化回路\n",
    "以上で全ての準備が整ったので足し算回路を作ります。"
   ]
  },
  {
   "cell_type": "code",
   "execution_count": 8,
   "metadata": {},
   "outputs": [],
   "source": [
    "def plus(a,b): \n",
    "     # 2進数表示のマッピング\n",
    "     qubits = len(digits(a,b)) \n",
    "     cir1 = toX(digits(a,b)) \n",
    "     digi = int((len(digits(a,b))-1)/3) \n",
    "\n",
    "     # 前半のcarry回路\n",
    "     cir2 = Circuit(qubits)     \n",
    "     for i in range(digi): \n",
    "         cir2 += carry(i*3) \n",
    "\n",
    "     # 最後の桁の処理\n",
    "     cir3 = Circuit(qubits).cx[-3,-2] + sum((digi-1)*3) \n",
    "\n",
    "     # carryの逆回路とsum回路でbiに和を出力\n",
    "     cir4 = Circuit(qubits) \n",
    "     for i in range(digi-1): \n",
    "         cir4 += carry_reverse((digi-i-2)*3) \n",
    "         cir4 += sum((digi-i-2)*3)\n",
    "\n",
    "     result = (cir1 + cir2 + cir3 + cir4).m[:].run(shots=1) \n",
    "     return getb(result.most_common()[0][0])"
   ]
  },
  {
   "cell_type": "markdown",
   "metadata": {},
   "source": [
    "実際に計算してみます。"
   ]
  },
  {
   "cell_type": "code",
   "execution_count": 19,
   "metadata": {},
   "outputs": [
    {
     "data": {
      "text/plain": [
       "4"
      ]
     },
     "execution_count": 19,
     "metadata": {},
     "output_type": "execute_result"
    }
   ],
   "source": [
    "plus(2,2)"
   ]
  },
  {
   "cell_type": "code",
   "execution_count": 20,
   "metadata": {},
   "outputs": [
    {
     "data": {
      "text/plain": [
       "28"
      ]
     },
     "execution_count": 20,
     "metadata": {},
     "output_type": "execute_result"
    }
   ],
   "source": [
    "plus(13,15)"
   ]
  },
  {
   "cell_type": "code",
   "execution_count": 21,
   "metadata": {},
   "outputs": [
    {
     "data": {
      "text/plain": [
       "160"
      ]
     },
     "execution_count": 21,
     "metadata": {},
     "output_type": "execute_result"
    }
   ],
   "source": [
    "plus(70,90)"
   ]
  },
  {
   "cell_type": "markdown",
   "metadata": {},
   "source": [
    "最後の計算は時間かかりますが、一般の加算器を実装できました。"
   ]
  },
  {
   "cell_type": "markdown",
   "metadata": {},
   "source": [
    "### 参考文献\n",
    "V. Vedral, A. Barenco, A. Ekert, \"Quantum Networks for Elementary Arithmetic Operations\",  \n",
    "(Submitted on 16 Nov 1995)  \n",
    "https://arxiv.org/pdf/quant-ph/9511018.pdf"
   ]
  },
  {
   "cell_type": "markdown",
   "metadata": {},
   "source": [
    "# ひき算\n",
    "量子コンピュータには従来のコンピュータと同じ計算もできるという特徴があります。ひき算の回路を確認します。"
   ]
  },
  {
   "cell_type": "markdown",
   "metadata": {},
   "source": [
    "## 今回学ぶこと\n",
    "1. 量子ゲートを使って二進数のひき算を実装\n",
    "2. 量子の重ね合わせを使って1つの回路で複数のひき算"
   ]
  },
  {
   "cell_type": "markdown",
   "metadata": {},
   "source": [
    "## 二進数のひき算\n",
    "たし算は符号を判定するccxゲートと、位の足し合わせを実行するcxゲートを使います。今回はa-b=cdという二進数のひき算の量子回路を行います。今回はaとbの値によって4種類のひき算を実装します。それぞれのひき算は、\n",
    "\n",
    "0-0 = 00 => 0000  \n",
    "0-1 = 11 => 0111  \n",
    "1-0 = 01 => 1001  \n",
    "1-1 = 00 => 1100  \n",
    "\n",
    "となります。4量子ビットのビット列で表現し、前半の2量子ビットが入力値aとbで、後半の2量子ビットが出力値cとdです。aとbを入力する回路と、実際に引き算を実現する回路を別に作り、何度か使い回します。1のようなデータの入力はXゲートを使って0を反転させて実装します。"
   ]
  },
  {
   "cell_type": "markdown",
   "metadata": {},
   "source": [
    "ひき算の回路部分はこのようになります。*はコントロールビットです。\n",
    "\n",
    "```\n",
    "a ---X---*---X---*------- a\n",
    "b -------*-------|---*--- b\n",
    "0 -------X-------|---|--- c\n",
    "0 ---------------X---X--- d\n",
    "```\n",
    "\n",
    "aとbにXゲートを使ってデータを入れると、ccx回路で符号の判定、cx回路で位の引き算を行います。"
   ]
  },
  {
   "cell_type": "code",
   "execution_count": 1,
   "metadata": {},
   "outputs": [],
   "source": [
    "#ツールの読み込み\n",
    "from blueqat import Circuit\n",
    "\n",
    "#ひき算部分を実現します。\n",
    "substractor = Circuit().x[0].ccx[0,1,2].x[0].cx[0,3].cx[1,3]"
   ]
  },
  {
   "cell_type": "code",
   "execution_count": 2,
   "metadata": {},
   "outputs": [
    {
     "data": {
      "text/plain": [
       "Counter({'0000': 100})"
      ]
     },
     "execution_count": 2,
     "metadata": {},
     "output_type": "execute_result"
    }
   ],
   "source": [
    "#0-0\n",
    "(Circuit() + substractor).m[:].run(shots=100)"
   ]
  },
  {
   "cell_type": "code",
   "execution_count": 3,
   "metadata": {},
   "outputs": [
    {
     "data": {
      "text/plain": [
       "Counter({'0111': 100})"
      ]
     },
     "execution_count": 3,
     "metadata": {},
     "output_type": "execute_result"
    }
   ],
   "source": [
    "#0-1\n",
    "(Circuit().x[1] + substractor).m[:].run(shots=100)"
   ]
  },
  {
   "cell_type": "code",
   "execution_count": 4,
   "metadata": {},
   "outputs": [
    {
     "data": {
      "text/plain": [
       "Counter({'1001': 100})"
      ]
     },
     "execution_count": 4,
     "metadata": {},
     "output_type": "execute_result"
    }
   ],
   "source": [
    "#1-0\n",
    "(Circuit().x[0] + substractor).m[:].run(shots=100)"
   ]
  },
  {
   "cell_type": "code",
   "execution_count": 5,
   "metadata": {},
   "outputs": [
    {
     "data": {
      "text/plain": [
       "Counter({'1100': 100})"
      ]
     },
     "execution_count": 5,
     "metadata": {},
     "output_type": "execute_result"
    }
   ],
   "source": [
    "#1-1\n",
    "(Circuit().x[0,1] + substractor).m[:].run(shots=100)"
   ]
  },
  {
   "cell_type": "markdown",
   "metadata": {},
   "source": [
    "このように、ひき算が実装できました。"
   ]
  },
  {
   "cell_type": "markdown",
   "metadata": {},
   "source": [
    "## 重ね合わせを利用したひき算\n",
    "ここで、Xゲートでデータを一つ一つ入れる代わりに、Hゲートを使ってひき算をしてみます。"
   ]
  },
  {
   "cell_type": "code",
   "execution_count": 6,
   "metadata": {},
   "outputs": [
    {
     "data": {
      "text/plain": [
       "Counter({'0111': 32, '0000': 20, '1001': 25, '1100': 23})"
      ]
     },
     "execution_count": 6,
     "metadata": {},
     "output_type": "execute_result"
    }
   ],
   "source": [
    "#Xゲートの代わりにHゲートを入力に使う\n",
    "(Circuit().h[0,1] + substractor).m[:].run(shots=100)"
   ]
  },
  {
   "cell_type": "markdown",
   "metadata": {},
   "source": [
    "アダマールゲートを利用すると4つのひき算が大体1/4ずつ答えとして出てきました。このように汎用ひき算回路を作ると、重ね合わせ状態を利用した計算を実行できます。"
   ]
  },
  {
   "cell_type": "markdown",
   "metadata": {},
   "source": [
    "## もつれを利用したひき算\n",
    "次にHゲートの代わりにa-b=0となるたし算を量子のもつれを使って行ってみます。"
   ]
  },
  {
   "cell_type": "code",
   "execution_count": 7,
   "metadata": {},
   "outputs": [
    {
     "data": {
      "text/plain": [
       "Counter({'1100': 48, '0000': 52})"
      ]
     },
     "execution_count": 7,
     "metadata": {},
     "output_type": "execute_result"
    }
   ],
   "source": [
    "#00と11のもつれを作る\n",
    "(Circuit().h[0].cx[0,1] + substractor).m[:].run(shots=100)"
   ]
  },
  {
   "cell_type": "markdown",
   "metadata": {},
   "source": [
    "このように、入力値が00と11がもつれているので、この2つのひき算が約1/2ずつ出てきます。"
   ]
  },
  {
   "cell_type": "markdown",
   "metadata": {},
   "source": [
    "--------"
   ]
  },
  {
   "cell_type": "markdown",
   "metadata": {},
   "source": [
    "## 解説：回路の作成（符号）\n",
    "まずは上の符号から作成します。\n",
    "符号は、0, 1, 0, 0 の順になっています。\n",
    "\n",
    "表で表すと以下になります。\n",
    "\n",
    "|X|Y|符号|\n",
    "|:-:|:-:|:-:|\n",
    "|0|0|0|\n",
    "|0|1|1|\n",
    "|1|0|0|\n",
    "|1|1|0|\n",
    "\n",
    "次にXの桁を反転させると\n",
    "\n",
    "|X|Y|符号|\n",
    "|:-:|:-:|:-:|\n",
    "|1|0|0|\n",
    "|1|1|1|\n",
    "|0|0|0|\n",
    "|0|1|0|\n",
    "\n",
    "これを見ると CCXゲートと同じことがわかります。\n",
    "(CCXは入力の頭2つのビットが1ならば3番目のビットを反転させる)\n",
    "\n",
    "このことから入力が 11 の場合は以下の回路を考えることができます。\n",
    "\n",
    "<img src=\"./img/008/008_02_0.png\" width=\"23%\">\n",
    "\n",
    "上から2ビットを入力、残りの1ビットを出力だと考えると上の回路から 1 が出力されるのがわかります。"
   ]
  },
  {
   "cell_type": "markdown",
   "metadata": {},
   "source": [
    "## 解説：回路の作成（２桁目）\n",
    "次にもう一つのくらいを作成します。\n",
    "2桁目を見ると、0, 1, 1, 0 の順になっています。\n",
    "\n",
    "表で表すと以下になります。\n",
    "\n",
    "|X|Y|X+Yの1桁目|\n",
    "|:-:|:-:|:-:|\n",
    "|0|0|0|\n",
    "|0|1|1|\n",
    "|1|0|1|\n",
    "|1|1|0|\n",
    "\n",
    "これを見ると CXゲートと同じことがわかります。\n",
    "(左辺がCXの入力で右辺が出力の2番目のビット)\n",
    "\n",
    "このことから入力が 10 の場合は以下の回路を考えることができます。\n",
    "\n",
    "<img src=\"./img/008/008_02_1.png\" width=\"27%\">\n",
    "\n",
    "上から2ビットを入力、残りの1ビットを出力だと考えると上の回路から 1 が出力されるのがわかります。"
   ]
  },
  {
   "cell_type": "markdown",
   "metadata": {},
   "source": [
    "## 解説：回路の作成（全体）\n",
    "最後に上の二つの回路をまとめます。\n",
    "\n",
    "入力を 00 としてまとめた回路を以下に示します。\n",
    "\n",
    "<img src=\"./img/008/008_02_3.png\" width=\"40%\">\n",
    "\n",
    "上2ビットを入力、残りの2ビットが出力です。\n",
    "始めの CCX は符号の部分で残りの 2つの CX は引き算の部分です。   \n",
    "符号を検知するためにXゲートを施したのでCCXした後は再びXをして戻しています。"
   ]
  },
  {
   "cell_type": "markdown",
   "metadata": {},
   "source": [
    "## 解説：重ね合わせ回路の実装\n",
    "量子の重ね合わせを用いると4パターンを一気に操作することができます。\n",
    "\n",
    "式としては以下の物を考えます。\n",
    "\n",
    "<img src=\"./img/009/009_02_0.png\" width=\"35%\">\n",
    "\n",
    "見てわかる通り右辺に入力の4パターンが出てきました。\n",
    "この性質を用いて実装します。\n",
    "\n",
    "回路は以下のようになります。\n",
    "\n",
    "<img src=\"./img/009/009_02_2.png\" width=\"40%\">\n",
    "\n",
    "今まで Xゲートを施していた部分を Hゲートにして 4パターンを作っています。"
   ]
  },
  {
   "cell_type": "markdown",
   "metadata": {},
   "source": [
    "## (応用) 一般の引き算\n",
    "一般の10進数同士で引き算を実装します。  \n",
    "引き算回路は足し算回路を逆にすることで実装できます。\n",
    "\n",
    "足し算回路は以下のようになります。\n",
    "\n",
    "<img src=\"https://qiita-user-contents.imgix.net/https%3A%2F%2Fqiita-image-store.s3.ap-northeast-1.amazonaws.com%2F0%2F218694%2F489c8ea6-130c-d44b-4bae-4d86f64556c2.png?ixlib=rb-1.2.2&auto=format&gif-q=60&q=75&s=e67fbf71779fa7ebb443e93663c56dc4\">\n",
    "\n",
    "右から回路を考えます。\n",
    "$a, a+b$ を入力して $b$ を出力します。 $a = a_n ... a_0$, $(a+b) = b_n ... b_0$ と2進数で表示できます。  \n",
    "(ここで n は数が大きい方の位を基準とします。)\n",
    "\n",
    "$c_i$ は繰り下がりを表します。  \n",
    "この回路は carry と呼ばれる繰り上がりの部分と sum の合計の部分にわかれています。\n",
    "まずはこの2つの部分を考察します。"
   ]
  },
  {
   "cell_type": "markdown",
   "metadata": {},
   "source": [
    "### 繰り下がり\n",
    "carry, sum は以下のようになります。\n",
    "\n",
    "<img src=\"https://qiita-user-contents.imgix.net/https%3A%2F%2Fqiita-image-store.s3.ap-northeast-1.amazonaws.com%2F0%2F218694%2F00361854-e782-0da0-3386-f59f668a1ada.png?ixlib=rb-1.2.2&auto=format&gif-q=60&q=75&s=58d1d41b0893b16bfb24bfd546328ff2\" width=\"60%\">\n",
    "\n",
    "回路の始めの部分はこれらを組み合わせて繰り下がりを求めています。"
   ]
  },
  {
   "cell_type": "markdown",
   "metadata": {},
   "source": [
    "### オバーフロービット\n",
    "$a < a+b$ の場合でしか引き算はできません。   \n",
    "判別を $b_{n+1}$ で行います。これをオーバーフロービットと言います。\n",
    "\n",
    "$a < a+b$ のとき $b_{n+1}$ = 0  \n",
    "$a > a+b$ のとき $b_{n+1}$ = 1 になります。\n",
    "\n",
    "$a > a+b$ のときは $2^{n+1} - b$ が出力されます。"
   ]
  },
  {
   "cell_type": "markdown",
   "metadata": {},
   "source": [
    "### 実装\n",
    "引き算回路を実装します。\n",
    "\n",
    "流れは以下のようになります。  \n",
    "1. carry の逆回路と sum 回路で各位の繰り下がりを求める。  \n",
    "2. オーバーフローを判別して $b_{n+1}$ に格納する。  \n",
    "3. carry 回路で差を出力する。    \n",
    "\n",
    "以上の流れから $b$ は $b_n ... b_0$ の部分に出力されることが分かります。\n",
    "$b_{n+1}$ はオーバーフロービットです。\n",
    "\n",
    "実装するために下準備をします。  \n",
    "これは足し算回路と同じなので説明は省略します。"
   ]
  },
  {
   "cell_type": "code",
   "execution_count": 8,
   "metadata": {},
   "outputs": [],
   "source": [
    "from blueqat import Circuit\n",
    "\n",
    "def carry(i):\n",
    "    return Circuit().ccx[i+1,i+2,i+3].cx[i+1,i+2].ccx[i,i+2,i+3]\n",
    "\n",
    "def carry_reverse(i):\n",
    "    return Circuit().ccx[i,i+2,i+3].cx[i+1,i+2].ccx[i+1,i+2,i+3]\n",
    "\n",
    "def sum_reverse(a):\n",
    "    return Circuit().cx[a,a+2].cx[a+1,a+2]\n",
    "\n",
    "def tobinary(A):\n",
    "    return bin(A)[2:]\n",
    "\n",
    "def digits(a,b): \n",
    "     # 2進数に変換\n",
    "     aa = tobinary(a)  \n",
    "     bb = tobinary(b)  \n",
    "     alen = len(aa)  \n",
    "     blen = len(bb)  \n",
    "\n",
    "     # nを決めて大きい方にビット数を合わせる\n",
    "     maxlen = max(alen,blen) \n",
    "     if alen>blen: \n",
    "         bb = bb.zfill(alen) \n",
    "     elif blen>alen: \n",
    "         aa = aa.zfill(blen) \n",
    "\n",
    "     # マッピング\n",
    "     str = '' \n",
    "     for i in range(maxlen): \n",
    "         str += '0' + aa[maxlen-i-1] + bb[maxlen-i-1] \n",
    "     str += '0' \n",
    "     return str\n",
    "\n",
    "def toX(a): \n",
    "     cir = Circuit(len(a)) \n",
    "     for i in range(len(a)): \n",
    "         if a[i] == \"1\": \n",
    "             cir += Circuit().x[i] \n",
    "     return cir\n",
    "\n",
    "def todecimal(A):\n",
    "    return int(str(A),2) \n",
    "\n",
    "def getb(result): \n",
    "     str = result[-1] \n",
    "     digi = int((len(result)-1)/3) \n",
    "     for i in range(digi): \n",
    "         str += result[-2-i*3] \n",
    "     return todecimal(str)"
   ]
  },
  {
   "cell_type": "code",
   "execution_count": 9,
   "metadata": {},
   "outputs": [],
   "source": [
    "def minus(a,ab): \n",
    "     # 入れ替え\n",
    "     c = ab\n",
    "     ab = a\n",
    "     a = c\n",
    "\n",
    "     # 2進数表示のマッピング\n",
    "     qubits = len(digits(a,ab)) \n",
    "     cir1 = toX(digits(a,ab)) \n",
    "     digi = int((len(digits(a,ab))-1)/3) \n",
    "\n",
    "     # 前半のcarry回路とsum逆回路\n",
    "     cir4 = Circuit(qubits) \n",
    "     for i in range(digi-1): \n",
    "         cir4 += sum_reverse(i*3)\n",
    "         cir4 += carry(i*3) \n",
    "\n",
    "     # 最後の桁の処理\n",
    "     cir3 = sum_reverse((digi-1)*3) + Circuit(qubits).cx[-3,-2] \n",
    "\n",
    "     # carryの逆回路でbiに差を出力\n",
    "     cir2 = Circuit(qubits)     \n",
    "     for i in range(digi): \n",
    "         cir2 += carry_reverse((digi-1-i)*3)\n",
    "\n",
    "     result = (cir1 + cir4 + cir3 + cir2).m[:].run(shots=1) \n",
    "     return getb(result.most_common()[0][0])"
   ]
  },
  {
   "cell_type": "code",
   "execution_count": 10,
   "metadata": {},
   "outputs": [
    {
     "data": {
      "text/plain": [
       "6"
      ]
     },
     "execution_count": 10,
     "metadata": {},
     "output_type": "execute_result"
    }
   ],
   "source": [
    "minus(8,2)"
   ]
  },
  {
   "cell_type": "code",
   "execution_count": 11,
   "metadata": {},
   "outputs": [
    {
     "data": {
      "text/plain": [
       "2"
      ]
     },
     "execution_count": 11,
     "metadata": {},
     "output_type": "execute_result"
    }
   ],
   "source": [
    "minus(4,2)"
   ]
  },
  {
   "cell_type": "code",
   "execution_count": 12,
   "metadata": {},
   "outputs": [
    {
     "data": {
      "text/plain": [
       "26"
      ]
     },
     "execution_count": 12,
     "metadata": {},
     "output_type": "execute_result"
    }
   ],
   "source": [
    "minus(50,24)"
   ]
  },
  {
   "cell_type": "markdown",
   "metadata": {},
   "source": [
    "計算できました。ちなみに $a > a + b$ のときは"
   ]
  },
  {
   "cell_type": "code",
   "execution_count": 13,
   "metadata": {},
   "outputs": [
    {
     "data": {
      "text/plain": [
       "14"
      ]
     },
     "execution_count": 13,
     "metadata": {},
     "output_type": "execute_result"
    }
   ],
   "source": [
    "minus(2,4)"
   ]
  },
  {
   "cell_type": "markdown",
   "metadata": {},
   "source": [
    "こちらもきちんと計算されています。"
   ]
  },
  {
   "cell_type": "markdown",
   "metadata": {},
   "source": [
    "### 参考文献\n",
    "https://arxiv.org/pdf/quant-ph/9511018.pdf"
   ]
  },
  {
   "cell_type": "markdown",
   "metadata": {},
   "source": [
    "# かけ算\n",
    "今回は二進数同士のかけ算を見てみましょう。"
   ]
  },
  {
   "cell_type": "markdown",
   "metadata": {},
   "source": [
    "## 今回学ぶこと\n",
    "1. 二進数のかけ算について\n",
    "2. 回路を作成"
   ]
  },
  {
   "cell_type": "markdown",
   "metadata": {},
   "source": [
    "## 二進数の掛け算について\n",
    "２つの数をくらいごとにかけてずらして足し合わせます。その際に量子ビットを利用して桁上がりを考慮します。\n",
    "\n",
    "0 * 0 = 0  \n",
    "0 * 1 = 0  \n",
    "1 * 0 = 0  \n",
    "1 * 1 = 1  \n",
    "\n",
    "これはccxゲートの挙動に対応しています。ccxゲートを利用してかけ算を行い、その後各位を足し合わせます。"
   ]
  },
  {
   "cell_type": "markdown",
   "metadata": {},
   "source": [
    "## 例題\n",
    "まずは例題を行います。01 * 10 = ?をときます。答えは、01 * 10 = 0010 となります。これを量子回路を利用して解きます。\n",
    "\n",
    "\n",
    "``` \n",
    "\n",
    "   01   a\n",
    "*  10   b\n",
    "-------\n",
    "   00   c\n",
    "  01    c\n",
    "-------\n",
    "  0     z\n",
    " 0      z\n",
    "-------\n",
    " 0010   x\n",
    "```\n",
    "\n",
    "では、早速実装へ。まずは2進数の数を２つ用意します。a * bを考えますが、aの0のくらいとaの2の位を用意して、それぞれa0とa2とします。bも同様です。\n",
    "\n",
    "今回最終的に実現するのは|a,b,x> => |a, b, a * b >とします。求めたいのはx0,x2,x4,x8です。cは途中の計算用のビット。zは桁上がりビットを想定します。\n",
    "\n",
    "<img src=\"./img/010_basic_multi01.png\">\n"
   ]
  },
  {
   "cell_type": "code",
   "execution_count": 2,
   "metadata": {},
   "outputs": [
    {
     "data": {
      "text/plain": [
       "Counter({'00000000000000': 100})"
      ]
     },
     "execution_count": 2,
     "metadata": {},
     "output_type": "execute_result"
    }
   ],
   "source": [
    "from blueqat import Circuit\n",
    "\n",
    "C1 = Circuit().ccx[0,1,2].ccx[1,3,5].ccx[0,4,6].ccx[3,4,7].ccx[5,6,8].ccx[7,8,9].cx[2,10].cx[5,11].cx[6,11].cx[7,12].cx[8,12].cx[9,13] \n",
    "\n",
    "#00 * 00 = 0000\n",
    "(Circuit() + C1).m[:].run(shots=100)"
   ]
  },
  {
   "cell_type": "code",
   "execution_count": 3,
   "metadata": {},
   "outputs": [
    {
     "data": {
      "text/plain": [
       "Counter({'11100000001000': 100})"
      ]
     },
     "execution_count": 3,
     "metadata": {},
     "output_type": "execute_result"
    }
   ],
   "source": [
    "#01 * 01 = 0001\n",
    "(Circuit().x[0,1] + C1).m[:].run(shots=100)"
   ]
  },
  {
   "cell_type": "code",
   "execution_count": 4,
   "metadata": {},
   "outputs": [
    {
     "data": {
      "text/plain": [
       "Counter({'01010100000100': 100})"
      ]
     },
     "execution_count": 4,
     "metadata": {},
     "output_type": "execute_result"
    }
   ],
   "source": [
    "#10 * 01 = 0010\n",
    "(Circuit().x[3,1] + C1).m[:].run(shots=100)"
   ]
  },
  {
   "cell_type": "code",
   "execution_count": 5,
   "metadata": {},
   "outputs": [
    {
     "data": {
      "text/plain": [
       "Counter({'10001010000100': 100})"
      ]
     },
     "execution_count": 5,
     "metadata": {},
     "output_type": "execute_result"
    }
   ],
   "source": [
    "#01 * 10 = 0010\n",
    "(Circuit().x[0,4] + C1).m[:].run(shots=100)"
   ]
  },
  {
   "cell_type": "code",
   "execution_count": 6,
   "metadata": {},
   "outputs": [
    {
     "data": {
      "text/plain": [
       "Counter({'00011001000010': 100})"
      ]
     },
     "execution_count": 6,
     "metadata": {},
     "output_type": "execute_result"
    }
   ],
   "source": [
    "#10 * 10 = 0100\n",
    "(Circuit().x[3,4] + C1).m[:].run(shots=100) "
   ]
  },
  {
   "cell_type": "code",
   "execution_count": 7,
   "metadata": {},
   "outputs": [
    {
     "data": {
      "text/plain": [
       "Counter({'10011011000110': 100})"
      ]
     },
     "execution_count": 7,
     "metadata": {},
     "output_type": "execute_result"
    }
   ],
   "source": [
    "#11 * 10 = 0110\n",
    "(Circuit().x[0,3,4] + C1).m[:].run(shots=100)"
   ]
  },
  {
   "cell_type": "code",
   "execution_count": 8,
   "metadata": {},
   "outputs": [
    {
     "data": {
      "text/plain": [
       "Counter({'01011101000110': 100})"
      ]
     },
     "execution_count": 8,
     "metadata": {},
     "output_type": "execute_result"
    }
   ],
   "source": [
    "#10 * 11 = 0110\n",
    "(Circuit().x[1,3,4] + C1).m[:].run(shots=100)"
   ]
  },
  {
   "cell_type": "code",
   "execution_count": 9,
   "metadata": {},
   "outputs": [
    {
     "data": {
      "text/plain": [
       "Counter({'11111111111001': 100})"
      ]
     },
     "execution_count": 9,
     "metadata": {},
     "output_type": "execute_result"
    }
   ],
   "source": [
    "#11 * 11 = 1001\n",
    "(Circuit().x[0,1,3,4] + C1).m[:].run(shots=100) "
   ]
  },
  {
   "cell_type": "markdown",
   "metadata": {},
   "source": [
    "このように全ての掛け算のパターンが量子回路で実現できました。試しに入力を重ね合わせにしてみます。アダマールゲートをXゲートの代わりに入れると、"
   ]
  },
  {
   "cell_type": "code",
   "execution_count": 10,
   "metadata": {},
   "outputs": [
    {
     "data": {
      "text/plain": [
       "Counter({'01010100000100': 7,\n",
       "         '00001000000000': 5,\n",
       "         '01000000000000': 6,\n",
       "         '10010000000000': 6,\n",
       "         '00011001000010': 12,\n",
       "         '10011011000110': 9,\n",
       "         '11100000001000': 3,\n",
       "         '10000000000000': 3,\n",
       "         '11101010001100': 9,\n",
       "         '11110100001100': 5,\n",
       "         '10001010000100': 9,\n",
       "         '01001000000000': 8,\n",
       "         '00010000000000': 3,\n",
       "         '00000000000000': 6,\n",
       "         '11111111111001': 4,\n",
       "         '01011101000110': 5})"
      ]
     },
     "execution_count": 10,
     "metadata": {},
     "output_type": "execute_result"
    }
   ],
   "source": [
    "(Circuit().h[0,1,3,4] + C1).m[:].run(shots=100) "
   ]
  },
  {
   "cell_type": "markdown",
   "metadata": {},
   "source": [
    "上手い感じに 00 * 00 から 11 * 11 までを計算することができました。"
   ]
  },
  {
   "cell_type": "markdown",
   "metadata": {},
   "source": [
    "# 概要\n",
    "\n",
    "## 乗算器\n",
    "ビットは 0, 1 をとるので 二進数のかけ算を考えます。\n",
    "組み合わせは\n",
    "\n",
    "0×0=0, 0×1=0, 1×0=0, 1×1=1\n",
    "\n",
    "となります。\n",
    "これは加算器の1桁目と同じccxゲートで表せます。"
   ]
  },
  {
   "cell_type": "markdown",
   "metadata": {},
   "source": [
    "## 乗算器 (2桁×2桁)\n",
    "次は応用で2桁×2桁の乗算を考えてみます。\n",
    "\n",
    "組み合わせは\n",
    "\n",
    "01×00=0000, 01×01=0001, 01×10=0010, 01×11=0011   \n",
    "11×00=0000, 11×01=0011, 11×10=0110, 11×11=1001   \n",
    "01×00=0000, 01×01=0001, 01×10=0010, 01×11=0011   \n",
    "11×00=0000, 11×01=0011, 11×10=0110, 11×11=1001\n",
    "\n",
    "の16通りとなります。\n",
    "\n",
    "### 考え方\n",
    "まず試しに 11 × 10 を筆算で考えてみます。\n",
    "\n",
    "<img src=\"./img/010_02/010_02_0.png\" width=\"15%\">\n",
    "\n",
    "1 と 2 の行を合わせた4回の計算をそれぞれ考えます。   \n",
    "1行目 は 11 × 0 , 2行目は 11 × 1 となります。   \n",
    "各項4つの計算はそれぞれ 1桁の積でできるので全て CCXで実装できます。\n",
    "\n",
    "行目1 と 2 の和に関しては繰り上がりを考えないといけないので加算器で実装します。"
   ]
  },
  {
   "cell_type": "markdown",
   "metadata": {},
   "source": [
    "## 回路の作成（１、２行目）\n",
    "今回は 1 行目だけ考えます。\n",
    "11 × 0 を CCX ゲートを用いて以下の回路を考えます。\n",
    "\n",
    "<img src=\"./img/010_02/010_02_1.png\" width=\"28%\">\n",
    "\n",
    "上から 2 つのビットは 11 の部分で次の 1 ビットは 0 の部分となります。   \n",
    "出力_1 ,出力_2 は 1 × 0 を表しています。\n",
    "\n",
    "これで 1 行目が出力されました。2 行目も同様にしてできます。"
   ]
  },
  {
   "cell_type": "markdown",
   "metadata": {},
   "source": [
    "## 回路の作成（全体）\n",
    "11 × 10 を計算します。\n",
    "上の2つの回路を組み合わせて以下の回路を作ります。\n",
    "\n",
    "<img src=\"./img/010_02/010_02_3.png\" width=\"65%\">\n",
    "\n",
    "左上の操作は 1, 2 行目を計算しています。\n",
    "右下は 1, 2 行目の和を計算しています。"
   ]
  },
  {
   "cell_type": "markdown",
   "metadata": {},
   "source": [
    "# 乗除演算\n",
    "一般の足し算と引き算の仕組みを利用してあまりを求めようと思います。\n",
    "\n",
    "回路は以下のようになります。\n",
    "\n",
    "<img src=\"https://qiita-user-contents.imgix.net/https%3A%2F%2Fqiita-image-store.s3.ap-northeast-1.amazonaws.com%2F0%2F218694%2Ff161e722-f727-b6fb-d02b-24e40b5b63b1.png?ixlib=rb-1.2.2&auto=format&gif-q=60&q=75&s=da298eace648814b5ccfe4affa9301ca\">\n",
    "\n",
    "ここで $0 < a,b < N$ とします。\n",
    "最後のビットは overflow を確認するもので temporary bit と呼ばれます。"
   ]
  },
  {
   "cell_type": "markdown",
   "metadata": {},
   "source": [
    "## 実装手順\n",
    "$a+b \\mod N$ を求めるためには $a+b$ と $N$ の大小を比較する必要があります。\n",
    "\n",
    "$a+b>N$ のとき  \n",
    "$0<a,b<N$ より $0<a+b<2N$ よって $0<a+b-N<N$ より $a+b-N = (a+b) \\mod N$\n",
    "\n",
    "$a+b<N$ のとき  \n",
    "$a+b = (a+b) \\mod N$\n",
    "\n",
    "これを量子回路で行います。\n",
    "\n",
    "$a+b>N$\n",
    "\n",
    "<img src=\"https://qiita-user-contents.imgix.net/https%3A%2F%2Fqiita-image-store.s3.ap-northeast-1.amazonaws.com%2F0%2F218694%2F5c97b6fd-425b-c42b-057a-68d9cb47e457.jpeg?ixlib=rb-1.2.2&auto=format&gif-q=60&q=75&s=3711f239a543dc4aa175f4636adde888\">\n",
    "\n",
    "$a+b<N$\n",
    "\n",
    "<img src=\"https://qiita-user-contents.imgix.net/https%3A%2F%2Fqiita-image-store.s3.ap-northeast-1.amazonaws.com%2F0%2F218694%2Fcb7bc1bf-e713-f7d4-9cdc-4bc47bb6eba8.jpeg?ixlib=rb-1.2.2&auto=format&gif-q=60&q=75&s=425f2f86ef9d5b5c27b1c1f1ddfab936\">\n",
    "\n",
    "余剰の量子ビットと加算器の最上位の量子ビットの値を使ってうまく場合分けをしています。a+b<N の場合には余剰ビットを使わず余計な操作もありません。"
   ]
  },
  {
   "cell_type": "markdown",
   "metadata": {},
   "source": [
    "## 例題\n",
    "簡単な例題を見てみます。\n",
    "\n",
    "$3 + 5 < 7$ のとき  \n",
    "$(3 + 5) \\mod 7 = 1$\n",
    "\n",
    "$3 + 5 > 11$ のとき  \n",
    "$(3 + 5) \\mod 11 = 8$\n",
    "\n",
    "これを量子回路を使って実現しようというのが今回の剰余演算です。"
   ]
  },
  {
   "cell_type": "markdown",
   "metadata": {},
   "source": [
    "### 実装\n",
    "実装するために下準備をします。\n",
    "\n",
    "今回は上の回路に N をもう１つ加えて temporary bit と N を対応させます。  \n",
    "初期状態を以下のようにします。\n",
    "\n",
    "```\n",
    "c0 --\n",
    "a0 --\n",
    "b0 --\n",
    "c1 --\n",
    "..\n",
    "n0 --\n",
    "n1 --\n",
    "..\n",
    "t  --\n",
    "n0 --\n",
    "n1 --\n",
    "..\n",
    "```\n",
    "\n",
    "また各桁は $0<a,b<N$ より $N$ に統一します。 "
   ]
  },
  {
   "cell_type": "code",
   "execution_count": 11,
   "metadata": {},
   "outputs": [],
   "source": [
    "from blueqat import Circuit\n",
    "\n",
    "#ビットのキャリー回路\n",
    "def carry(a):\n",
    "    return Circuit().ccx[a+1,a+2,a+3].cx[a+1,a+2].ccx[a,a+2,a+3]\n",
    "\n",
    "#ビットのキャリー回路の逆\n",
    "def carry_reverse(a):\n",
    "    return Circuit().ccx[a,a+2,a+3].cx[a+1,a+2].ccx[a+1,a+2,a+3]\n",
    "\n",
    "#ビットの合計\n",
    "def sum(a):\n",
    "    return Circuit().cx[a+1,a+2].cx[a,a+2] \n",
    "\n",
    "#ビットの合計の逆\n",
    "def sum_reverse(a):\n",
    "    return Circuit().cx[a,a+2].cx[a+1,a+2]\n",
    "\n",
    "#10進数を2進数に\n",
    "def tobinary(A):\n",
    "    return bin(A)[2:] \n",
    "\n",
    "#3つの10進数を2進数に直して、桁を揃えてモジュロ回路の順にビットを並べ替える。一番下に判定用のビットを１つ加える。\n",
    "def digits2(a,b,n): \n",
    "     aa = tobinary(a)  \n",
    "     bb = tobinary(b)  \n",
    "     nn = tobinary(n)  \n",
    "\n",
    "     nlen = len(nn)  \n",
    "     aa = aa.zfill(nlen) \n",
    "     bb = bb.zfill(nlen) \n",
    "\n",
    "     str = '' \n",
    "     for i in range(nlen): \n",
    "         str += '0' + aa[nlen-i-1] + bb[nlen-i-1] \n",
    "     str += '0' \n",
    "\n",
    "     for i in range(nlen): \n",
    "         str += nn[nlen-i-1]  \n",
    "\n",
    "     str += '0'\n",
    "\n",
    "     for i in range(nlen): \n",
    "        str += nn[nlen-i-1]\n",
    "\n",
    "     return str\n",
    "\n",
    "#ビット文字列をXゲートを使ったデータ入力回路に変換\n",
    "def toX(a): \n",
    "     cir = Circuit(len(a)) \n",
    "     for i in range(len(a)): \n",
    "         if a[i] == \"1\": \n",
    "             cir += Circuit().x[i] \n",
    "     return cir\n",
    "\n",
    "#足し算回路\n",
    "def plus(a,b,n): \n",
    "     qubits = len(digits2(a,b,n))\n",
    "     digi = len(tobinary(n))\n",
    "\n",
    "     cir2 = Circuit(qubits)     \n",
    "     for i in range(digi): \n",
    "         cir2 += carry(i*3) \n",
    "\n",
    "     cir3 = Circuit(qubits).cx[(digi-1)*3+1,(digi-1)*3+2] + sum((digi-1)*3)\n",
    "\n",
    "     cir4 = Circuit(qubits) \n",
    "     for i in range(digi-1): \n",
    "         cir4 += carry_reverse((digi-i-2)*3) \n",
    "         cir4 += sum((digi-i-2)*3)\n",
    "\n",
    "     cir_plus = cir2 + cir3 + cir4\n",
    "     return cir_plus\n",
    "\n",
    "#引き算回路\n",
    "def minus(a,ab,n): \n",
    "     qubits = len(digits2(a,ab,n))\n",
    "     digi = len(tobinary(n))\n",
    "\n",
    "     cir4 = Circuit(qubits) \n",
    "     for i in range(digi-1): \n",
    "         cir4 += sum_reverse(i*3)\n",
    "         cir4 += carry(i*3) \n",
    "\n",
    "     cir3 = sum_reverse((digi-1)*3) + Circuit(qubits).cx[(digi-1)*3+1,(digi-1)*3+2] \n",
    "\n",
    "     cir2 = Circuit(qubits)     \n",
    "     for i in range(digi): \n",
    "         cir2 += carry_reverse((digi-1-i)*3) \n",
    "\n",
    "     cir_minus = cir4 + cir3 + cir2\n",
    "     return cir_minus\n",
    "\n",
    "#aとNを交換\n",
    "def swap(n):\n",
    "    digi = len(tobinary(n))\n",
    "    cir = Circuit(5*digi+2)\n",
    "    for i in range(digi):\n",
    "        cir += Circuit(5*digi+2).swap[3*i+1,3*digi+1+i]\n",
    "    return cir\n",
    "\n",
    "#2進数を10進数に\n",
    "def todecimal(A):\n",
    "    return int(str(A),2) \n",
    "\n",
    "#回路から解だけを抜き出す\n",
    "def getb(result,n): \n",
    "     str = \"\"\n",
    "     digi = len(tobinary(n)) \n",
    "     for i in range(digi): \n",
    "         str += result[3*(digi-i)-1]\n",
    "     return todecimal(str)"
   ]
  },
  {
   "cell_type": "markdown",
   "metadata": {},
   "source": [
    "### 一般化回路\n",
    "以上で全ての準備が整ったので剰余演算回路を作ります。"
   ]
  },
  {
   "cell_type": "code",
   "execution_count": 12,
   "metadata": {},
   "outputs": [],
   "source": [
    "def adder_mod(a,b,n):\n",
    "    digi = len(tobinary(n))\n",
    "\n",
    "    # 最初の部分\n",
    "    part1 = toX(digits2(a,b,n)) + plus(a,b,n) + swap(n) + minus(a,b,n)\n",
    "\n",
    "    # overflow を temporary bit に格納\n",
    "    part2 = Circuit(5*digi+2).x[digi*3].cx[digi*3,digi*4+1].x[digi*3]\n",
    "\n",
    "    # temporary bit で N を返す\n",
    "    part3 = Circuit(5*digi+2)\n",
    "    for i in range(digi):\n",
    "        part3 += Circuit(5*digi+2).ccx[4*digi+2+i,4*digi+1,3*i+1]\n",
    "\n",
    "    # 最後の部分\n",
    "    part4 = minus(a,b,n)+Circuit(5*digi+2).cx[digi*3,digi*4+1]+plus(a,b,n)\n",
    "    \n",
    "    result = (part1+part2+part3+plus(a,b,n)+part3+swap(n)+part4).m[:].run(shots=1)\n",
    "    return getb(result.most_common()[0][0],n)"
   ]
  },
  {
   "cell_type": "markdown",
   "metadata": {},
   "source": [
    "実際に計算してみます。"
   ]
  },
  {
   "cell_type": "code",
   "execution_count": 13,
   "metadata": {},
   "outputs": [
    {
     "data": {
      "text/plain": [
       "2"
      ]
     },
     "execution_count": 13,
     "metadata": {},
     "output_type": "execute_result"
    }
   ],
   "source": [
    "adder_mod(4,3,5)"
   ]
  },
  {
   "cell_type": "code",
   "execution_count": 14,
   "metadata": {},
   "outputs": [
    {
     "data": {
      "text/plain": [
       "3"
      ]
     },
     "execution_count": 14,
     "metadata": {},
     "output_type": "execute_result"
    }
   ],
   "source": [
    "adder_mod(4,4,5)"
   ]
  },
  {
   "cell_type": "code",
   "execution_count": 15,
   "metadata": {},
   "outputs": [
    {
     "data": {
      "text/plain": [
       "0"
      ]
     },
     "execution_count": 15,
     "metadata": {},
     "output_type": "execute_result"
    }
   ],
   "source": [
    "adder_mod(1,5,6)"
   ]
  },
  {
   "cell_type": "markdown",
   "metadata": {},
   "source": [
    "一般の剰余演算回路を実装できました。"
   ]
  },
  {
   "cell_type": "markdown",
   "metadata": {},
   "source": [
    "### 参考文献\n",
    "V. Vedral, A. Barenco, A. Ekert, \"Quantum Networks for Elementary Arithmetic Operations\",  \n",
    "(Submitted on 16 Nov 1995)  \n",
    "https://arxiv.org/pdf/quant-ph/9511018.pdf"
   ]
  }
 ],
 "metadata": {
  "colab": {
   "collapsed_sections": [],
   "name": "008_basic_general.ipynb",
   "provenance": [],
   "version": "0.3.2"
  },
  "kernelspec": {
   "display_name": "Python 3",
   "language": "python",
   "name": "python3"
  },
  "language_info": {
   "codemirror_mode": {
    "name": "ipython",
    "version": 3
   },
   "file_extension": ".py",
   "mimetype": "text/x-python",
   "name": "python",
   "nbconvert_exporter": "python",
   "pygments_lexer": "ipython3",
   "version": "3.8.4"
  }
 },
 "nbformat": 4,
 "nbformat_minor": 4
}
