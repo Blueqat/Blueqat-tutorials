{
 "cells": [
  {
   "cell_type": "markdown",
   "id": "wanted-alert",
   "metadata": {},
   "source": [
    "# 量子振幅推定\n",
    "\n",
    "量子振幅増幅は、ある量子状態の振幅を増幅するアルゴリズムでした。  \n",
    "\n",
    "量子振幅推定は、その名の通りある量子状態の振幅を推定するアルゴリズムです。このような操作は、量子振幅増幅と同じオラクルを用いて行うことができます。"
   ]
  },
  {
   "cell_type": "markdown",
   "id": "neither-romance",
   "metadata": {},
   "source": [
    "\n",
    "Amplitude amplification の説明に用いた以下の図を再度用います。\n",
    "\n",
    "<img width=\"30%\" src=\"https://upload.wikimedia.org/wikipedia/commons/1/16/Grovers_algorithm_geometry.png\">\n",
    "\n",
    "参考: https://en.wikipedia.org/wiki/Grover%27s_algorithm"
   ]
  },
  {
   "cell_type": "markdown",
   "id": "editorial-pantyhose",
   "metadata": {},
   "source": [
    "$\\lvert s\\rangle$ について振幅推定を行うことを考えましょう。  \n",
    "$\\lvert s\\rangle$ を次のように書き直します。\n",
    "\n",
    "$$\n",
    "\\lvert s\\rangle = \\sqrt{1-a} \\lvert \\omega_{\\perp}\\rangle - \\sqrt{a}\\lvert\\omega\\rangle\\ \\ \\ \\ (\\lvert \\omega_{\\perp}\\rangle = \\lvert s'\\rangle)\n",
    "$$\n",
    "\n",
    "求めたいのは $\\lvert \\omega\\rangle$ の振幅 $\\sqrt{a}$ です。\n",
    "\n",
    "$U_{\\omega}$, $U_s$ はそれぞれ次のように書けます。\n",
    "\n",
    "$$\n",
    "U_{\\omega} = I - 2\\lvert \\omega \\rangle \\langle \\omega \\rvert \\\\\n",
    "U_{s} = 2\\lvert s \\rangle \\langle s \\rvert - I\n",
    "$$\n",
    "\n",
    "ここで天下り的ですが、振幅増幅に用いたオラクル $U_s U_{\\omega}$ は以下のような固有ベクトル $\\lvert\\psi_{\\pm}\\rangle$、固有値 $\\lambda_{\\pm}$ を持ちます。\n",
    "\n",
    "$$\n",
    "\\lvert\\psi_{\\pm}\\rangle = \\frac{1}{\\sqrt{2}} (\\lvert\\omega_{\\perp}\\rangle \\mp i\\lvert\\omega\\rangle) \\\\\n",
    "\\lambda_{\\pm} = e^{i2\\theta_a}\\ \\ \\ \\ (\\sin{\\theta_a} = \\sqrt{a})\n",
    "$$"
   ]
  },
  {
   "cell_type": "markdown",
   "id": "meaning-shoulder",
   "metadata": {},
   "source": [
    "$\\theta_a$ が得られれば $\\lvert \\omega\\rangle$ の振幅 $\\sqrt{a}$ を求めることができます。  \n",
    "ここでは量子位相推定を用いて $\\theta_a$ を求めます。  \n",
    "量子位相推定は、ユニタリ行列(ここでは$U_s U_{\\omega}$)の固有値 $e^{i\\theta}$ における $\\theta$ (位相)を求めるアルゴリズムです (※詳細については量子位相推定のチュートリアルを参照)。  \n",
    "\n",
    "量子位相推定では、求めたい固有値に対応する固有状態(もしくはその近似状態)を用意する必要があります。  \n",
    "性質の良いことに、振幅推定したい状態 $\\lvert s\\rangle$ は固有状態同士を重ね合わせた状態として書けることが、計算により確認できます。\n",
    "\n",
    "$$\n",
    "\\lvert s\\rangle = \\frac{1}{\\sqrt{2}} \\bigl(e^{i\\theta_a} \\lvert \\psi_{+}\\rangle + e^{-i\\theta_a} \\lvert \\psi_{-}\\rangle\\bigr)\n",
    "$$\n",
    "\n",
    "量子位相推定を行うと、どちらかの固有状態に対応する固有値の位相が、確率的に得られます。  \n",
    "この場合は $2\\theta_a$ または $-2\\theta_a$ が得られますが、最終的に求めたい値は $\\sin{\\theta_a} = \\sqrt{a}$ です。  \n",
    "$\\sin (\\theta_a) = \\sin (-\\theta_a)$ より、どちらの場合でも振幅を推定することができます。"
   ]
  },
  {
   "cell_type": "markdown",
   "id": "refined-monkey",
   "metadata": {},
   "source": [
    "よって、振幅推定したい状態 $\\lvert s\\rangle$ と、それに対する振幅増幅オラクルが用意できれば振幅推定が可能になります。  \n",
    "以下がアルゴリズムの手順です。\n",
    "\n",
    "1. 振幅を推定したい状態 $\\lvert s\\rangle$ を用意する\n",
    "2. オラクル $U_s U_{\\omega}$ を用意する\n",
    "3. $U_s U_{\\omega}$ の固有値を量子位相推定により求め、推定したい振幅を計算する"
   ]
  },
  {
   "cell_type": "markdown",
   "id": "interracial-lunch",
   "metadata": {},
   "source": [
    "これをblueqatで実装してみましょう。\n",
    "\n",
    "\n",
    "振幅増幅のチュートリアルと同様の、2量子ビットの例を考えます。  \n",
    "2量子ビットの状態は、00,01,10,11の4通りです。その中から特定の状態の振幅を推定したいと思います。  "
   ]
  },
  {
   "cell_type": "code",
   "execution_count": 8,
   "id": "bronze-motel",
   "metadata": {},
   "outputs": [],
   "source": [
    "from blueqat import Circuit\n",
    "import numpy as np"
   ]
  },
  {
   "cell_type": "markdown",
   "id": "fuzzy-static",
   "metadata": {},
   "source": [
    "以下では量子位相推定を行うため、振幅増幅で用いたオラクルの制御ゲート版を用意します。"
   ]
  },
  {
   "cell_type": "code",
   "execution_count": 9,
   "id": "registered-petite",
   "metadata": {},
   "outputs": [],
   "source": [
    "Us = Circuit(2).h[:].x[:].cz[0,1].x[:].h[:]\n",
    "Uw00 = Circuit(2).s[:].cz[0,1].s[:]\n",
    "Uw01 = Circuit(2).s[1].cz[0,1].s[1] \n",
    "Uw10 = Circuit(2).s[0].cz[0,1].s[0]\n",
    "Uw11 = Circuit(2).cz[0,1]\n",
    "\n",
    "def C_Us(qc, c, t1, t2):\n",
    "    qc.ch[c, t1].ch[c, t2].cx[c, t1].cx[c, t2]\n",
    "    qc.cx[t1, t2].tdg[t2].cx[c, t2].t[t2].cx[t1, t2].tdg[t2].cx[c, t2].t[t1].t[t2].cx[c, t1].t[c].tdg[t1].cx[c, t1]\n",
    "    qc.cx[c, t1].cx[c, t2].ch[c, t1].ch[c, t2]\n",
    "    \n",
    "def C_Uw00(qc, c, t1, t2):\n",
    "    qc.cphase(np.pi/2)[c, t1].cphase(np.pi/2)[c, t2]\n",
    "    qc.cx[t1, t2].tdg[t2].cx[c, t2].t[t2].cx[t1, t2].tdg[t2].cx[c, t2].t[t1].t[t2].cx[c, t1].t[c].tdg[t1].cx[c, t1]\n",
    "    qc.cphase(np.pi/2)[c, t1].cphase(np.pi/2)[c, t2]\n",
    "    \n",
    "def C_Uw01(qc, c, t1, t2):\n",
    "    qc.cphase(np.pi/2)[c, t2]\n",
    "    qc.cx[t1, t2].tdg[t2].cx[c, t2].t[t2].cx[t1, t2].tdg[t2].cx[c, t2].t[t1].t[t2].cx[c, t1].t[c].tdg[t1].cx[c, t1]\n",
    "    qc.cphase(np.pi/2)[c, t2]\n",
    "    \n",
    "def C_Uw10(qc, c, t1, t2):\n",
    "    qc.cphase(np.pi/2)[c, t1]\n",
    "    qc.cx[t1, t2].tdg[t2].cx[c, t2].t[t2].cx[t1, t2].tdg[t2].cx[c, t2].t[t1].t[t2].cx[c, t1].t[c].tdg[t1].cx[c, t1]\n",
    "    qc.cphase(np.pi/2)[c, t1]\n",
    "    \n",
    "def C_Uw11(qc, c, t1, t2):\n",
    "    qc.cx[t1, t2].tdg[t2].cx[c, t2].t[t2].cx[t1, t2].tdg[t2].cx[c, t2].t[t1].t[t2].cx[c, t1].t[c].tdg[t1].cx[c, t1]"
   ]
  },
  {
   "cell_type": "markdown",
   "id": "wireless-teacher",
   "metadata": {},
   "source": [
    "次に、振幅増幅オラクルの固有値を量子位相推定によって求めます。"
   ]
  },
  {
   "cell_type": "code",
   "execution_count": 10,
   "id": "anticipated-galaxy",
   "metadata": {},
   "outputs": [],
   "source": [
    "import math\n",
    "\n",
    "# 逆量子フーリエ変換関数を用意\n",
    "def qft_rotate_single_inv(circuit, i, n):\n",
    "    if n == 0:\n",
    "        return circuit\n",
    "    for qubit in range(0, i):\n",
    "        circuit.cphase(-np.pi/2**(i - qubit))[n - 1 - qubit, n - 1 - i]\n",
    "    circuit.h[n - 1 - i]\n",
    "\n",
    "def qft_dagger(circuit, n):\n",
    "    for i in range(math.floor(n/2)):\n",
    "        circuit.swap[i, n - (i + 1)]\n",
    "    for i in range(n):\n",
    "        qft_rotate_single_inv(circuit, i, n)"
   ]
  },
  {
   "cell_type": "code",
   "execution_count": 15,
   "id": "played-jersey",
   "metadata": {},
   "outputs": [],
   "source": [
    "n_encode = 4 # 求めたい固有値の位相角をエンコードする量子ビット数\n",
    "n_eigstate = 2 # 固有状態の量子ビット数\n",
    "n = n_encode + n_eigstate\n",
    "\n",
    "qc = Circuit(n)\n",
    "qc.h[n_encode].h[n_encode + 1] # 固有状態を用意\n",
    "\n",
    "for qubit in range(n_encode):\n",
    "    qc.h[qubit]\n",
    "\n",
    "repetitions = 1\n",
    "for count in reversed(range(n_encode)):\n",
    "    for i in range(repetitions):\n",
    "        C_Uw00(qc, count, n_encode, n_encode + 1)\n",
    "        C_Us(qc, count, n_encode, n_encode + 1)\n",
    "        #qc.cp(theta, count, n_encode)\n",
    "    repetitions *= 2\n",
    "\n",
    "qft_dagger(qc, n_encode)\n",
    "\n",
    "for n in range(n_encode):\n",
    "    qc.m[n]"
   ]
  },
  {
   "cell_type": "code",
   "execution_count": 22,
   "id": "welcome-vintage",
   "metadata": {},
   "outputs": [
    {
     "name": "stdout",
     "output_type": "stream",
     "text": [
      "1101 : 342\n",
      "0010 : 90\n",
      "0011 : 371\n",
      "1100 : 26\n",
      "1110 : 87\n",
      "0100 : 21\n",
      "0110 : 8\n",
      "1111 : 16\n",
      "0000 : 10\n",
      "1001 : 3\n",
      "1010 : 8\n",
      "0111 : 6\n",
      "0001 : 13\n",
      "0101 : 14\n",
      "1011 : 9\n"
     ]
    }
   ],
   "source": [
    "res = qc.run(shots = 1024)\n",
    "for key in res.keys():\n",
    "    print(key[:n_encode], ':', res[key])"
   ]
  },
  {
   "cell_type": "markdown",
   "id": "valuable-irish",
   "metadata": {},
   "source": [
    "今回振幅推定した状態は4状態の等しい重ね合わせです。よって各状態($\\lvert 00\\rangle, \\lvert 01\\rangle, \\lvert 10\\rangle, \\lvert 11\\rangle$)はそれぞれ振幅 $1/2$ を持ちます。  \n",
    "\n",
    "よって、初期状態 $\\lvert s\\rangle = \\sqrt{1-a} \\lvert \\omega_{\\perp}\\rangle - \\sqrt{a}\\lvert\\omega\\rangle$ において $\\sqrt{a} = 1/2$ 、$\\theta_a = \\pi / 6$ です。\n",
    "\n",
    "振幅増幅に用いたオラクルは固有値　$\\exp(\\pm i 2\\theta) = \\exp(\\pm i\\pi / 3)$ を持つため、$\\frac{\\pm\\pi/3}{2\\pi} = \\pm\\frac{1}{6}$  が量子位相推定で期待する出力です。\n",
    "\n",
    "上の例では量子位相推定の出力を4量子ビットでエンコードしているため、出力は4bit精度で得られます。  \n",
    "測定結果では '0011' が $\\frac{3}{2^{4}} = 0.1875$ を表しており、$\\frac{1}{6} = 0.166...$ に最も近い値になります。  \n",
    "これにより $\\theta$ が近似的に求まります。  \n",
    "\n",
    "以上より量子振幅推定を行うことができました。"
   ]
  },
  {
   "cell_type": "code",
   "execution_count": null,
   "id": "close-system",
   "metadata": {},
   "outputs": [],
   "source": []
  }
 ],
 "metadata": {
  "kernelspec": {
   "display_name": "Python 3",
   "language": "python",
   "name": "python3"
  },
  "language_info": {
   "codemirror_mode": {
    "name": "ipython",
    "version": 3
   },
   "file_extension": ".py",
   "mimetype": "text/x-python",
   "name": "python",
   "nbconvert_exporter": "python",
   "pygments_lexer": "ipython3",
   "version": "3.8.2"
  }
 },
 "nbformat": 4,
 "nbformat_minor": 5
}
