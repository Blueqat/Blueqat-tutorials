{
 "cells": [
  {
   "cell_type": "markdown",
   "metadata": {
    "colab_type": "text",
    "id": "NjHnSAbHrInP"
   },
   "source": [
    "# 3量子ビットゲート\n",
    "前回までは1量子ビットと2量子ビットの演算を行なってきました。トフォリゲートは3量子ビットを利用する演算です。トフォリゲートはトマソ・トフォリによって作られ、二つのコントロールビットと一つのターゲットビットを持ちます。両方のコントロールビットが1の時にのみ、ターゲットビットにXゲートが適用されます。早速みてみましょう。\n",
    "\n",
    "まずはインストールをします。"
   ]
  },
  {
   "cell_type": "code",
   "execution_count": null,
   "metadata": {
    "colab": {
     "base_uri": "https://localhost:8080/",
     "height": 136
    },
    "colab_type": "code",
    "id": "cb3LQWj6mcqF",
    "outputId": "d0ac5503-2092-433c-b83c-2bac91db61d0"
   },
   "outputs": [],
   "source": [
    "!pip install blueqat"
   ]
  },
  {
   "cell_type": "markdown",
   "metadata": {
    "colab_type": "text",
    "id": "PKhFYi-drld1"
   },
   "source": [
    "## 回路の作成\n",
    "トフォリゲートは利用するのは簡単です。.ccxもしくは.toffoliを使います。\n",
    "まずは単純に回路を書いてみましょう。ここでは*をコントロールビット、Xをターゲットビットとしています。\n",
    "\n",
    "<img src=\"./img/005/005_0.png\" width=\"15%\">\n",
    "\n",
    "トフォリゲートは、\n",
    "\n",
    "\n",
    "\n"
   ]
  },
  {
   "cell_type": "code",
   "execution_count": 3,
   "metadata": {
    "colab": {
     "base_uri": "https://localhost:8080/",
     "height": 34
    },
    "colab_type": "code",
    "id": "TqzeX1C7tPa9",
    "outputId": "062df2e2-c6ed-4c7c-b84b-6f1aa8c776cf"
   },
   "outputs": [
    {
     "data": {
      "text/plain": [
       "Counter({'000': 1})"
      ]
     },
     "execution_count": 3,
     "metadata": {
      "tags": []
     },
     "output_type": "execute_result"
    }
   ],
   "source": [
    "from blueqat import Circuit\n",
    "Circuit().ccx[0,1,2].m[:].run(shots=1)"
   ]
  },
  {
   "cell_type": "markdown",
   "metadata": {
    "colab_type": "text",
    "id": "fo3V5kBpta89"
   },
   "source": [
    "もしくは、"
   ]
  },
  {
   "cell_type": "code",
   "execution_count": 4,
   "metadata": {
    "colab": {
     "base_uri": "https://localhost:8080/",
     "height": 34
    },
    "colab_type": "code",
    "id": "aqWVl6G5tcJn",
    "outputId": "4f22f41d-e585-4b67-ab57-9d9ab5185cca"
   },
   "outputs": [
    {
     "data": {
      "text/plain": [
       "Counter({'000': 1})"
      ]
     },
     "execution_count": 4,
     "metadata": {
      "tags": []
     },
     "output_type": "execute_result"
    }
   ],
   "source": [
    "Circuit().toffoli[0,1,2].m[:].run(shots=1)"
   ]
  },
  {
   "cell_type": "markdown",
   "metadata": {
    "colab_type": "text",
    "id": "H1cdv6F-thje"
   },
   "source": [
    "のように書けます。どちらの書き方をつかっても大丈夫です。上記はコントロールビットが両方とも0なので、ターゲットビットには変化がありません。"
   ]
  },
  {
   "cell_type": "markdown",
   "metadata": {
    "colab_type": "text",
    "id": "V6p6ckztu6k8"
   },
   "source": [
    "##コントロールビットを変化させてみる\n",
    "コントロールビットの片方を1にした時と、両方を1にした時とでどうなるかみてみましょう。最初にコントロールビットの両方を1にしてみます。1にするには反転ゲートのXゲートを使います。"
   ]
  },
  {
   "cell_type": "code",
   "execution_count": 9,
   "metadata": {
    "colab": {
     "base_uri": "https://localhost:8080/",
     "height": 34
    },
    "colab_type": "code",
    "id": "VHwHA55RvEwM",
    "outputId": "52660123-d68c-4776-b9e7-603cf2bcbfd0"
   },
   "outputs": [
    {
     "data": {
      "text/plain": [
       "Counter({'111': 1})"
      ]
     },
     "execution_count": 9,
     "metadata": {
      "tags": []
     },
     "output_type": "execute_result"
    }
   ],
   "source": [
    "Circuit().x[0,1].ccx[0,1,2].m[:].run(shots=1)"
   ]
  },
  {
   "cell_type": "markdown",
   "metadata": {
    "colab_type": "text",
    "id": "TQjky-y0vS7D"
   },
   "source": [
    "どうなったでしょうか。0番目と1番目の量子ビットを1にしたことにより、2番目の量子ビットが0から1に変化しました。このようにコントロールビットを両方とも1にするとターゲットビットが反転します。"
   ]
  },
  {
   "cell_type": "markdown",
   "metadata": {
    "colab_type": "text",
    "id": "Y7rEnsuYvl2y"
   },
   "source": [
    "コントロールビットの片方の量子ビットだけを1にしたときはどうでしょうか。"
   ]
  },
  {
   "cell_type": "code",
   "execution_count": 10,
   "metadata": {
    "colab": {
     "base_uri": "https://localhost:8080/",
     "height": 34
    },
    "colab_type": "code",
    "id": "F9pzZ1UIvq7c",
    "outputId": "aea907fb-62a7-4a65-d19b-4a5d57dc3e39"
   },
   "outputs": [
    {
     "data": {
      "text/plain": [
       "Counter({'100': 1})"
      ]
     },
     "execution_count": 10,
     "metadata": {
      "tags": []
     },
     "output_type": "execute_result"
    }
   ],
   "source": [
    "Circuit().x[0].ccx[0,1,2].m[:].run(shots=1)"
   ]
  },
  {
   "cell_type": "markdown",
   "metadata": {
    "colab_type": "text",
    "id": "qoO0O7FZvr7J"
   },
   "source": [
    "こちらもターゲットビットは変化なしです。"
   ]
  },
  {
   "cell_type": "code",
   "execution_count": 11,
   "metadata": {
    "colab": {
     "base_uri": "https://localhost:8080/",
     "height": 34
    },
    "colab_type": "code",
    "id": "u_ieQylyvt7c",
    "outputId": "675bd73f-ef6e-4323-cc4e-5969ff65edc7"
   },
   "outputs": [
    {
     "data": {
      "text/plain": [
       "Counter({'010': 1})"
      ]
     },
     "execution_count": 11,
     "metadata": {
      "tags": []
     },
     "output_type": "execute_result"
    }
   ],
   "source": [
    "Circuit().x[1].ccx[0,1,2].m[:].run(shots=1)"
   ]
  },
  {
   "cell_type": "markdown",
   "metadata": {
    "colab_type": "text",
    "id": "Wc0DO_GMv1Lk"
   },
   "source": [
    "こちらもコントロールビットの片方だけが1なのでターゲットビットは反応なしです。"
   ]
  },
  {
   "cell_type": "markdown",
   "metadata": {
    "colab_type": "text",
    "id": "9fc8XfYWxRIs"
   },
   "source": [
    "##トフォリゲートの真理値表と行列表現\n",
    "トフォリゲートの入出力は真理値表というもので確認ができます。\n",
    "\n",
    "入力 | 出力\n",
    "--- | ---\n",
    "000 | 000\n",
    "001 | 001\n",
    "010 | 010\n",
    "011 | 011\n",
    "100 | 100\n",
    "101 | 101\n",
    "110 | 111\n",
    "111 | 110\n",
    "\n"
   ]
  },
  {
   "cell_type": "markdown",
   "metadata": {
    "colab_type": "text",
    "id": "wpHT8BMG1S0g"
   },
   "source": [
    "これをみると、110と111の時だけターゲットビットが反転しています。ゲートの行列表現も見てみましょう。\n",
    "\n",
    "$\\begin{bmatrix}\n",
    "1&0&0&0&0&0&0&0\\\\\n",
    "0&1&0&0&0&0&0&0\\\\\n",
    "0&0&1&0&0&0&0&0\\\\\n",
    "0&0&0&1&0&0&0&0\\\\\n",
    "0&0&0&0&1&0&0&0\\\\\n",
    "0&0&0&0&0&1&0&0\\\\\n",
    "0&0&0&0&0&0&0&1\\\\\n",
    "0&0&0&0&0&0&1&0\\\\\n",
    "\\end{bmatrix}$\n"
   ]
  },
  {
   "cell_type": "markdown",
   "metadata": {
    "colab_type": "text",
    "id": "XCvx3mRu2X25"
   },
   "source": [
    "最後のゲート演算でXゲートが見れます。真理値表とも合っているのが確認できます。"
   ]
  },
  {
   "cell_type": "markdown",
   "metadata": {
    "colab_type": "text",
    "id": "0WNXEUFns4oY"
   },
   "source": [
    "##トフォリゲートの中身\n",
    "トフォリゲートは実は中身は1量子ビットゲートと2量子ビットゲートで構成されています。回路はHとCXとTで構成されます。ちょっと長いですががんばってかいてみましょう。"
   ]
  },
  {
   "cell_type": "code",
   "execution_count": 12,
   "metadata": {
    "colab": {
     "base_uri": "https://localhost:8080/",
     "height": 34
    },
    "colab_type": "code",
    "id": "O674HiVxjc7P",
    "outputId": "110c9e2e-34c0-4e59-f7ed-c86bb6d95578"
   },
   "outputs": [
    {
     "data": {
      "text/plain": [
       "Counter({'111': 1})"
      ]
     },
     "execution_count": 12,
     "metadata": {
      "tags": []
     },
     "output_type": "execute_result"
    }
   ],
   "source": [
    "from blueqat import Circuit\n",
    "import numpy as np\n",
    "\n",
    "Circuit().x[1:].h[0].cnot[1,0].rz(-np.pi/4)[0].cnot[2,0].rz(np.pi/4)[0].cnot[1,0].rz(-np.pi/4)[0].cnot[2,0].rz(np.pi/4)[:1].h[0].cnot[1,0].cnot[0,1].cnot[1,0].cnot[2,0].rz(-np.pi/4)[0].rz(np.pi/4)[2].cnot[2,0].m[:].run(shots=1)"
   ]
  },
  {
   "cell_type": "markdown",
   "metadata": {},
   "source": [
    "回路は以下のようになります。\n",
    "\n",
    "<img src=\"./img/005/005_1.png\" width=\"85%\">"
   ]
  }
 ],
 "metadata": {
  "colab": {
   "collapsed_sections": [],
   "name": "005_basic_toffoli.ipynb",
   "provenance": []
  },
  "kernelspec": {
   "display_name": "Python 3",
   "language": "python",
   "name": "python3"
  },
  "language_info": {
   "codemirror_mode": {
    "name": "ipython",
    "version": 3
   },
   "file_extension": ".py",
   "mimetype": "text/x-python",
   "name": "python",
   "nbconvert_exporter": "python",
   "pygments_lexer": "ipython3",
   "version": "3.8.4"
  }
 },
 "nbformat": 4,
 "nbformat_minor": 4
}
