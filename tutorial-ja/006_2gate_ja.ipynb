{
 "cells": [
  {
   "cell_type": "markdown",
   "metadata": {},
   "source": [
    "# 2量子ビットゲート\n",
    "\n",
    "## CX, CY, CZゲート\n",
    "制御ゲートを見てみたいと思います。\n",
    "\n",
    "## 今回学ぶこと\n",
    "1. 2量子ビットゲートを学びます。\n",
    "2. そのゲートの実装例を学びます。\n",
    "\n",
    "## Blueqatのインストール\n",
    "pipからBlueqatをインストールします。"
   ]
  },
  {
   "cell_type": "code",
   "execution_count": null,
   "metadata": {
    "colab": {
     "base_uri": "https://localhost:8080/",
     "height": 136
    },
    "colab_type": "code",
    "id": "Z2z6oBnToiqa",
    "outputId": "413f3f56-1b22-40f7-fcff-4621af4596d4"
   },
   "outputs": [],
   "source": [
    "!pip install blueqat"
   ]
  },
  {
   "cell_type": "markdown",
   "metadata": {},
   "source": [
    "## 2量子ゲート\n",
    "2量子ゲートは主に1量子ゲートに制御ビットが加わったものがあります。\n",
    "\n",
    "### CX, CZ\n",
    "CX, CY, CZ ゲートは以下で実装できます。\n",
    "\n",
    "| CX | CY | CZ | \n",
    "|:-:|:-:|:-:|\n",
    "|`cx`or`cnot`|`cy`|`cz`|"
   ]
  },
  {
   "cell_type": "markdown",
   "metadata": {},
   "source": [
    "#### 実装\n",
    "以上のゲートを実装します。\n",
    "\n",
    "###### CX ゲート"
   ]
  },
  {
   "cell_type": "code",
   "execution_count": 1,
   "metadata": {},
   "outputs": [
    {
     "data": {
      "text/plain": [
       "Counter({'00': 100})"
      ]
     },
     "execution_count": 1,
     "metadata": {},
     "output_type": "execute_result"
    }
   ],
   "source": [
    "from blueqat import Circuit\n",
    "import math\n",
    "\n",
    "Circuit().cx[0,1].m[:].run(shots=100)\n",
    "#or\n",
    "Circuit().cnot[0,1].m[:].run(shots=100)"
   ]
  },
  {
   "cell_type": "markdown",
   "metadata": {},
   "source": [
    "###### CY ゲート"
   ]
  },
  {
   "cell_type": "code",
   "execution_count": 3,
   "metadata": {},
   "outputs": [
    {
     "data": {
      "text/plain": [
       "Counter({'00': 100})"
      ]
     },
     "execution_count": 3,
     "metadata": {},
     "output_type": "execute_result"
    }
   ],
   "source": [
    "Circuit().cy[0,1].m[:].run(shots=100)"
   ]
  },
  {
   "cell_type": "markdown",
   "metadata": {},
   "source": [
    "###### CZ ゲート"
   ]
  },
  {
   "cell_type": "code",
   "execution_count": 4,
   "metadata": {},
   "outputs": [
    {
     "data": {
      "text/plain": [
       "Counter({'00': 100})"
      ]
     },
     "execution_count": 4,
     "metadata": {},
     "output_type": "execute_result"
    }
   ],
   "source": [
    "Circuit().cz[0,1].m[:].run(shots=100)"
   ]
  },
  {
   "cell_type": "markdown",
   "metadata": {},
   "source": [
    "## CX, CY ゲート\n",
    "制御ゲートは「コントロールビット」と「ターゲットビット」で構成されます。 \n",
    "\n",
    "制御ゲートは2量子ビットを用います。これらは1ビット目が $|1\\rangle$ のときに2ビット目を変換させるゲートです。   \n",
    "例としてよく使う CXゲートを紹介します。\n",
    "\n",
    "<img src=\"./img/007/007_0.png\" width=\"60%\">\n",
    "\n",
    "見てわかる通り1ビット目が $|1\\rangle$ のときに2ビット目にXゲートを施しているのがわかります。   \n",
    "それ以外の制御ゲートも1ビット目が $|1\\rangle$ のときに2ビット目にそれぞれのゲートを施してます。"
   ]
  },
  {
   "cell_type": "markdown",
   "metadata": {},
   "source": [
    "# 制御任意回転ゲート\n",
    "\n",
    "制御任意回転ゲートを学びます"
   ]
  },
  {
   "cell_type": "markdown",
   "metadata": {},
   "source": [
    "## 今回学ぶこと\n",
    "1. Rx,Ry,Rz,CU1,CU2,CU3ゲートについて\n",
    "2. 回路を作成"
   ]
  },
  {
   "cell_type": "markdown",
   "metadata": {},
   "source": [
    "### CRx, CRy, CRz,\n",
    "CRx, CRy, CRz ゲートは以下で実装できます。\n",
    "\n",
    "| CRx | CRy | CRz |\n",
    "|:-:|:-:|:-:|\n",
    "|`crx(θ)`|`cry(θ)`|`crz(θ)`|\n",
    "\n",
    "$\\theta$に関してはRX,RY,RZゲートと同じです。"
   ]
  },
  {
   "cell_type": "markdown",
   "metadata": {},
   "source": [
    "###### CRx ゲート"
   ]
  },
  {
   "cell_type": "code",
   "execution_count": 2,
   "metadata": {},
   "outputs": [
    {
     "data": {
      "text/plain": [
       "Counter({'00': 100})"
      ]
     },
     "execution_count": 2,
     "metadata": {},
     "output_type": "execute_result"
    }
   ],
   "source": [
    "Circuit().crx(math.pi/2)[0,1].m[:].run(shots=100)"
   ]
  },
  {
   "cell_type": "markdown",
   "metadata": {},
   "source": [
    "###### CRy ゲート"
   ]
  },
  {
   "cell_type": "code",
   "execution_count": 6,
   "metadata": {},
   "outputs": [
    {
     "data": {
      "text/plain": [
       "Counter({'00': 1000})"
      ]
     },
     "execution_count": 6,
     "metadata": {},
     "output_type": "execute_result"
    }
   ],
   "source": [
    "Circuit().cry(math.pi/2)[0,1].m[:].run(shots=1000)"
   ]
  },
  {
   "cell_type": "markdown",
   "metadata": {},
   "source": [
    "###### CRz ゲート"
   ]
  },
  {
   "cell_type": "code",
   "execution_count": 7,
   "metadata": {},
   "outputs": [
    {
     "data": {
      "text/plain": [
       "Counter({'00': 1000})"
      ]
     },
     "execution_count": 7,
     "metadata": {},
     "output_type": "execute_result"
    }
   ],
   "source": [
    "Circuit().crz(math.pi/2)[0,1].m[:].run(shots=1000)"
   ]
  },
  {
   "cell_type": "markdown",
   "metadata": {},
   "source": [
    "### CU1, CU2, CU3\n",
    "CU1, CU2, CU3 ゲートは以下で実装できます。\n",
    "\n",
    "| CU1 | CU2 | CU3 |\n",
    "|:-:|:-:|:-:|\n",
    "|`cu1(λ)`or`cphase(λ)`|`cu2(φ,λ)`|`cu3(θ,φ,λ)`|\n",
    "\n",
    "$\\theta, \\lambda, \\phi$ に関しては1量子ゲートのときと同じです。"
   ]
  },
  {
   "cell_type": "markdown",
   "metadata": {},
   "source": [
    "###### CU1 ゲート"
   ]
  },
  {
   "cell_type": "code",
   "execution_count": 8,
   "metadata": {},
   "outputs": [
    {
     "data": {
      "text/plain": [
       "Counter({'00': 100})"
      ]
     },
     "execution_count": 8,
     "metadata": {},
     "output_type": "execute_result"
    }
   ],
   "source": [
    "Circuit().cu1(math.pi)[0,1].m[:].run(shots=100)\n",
    "#or\n",
    "Circuit().cphase(math.pi)[0,1].m[:].run(shots=100)"
   ]
  },
  {
   "cell_type": "markdown",
   "metadata": {},
   "source": [
    "###### CU2 ゲート"
   ]
  },
  {
   "cell_type": "code",
   "execution_count": 9,
   "metadata": {},
   "outputs": [
    {
     "data": {
      "text/plain": [
       "Counter({'00': 100})"
      ]
     },
     "execution_count": 9,
     "metadata": {},
     "output_type": "execute_result"
    }
   ],
   "source": [
    "Circuit().cu2(0,math.pi)[0,1].m[:].run(shots=100)"
   ]
  },
  {
   "cell_type": "markdown",
   "metadata": {},
   "source": [
    "###### CU3 ゲート"
   ]
  },
  {
   "cell_type": "code",
   "execution_count": 10,
   "metadata": {},
   "outputs": [
    {
     "data": {
      "text/plain": [
       "Counter({'00': 100})"
      ]
     },
     "execution_count": 10,
     "metadata": {},
     "output_type": "execute_result"
    }
   ],
   "source": [
    "Circuit().cu3(math.pi/2,0,math.pi)[0,1].m[:].run(shots=100)"
   ]
  },
  {
   "cell_type": "markdown",
   "metadata": {},
   "source": [
    "## 解説\n",
    "制御ゲートは「コントロールビット」と「ターゲットビット」を持ちます。これらは1ビット目が $|1\\rangle$ のときに2ビット目に指定のゲートを適用します。 "
   ]
  },
  {
   "cell_type": "markdown",
   "metadata": {},
   "source": [
    "## swapゲート\n",
    "swapゲートは２つの量子ビットの値を入れ替えるゲートです。CXゲートを使って簡単に実装できるのでやってみましょう。まずはインストールです。"
   ]
  },
  {
   "cell_type": "markdown",
   "metadata": {},
   "source": [
    "## 回路の作成\n",
    "２つの回路を入れ替えるには、CXゲートを３つ使うことで実装できます。下記はまず0番目の量子ビットを1にしてみてから、２つの回路を入れ替えます。\n",
    "\n",
    "すなわち以下のような図になります。\n",
    "\n",
    "<img src=\"./img/006/006_0.png\" width=\"35%\">\n",
    "\n",
    "まずは入れ替える前を見てみましょう。"
   ]
  },
  {
   "cell_type": "code",
   "execution_count": 3,
   "metadata": {},
   "outputs": [
    {
     "data": {
      "text/plain": [
       "Counter({'10': 1})"
      ]
     },
     "execution_count": 3,
     "metadata": {},
     "output_type": "execute_result"
    }
   ],
   "source": [
    "Circuit(2).x[0].m[:].run(shots=1)"
   ]
  },
  {
   "cell_type": "markdown",
   "metadata": {},
   "source": [
    "この場合には0番目の量子ビットが1となりました。早速入れ替えてみます。"
   ]
  },
  {
   "cell_type": "code",
   "execution_count": 4,
   "metadata": {},
   "outputs": [
    {
     "data": {
      "text/plain": [
       "Counter({'01': 1})"
      ]
     },
     "execution_count": 4,
     "metadata": {},
     "output_type": "execute_result"
    }
   ],
   "source": [
    "Circuit().x[0].cx[0,1].cx[1,0].cx[0,1].m[:].run(shots=1)"
   ]
  },
  {
   "cell_type": "markdown",
   "metadata": {},
   "source": [
    "また、blueqatでは、swapゲートは下記のように簡単に書くこともできます。"
   ]
  },
  {
   "cell_type": "code",
   "execution_count": 5,
   "metadata": {},
   "outputs": [
    {
     "data": {
      "text/plain": [
       "Counter({'01': 1})"
      ]
     },
     "execution_count": 5,
     "metadata": {},
     "output_type": "execute_result"
    }
   ],
   "source": [
    "Circuit().x[0].swap[0,1].m[:].run(shots=1)"
   ]
  },
  {
   "cell_type": "markdown",
   "metadata": {},
   "source": [
    "swapゲートはCXゲートを交互に三回使うことで実現できます。CXゲートは真ん中だけ上下逆にします。上記の回路では0番目の量子ビットに1を設定した後にswapゲートを適用して交換して01と入れ替えに成功しています。\n",
    "\n",
    "swapゲートの行列表現と各ビットでの対応は以下のようになります。\n",
    "\n",
    "<img src=\"./img/006/006_1.png\" width=\"50%\">\n",
    "\n",
    "swapゲートは度々出てくるテクニックなので覚えておいた方がいいでしょう。以上です。\n"
   ]
  },
  {
   "cell_type": "markdown",
   "metadata": {},
   "source": [
    "## イジングゲート\n",
    "イジングゲートは、二量子ビットを同時に回転させるゲートです。"
   ]
  },
  {
   "cell_type": "markdown",
   "metadata": {},
   "source": [
    "### Rxx, Ryy, Rzz\n",
    "Rxx,Ryy,Rzz ゲートは下記で実行できます。\n",
    "\n",
    "| Rxx | Ryy | Rzz |\n",
    "|:-:|:-:|:-:|\n",
    "|`rxx(θ)`|`ryy(θ)`|`rzz(θ)`|"
   ]
  },
  {
   "cell_type": "markdown",
   "metadata": {},
   "source": [
    "###### RXX ゲート"
   ]
  },
  {
   "cell_type": "code",
   "execution_count": 7,
   "metadata": {},
   "outputs": [
    {
     "data": {
      "text/plain": [
       "Counter({'11': 46, '00': 54})"
      ]
     },
     "execution_count": 7,
     "metadata": {},
     "output_type": "execute_result"
    }
   ],
   "source": [
    "Circuit(2).rxx(math.pi/2)[0,1].m[:].run(shots=100)"
   ]
  },
  {
   "cell_type": "markdown",
   "metadata": {},
   "source": [
    "###### RYY ゲート"
   ]
  },
  {
   "cell_type": "code",
   "execution_count": 8,
   "metadata": {},
   "outputs": [
    {
     "data": {
      "text/plain": [
       "Counter({'00': 49, '11': 51})"
      ]
     },
     "execution_count": 8,
     "metadata": {},
     "output_type": "execute_result"
    }
   ],
   "source": [
    "Circuit(2).ryy(math.pi/2)[0,1].m[:].run(shots=100)"
   ]
  },
  {
   "cell_type": "markdown",
   "metadata": {},
   "source": [
    "###### RZZ ゲート"
   ]
  },
  {
   "cell_type": "code",
   "execution_count": 9,
   "metadata": {},
   "outputs": [
    {
     "data": {
      "text/plain": [
       "Counter({'00': 100})"
      ]
     },
     "execution_count": 9,
     "metadata": {},
     "output_type": "execute_result"
    }
   ],
   "source": [
    "Circuit().rzz(math.pi/2)[0,1].m[:].run(shots=100)"
   ]
  },
  {
   "cell_type": "markdown",
   "metadata": {},
   "source": [
    "## Rxx, Ryy, Rzzゲート\n",
    "1量子ビットの回転は 0, 1 の2つの状態を基準に表していました。\n",
    "\n",
    "2量子ビットの回転は 00, 01, 10, 11 の4つの状態を基準に回転を表しています。"
   ]
  },
  {
   "cell_type": "markdown",
   "metadata": {},
   "source": [
    "#### Rxx ゲート\n",
    "\n",
    "行列で表すと以下のようになります。\n",
    "\n",
    "$$\n",
    "Rxx(\\theta) = \\left(\\begin{array}{cccc}\n",
    "\\cos\\theta &0&0&-i\\sin\\theta\\\\\n",
    "0& \\cos\\theta &-i\\sin\\theta&0\\\\\n",
    "0&-i\\sin\\theta& \\cos\\theta &0\\\\\n",
    "-i\\sin\\theta&0&0& \\cos\\theta\n",
    "\\end{array}\\right)\\\\\n",
    "$$\n",
    "\n",
    "また各ビットへの対応は\n",
    "\n",
    "<img src=\"./img/ising_0.png\" width=\"55%\">"
   ]
  },
  {
   "cell_type": "markdown",
   "metadata": {},
   "source": [
    "#### Ryy ゲート\n",
    "\n",
    "行列で表すと以下のようになります。\n",
    "\n",
    "$$\n",
    "Ryy(\\theta) = \\left(\\begin{array}{cccc}\n",
    "\\cos\\theta &0&0&i\\sin\\theta\\\\\n",
    "0& \\cos\\theta &-i\\sin\\theta&0\\\\\n",
    "0&-i\\sin\\theta& \\cos\\theta &0\\\\\n",
    "i\\sin\\theta&0&0& \\cos\\theta\n",
    "\\end{array}\\right)\n",
    "$$\n",
    "\n",
    "また各ビットへの対応は\n",
    "\n",
    "<img src=\"./img/ising_1.png\" width=\"55%\">"
   ]
  },
  {
   "cell_type": "markdown",
   "metadata": {},
   "source": [
    "#### Rzz ゲート\n",
    "\n",
    "行列で表すと以下のようになります。\n",
    "\n",
    "$$\n",
    "Rzz(\\theta) = \\left(\\begin{array}{cccc}\n",
    "e^{\\frac{\\theta}{2}i} &0&0&0\\\\\n",
    "0& e^{-\\frac{\\theta}{2}i} &0&0\\\\\n",
    "0&0& e^{-\\frac{\\theta}{2}i} &0\\\\\n",
    "0&0&0& e^{\\frac{\\theta}{2}i}\n",
    "\\end{array}\\right)\n",
    "$$\n",
    "\n",
    "また、各ビットへの対応は、\n",
    "\n",
    "<img src=\"./img/ising_2.png\" width=\"35%\">"
   ]
  }
 ],
 "metadata": {
  "colab": {
   "collapsed_sections": [],
   "name": "007_02_fullgate.ipynb",
   "provenance": []
  },
  "kernelspec": {
   "display_name": "Python 3",
   "language": "python",
   "name": "python3"
  },
  "language_info": {
   "codemirror_mode": {
    "name": "ipython",
    "version": 3
   },
   "file_extension": ".py",
   "mimetype": "text/x-python",
   "name": "python",
   "nbconvert_exporter": "python",
   "pygments_lexer": "ipython3",
   "version": "3.8.4"
  }
 },
 "nbformat": 4,
 "nbformat_minor": 4
}
