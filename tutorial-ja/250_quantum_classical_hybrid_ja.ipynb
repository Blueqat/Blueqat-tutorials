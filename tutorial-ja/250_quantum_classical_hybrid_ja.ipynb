{
 "cells": [
  {
   "cell_type": "markdown",
   "id": "empty-millennium",
   "metadata": {},
   "source": [
    "# 量子古典ハイブリッド機械学習"
   ]
  },
  {
   "cell_type": "markdown",
   "id": "radical-curtis",
   "metadata": {},
   "source": [
    "量子古典ハイブリッド機械学習とは、量子コンピュータを用いて機械学習を行うためのNISQアルゴリズムの1種です。  \n",
    "名前の通り、量子コンピュータと古典コンピュータをハイブリッドで用います。基本的な構成は以下の図の通りです。"
   ]
  },
  {
   "cell_type": "markdown",
   "id": "official-episode",
   "metadata": {},
   "source": [
    "<img src=\"./img/250_img.png\" width=\"80%\">"
   ]
  },
  {
   "cell_type": "markdown",
   "id": "arranged-heaven",
   "metadata": {},
   "source": [
    "基本的なアイディアはVQEやQAOAと同じです。  \n",
    "量子コンピュータと古典コンピュータを交互に実行し、目的とする量を最小化(最大化)するよう、量子回路が持つパラメータ $\\theta$ を繰り返し更新します。パラメータ更新値を求める計算は古典コンピュータによって行います。  \n",
    "\n",
    "古典計算で可能な計算は古典コンピュータで行い、またパラメータも古典データとして保持して量子回路は初期化と実行を繰り返します。それにより量子回路の規模を小さく抑え、NISQデバイス上での実行に適した形としています。\n",
    "\n",
    "VQEやQAOAは問題に合わせたハミルトニアンを定義し、ハミルトニアンの期待値が最小(最大)となるように量子回路のパラメータを更新しました。対し、量子古典ハイブリッド機械学習では古典コンピュータ側で、量子回路の測定結果を引数にとる損失関数を定義します。古典コンピュータは後処理として損失関数の出力を計算し、損失を最小化するようパラメータの更新を行います。  \n",
    "これによりハミルトニアンを定義する必要がなくなり、機械学習で広く用いられる損失関数を直接適用することができます。  "
   ]
  },
  {
   "cell_type": "markdown",
   "id": "assumed-slovakia",
   "metadata": {},
   "source": [
    "量子コンピュータで実行する量子回路は大きく3つの部分に分けられます。  \n",
    "\n",
    "まず \"Data encoding\" 層で、量子回路に学習用の入力データを埋め込みます。  \n",
    "次に \"Parametric quantum circuit\" 層は、エンタングルを付与する2量子ビットゲートと、パラメータの更新を行う回転ゲートの組み合わせで構成されます。パラメータ更新によりモデルの確率分布を学習するのはこの部分です。  \n",
    "最後に \"Measurement\" 層で量子状態を測定し、測定結果を古典コンピュータに渡します。"
   ]
  },
  {
   "cell_type": "markdown",
   "id": "enclosed-liberty",
   "metadata": {},
   "source": [
    "量子回路のパラメータ $\\theta$ の学習は、従来のニューラルネットにおける重みパラメータの学習に似ています。  \n",
    "そのため上手く学習するために必要な要素もニューラルネットと似通った部分があり、\n",
    "\n",
    "1. データの埋め込み方\n",
    "2. 損失関数の設計\n",
    "3. パラメータ更新の手法\n",
    "4. Parametric quantum circuit (学習層)の設計\n",
    "\n",
    "などが挙げられます。それぞれについてこれまで様々な手法が提案・使用されてきました。  \n",
    "以降のチュートリアルでは、具体的なモデルを用いた簡単な学習例をいくつか紹介します。"
   ]
  },
  {
   "cell_type": "markdown",
   "id": "opened-politics",
   "metadata": {},
   "source": [
    "### 参考文献"
   ]
  },
  {
   "cell_type": "markdown",
   "id": "checked-board",
   "metadata": {},
   "source": [
    "Benedetti, Marcello, et al. \"Parameterized quantum circuits as machine learning models.\" Quantum Science and Technology 4.4 (2019): 043001."
   ]
  },
  {
   "cell_type": "code",
   "execution_count": null,
   "id": "together-action",
   "metadata": {},
   "outputs": [],
   "source": []
  }
 ],
 "metadata": {
  "kernelspec": {
   "display_name": "Python 3",
   "language": "python",
   "name": "python3"
  },
  "language_info": {
   "codemirror_mode": {
    "name": "ipython",
    "version": 3
   },
   "file_extension": ".py",
   "mimetype": "text/x-python",
   "name": "python",
   "nbconvert_exporter": "python",
   "pygments_lexer": "ipython3",
   "version": "3.8.2"
  }
 },
 "nbformat": 4,
 "nbformat_minor": 5
}
