{
 "cells": [
  {
   "cell_type": "markdown",
   "id": "assumed-minneapolis",
   "metadata": {},
   "source": [
    "# 線形回帰\n",
    "\n",
    "アニーリングを利用した線形回帰演算を説明します。\n",
    "\n",
    "参考文献: https://arxiv.org/abs/2008.02355"
   ]
  },
  {
   "cell_type": "markdown",
   "id": "abstract-glance",
   "metadata": {},
   "source": [
    "### 線形回帰の損失関数"
   ]
  },
  {
   "cell_type": "markdown",
   "id": "mineral-karma",
   "metadata": {},
   "source": [
    "$n$ 個の変数を持つデータ(ベクトル)を $\\boldsymbol{x}$ とし、それに対して予測したいターゲット値を $y$ とします。  \n",
    "$y$ が各変数の重み付き和で予測可能と仮定すると、次のような重みベクトル $\\boldsymbol{w}$ を考えることができます。\n",
    "\n",
    "$$\n",
    "\\boldsymbol{x}^T \\cdot \\boldsymbol{w} = y\n",
    "$$\n",
    "\n",
    "次に、$m$ 個のデータからなる学習用データセット $X$ ($m \\times n$ 行列)と ターゲットデータ $Y$ ($m$ 次元ベクトル)があるとします。  \n",
    "$X$ に含まれる全てのデータ $\\boldsymbol{x}$ について対応する $y$ を予測するような、1つの重みベクトル $\\boldsymbol{w}$ を求めるのが線形回帰の目的です。\n",
    "\n",
    "これは次のような関数の最小化問題となります。\n",
    "\n",
    "$$\n",
    "\\min_{\\boldsymbol{w}} E(\\boldsymbol{w}) =  || X\\boldsymbol{w}  - Y ||^2\n",
    "$$\n",
    "\n",
    "$E(\\boldsymbol{w})$ を式変形すると\n",
    "\n",
    "$$\n",
    "\\min_{\\boldsymbol{w}} E(\\boldsymbol{w}) = \\boldsymbol{w}^T X^T X \\boldsymbol{w} - 2\\boldsymbol{w}^T X^T Y + Y^T Y\n",
    "$$\n",
    "\n",
    "ここで重み $\\boldsymbol{w}$ を量子ビットの測定値にエンコードするために $\\boldsymbol{w} = P\\hat{\\boldsymbol{w}}$ とします。  \n",
    "$\\hat{\\boldsymbol{w}}$ は量子ビット測定値 $\\{0, 1\\}$ からなるベクトルです。  \n",
    "また、最小化に影響しない $Y^T Y$ を省略します。\n",
    "\n",
    "$$\n",
    "\\min_{\\boldsymbol{w}} E(\\boldsymbol{w}) = 　\\hat{\\boldsymbol{w}}^T P^T  X^T X P\\hat{\\boldsymbol{w}} - 2\\hat{\\boldsymbol{w}}^T P^T X^T Y\n",
    "$$"
   ]
  },
  {
   "cell_type": "markdown",
   "id": "electric-flashing",
   "metadata": {},
   "source": [
    "すると次のように一般のQUBO形式の最小化問題に落とし込むことができるため、アニーリングで解くことができます。\n",
    "\n",
    "$$\n",
    "\\min_{\\boldsymbol{w}} E(\\boldsymbol{w}) = 　\\hat{\\boldsymbol{w}}^T A \\hat{\\boldsymbol{w}} + \\hat{\\boldsymbol{w}}^T \\boldsymbol{b} \\\\\n",
    "A = P^T  X^T X P \\\\\n",
    "\\boldsymbol{b} = -2P^T X^T Y\n",
    "$$\n",
    "\n",
    "注目すべき点はQUBO行列のサイズが、データセットに含まれるデータの数に依存しない点です。  \n",
    "(データの変数の数) $\\times$ (重み値のエンコードに用いる量子ビット数) で決まります。  "
   ]
  },
  {
   "cell_type": "markdown",
   "id": "blocked-illinois",
   "metadata": {},
   "source": [
    "これを blueqat を用いて実装しましょう。"
   ]
  },
  {
   "cell_type": "code",
   "execution_count": 73,
   "id": "diverse-worse",
   "metadata": {},
   "outputs": [],
   "source": [
    "from blueqat.wq import *\n",
    "import pandas as pd\n",
    "import numpy as np\n",
    "import matplotlib.pyplot as plt"
   ]
  },
  {
   "cell_type": "markdown",
   "id": "equivalent-international",
   "metadata": {},
   "source": [
    "まずはデータセットを作成します。  \n",
    "今回は求める重みをあらかじめ設定します。  \n",
    "データセット $X$ をランダムに生成し、重みをかけてノイズを加えた値を計算しターゲットデータ $Y$ とします。"
   ]
  },
  {
   "cell_type": "code",
   "execution_count": 165,
   "id": "generous-partner",
   "metadata": {},
   "outputs": [],
   "source": [
    "w = np.array([0.25, 0.75, 0.5])\n",
    "X = np.random.rand(100, 3)\n",
    "\n",
    "y = X @ w + np.random.normal(scale = 0.05, size = X.shape[0])"
   ]
  },
  {
   "cell_type": "markdown",
   "id": "derived-lending",
   "metadata": {},
   "source": [
    "scikit-learn で古典的に線形回帰を行いましょう。  \n",
    "ターゲットデータ $Y$ にノイズを加えているため若干のずれはありますが、あらかじめ設定した重みを精度良く推定できています。"
   ]
  },
  {
   "cell_type": "code",
   "execution_count": 166,
   "id": "built-omaha",
   "metadata": {},
   "outputs": [
    {
     "name": "stdout",
     "output_type": "stream",
     "text": [
      "Predicted weight: [0.23514126 0.72070147 0.48488868]\n",
      "True weight: [0.25 0.75 0.5 ]\n"
     ]
    }
   ],
   "source": [
    "from sklearn import linear_model\n",
    "\n",
    "skmodel = linear_model.LinearRegression()\n",
    "skmodel.fit(X, y)\n",
    "w_sk = skmodel.coef_\n",
    "print(\"Predicted weight:\", w_sk)\n",
    "print(\"True weight:\", w)"
   ]
  },
  {
   "cell_type": "markdown",
   "id": "increasing-galaxy",
   "metadata": {},
   "source": [
    "次にアニーリングで線形回帰を行います。  \n",
    "\n",
    "アニーリングでは重み　$\\boldsymbol{w}$ の各値をいくつかの量子ビットにエンコードします。  \n",
    "どのような値にエンコードするかは任意に設定することができ、上の数式における変換行列 $P$ に対応します。  \n",
    "\n",
    "ここでは簡単に、1つの重みパラメータを2量子ビットにエンコードし、$[0, 0.25, 0.5, 0.75]$ の4値から予測します。  \n",
    "用いる量子ビット数は $(\\text{エンコードに用いる量子ビット数}) \\times (\\text{変数の数}) = 2 \\times 3 = 6$ です。"
   ]
  },
  {
   "cell_type": "code",
   "execution_count": 167,
   "id": "postal-stick",
   "metadata": {},
   "outputs": [],
   "source": [
    "K = 2 # bit number for weight\n",
    "d = 3 # Number of features\n",
    "\n",
    "p = [2 ** (-i-1) for i in range(K)]\n",
    "I = np.eye(d)\n",
    "P = np.kron(I, p)"
   ]
  },
  {
   "cell_type": "code",
   "execution_count": 169,
   "id": "sudden-medline",
   "metadata": {},
   "outputs": [],
   "source": [
    "A = np.dot(np.dot(P.T, X.T), np.dot(X, P))\n",
    "b = -2 * np.dot(np.dot(P.T, X.T), y)\n",
    "QUBO = A + np.diag(b)"
   ]
  },
  {
   "cell_type": "code",
   "execution_count": 320,
   "id": "interesting-perfume",
   "metadata": {},
   "outputs": [],
   "source": [
    "from collections import defaultdict\n",
    "import dimod\n",
    "\n",
    "Q = defaultdict(int)\n",
    "\n",
    "for i in range(QUBO.shape[0]):\n",
    "    for j in range(QUBO.shape[1]):\n",
    "        Q[(i,j)]+= QUBO[i,j]\n",
    "        \n",
    "bqm = dimod.AdjDictBQM('BINARY')\n",
    "bqm_QUBO = bqm.from_qubo(Q)\n",
    "\n",
    "ising = bqm.from_qubo(Q).to_ising()\n",
    "J = np.zeros((len(ising[0]), len(ising[0])))\n",
    "for i in range(len(ising[0])):\n",
    "    J[i, i] = ising[0][i]\n",
    "\n",
    "for i in range(len(ising[0])):\n",
    "    for j in range(i, len(ising[0])):\n",
    "        if i != j:\n",
    "            J[i, j] = ising[1][(i, j)]"
   ]
  },
  {
   "cell_type": "code",
   "execution_count": 340,
   "id": "solar-cache",
   "metadata": {},
   "outputs": [],
   "source": [
    "a = Opt()\n",
    "\n",
    "a.J = J\n",
    "res = a.run(shots = 10, sampler = 'fast')"
   ]
  },
  {
   "cell_type": "code",
   "execution_count": 341,
   "id": "quarterly-rough",
   "metadata": {},
   "outputs": [
    {
     "data": {
      "text/plain": [
       "[[0, 1, 1, 1, 1, 0],\n",
       " [0, 1, 1, 1, 1, 0],\n",
       " [0, 1, 1, 1, 1, 0],\n",
       " [0, 1, 1, 1, 1, 0],\n",
       " [0, 1, 1, 1, 1, 0],\n",
       " [0, 1, 1, 1, 1, 0],\n",
       " [0, 1, 1, 1, 1, 0],\n",
       " [1, 0, 1, 1, 0, 1],\n",
       " [1, 0, 1, 0, 1, 0],\n",
       " [0, 1, 1, 1, 1, 0]]"
      ]
     },
     "execution_count": 341,
     "metadata": {},
     "output_type": "execute_result"
    }
   ],
   "source": [
    "res"
   ]
  },
  {
   "cell_type": "markdown",
   "id": "floating-powder",
   "metadata": {},
   "source": [
    "アニーリングの結果を重みパラメータの値に変換し、元々設定していた値と比較します。"
   ]
  },
  {
   "cell_type": "code",
   "execution_count": 342,
   "id": "superior-berkeley",
   "metadata": {},
   "outputs": [
    {
     "name": "stdout",
     "output_type": "stream",
     "text": [
      "Predicted weight: [0.25 0.75 0.5 ]\n",
      "True weight: [0.25 0.75 0.5 ]\n"
     ]
    }
   ],
   "source": [
    "w_qa = P @ res[0]\n",
    "\n",
    "print(\"Predicted weight:\", w_qa)\n",
    "print(\"True weight:\", w)"
   ]
  },
  {
   "cell_type": "markdown",
   "id": "encouraging-jonathan",
   "metadata": {},
   "source": [
    "正しく予測できました。  \n",
    "ここでは元々設定した重み $\\boldsymbol{w}$ の値に合わせてエンコードを定めたため、正確に推定できています。  \n",
    "\n",
    "実際は未知の重みを推定するため誤差が生じます。  \n",
    "また誤差を小さく抑えるためにより多くの量子ビットを用意しエンコードの刻み幅を小さくする必要があります。"
   ]
  },
  {
   "cell_type": "code",
   "execution_count": null,
   "id": "automotive-geometry",
   "metadata": {},
   "outputs": [],
   "source": []
  }
 ],
 "metadata": {
  "kernelspec": {
   "display_name": "Python 3",
   "language": "python",
   "name": "python3"
  },
  "language_info": {
   "codemirror_mode": {
    "name": "ipython",
    "version": 3
   },
   "file_extension": ".py",
   "mimetype": "text/x-python",
   "name": "python",
   "nbconvert_exporter": "python",
   "pygments_lexer": "ipython3",
   "version": "3.8.2"
  }
 },
 "nbformat": 4,
 "nbformat_minor": 5
}
