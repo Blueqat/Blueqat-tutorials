{
 "cells": [
  {
   "cell_type": "markdown",
   "metadata": {},
   "source": [
    "# 1量子ゲート\n",
    "基本のゲート操作を確認します。\n",
    "\n",
    "## 今回学ぶこと\n",
    "1. 1量子ビットにかけるゲートを学びます。\n",
    "2. そのゲートの実装例を学びます。\n",
    "\n",
    "## blueqatのインストール\n",
    "pipからblueqatをインストールします。"
   ]
  },
  {
   "cell_type": "code",
   "execution_count": 1,
   "metadata": {},
   "outputs": [
    {
     "name": "stdout",
     "output_type": "stream",
     "text": [
      "Requirement already satisfied: blueqat in /home/ec2-user/anaconda3/envs/python3/lib/python3.6/site-packages (0.3.13)\n",
      "Requirement already satisfied: scipy>=1.1.0 in /home/ec2-user/anaconda3/envs/python3/lib/python3.6/site-packages (from blueqat) (1.1.0)\n",
      "Requirement already satisfied: numpy~=1.12 in /home/ec2-user/anaconda3/envs/python3/lib/python3.6/site-packages (from blueqat) (1.18.4)\n",
      "\u001b[31mdwave-cloud-client 0.7.2 has requirement click>=7.0, but you'll have click 6.7 which is incompatible.\u001b[0m\n",
      "\u001b[33mYou are using pip version 10.0.1, however version 20.1 is available.\n",
      "You should consider upgrading via the 'pip install --upgrade pip' command.\u001b[0m\n"
     ]
    }
   ],
   "source": [
    "!pip install blueqat"
   ]
  },
  {
   "cell_type": "markdown",
   "metadata": {},
   "source": [
    "### I, X, Y, Z, H, S, S†, T, T†\n",
    "I, X, Y, Z, H, S, S†, T, T† ゲートはそれぞれ以下で実装できます。\n",
    "\n",
    "| I | X | Y | Z | H | S | S†| T | T†|\n",
    "|:-:|:-:|:-:|:-:|:-:|:-:|:-:|:-:|:-:|\n",
    "|`i`|`x`|`y`|`z`|`h`|`s`|`sdg`|`t`|`tdg`|\n",
    "\n",
    "###### I ゲート"
   ]
  },
  {
   "cell_type": "code",
   "execution_count": 2,
   "metadata": {},
   "outputs": [
    {
     "data": {
      "text/plain": [
       "Counter({'0': 100})"
      ]
     },
     "execution_count": 2,
     "metadata": {},
     "output_type": "execute_result"
    }
   ],
   "source": [
    "from blueqat import Circuit\n",
    "\n",
    "Circuit().i[0].m[:].run(shots=100)"
   ]
  },
  {
   "cell_type": "markdown",
   "metadata": {},
   "source": [
    "###### X ゲート"
   ]
  },
  {
   "cell_type": "code",
   "execution_count": 3,
   "metadata": {},
   "outputs": [
    {
     "data": {
      "text/plain": [
       "Counter({'1': 100})"
      ]
     },
     "execution_count": 3,
     "metadata": {},
     "output_type": "execute_result"
    }
   ],
   "source": [
    "from blueqat import Circuit\n",
    "\n",
    "Circuit().x[0].m[:].run(shots=100)"
   ]
  },
  {
   "cell_type": "markdown",
   "metadata": {},
   "source": [
    "###### Y ゲート"
   ]
  },
  {
   "cell_type": "code",
   "execution_count": 4,
   "metadata": {},
   "outputs": [
    {
     "data": {
      "text/plain": [
       "Counter({'1': 100})"
      ]
     },
     "execution_count": 4,
     "metadata": {},
     "output_type": "execute_result"
    }
   ],
   "source": [
    "from blueqat import Circuit\n",
    "\n",
    "Circuit().y[0].m[:].run(shots=100)"
   ]
  },
  {
   "cell_type": "markdown",
   "metadata": {},
   "source": [
    "###### Z ゲート"
   ]
  },
  {
   "cell_type": "code",
   "execution_count": 5,
   "metadata": {},
   "outputs": [
    {
     "data": {
      "text/plain": [
       "Counter({'0': 100})"
      ]
     },
     "execution_count": 5,
     "metadata": {},
     "output_type": "execute_result"
    }
   ],
   "source": [
    "from blueqat import Circuit\n",
    "\n",
    "Circuit().z[0].m[:].run(shots=100)"
   ]
  },
  {
   "cell_type": "markdown",
   "metadata": {},
   "source": [
    "###### H ゲート"
   ]
  },
  {
   "cell_type": "code",
   "execution_count": 6,
   "metadata": {},
   "outputs": [
    {
     "data": {
      "text/plain": [
       "Counter({'1': 54, '0': 46})"
      ]
     },
     "execution_count": 6,
     "metadata": {},
     "output_type": "execute_result"
    }
   ],
   "source": [
    "from blueqat import Circuit\n",
    "\n",
    "Circuit().h[0].m[:].run(shots=100)"
   ]
  },
  {
   "cell_type": "markdown",
   "metadata": {},
   "source": [
    "###### S ゲート"
   ]
  },
  {
   "cell_type": "code",
   "execution_count": 7,
   "metadata": {},
   "outputs": [
    {
     "data": {
      "text/plain": [
       "Counter({'0': 100})"
      ]
     },
     "execution_count": 7,
     "metadata": {},
     "output_type": "execute_result"
    }
   ],
   "source": [
    "from blueqat import Circuit\n",
    "\n",
    "Circuit().s[0].m[:].run(shots=100)"
   ]
  },
  {
   "cell_type": "markdown",
   "metadata": {},
   "source": [
    "###### S† ゲート"
   ]
  },
  {
   "cell_type": "code",
   "execution_count": 8,
   "metadata": {},
   "outputs": [
    {
     "data": {
      "text/plain": [
       "Counter({'0': 100})"
      ]
     },
     "execution_count": 8,
     "metadata": {},
     "output_type": "execute_result"
    }
   ],
   "source": [
    "from blueqat import Circuit\n",
    "\n",
    "Circuit().sdg[0].m[:].run(shots=100)"
   ]
  },
  {
   "cell_type": "markdown",
   "metadata": {},
   "source": [
    "###### T ゲート"
   ]
  },
  {
   "cell_type": "code",
   "execution_count": 9,
   "metadata": {},
   "outputs": [
    {
     "data": {
      "text/plain": [
       "Counter({'0': 100})"
      ]
     },
     "execution_count": 9,
     "metadata": {},
     "output_type": "execute_result"
    }
   ],
   "source": [
    "from blueqat import Circuit\n",
    "\n",
    "Circuit().t[0].m[:].run(shots=100)"
   ]
  },
  {
   "cell_type": "markdown",
   "metadata": {},
   "source": [
    "###### T† ゲート"
   ]
  },
  {
   "cell_type": "code",
   "execution_count": 10,
   "metadata": {},
   "outputs": [
    {
     "data": {
      "text/plain": [
       "Counter({'0': 100})"
      ]
     },
     "execution_count": 10,
     "metadata": {},
     "output_type": "execute_result"
    }
   ],
   "source": [
    "from blueqat import Circuit\n",
    "\n",
    "Circuit().tdg[0].m[:].run(shots=100)"
   ]
  },
  {
   "cell_type": "markdown",
   "metadata": {},
   "source": [
    "# 概要\n",
    "\n",
    "## X, Y, Z ゲート\n",
    "\n",
    "$$\n",
    "X = \\begin{pmatrix}\n",
    "0 & 1 \\\\\n",
    "1 & 0\n",
    "\\end{pmatrix},\\ \\ \n",
    "X = \\begin{pmatrix}\n",
    "0 & -i \\\\\n",
    "i & 0\n",
    "\\end{pmatrix},\\ \\ \n",
    "Z = \\begin{pmatrix}\n",
    "1 & 0 \\\\\n",
    "0 & -1\n",
    "\\end{pmatrix}\n",
    "$$\n",
    "\n",
    "これを施すと\n",
    "\n",
    "$$\n",
    "X:\\begin{cases}\n",
    "    \\lvert 0 \\rangle \\to \\lvert 1 \\rangle \\\\\n",
    "    \\lvert 1 \\rangle \\to \\lvert 0 \\rangle\n",
    "  \\end{cases},\\ \\ \n",
    "Y:\\begin{cases}\n",
    "    \\lvert 0 \\rangle \\to i\\lvert 1 \\rangle \\\\\n",
    "    \\lvert 1 \\rangle \\to -i\\lvert 0 \\rangle\n",
    "\\end{cases},\\ \\ \n",
    "Z:\\begin{cases}\n",
    "    \\lvert 0 \\rangle \\to \\lvert 0 \\rangle \\\\\n",
    "    \\lvert 1 \\rangle \\to -\\lvert 1 \\rangle\n",
    "\\end{cases}\n",
    "$$\n",
    "\n",
    "Xゲートは 0 と 1 を入れ替える古典の NOT ゲートに当たります。   \n",
    "Zゲートは 1 だけ符号を変えることができるゲートです。\n",
    "\n",
    "この二つは非常によく使います。"
   ]
  },
  {
   "cell_type": "markdown",
   "metadata": {},
   "source": [
    "## H ゲート\n",
    "量子状態の重ね合わせに必要なゲートです。\n",
    "\n",
    "$$\n",
    "H = \\frac{1}{\\sqrt{2}}\\begin{pmatrix}\n",
    "1 & 1 \\\\\n",
    "1 & -1\n",
    "\\end{pmatrix}\n",
    "$$\n",
    "\n",
    "$$\n",
    "H:\\begin{cases}\n",
    "    \\lvert 0 \\rangle \\to \\frac{1}{\\sqrt{2}}\\lvert 0 \\rangle + \\frac{1}{\\sqrt{2}}\\lvert 1 \\rangle\\\\\n",
    "    \\lvert 1 \\rangle \\to \\frac{1}{\\sqrt{2}}\\lvert 0 \\rangle - \\frac{1}{\\sqrt{2}}\\lvert 1 \\rangle\n",
    "\\end{cases}\n",
    "$$\n",
    "\n",
    "見てわかる通り $|0\\rangle, |1\\rangle$ をそれぞれ重ね合わせの状態に変換しています。\n",
    "これもとても重要なゲートです。\n",
    "\n",
    "アダマールゲートとも言います。(Hadamard)"
   ]
  },
  {
   "cell_type": "markdown",
   "metadata": {},
   "source": [
    "## S, S†, T, T† ゲート\n",
    "\n",
    "$$\n",
    "S = \\begin{pmatrix}\n",
    "1 & 0 \\\\\n",
    "0 & i\n",
    "\\end{pmatrix},\\ \\ \n",
    "S^{\\dagger} = \\begin{pmatrix}\n",
    "1 & 0 \\\\\n",
    "0 & -i\n",
    "\\end{pmatrix},\\ \\ \n",
    "T = \\begin{pmatrix}\n",
    "1 & 0 \\\\\n",
    "0 & e^{i\\frac{\\pi}{4}}\n",
    "\\end{pmatrix},\\ \\ \n",
    "T^{\\dagger} = \\begin{pmatrix}\n",
    "1 & 0 \\\\\n",
    "0 & -e^{i\\frac{\\pi}{4}}\n",
    "\\end{pmatrix}\n",
    "$$\n",
    "\n",
    "これを施すと\n",
    "\n",
    "$$\n",
    "S:\\begin{cases}\n",
    "    \\lvert 0 \\rangle \\to \\lvert 0 \\rangle\\\\\n",
    "    \\lvert 1 \\rangle \\to i\\lvert 1 \\rangle\n",
    "\\end{cases},\\ \\ \n",
    "S^{\\dagger}:\\begin{cases}\n",
    "    \\lvert 0 \\rangle \\to \\lvert 0 \\rangle\\\\\n",
    "    \\lvert 1 \\rangle \\to -i\\lvert 1 \\rangle\n",
    "\\end{cases},\\ \\ \n",
    "T:\\begin{cases}\n",
    "    \\lvert 0 \\rangle \\to \\lvert 0 \\rangle\\\\\n",
    "    \\lvert 1 \\rangle \\to e^{i\\frac{\\pi}{4}}\\lvert 1 \\rangle\n",
    "\\end{cases},\\ \\ \n",
    "T^{\\dagger}:\\begin{cases}\n",
    "    \\lvert 0 \\rangle \\to \\lvert 0 \\rangle\\\\\n",
    "    \\lvert 1 \\rangle \\to -e^{i\\frac{\\pi}{4}}\\lvert 1 \\rangle\n",
    "\\end{cases}\n",
    "$$\n",
    "\n",
    "見てわかる通り $\\lvert1\\rangle$ のみ変換して状態ベクトルは変化していますが、観測した値自体は変化しません。   \n",
    "このような複素数部分のことを位相と言います。\n",
    "\n",
    "この複素数の部分を動かすゲートを位相ゲートとも呼びます。"
   ]
  },
  {
   "cell_type": "markdown",
   "metadata": {},
   "source": [
    "## Rx, Ry, Rz, Uゲート\n",
    "Rx, Ry, Rzゲートはそれぞれ以下で実装できます。\n",
    "\n",
    "| Rx | Ry | Rz |\n",
    "|:-:|:-:|:-:|\n",
    "|`rx(θ)`|`ry(θ)`|`rz(θ)`|\n",
    "\n",
    "Rx, Ry, Rz の $\\theta$ には各軸による回転角を記入します。\n",
    "\n",
    "###### Rx ゲート"
   ]
  },
  {
   "cell_type": "code",
   "execution_count": 1,
   "metadata": {},
   "outputs": [
    {
     "data": {
      "text/plain": [
       "Counter({'0': 50, '1': 50})"
      ]
     },
     "execution_count": 1,
     "metadata": {},
     "output_type": "execute_result"
    }
   ],
   "source": [
    "from blueqat import Circuit\n",
    "import math\n",
    "\n",
    "Circuit().rx(math.pi/2)[0].m[:].run(shots=100)"
   ]
  },
  {
   "cell_type": "markdown",
   "metadata": {},
   "source": [
    "###### Ry ゲート"
   ]
  },
  {
   "cell_type": "code",
   "execution_count": 4,
   "metadata": {},
   "outputs": [
    {
     "data": {
      "text/plain": [
       "Counter({'1': 55, '0': 45})"
      ]
     },
     "execution_count": 4,
     "metadata": {},
     "output_type": "execute_result"
    }
   ],
   "source": [
    "Circuit().ry(math.pi/2)[0].m[:].run(shots=100)"
   ]
  },
  {
   "cell_type": "markdown",
   "metadata": {},
   "source": [
    "###### Rz ゲート"
   ]
  },
  {
   "cell_type": "code",
   "execution_count": 5,
   "metadata": {},
   "outputs": [
    {
     "data": {
      "text/plain": [
       "Counter({'0': 100})"
      ]
     },
     "execution_count": 5,
     "metadata": {},
     "output_type": "execute_result"
    }
   ],
   "source": [
    "Circuit().rz(math.pi/2)[0].m[:].run(shots=100)"
   ]
  },
  {
   "cell_type": "markdown",
   "metadata": {},
   "source": [
    "##### U ゲート\n",
    "U ゲートは以下で実装できます。\n",
    "\n",
    "| U |\n",
    "|:-:|\n",
    "|`u(θ,φ,λ,γ)`|"
   ]
  },
  {
   "cell_type": "code",
   "execution_count": 14,
   "metadata": {},
   "outputs": [
    {
     "data": {
      "text/plain": [
       "Counter({'1': 49, '0': 51})"
      ]
     },
     "execution_count": 14,
     "metadata": {},
     "output_type": "execute_result"
    }
   ],
   "source": [
    "Circuit().u(math.pi/2, 0, math.pi, -math.pi/2)[0].m[:].run(shots=100)"
   ]
  },
  {
   "cell_type": "markdown",
   "metadata": {},
   "source": [
    "# 概要"
   ]
  },
  {
   "cell_type": "markdown",
   "metadata": {},
   "source": [
    "## Rx, Ry, Rz ゲート\n",
    "ビットを各軸周りに回転させるゲートです。\n",
    "\n",
    "$$\n",
    "Rx(\\theta) =\n",
    "\\begin{pmatrix}\n",
    "\\cos(\\frac{\\theta}{2}) & -i\\sin(\\frac{\\theta}{2}) \\\\\n",
    "-i\\sin(\\frac{\\theta}{2}) & \\cos(\\frac{\\theta}{2})\n",
    "\\end{pmatrix},\\ \\ \n",
    "Ry(\\theta) =\n",
    "\\begin{pmatrix}\n",
    "\\cos(\\frac{\\theta}{2}) & -\\sin(\\frac{\\theta}{2}) \\\\\n",
    "\\sin(\\frac{\\theta}{2}) & \\cos(\\frac{\\theta}{2})\n",
    "\\end{pmatrix},\\ \\ \n",
    "Rz(\\theta) =\n",
    "\\begin{pmatrix}\n",
    "e^{-i\\frac{\\theta}{2}} & 0 \\\\\n",
    "0 & e^{i\\frac{\\theta}{2}}\n",
    "\\end{pmatrix}\n",
    "$$\n",
    "\n",
    "各軸周りに回転できるので1量子ビットの全ての状態はこのゲートの組み合わせで作ることができます。"
   ]
  },
  {
   "cell_type": "markdown",
   "metadata": {},
   "source": [
    "## U ゲート"
   ]
  },
  {
   "cell_type": "markdown",
   "metadata": {},
   "source": [
    "U ゲートは4個のパラメータを用いるのでグローバル位相も含めた全ての状態を考えることができます。\n",
    "\n",
    "$$\n",
    "U(\\theta, \\phi, \\lambda, \\gamma) = e^{i\\gamma}  \\begin{pmatrix}\n",
    "\\cos(\\frac{\\theta}{2}) & -e^{i\\lambda} \\sin(\\frac{\\theta}{2}) \\\\\n",
    "e^{i\\phi} \\sin(\\frac{\\theta}{2}) & e^{i(\\phi+\\lambda)} \\cos(\\frac{\\theta}{2}) \n",
    "\\end{pmatrix}\n",
    "$$"
   ]
  },
  {
   "cell_type": "markdown",
   "metadata": {},
   "source": [
    "## U1, U2, U3 ゲートからのアップデート\n",
    "旧バージョンの Blueqat に存在した U1, U2, U3 ゲートを使用している場合は、以下の式で U ゲートに変換してください。\n",
    "\n",
    "- U1(θ) → RZ(θ)\n",
    "- U2(φ, λ) → U(π/2, φ, λ, -0.5 * (φ+λ))\n",
    "- U3(θ, φ, λ) → U(θ, φ, λ, -0.5 * (φ+λ))"
   ]
  }
 ],
 "metadata": {
  "colab": {
   "collapsed_sections": [],
   "name": "007_02_fullgate.ipynb",
   "provenance": []
  },
  "kernelspec": {
   "display_name": "Python 3",
   "language": "python",
   "name": "python3"
  },
  "language_info": {
   "codemirror_mode": {
    "name": "ipython",
    "version": 3
   },
   "file_extension": ".py",
   "mimetype": "text/x-python",
   "name": "python",
   "nbconvert_exporter": "python",
   "pygments_lexer": "ipython3",
   "version": "3.8.2"
  }
 },
 "nbformat": 4,
 "nbformat_minor": 4
}
