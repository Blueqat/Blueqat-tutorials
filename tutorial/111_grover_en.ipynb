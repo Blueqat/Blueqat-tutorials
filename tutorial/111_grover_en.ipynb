{
 "cells": [
  {
   "cell_type": "markdown",
   "metadata": {
    "colab_type": "text",
    "id": "NjHnSAbHrInP"
   },
   "source": [
    "# Grover's algorithm\n",
    "Grover's algorithm is a search algorithm to find out the data efficiently from random data.\n",
    "\n",
    "The basic step of grover's algorithm is \n",
    "\n",
    "1. Making superposition  \n",
    "2. Marking of the data you want to find  \n",
    "3. Amplitude amplification  \n",
    "\n",
    "Repeating the step2 and 3 properly, we can get the correct result."
   ]
  },
  {
   "cell_type": "markdown",
   "metadata": {},
   "source": [
    "# Install"
   ]
  },
  {
   "cell_type": "code",
   "execution_count": null,
   "metadata": {},
   "outputs": [],
   "source": [
    "!pip install blueqat"
   ]
  },
  {
   "cell_type": "markdown",
   "metadata": {
    "colab_type": "text",
    "id": "CJhIv6UdASWQ"
   },
   "source": [
    "## Marking\n",
    "Here we see 2qubits grover's algorithm. Combination of 2 binary numbers are 00, 01, 10 and 11. Now we see the basic marking circuit to mark the state vector.\n",
    "\n",
    "To do marking we prepare a diagonal matrix which is one element is -1 and others are 1. By using H gate, CZ gate and S gate we can realize it.\n"
   ]
  },
  {
   "cell_type": "markdown",
   "metadata": {
    "colab_type": "text",
    "id": "oXg3hf3yAkMS"
   },
   "source": [
    "Let's see on blueqat."
   ]
  },
  {
   "cell_type": "markdown",
   "metadata": {
    "colab_type": "text",
    "id": "7Q4HfcrWmQ2n"
   },
   "source": [
    "Now we see the circuit one by one. We can check the unitary matrix of the circuit by running .run_with_sympy_unitary(). And we usually start from the diagonal matrix of CZ gate first and changing it."
   ]
  },
  {
   "cell_type": "code",
   "execution_count": 1,
   "metadata": {},
   "outputs": [],
   "source": [
    "from blueqat import Circuit"
   ]
  },
  {
   "cell_type": "code",
   "execution_count": 2,
   "metadata": {
    "colab": {
     "base_uri": "https://localhost:8080/",
     "height": 102
    },
    "colab_type": "code",
    "id": "mV6JWcmHCMY2",
    "outputId": "0587b425-fe85-40f0-d952-f9630cc48055"
   },
   "outputs": [
    {
     "data": {
      "text/latex": [
       "$\\displaystyle \\left[\\begin{matrix}1 & 0 & 0 & 0\\\\0 & 1 & 0 & 0\\\\0 & 0 & 1 & 0\\\\0 & 0 & 0 & -1\\end{matrix}\\right]$"
      ],
      "text/plain": [
       "Matrix([\n",
       "[1, 0, 0,  0],\n",
       "[0, 1, 0,  0],\n",
       "[0, 0, 1,  0],\n",
       "[0, 0, 0, -1]])"
      ]
     },
     "execution_count": 2,
     "metadata": {},
     "output_type": "execute_result"
    }
   ],
   "source": [
    "'''\n",
    "#marking on 11\n",
    "\n",
    "-------*-----\n",
    "-------Z-----\n",
    "'''\n",
    "\n",
    "Circuit(2).cz[0,1].run_with_sympy_unitary()"
   ]
  },
  {
   "cell_type": "code",
   "execution_count": 4,
   "metadata": {
    "colab": {
     "base_uri": "https://localhost:8080/",
     "height": 102
    },
    "colab_type": "code",
    "id": "u5zYyzFPiwj8",
    "outputId": "c16ebec3-7568-45c6-e49f-ca6de857ff0d"
   },
   "outputs": [
    {
     "data": {
      "text/latex": [
       "$\\displaystyle \\left[\\begin{matrix}1 & 0 & 0 & 0\\\\0 & -1 & 0 & 0\\\\0 & 0 & 1 & 0\\\\0 & 0 & 0 & 1\\end{matrix}\\right]$"
      ],
      "text/plain": [
       "Matrix([\n",
       "[1,  0, 0, 0],\n",
       "[0, -1, 0, 0],\n",
       "[0,  0, 1, 0],\n",
       "[0,  0, 0, 1]])"
      ]
     },
     "execution_count": 4,
     "metadata": {},
     "output_type": "execute_result"
    }
   ],
   "source": [
    "'''\n",
    "#marking on 01\n",
    " \n",
    "----S--*--S---\n",
    "-------Z-------\n",
    "'''\n",
    "\n",
    "Circuit(2).s[0].cz[0,1].s[0].run_with_sympy_unitary()"
   ]
  },
  {
   "cell_type": "code",
   "execution_count": 5,
   "metadata": {
    "colab": {
     "base_uri": "https://localhost:8080/",
     "height": 102
    },
    "colab_type": "code",
    "id": "iyRwxTkBoRKZ",
    "outputId": "4ad9d23f-c23f-40dd-9d10-f069e5f77c50"
   },
   "outputs": [
    {
     "data": {
      "text/latex": [
       "$\\displaystyle \\left[\\begin{matrix}1 & 0 & 0 & 0\\\\0 & 1 & 0 & 0\\\\0 & 0 & -1 & 0\\\\0 & 0 & 0 & 1\\end{matrix}\\right]$"
      ],
      "text/plain": [
       "Matrix([\n",
       "[1, 0,  0, 0],\n",
       "[0, 1,  0, 0],\n",
       "[0, 0, -1, 0],\n",
       "[0, 0,  0, 1]])"
      ]
     },
     "execution_count": 5,
     "metadata": {},
     "output_type": "execute_result"
    }
   ],
   "source": [
    "'''\n",
    "#marking on 10\n",
    " \n",
    "--------*------\n",
    "----S--Z--S---\n",
    "'''\n",
    "\n",
    "Circuit(2).s[1].cz[0,1].s[1].run_with_sympy_unitary()"
   ]
  },
  {
   "cell_type": "code",
   "execution_count": 6,
   "metadata": {
    "colab": {
     "base_uri": "https://localhost:8080/",
     "height": 102
    },
    "colab_type": "code",
    "id": "wrh29In4me-W",
    "outputId": "44bbed8d-83bd-4375-9cf1-81996ba4c1ab"
   },
   "outputs": [
    {
     "data": {
      "text/latex": [
       "$\\displaystyle \\left[\\begin{matrix}1 & 0 & 0 & 0\\\\0 & -1 & 0 & 0\\\\0 & 0 & -1 & 0\\\\0 & 0 & 0 & -1\\end{matrix}\\right]$"
      ],
      "text/plain": [
       "Matrix([\n",
       "[1,  0,  0,  0],\n",
       "[0, -1,  0,  0],\n",
       "[0,  0, -1,  0],\n",
       "[0,  0,  0, -1]])"
      ]
     },
     "execution_count": 6,
     "metadata": {},
     "output_type": "execute_result"
    }
   ],
   "source": [
    "\n",
    "'''\n",
    "#00\n",
    " \n",
    "----S--*--S--\n",
    "----S--Z--S--\n",
    "'''\n",
    "\n",
    "Circuit(2).s[:].cz[0,1].s[:].run_with_sympy_unitary()"
   ]
  },
  {
   "cell_type": "markdown",
   "metadata": {
    "colab_type": "text",
    "id": "60TxX_5bvL2E"
   },
   "source": [
    "The result is inversed on the sign. We can think about global phase that flips all the minus sign to plus and plus sign to minus."
   ]
  },
  {
   "cell_type": "markdown",
   "metadata": {
    "colab_type": "text",
    "id": "U1uxGVsCCi85"
   },
   "source": [
    "## Amplitude amplification\n",
    "Ampitude amplification is a circuit which is $\\frac{1}{2}$ on diagonal and $-\\frac{1}{2}$ on offdiagonal. Doing this we can get the marked state vector.\n",
    "\n",
    "The amplitude amplification circuit on 2qubits is like this,"
   ]
  },
  {
   "cell_type": "code",
   "execution_count": 7,
   "metadata": {
    "colab": {
     "base_uri": "https://localhost:8080/",
     "height": 102
    },
    "colab_type": "code",
    "id": "uEO1xB4OCkcK",
    "outputId": "b29840b6-9400-4830-e93c-0f0f9b84199f"
   },
   "outputs": [
    {
     "data": {
      "text/latex": [
       "$\\displaystyle \\left[\\begin{matrix}\\frac{1}{2} & - \\frac{1}{2} & - \\frac{1}{2} & - \\frac{1}{2}\\\\- \\frac{1}{2} & \\frac{1}{2} & - \\frac{1}{2} & - \\frac{1}{2}\\\\- \\frac{1}{2} & - \\frac{1}{2} & \\frac{1}{2} & - \\frac{1}{2}\\\\- \\frac{1}{2} & - \\frac{1}{2} & - \\frac{1}{2} & \\frac{1}{2}\\end{matrix}\\right]$"
      ],
      "text/plain": [
       "Matrix([\n",
       "[ 1/2, -1/2, -1/2, -1/2],\n",
       "[-1/2,  1/2, -1/2, -1/2],\n",
       "[-1/2, -1/2,  1/2, -1/2],\n",
       "[-1/2, -1/2, -1/2,  1/2]])"
      ]
     },
     "execution_count": 7,
     "metadata": {},
     "output_type": "execute_result"
    }
   ],
   "source": [
    "'''\n",
    "--H-X-*-X-H--\n",
    "--H-X-Z-X-H--\n",
    "'''\n",
    "\n",
    "Circuit(2).h[:].x[:].cz[0,1].x[:].h[:].run_with_sympy_unitary()"
   ]
  },
  {
   "cell_type": "markdown",
   "metadata": {
    "colab_type": "text",
    "id": "yd5MaoRKCuWS"
   },
   "source": [
    "## Circuit\n",
    "Now we have the total circuit. First we prepare the state vector as |+> applying H gate on every qubit."
   ]
  },
  {
   "cell_type": "code",
   "execution_count": 46,
   "metadata": {
    "colab": {
     "base_uri": "https://localhost:8080/",
     "height": 34
    },
    "colab_type": "code",
    "id": "3eRpgppa_1FI",
    "outputId": "5960f694-2a20-4803-803c-9d9dbf180827"
   },
   "outputs": [
    {
     "data": {
      "text/plain": [
       "Counter({'00': 100})"
      ]
     },
     "execution_count": 46,
     "metadata": {
      "tags": []
     },
     "output_type": "execute_result"
    }
   ],
   "source": [
    "from blueqat import Circuit\n",
    "\n",
    "#Amplitude amplification\n",
    "a = Circuit(2).h[:].x[:].cz[0,1].x[:].h[:].m[:]\n",
    "\n",
    "'''\n",
    "#00 Circuit\n",
    "--H--S--*--S----H-X-*-X-H--\n",
    "--H--S--Z--S----H-X-Z-X-H--\n",
    "'''\n",
    "\n",
    "(Circuit(2).h[:].s[:].cz[0,1].s[:] + a).run(shots=100)"
   ]
  },
  {
   "cell_type": "code",
   "execution_count": 47,
   "metadata": {
    "colab": {
     "base_uri": "https://localhost:8080/",
     "height": 34
    },
    "colab_type": "code",
    "id": "WcvE1NcLC4H7",
    "outputId": "7014d538-0fab-4464-ba86-e127b72811b5"
   },
   "outputs": [
    {
     "data": {
      "text/plain": [
       "Counter({'01': 100})"
      ]
     },
     "execution_count": 47,
     "metadata": {
      "tags": []
     },
     "output_type": "execute_result"
    }
   ],
   "source": [
    "'''\n",
    "#01 Circuit\n",
    "--H-----*-------H-X-*-X-H--\n",
    "--H--S--Z--S---H-X-Z-X-H--\n",
    "'''\n",
    "\n",
    "(Circuit(2).h[:].s[1].cz[0,1].s[1] + a).run(shots=100)"
   ]
  },
  {
   "cell_type": "code",
   "execution_count": 48,
   "metadata": {
    "colab": {
     "base_uri": "https://localhost:8080/",
     "height": 34
    },
    "colab_type": "code",
    "id": "N4BvigvuDHfu",
    "outputId": "96cd45a7-65da-45df-ecbb-85ee97f6e68f"
   },
   "outputs": [
    {
     "data": {
      "text/plain": [
       "Counter({'10': 100})"
      ]
     },
     "execution_count": 48,
     "metadata": {
      "tags": []
     },
     "output_type": "execute_result"
    }
   ],
   "source": [
    "'''\n",
    "#10 Circuit\n",
    "--H--S--*--S----H-X-*-X-H--\n",
    "--H-----Z--------H-X-Z-X-H--\n",
    "'''\n",
    "(Circuit(2).h[:].s[0].cz[0,1].s[0] + a).run(shots=100)"
   ]
  },
  {
   "cell_type": "code",
   "execution_count": 49,
   "metadata": {
    "colab": {
     "base_uri": "https://localhost:8080/",
     "height": 34
    },
    "colab_type": "code",
    "id": "wQ94cpSODMyP",
    "outputId": "894cbb13-f0f5-4601-fff7-c614e77340dd"
   },
   "outputs": [
    {
     "data": {
      "text/plain": [
       "Counter({'11': 100})"
      ]
     },
     "execution_count": 49,
     "metadata": {
      "tags": []
     },
     "output_type": "execute_result"
    }
   ],
   "source": [
    "'''\n",
    "#11 Circuit\n",
    "--H-----*-------H-X-*-X-H--\n",
    "--H-----Z-------H-X-Z-X-H--\n",
    "'''\n",
    "(Circuit(2).h[:].cz[0,1] + a).run(shots=100)"
   ]
  },
  {
   "cell_type": "markdown",
   "metadata": {
    "colab_type": "text",
    "id": "lP9JKP_xDgai"
   },
   "source": [
    "And we all succeded to get the result."
   ]
  },
  {
   "cell_type": "markdown",
   "metadata": {},
   "source": [
    "# Explanation of the algorithm"
   ]
  },
  {
   "cell_type": "markdown",
   "metadata": {},
   "source": [
    "## Oracle\n",
    "Let's start with the oracle that appears in this algorithm.\n",
    "In simple terms, it is a function that returns 0 or 1 for a given input.  \n",
    "As an example, let's consider the situation of buying something. Let's say that the number of items you can buy at the butcher shop is 1 and the number of items you cannot buy is 0.\n",
    "\n",
    "Then you will have the following situation.\n",
    "\n",
    "$$\n",
    "f(x) = \\begin{cases}\n",
    "   1\\ \\  (\\text{You can buy $x$ at the butcher shop})\\\\\n",
    "    0\\ \\  (\\text{You can NOT buy $x$ at the butcher shop})\n",
    "  \\end{cases}\n",
    "$$\n",
    "\n",
    "Using this, we can't buy PCs at the butcher shop, but we can buy beef.  \n",
    "So,\n",
    "\n",
    "$$\n",
    "f(\\text{PC}) = 0,\\ \\ \\ \\ f(\\text{beef}) = 1\n",
    "$$\n",
    "\n",
    "The function that separates 0 and 1 in this way is called an oracle.\n",
    "\n",
    "In this case, we will consider an Oracle that returns 1 fir only one case.  \n",
    "In other words, if the input of $f$ is 00...00 to 11...11, only one of them returns 1, and all the others return 0.\n",
    "\n",
    "\n",
    "$$\n",
    "f(x) = \\begin{cases}\n",
    "   1\\ \\  (x= \\omega)\\\\\n",
    "    0\\ \\  (x\\neq\\omega)\n",
    "  \\end{cases}\n",
    "$$\n",
    "\n",
    "Here $f$ returns 1 if $x = \\omega$.  "
   ]
  },
  {
   "cell_type": "markdown",
   "metadata": {},
   "source": [
    "### Amplitude amplification\n",
    "The word \"amplitude\" came up.  \n",
    "The coefficients for each state are called **amplitude** and the probability is called **probability amplitude**.\n",
    "\n",
    "Let's look at the following equation.\n",
    "\n",
    "$$\n",
    "H \\lvert 0 \\rangle \\otimes H \\lvert 0 \\rangle = \\frac{1}{2} (\\lvert 00 \\rangle + \\lvert 01 \\rangle + \\lvert10 \\rangle + \\lvert 11 \\rangle) \\xrightarrow{\\text{Amplitude amplification}} \\lvert 00 \\rangle\n",
    "$$\n",
    "\n",
    "In this case, the probability amplitudes on the left side of the arrow are all $1/4$, while the state on the right side has probability amplitude $1$ for $00$.\n",
    "\n",
    "Amplitude amplification, as the word implies, is an algorithm that amplifies this probability amplitude as shown above."
   ]
  },
  {
   "cell_type": "markdown",
   "metadata": {},
   "source": [
    "The following figure illustrates the calculations.\n",
    "\n",
    "<img width=\"30%\" src=\"https://upload.wikimedia.org/wikipedia/commons/1/16/Grovers_algorithm_geometry.png\">\n",
    "\n",
    "参考: https://en.wikipedia.org/wiki/Grover%27s_algorithm\n",
    "\n",
    "First, let's explain the symbols.\n",
    "$s$ is the superposition of all bits.\n",
    "\n",
    "$$\n",
    "\\lvert s \\rangle = \\otimes^n  H  \\lvert 0 \\rangle =\\frac{1}{\\sqrt{2^n}}\\sum^{2^n}_{x\\in \\{0, 1\\}^n}\\lvert x \\rangle\n",
    "$$\n",
    "\n",
    "Of these, $\\omega$ is the state we want to amplify.\n",
    "\n",
    "$$\n",
    "\\lvert \\omega \\rangle = \\frac{1}{\\sqrt{2^n}} \\lvert 00...010...00\\rangle\n",
    "$$\n",
    "\n",
    "Suppose that the $x$-th number contains a 1.\n",
    "\n",
    "$s'$ is a vector of $s$ minus $\\omega$.\n",
    "\n",
    "$$\n",
    "\\lvert s' \\rangle = \\lvert s \\rangle - \\lvert \\omega \\rangle = \\lvert \\omega^{\\perp} \\rangle\n",
    "$$\n",
    "\n",
    "You can see that it is perpendicular to $\\omega$."
   ]
  },
  {
   "cell_type": "markdown",
   "metadata": {},
   "source": [
    "Next, consider the unit circle consisting of $s'$ and $\\omega$ as shown in the figure above.  \n",
    "However, since the lengths of $s'$ and $\\omega$ are different, we normalize them.\n",
    "\n",
    "$$\n",
    "\\tilde{\\lvert s' \\rangle} = \\sqrt{\\frac{2^n}{2^n-1}} \\lvert s' \\rangle \n",
    "$$\n",
    "$$\n",
    "\\tilde{\\lvert \\omega \\rangle} = \\sqrt{2^n} \\lvert \\omega \\rangle\n",
    "$$\n",
    "\n",
    "From this, the vector $\\psi$ on the unit circle can be expressed as follows\n",
    "\n",
    "$$\n",
    "\\lvert \\psi \\rangle = \\cos\\phi \\tilde{\\lvert s' \\rangle} + \\sin\\phi \\tilde{\\lvert \\omega \\rangle}\n",
    "$$"
   ]
  },
  {
   "cell_type": "markdown",
   "metadata": {},
   "source": [
    "$U_{\\omega}$ is a matrix that inverts $\\psi$ on the $s'$ axis.\n",
    "In other words, rotate $\\psi$ by $-\\phi$.\n",
    "\n",
    "$$\n",
    "U_{\\omega} \\lvert \\psi \\rangle = \\cos(-\\phi) \\tilde{\\lvert s' \\rangle} + \\sin(-\\phi) \\tilde{\\lvert \\omega \\rangle} = \\cos(\\phi) \\tilde{\\lvert s' \\rangle} - \\sin(\\phi) \\tilde{\\lvert \\omega \\rangle}\n",
    "$$\n",
    "\n",
    "$U_s$ is a matrix that inverts $\\psi$ around $s$.\n",
    "\n",
    "$$\n",
    "U_s \\lvert \\psi \\rangle = \\cos \\bigg\\{ \\frac{\\theta}{2} + \\big(\\frac{\\theta}{2} - \\phi \\big) \\bigg\\} \\tilde{\\lvert s' \\rangle} + \\sin \\bigg\\{ \\frac{\\theta}{2} + \\big(\\frac{\\theta}{2} - \\phi \\big) \\bigg\\}\\tilde{\\lvert \\omega \\rangle} = \\cos(\\theta - \\phi)\\tilde{\\lvert s' \\rangle} + \\sin(\\theta - \\phi) \\tilde{\\lvert \\omega \\rangle}\n",
    "$$"
   ]
  },
  {
   "cell_type": "markdown",
   "metadata": {},
   "source": [
    "#### Overview\n",
    "The algorithm is outlined below.\n",
    "\n",
    "1. Invert $s$ around $s'$ using $U_{\\omega}$.\n",
    "\n",
    "2. Invert $U_{\\omega}s$ around $s$ using $U_s$.\n",
    "\n",
    "We will explain the above process in detail."
   ]
  },
  {
   "cell_type": "markdown",
   "metadata": {},
   "source": [
    "#### 1. Invert around $s'$\n",
    "\n",
    "Using $\\theta$ as shown in the figure above, we describe $s$ as following.\n",
    "\n",
    "$$\n",
    "\\lvert s \\rangle = \\cos\\bigl(\\frac{\\theta}{2}\\bigr) \\tilde{\\lvert s' \\rangle} - \\sin\\bigl(\\frac{\\theta}{2}\\bigr) \\tilde{\\lvert \\omega \\rangle}\n",
    "$$\n",
    "\n",
    "As a same time,\n",
    "\n",
    "$$\n",
    "\\cos\\bigl( \\frac{\\theta}{2} \\bigr) = \\sqrt{\\frac{2^n-1}{2^n}},\\ \\ \\ \\  \\sin\\bigl( \\frac{\\theta}{2} \\bigr) = \\sqrt{\\frac{1}{2^n}}\n",
    "$$"
   ]
  },
  {
   "cell_type": "markdown",
   "metadata": {},
   "source": [
    "Using $U_{\\omega}$, fold $s$ around $s'$.  \n",
    "From the above figure, described as follows\n",
    "\n",
    "$$\n",
    "U_{\\omega} \\lvert s \\rangle = \\cos\\bigl(-\\frac{\\theta}{2}\\bigr)\\tilde{\\lvert s' \\rangle} + \\sin\\bigl(-\\frac{\\theta}{2}\\bigr)\\tilde{\\lvert \\omega \\rangle} = \\cos\\bigl(\\frac{\\theta}{2}\\bigr)\\tilde{\\lvert s' \\rangle} - \\sin\\bigl(\\frac{\\theta}{2}\\bigr)\\tilde{\\lvert \\omega \\rangle}\n",
    "$$\n",
    "\n",
    "Since we are only working on $\\omega$ for this operation, we can see that $U_{\\omega}$ represents Oracle as described above."
   ]
  },
  {
   "cell_type": "markdown",
   "metadata": {},
   "source": [
    "#### 2. Invert around $s$\n",
    "Using $U_s$, fold $U_{\\omega}s$ around $s$.\n",
    "\n",
    "$$\n",
    "U_s U_{\\omega} \\lvert s\\rangle = U_s\\biggl( \\cos\\bigl(-\\frac{\\theta}{2}\\bigr)\\tilde{\\lvert s' \\rangle} + \\sin\\bigl(-\\frac{\\theta}{2}\\bigr)\\tilde{\\lvert \\omega \\rangle}  \\biggr)\n",
    "$$\n",
    "\n",
    "Since we need to rotate $2\\theta$ here,\n",
    "\n",
    "$$\n",
    "U_s U_{\\omega} \\lvert s\\rangle =  \\cos\\bigl(\\frac{3}{2}\\theta\\bigr)\\tilde{\\lvert s' \\rangle} + \\sin\\bigl(\\frac{3}{2}\\theta\\bigr)\\tilde{\\lvert \\omega \\rangle}\n",
    "$$\n",
    "\n",
    "Specifically, $\\cos$ and $\\sin$ are obtained from the additive theorem.\n",
    "\n",
    "$$\n",
    "\\cos \\frac{3}{2}\\theta = \\bigl( 1-\\frac{4}{2^n} \\bigr) \\sqrt{\\frac{2^n-1}{2^n}},\\ \\ \\ \\ \\sin \\frac{3}{2}\\theta = \\bigl( 3-\\frac{4}{2^n} \\bigr) \\sqrt{\\frac{1}{2^n}}\n",
    "$$\n",
    "\n",
    "Thus, using $s'$, $\\omega$, we get\n",
    "\n",
    "$$\n",
    "U_s U_{\\omega} \\lvert s\\rangle =  \\bigl(1 - \\frac{4}{2^n}\\bigr)\\lvert s' \\rangle + \\bigl(3 - \\frac{4}{2^n}\\bigr)\\lvert \\omega \\rangle\n",
    "$$\n",
    "\n",
    "This operation makes $\\omega$ of the $2^n$ amplitudes about three times larger than the others.  \n",
    "We were able to amplify the amplitude by the above."
   ]
  },
  {
   "cell_type": "markdown",
   "metadata": {},
   "source": [
    "## Grover's algorithm\n",
    "This algorithm can find $\\omega$ given the Oracle above.\n",
    "\n",
    "The content is to repeatedly amplify the amplitude to bring $s$ closer to $\\omega$.\n",
    "\n",
    "From the above equation, if we perform amplitude amplification once, we get\n",
    "\n",
    "$$\n",
    "\\cos\\bigl(\\frac{3}{2}\\theta\\bigr)\\tilde{\\lvert s' \\rangle} + \\sin\\bigl(\\frac{3}{2}\\theta\\bigr)\\tilde{\\lvert \\omega \\rangle}\n",
    "$$\n",
    "\n",
    "Therefore, if we perform amplitude amplification $n$ times, we get\n",
    "\n",
    "$$\n",
    "\\cos\\bigl(\\frac{1}{2}\\theta + n\\theta \\bigr)\\tilde{\\lvert s' \\rangle} + \\sin\\bigl(\\frac{1}{2}\\theta + n\\theta\\bigr)\\tilde{\\lvert \\omega \\rangle} = \\cos\\biggl\\{\\bigl(\\frac{1}{2} + n \\bigr)\\theta \\biggr\\} \\tilde{\\lvert s' \\rangle} + \\sin\\biggl\\{\\bigl(\\frac{1}{2} + n \\bigr)\\theta \\biggr\\}\\tilde{\\lvert \\omega \\rangle}\n",
    "$$\n",
    "\n",
    "As the amplitude is amplified, the initial state $s$ in the above figure becomes closer and closer to $\\omega$.\n",
    "In other words, the probability amplitude of $\\omega$ goes to 1.\n",
    "However, if you keep repeating the process, it will just keep rotating, so you need to think about the number of times you want to repeat it.\n",
    "\n",
    "Since we want to set the probability amplitude of $\\omega$ to 1,\n",
    "\n",
    "$$\n",
    "\\sin^2\\biggl\\{\\bigl(\\frac{1}{2} + k \\bigr)\\theta \\biggr\\} < 1 \\xrightarrow{\\sin >0}\\bigl(\\frac{1}{2} + k \\bigr)\\theta < \\frac{\\pi}{2} \\Leftrightarrow k<\\frac{\\pi}{2\\theta} - \\frac{1}{2}\n",
    "$$\n",
    "\n",
    "From the above, the number of times the amplitude is amplified is determined and $\\omega$ can be obtained."
   ]
  },
  {
   "cell_type": "markdown",
   "metadata": {},
   "source": [
    "## Supplement (Application to quantum programming)\n",
    "In quantum programming, amplitude amplification is considered as follows.\n",
    "\n",
    "If we separate $s = s' + \\omega$ from the definition of $s$, then $U_{\\omega}$ is simply\n",
    "\n",
    "$$\n",
    "U_{\\omega} (\\lvert s' \\rangle + \\lvert \\omega \\rangle) = \\lvert s' \\rangle - \\lvert \\omega \\rangle\n",
    "$$\n",
    "\n",
    "This means that we can use gates that change sign only for certain states, such as Z and CZ gates.\n",
    "\n",
    "Thinking geometrically from the above figure, $U_s$ is described as follows.\n",
    "\n",
    "$$\n",
    "\\begin{align}\n",
    "U_s U_{\\omega} \\lvert s \\rangle &= 2(\\langle s \\lvert U_{\\omega} \\rvert s \\rangle \\rvert s \\rangle - U_{\\omega}\\lvert s \\rangle) + U_{\\omega}\\lvert s \\rangle \\\\\n",
    "&= 2\\lvert s \\rangle \\langle s \\lvert U_{\\omega} \\rvert s \\rangle - U_{\\omega}\\lvert s \\rangle \\\\\n",
    "&= (2\\lvert s\\rangle \\langle s\\rvert - I) U_{\\omega}\\lvert s \\rangle\n",
    "\\end{align}\n",
    "$$\n",
    "\n",
    "So $U_s = 2\\lvert s\\rangle \\langle s\\rvert - I$."
   ]
  },
  {
   "cell_type": "markdown",
   "metadata": {},
   "source": [
    "Furthermore, $U_s$ can be decomposed as follows.\n",
    "\n",
    "$$\n",
    "2\\lvert s\\rangle \\langle s\\rvert - I = 2H^{\\otimes n}\\lvert 0^n\\rangle \\langle 0^n\\rvert H^{\\otimes n} - I = H^{\\otimes n} (2\\lvert 0^n\\rangle \\langle 0^n\\rvert - I) H^{\\otimes n}\\ \\ \\ \\ (\\lvert 0^n \\rangle = \\lvert 00\\cdots 00 \\rangle)\n",
    "$$\n",
    "\n",
    "Here, we can write $2\\lvert 0^n\\rangle \\langle 0^n\\rvert - I$ as\n",
    "\n",
    "$$\n",
    "2\\lvert 0^n\\rangle \\langle 0^n\\rvert - I = \n",
    "    \\begin{pmatrix}\n",
    "      -1 & 0 & 0 & \\ldots & 0 & 0 \\\\\n",
    "      0 & 1 & 0 & \\ldots & 0 & 0 \\\\\n",
    "      0 & 0 & 1 & \\ldots & 0 & 0 \\\\\n",
    "      \\vdots & \\vdots & \\vdots & \\ddots & \\vdots & \\vdots \\\\\n",
    "      0 & 0 & 0 & \\ldots & 1 & 0 \\\\\n",
    "      0 & 0 & 0 & \\ldots & 0 & 1\n",
    "    \\end{pmatrix}\n",
    "$$\n",
    "\n",
    "We can describe it as following.\n",
    "$$\n",
    "XZX =\n",
    "    \\begin{pmatrix}\n",
    "      -1 & 0 \\\\\n",
    "      0 & 1\n",
    "    \\end{pmatrix}\n",
    "$$\n",
    "\n",
    "$$\n",
    "2\\lvert 0^n\\rangle \\langle 0^n\\rvert - I = X^{\\otimes n}C^n ZX^{\\otimes n}\n",
    "$$\n",
    "\n",
    "\n",
    "From the above, we were able to rewrite Grover's algorithm with simple gate sets."
   ]
  },
  {
   "cell_type": "code",
   "execution_count": null,
   "metadata": {},
   "outputs": [],
   "source": []
  }
 ],
 "metadata": {
  "colab": {
   "collapsed_sections": [],
   "name": "014_algo_grover.ipynb",
   "provenance": [],
   "version": "0.3.2"
  },
  "kernelspec": {
   "display_name": "Python 3",
   "language": "python",
   "name": "python3"
  },
  "language_info": {
   "codemirror_mode": {
    "name": "ipython",
    "version": 3
   },
   "file_extension": ".py",
   "mimetype": "text/x-python",
   "name": "python",
   "nbconvert_exporter": "python",
   "pygments_lexer": "ipython3",
   "version": "3.8.2"
  }
 },
 "nbformat": 4,
 "nbformat_minor": 1
}
