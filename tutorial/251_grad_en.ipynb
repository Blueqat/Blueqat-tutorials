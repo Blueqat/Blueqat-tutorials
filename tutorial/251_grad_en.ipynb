{
 "cells": [
  {
   "cell_type": "markdown",
   "metadata": {},
   "source": [
    "## Numerical differentiation\n",
    "From the function $f(x)$ and the small change $h$, the derivative can be obtained numerically.\n",
    "\n",
    "$$\n",
    "\\frac{df(x)}{dx} = \\lim_{h \\rightarrow 0}\\frac{f(x+h) - f(x)}{h}\n",
    "$$\n",
    "\n",
    "For example, with $f(x) = x^2$, $h=0.1$, the derivative at $x=1$ is as follows"
   ]
  },
  {
   "cell_type": "code",
   "execution_count": 2,
   "metadata": {},
   "outputs": [
    {
     "data": {
      "text/plain": [
       "2.100000000000002"
      ]
     },
     "execution_count": 2,
     "metadata": {},
     "output_type": "execute_result"
    }
   ],
   "source": [
    "x = 1\n",
    "h = 0.1\n",
    "((x+h)**2 - x**2) / h"
   ]
  },
  {
   "cell_type": "markdown",
   "metadata": {},
   "source": [
    "## Partial differentiation\n",
    "In the parameterized quantum circuits often used in NISQ, many angles appear in the circuit as variable parameters.  \n",
    "Partial differentiation allows you to find the differential coefficient at a particular parameter.\n",
    "\n",
    "Partial derivative of $f(x, y)$ with respect to $x$.\n",
    "\n",
    "$$\n",
    "\\frac{\\partial f(x,y)}{\\partial x}\n",
    "$$\n",
    "\n",
    "Partial derivative of $f(x, y)$ with respect to $y$.\n",
    "\n",
    "$$\n",
    "\\frac{\\partial f(x,y)}{\\partial y}\n",
    "$$"
   ]
  },
  {
   "cell_type": "markdown",
   "metadata": {},
   "source": [
    "## Gradient\n",
    "The gradient is the partial derivative for each parameter written in the form of a vector.\n",
    "\n",
    "$$\n",
    "(\\frac{\\partial f(x,y)}{\\partial x},\\frac{\\partial f(x,y)}{\\partial y})\n",
    "$$\n",
    "\n",
    "The gradient is useful for finding the point where the function takes its minimum value (minimum point, minima).  \n",
    "The derivative becomes zero at the minima, and the points around them (neighborhoods) have positive or negative slopes.\n",
    "\n",
    "- If the coordinates of the current location is greater than the minimum point, the slope is positive. Therefore, subtracting the slope from the current location coordinates will bring you closer to the minimum point.\n",
    "- If the coordinate of the current location is less than the minimum point, the slope is negative. So again, subtracting the slope from the current location coordinates will bring you closer to the minimum point.\n",
    "\n",
    "From the above, we can find the minimum point by updating the current location using the gradient. The $e$ denotes the learning rate here.\n",
    "\n",
    "$$\n",
    "x' = x -e\\cdot\\frac{\\partial f(x,y)}{\\partial x}\\\\\n",
    "y' = y -e\\cdot\\frac{\\partial f(x,y)}{\\partial y}\n",
    "$$\n",
    "\n",
    "Repeat this process."
   ]
  },
  {
   "cell_type": "markdown",
   "metadata": {},
   "source": [
    "## Gradient descent\n",
    "Let's try VQE with a circuit using RY gates to find the minimum expected value of a measurement."
   ]
  },
  {
   "cell_type": "code",
   "execution_count": 3,
   "metadata": {},
   "outputs": [
    {
     "name": "stdout",
     "output_type": "stream",
     "text": [
      "\u001b[33mWARNING: You are using pip version 19.2.3, however version 21.0.1 is available.\r\n",
      "You should consider upgrading via the 'pip install --upgrade pip' command.\u001b[0m\r\n"
     ]
    }
   ],
   "source": [
    "!pip install -q blueqat"
   ]
  },
  {
   "cell_type": "code",
   "execution_count": 1,
   "metadata": {},
   "outputs": [
    {
     "name": "stdout",
     "output_type": "stream",
     "text": [
      "3.141054491897237\n"
     ]
    },
    {
     "data": {
      "image/png": "[encoded data removed]",
      "text/plain": [
       "<Figure size 432x288 with 1 Axes>"
      ]
     },
     "metadata": {
      "needs_background": "light"
     },
     "output_type": "display_data"
    }
   ],
   "source": [
    "from blueqat import Circuit\n",
    "import matplotlib.pyplot as plt\n",
    "import numpy as np\n",
    "%matplotlib inline\n",
    "\n",
    "def abs_sq(k):\n",
    "    return np.square(np.abs(k))\n",
    "\n",
    "# Z expectation value\n",
    "def exptZ(a):\n",
    "    res = Circuit().ry(a)[0].run()\n",
    "    return abs_sq(res[0]) - abs_sq(res[1])\n",
    "\n",
    "# Initail setting\n",
    "ainit = [np.random.rand()*2*np.pi]\n",
    "a = ainit.copy()\n",
    "h = 0.001\n",
    "e = 0.01\n",
    "\n",
    "# Update and logging of gradient\n",
    "for i in range(1000):\n",
    "    a.append(a[i] - e*(exptZ(a[i]+h) - exptZ(a[i]))/h)\n",
    "\n",
    "# Last value\n",
    "print(a[-1])\n",
    "\n",
    "# Plot expectation value\n",
    "plt.plot(list(map(exptZ, a)))\n",
    "plt.show()"
   ]
  },
  {
   "cell_type": "markdown",
   "metadata": {},
   "source": [
    "The $Z$ measurement expectation value of one qubit is minimized when the state is $\\lvert 1\\rangle$.  \n",
    "After minimizing the expectation value, the $RY$ gate rotation angle is approximately $\\pi = 3.14... $, which changes the initial state $\\lvert 0\\rangle$ to $\\lvert 1\\rangle$.  \n",
    "From the above, we succeeded VQE."
   ]
  },
  {
   "cell_type": "markdown",
   "metadata": {},
   "source": [
    "## Loss function\n",
    "VQE minimizes the expected value of measurement, but in the above approach, the object of minimization does not necessarily have to be the expected value of measurement.  \n",
    "Here we will use the more general loss function. This way we can recognize it as machine learning."
   ]
  },
  {
   "cell_type": "code",
   "execution_count": 8,
   "metadata": {},
   "outputs": [
    {
     "name": "stdout",
     "output_type": "stream",
     "text": [
      "3.2555464357555817\n"
     ]
    },
    {
     "data": {
      "image/png": "[encoded data removed]",
      "text/plain": [
       "<Figure size 432x288 with 1 Axes>"
      ]
     },
     "metadata": {
      "needs_background": "light"
     },
     "output_type": "display_data"
    },
    {
     "name": "stdout",
     "output_type": "stream",
     "text": [
      "4.206442573062359e-05\n"
     ]
    }
   ],
   "source": [
    "from blueqat import Circuit\n",
    "import matplotlib.pyplot as plt\n",
    "import numpy as np\n",
    "%matplotlib inline\n",
    "\n",
    "def abs_sq(k):\n",
    "    return np.square(np.abs(k))\n",
    "\n",
    "# expectation value\n",
    "def expt(a):\n",
    "    res = Circuit().ry(a)[0].run()\n",
    "    return abs_sq(res[0])-abs_sq(res[1])\n",
    "\n",
    "# loss function\n",
    "def loss(res,tar):\n",
    "    return np.square(res-tar)\n",
    "\n",
    "# derivative\n",
    "def dfx(a,h,tgt=-1):\n",
    "    return (loss(expt(a+h),tgt) - loss(expt(a),tgt))/h\n",
    "#    return (expt(a+h)-expt(a))/h\n",
    "\n",
    "# gradient\n",
    "def grad(a,h,e):\n",
    "    for i in range(1000):\n",
    "        a.append(a[i] - e*dfx(a[i],h))\n",
    "    return a\n",
    "\n",
    "# initialize\n",
    "a = [np.random.rand()*2*np.pi]\n",
    "h = 0.001\n",
    "e = 0.01\n",
    "\n",
    "ra = grad(a,h,e)\n",
    "print(ra[-1])\n",
    "\n",
    "arr = [loss(expt(i),-1) for i in ra]\n",
    "\n",
    "plt.plot(arr)\n",
    "plt.show()\n",
    "\n",
    "print(arr[-1])"
   ]
  },
  {
   "cell_type": "markdown",
   "metadata": {},
   "source": [
    "## momentum SGD"
   ]
  },
  {
   "cell_type": "code",
   "execution_count": 14,
   "metadata": {},
   "outputs": [
    {
     "data": {
      "image/png": "[encoded data removed]",
      "text/plain": [
       "<Figure size 432x288 with 1 Axes>"
      ]
     },
     "metadata": {},
     "output_type": "display_data"
    }
   ],
   "source": [
    "#momentum sgd\n",
    "def msgd(a,h,e,tgt,alpha):\n",
    "    p_delta = 0\n",
    "    for i in range(100):\n",
    "        update = -e*dfx(a[i],h,tgt) + alpha*p_delta\n",
    "        a.append(a[i] + update)\n",
    "        p_delta = update\n",
    "    return a\n",
    "\n",
    "#initialization\n",
    "a = ainit.copy()\n",
    "h = 0.001\n",
    "e = 0.01\n",
    "\n",
    "alpha = 0.9\n",
    "tgt = -1\n",
    "\n",
    "result = msgd(a,h,e,tgt,alpha)\n",
    "arr = [loss(expt(i),tgt) for i in result]\n",
    "\n",
    "plt.plot(arr)\n",
    "plt.show()"
   ]
  },
  {
   "cell_type": "markdown",
   "metadata": {},
   "source": [
    "## Adagrad"
   ]
  },
  {
   "cell_type": "code",
   "execution_count": 13,
   "metadata": {},
   "outputs": [
    {
     "data": {
      "image/png": "[encoded data removed]",
      "text/plain": [
       "<Figure size 432x288 with 1 Axes>"
      ]
     },
     "metadata": {},
     "output_type": "display_data"
    }
   ],
   "source": [
    "def adagrad(a,h,e,tgt,epsilon):\n",
    "    G = epsilon\n",
    "    for i in range(100):\n",
    "        g = dfx(a[i],h,tgt)\n",
    "        G += g*g\n",
    "        update = -e/np.sqrt(G)*g\n",
    "        a.append(a[i] + update)\n",
    "    return a\n",
    "\n",
    "#initialization\n",
    "a = ainit.copy()\n",
    "h = 0.001\n",
    "e = 0.1\n",
    "epsilon = 1e-08\n",
    "tgt = -1\n",
    "\n",
    "result = adagrad(a,h,e,tgt,epsilon)\n",
    "arr = [loss(expt(i),tgt) for i in result]\n",
    "\n",
    "plt.plot(arr)\n",
    "plt.show()"
   ]
  }
 ],
 "metadata": {
  "kernelspec": {
   "display_name": "Python 3",
   "language": "python",
   "name": "python3"
  },
  "language_info": {
   "codemirror_mode": {
    "name": "ipython",
    "version": 3
   },
   "file_extension": ".py",
   "mimetype": "text/x-python",
   "name": "python",
   "nbconvert_exporter": "python",
   "pygments_lexer": "ipython3",
   "version": "3.8.2"
  }
 },
 "nbformat": 4,
 "nbformat_minor": 4
}
