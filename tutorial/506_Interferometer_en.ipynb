{
 "cells": [
  {
   "cell_type": "markdown",
   "metadata": {},
   "source": [
    "# Linear Interferometer Decomposition"
   ]
  },
  {
   "cell_type": "markdown",
   "metadata": {},
   "source": [
    "Gaussian Boson Sampling is an important algorithm for achieving Quantum Advantage in the near term before building a scalable and Fault tolerant Universal Quantum Computer. For an introduction to what the algorithm is about, you can take a look herr: https://blueqat.com/Devanshu%20Garg/2368d453-86f4-4d47-9ddc-5322ba2e9554.\n",
    "\n",
    "While encoding a physical problem to the GBS circuit we generally deal with the matrices that are directly related to the Linear Interferometer matrix. Photonqat has now released a module for GBS where it takes the Linear Interferometer matrix as input and applies a combination of Beam-splitters and Rotation gates to the qumodes. This makes implementation of GBS really easy."
   ]
  },
  {
   "cell_type": "code",
   "execution_count": null,
   "metadata": {},
   "outputs": [],
   "source": [
    "import photonqat as pq\n",
    "import numpy as np"
   ]
  },
  {
   "cell_type": "code",
   "execution_count": 3,
   "metadata": {},
   "outputs": [],
   "source": [
    "#This is the Matrix for Linear Interferometer applied in the GBS circuit. This is the matrix which is decomposed into a combination of Beamsplitters and Rotation Gates.\n",
    "\n",
    "U = np.array([\n",
    " [ 0.219546940711-0.256534554457j, 0.611076853957+0.524178937791j,\n",
    "    -0.102700187435+0.474478834685j,-0.027250232925+0.03729094623j],\n",
    " [ 0.451281863394+0.602582912475j, 0.456952590016+0.01230749109j,\n",
    "    0.131625867435-0.450417744715j, 0.035283194078-0.053244267184j],\n",
    " [ 0.038710094355+0.492715562066j,-0.019212744068-0.321842852355j,\n",
    "    -0.240776471286+0.524432833034j,-0.458388143039+0.329633367819j],\n",
    " [-0.156619083736+0.224568570065j, 0.109992223305-0.163750223027j,\n",
    "    -0.421179844245+0.183644837982j, 0.818769184612+0.068015658737j]\n",
    "])"
   ]
  },
  {
   "cell_type": "code",
   "execution_count": 4,
   "metadata": {},
   "outputs": [
    {
     "data": {
      "text/plain": [
       "<photonqat.Gaussian.Gaussian at 0x1d3d3fe8848>"
      ]
     },
     "execution_count": 4,
     "metadata": {},
     "output_type": "execute_result"
    }
   ],
   "source": [
    "#Initialising the circuit with 4 qumodes\n",
    "G = pq.Gaussian(4)\n",
    "\n",
    "#This action applies the correspoding BSGates and RGates. Only the Linear Interferometer Matrix is passed as an argument.\n",
    "G.Interferometer(U)\n",
    "G.run()"
   ]
  },
  {
   "cell_type": "code",
   "execution_count": 6,
   "metadata": {},
   "outputs": [
    {
     "name": "stdout",
     "output_type": "stream",
     "text": [
      "BSGate [0, 1]\n",
      "BSGate [2, 3]\n",
      "BSGate [1, 2]\n",
      "BSGate [0, 1]\n",
      "BSGate [2, 3]\n",
      "BSGate [1, 2]\n",
      "RGate [0.000000]\n",
      "RGate [2.000000]\n",
      "RGate [1.000000]\n",
      "RGate [0.000000]\n",
      "RGate [2.000000]\n",
      "RGate [1.000000]\n"
     ]
    }
   ],
   "source": [
    "#We check here the location of applied BSGates and RGates.\n",
    "for i in range(1, len(G.ops), 2):\n",
    "    print(\"BSGate [%d, %d]\" %(G.ops[i].idx1, G.ops[i].idx2))\n",
    "    \n",
    "for i in range(0, len(G.ops), 2):\n",
    "    print(\"RGate [%f]\" %G.ops[i].idx)"
   ]
  },
  {
   "cell_type": "markdown",
   "metadata": {},
   "source": [
    "References: \"Optimal design for universal multiport interferometers\", Clements, http://dx.doi.org/10.1364/OPTICA.3.001460 (2016)"
   ]
  }
 ],
 "metadata": {
  "kernelspec": {
   "display_name": "Python 3",
   "language": "python",
   "name": "python3"
  },
  "language_info": {
   "codemirror_mode": {
    "name": "ipython",
    "version": 3
   },
   "file_extension": ".py",
   "mimetype": "text/x-python",
   "name": "python",
   "nbconvert_exporter": "python",
   "pygments_lexer": "ipython3",
   "version": "3.7.6"
  }
 },
 "nbformat": 4,
 "nbformat_minor": 4
}
