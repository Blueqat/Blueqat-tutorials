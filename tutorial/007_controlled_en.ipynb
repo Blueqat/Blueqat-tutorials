{
 "cells": [
  {
   "cell_type": "markdown",
   "metadata": {},
   "source": [
    "# CX, CY, CZ gates\n",
    "Let's check the controlled fixed rotation gate.\n",
    "\n",
    "## What we'll learn this time\n",
    "1. Control gate on a pauli gate\n",
    "2. Implementation example\n",
    "\n",
    "## Install Blueqat\n",
    "Install Blueqat from pip."
   ]
  },
  {
   "cell_type": "code",
   "execution_count": null,
   "metadata": {
    "colab": {
     "base_uri": "https://localhost:8080/",
     "height": 136
    },
    "colab_type": "code",
    "id": "Z2z6oBnToiqa",
    "outputId": "413f3f56-1b22-40f7-fcff-4621af4596d4"
   },
   "outputs": [],
   "source": [
    "!pip install blueqat"
   ]
  },
  {
   "cell_type": "markdown",
   "metadata": {},
   "source": [
    "## Two qubit gate\n",
    "Two qubits gate is mainly one qubit gate with a control bit added to it.\n",
    "\n",
    "### CX, CY, CZ\n",
    "CX, CY, CZ gates can be implemented by the following.\n",
    "\n",
    "| CX | CY | CZ | \n",
    "|:-:|:-:|:-:|\n",
    "|`cx`or`cnot`|`cy`|`cz`|"
   ]
  },
  {
   "cell_type": "markdown",
   "metadata": {},
   "source": [
    "#### Implementation\n",
    "Let's implement these gates.\n",
    "\n",
    "###### CX gate"
   ]
  },
  {
   "cell_type": "code",
   "execution_count": 2,
   "metadata": {},
   "outputs": [
    {
     "data": {
      "text/plain": [
       "Counter({'00': 100})"
      ]
     },
     "execution_count": 2,
     "metadata": {},
     "output_type": "execute_result"
    }
   ],
   "source": [
    "from blueqat import Circuit\n",
    "import math\n",
    "\n",
    "Circuit().cx[0,1].m[:].run(shots=100)\n",
    "#or\n",
    "Circuit().cnot[0,1].m[:].run(shots=100)"
   ]
  },
  {
   "cell_type": "markdown",
   "metadata": {},
   "source": [
    "###### CY gate"
   ]
  },
  {
   "cell_type": "code",
   "execution_count": 3,
   "metadata": {},
   "outputs": [
    {
     "data": {
      "text/plain": [
       "Counter({'00': 100})"
      ]
     },
     "execution_count": 3,
     "metadata": {},
     "output_type": "execute_result"
    }
   ],
   "source": [
    "Circuit().cy[0,1].m[:].run(shots=100)"
   ]
  },
  {
   "cell_type": "markdown",
   "metadata": {},
   "source": [
    "###### CZ gate"
   ]
  },
  {
   "cell_type": "code",
   "execution_count": 4,
   "metadata": {},
   "outputs": [
    {
     "data": {
      "text/plain": [
       "Counter({'00': 100})"
      ]
     },
     "execution_count": 4,
     "metadata": {},
     "output_type": "execute_result"
    }
   ],
   "source": [
    "Circuit().cz[0,1].m[:].run(shots=100)"
   ]
  },
  {
   "cell_type": "markdown",
   "metadata": {},
   "source": [
    "## CX, CY, CZ gates\n",
    "The control gate consists of control bit and target bit.  \n",
    "\n",
    "The control gate uses two qubits. These convert the second bit when the first bit is $|1\\rangle$.  \n",
    "Here is a commonly used CX gate as an example.\n",
    "\n",
    "<img src=\"../tutorial-ja/img/007/007_0.png\" width=\"60%\">\n",
    "\n",
    "As you can see, when the first bit is $|1\\rangle$, the second bit is mapped to the X gate.   \n",
    "Other control gates are the same."
   ]
  },
  {
   "cell_type": "markdown",
   "metadata": {},
   "source": [
    "# Controlled Arbitrary Rotation Gate\n",
    "\n",
    "Let's check the controlled arbitrary rotation gate."
   ]
  },
  {
   "cell_type": "markdown",
   "metadata": {},
   "source": [
    "## What we'll learn this time\n",
    "1. About Rx,Ry,Rz,CU1,CU2,CU3 gates\n",
    "2. Make circuit"
   ]
  },
  {
   "cell_type": "markdown",
   "metadata": {},
   "source": [
    "### CRx, CRy, CRz,\n",
    "CRx, CRy, CRz gates can be implemented by the following.\n",
    "\n",
    "| CRx | CRy | CRz |\n",
    "|:-:|:-:|:-:|\n",
    "|`crx(θ)`|`cry(θ)`|`crz(θ)`|\n",
    "\n",
    "$\\theta$ is the same as RX, RY and RZ gate."
   ]
  },
  {
   "cell_type": "markdown",
   "metadata": {},
   "source": [
    "###### CRx gate"
   ]
  },
  {
   "cell_type": "code",
   "execution_count": 5,
   "metadata": {},
   "outputs": [
    {
     "data": {
      "text/plain": [
       "Counter({'00': 100})"
      ]
     },
     "execution_count": 5,
     "metadata": {},
     "output_type": "execute_result"
    }
   ],
   "source": [
    "Circuit().crx(math.pi/2)[0,1].m[:].run(shots=100)"
   ]
  },
  {
   "cell_type": "markdown",
   "metadata": {},
   "source": [
    "###### CRy gate"
   ]
  },
  {
   "cell_type": "code",
   "execution_count": 6,
   "metadata": {},
   "outputs": [
    {
     "data": {
      "text/plain": [
       "Counter({'00': 1000})"
      ]
     },
     "execution_count": 6,
     "metadata": {},
     "output_type": "execute_result"
    }
   ],
   "source": [
    "Circuit().cry(math.pi/2)[0,1].m[:].run(shots=1000)"
   ]
  },
  {
   "cell_type": "markdown",
   "metadata": {},
   "source": [
    "###### CRz gate"
   ]
  },
  {
   "cell_type": "code",
   "execution_count": 7,
   "metadata": {},
   "outputs": [
    {
     "data": {
      "text/plain": [
       "Counter({'00': 1000})"
      ]
     },
     "execution_count": 7,
     "metadata": {},
     "output_type": "execute_result"
    }
   ],
   "source": [
    "Circuit().crz(math.pi/2)[0,1].m[:].run(shots=1000)"
   ]
  },
  {
   "cell_type": "markdown",
   "metadata": {},
   "source": [
    "### CU1, CU2, CU3\n",
    "CU1, CU2, CU3 gates can be implemented by the following.\n",
    "\n",
    "| CU1 | CU2 | CU3 |\n",
    "|:-:|:-:|:-:|\n",
    "|`cu1(λ)`or`cphase(λ)`|`cu2(φ,λ)`|`cu3(θ,φ,λ)`|\n",
    "\n",
    "$\\theta, \\lambda, \\phi$ is the same as CU1, CU2 and CU3 gate."
   ]
  },
  {
   "cell_type": "markdown",
   "metadata": {},
   "source": [
    "###### CU1 gate"
   ]
  },
  {
   "cell_type": "code",
   "execution_count": 8,
   "metadata": {},
   "outputs": [
    {
     "data": {
      "text/plain": [
       "Counter({'00': 100})"
      ]
     },
     "execution_count": 8,
     "metadata": {},
     "output_type": "execute_result"
    }
   ],
   "source": [
    "Circuit().cu1(math.pi)[0,1].m[:].run(shots=100)\n",
    "#or\n",
    "Circuit().cphase(math.pi)[0,1].m[:].run(shots=100)"
   ]
  },
  {
   "cell_type": "markdown",
   "metadata": {},
   "source": [
    "###### CU2 gate"
   ]
  },
  {
   "cell_type": "code",
   "execution_count": 9,
   "metadata": {},
   "outputs": [
    {
     "data": {
      "text/plain": [
       "Counter({'00': 100})"
      ]
     },
     "execution_count": 9,
     "metadata": {},
     "output_type": "execute_result"
    }
   ],
   "source": [
    "Circuit().cu2(0,math.pi)[0,1].m[:].run(shots=100)"
   ]
  },
  {
   "cell_type": "markdown",
   "metadata": {},
   "source": [
    "###### CU3 gate"
   ]
  },
  {
   "cell_type": "code",
   "execution_count": 10,
   "metadata": {},
   "outputs": [
    {
     "data": {
      "text/plain": [
       "Counter({'00': 100})"
      ]
     },
     "execution_count": 10,
     "metadata": {},
     "output_type": "execute_result"
    }
   ],
   "source": [
    "Circuit().cu3(math.pi/2,0,math.pi)[0,1].m[:].run(shots=100)"
   ]
  }
 ],
 "metadata": {
  "colab": {
   "collapsed_sections": [],
   "name": "007_02_fullgate.ipynb",
   "provenance": []
  },
  "kernelspec": {
   "display_name": "Python 3",
   "language": "python",
   "name": "python3"
  },
  "language_info": {
   "codemirror_mode": {
    "name": "ipython",
    "version": 3
   },
   "file_extension": ".py",
   "mimetype": "text/x-python",
   "name": "python",
   "nbconvert_exporter": "python",
   "pygments_lexer": "ipython3",
   "version": "3.8.4"
  }
 },
 "nbformat": 4,
 "nbformat_minor": 4
}
