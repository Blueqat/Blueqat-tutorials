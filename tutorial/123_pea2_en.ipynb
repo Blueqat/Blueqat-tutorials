{
 "cells": [
  {
   "cell_type": "markdown",
   "metadata": {},
   "source": [
    "# Quantum Phase Estimation of Random Hermitian Matrix\n",
    "\n",
    "Authors: Takumi Kato (Blueqat inc.), Maho Nakata (Riken), Shinya Morino, Seiya Sugo (Quemix inc.), Yuichiro Minato (Blueqat inc.)\n",
    "\n",
    "[Last time](113_pea_en.ipynb), we calculated the eigenvalues of matrices of the Z-Gate and the X-Gate. This time, we perform the quantum phase estimation of a random generated 2x2 Hermitian matrix.\n",
    "\n",
    "Calculating eigenvalues of Hermitian matrices is useful for finding physical quantities in quantum mechanics. It has wide range of applications in fields such as quantum chemistry and quantum simulation."
   ]
  },
  {
   "cell_type": "markdown",
   "metadata": {},
   "source": [
    "## Quantum Phase Estimation of Hermitian Matrix with Eigenvalues Summing up to Zero\n",
    "\n",
    "The general idea of quantum phase estimation for Hermitian matrices is the same as previous one. In the previous case, we prepared Controlled-Z gate and Controlled-X gate for estimating Z-Gate and X-Gate as Controlled-U gate. However, generally, a Hermitian matrix is not a unitary matrix. Therefore, we cannot prepare Controlled-U gate directly.\n",
    "\n",
    "Just to conclude, we need to prepare Controlled-$e^{2\\pi i\\hat H}$ gate as Controlled-U gate for the Hermitian matrix$\\hat H$ and the quantum circuit which gives an eigenvector of $\\hat H$. By using these circuit and gate, we can perform quantum phase estimation and obtain the eigenvalue.\n",
    "\n",
    "The following instructions are little bit difficult. So you can skip ahead and read the code. To understanding this, you need to know [matrix exponential](https://en.wikipedia.org/wiki/Matrix_exponential).\n",
    "\n",
    "Let $\\hat H$ be a Hermitian matrix with eigenvalues summing up to 0.\n",
    "\n",
    "When $\\hat H$ has pairs of eigenvalue and eigenvector$\\{(\\lambda_j, \\left|\\psi_j\\right\\rangle)\\}$, $$\\hat H\\left|\\psi_j\\right\\rangle = \\lambda_j \\left|\\psi_j\\right\\rangle$$ is satisfied for all $j$.\n",
    "$\\{\\lambda_j\\}$ are real number because $\\hat H$ is Hermitian.\n",
    "\n",
    "In the previous case, $\\hat H$ was $\\hat H = Z$ or $\\hat H = X$ and we used Controlled-Z or Controlled-X gate for phase kickback. However, generally, we cannot make Controlled-$\\hat H$ gate because $\\hat H$ is not a unitary matrix, so we have to find another way.\n",
    "\n",
    "Here, we consider the quantum phase estimation of a unitary matrix $U = e^{2\\pi i\\hat H}$.\n",
    "\n",
    "### Is $U = e^{2\\pi i\\hat H}$ a unitary matrix?\n",
    "\n",
    "To proof $U U^\\dagger = I$, we consider $U^\\dagger$.\n",
    "$$\\begin{eqnarray}\n",
    "U^\\dagger &=& (e^{2\\pi i\\hat H})^\\dagger\\nonumber\\\\\n",
    "&=& (\\sum_n^\\infty \\frac{(2\\pi i\\hat H)^n}{n!})^\\dagger\\nonumber\\\\\n",
    "&=& \\sum_n^\\infty \\frac{((2\\pi i\\hat H)^n)^\\dagger}{n!}\\nonumber\\\\\n",
    "&=& \\sum_n^\\infty \\frac{(-2\\pi i\\hat H^\\dagger)^n)}{n!}\\nonumber\\\\\n",
    "&=& \\sum_n^\\infty \\frac{(-2\\pi i\\hat H)^n)}{n!}\\nonumber\\\\\n",
    "&=& e^{-2\\pi i\\hat H}.\\nonumber\n",
    "\\end{eqnarray}$$\n",
    "Therefore, $U U^\\dagger = e^{2\\pi i\\hat H} e^{-2\\pi i\\hat H}$. Because $[2\\pi i\\hat H, -2\\pi i\\hat H] = 0$, $e^{2\\pi i\\hat H} e^{-2\\pi i\\hat H} = e^{2\\pi i\\hat H -2\\pi i\\hat H} = e^{0\\hat H} = I$. So, $U U^\\dagger = I$ i.e. $U$ is a unitary matrix.\n",
    "\n",
    "### What is the eigenvalues and eigenvectors of $U$? Is it related with them of $\\hat H$?\n",
    "\n",
    "We proof that the eigenvector of $U$ is as same as the eigenvector of $\\hat H$, and find its corresponding eigenvalue.\n",
    "\n",
    "Let $\\lambda_j, \\left|\\psi_j\\right\\rangle$ be a pair of an eigenvalue and an eigenvector of $\\hat H$. Then,\n",
    "$$\\begin{eqnarray}\n",
    "U \\left|\\psi_j\\right\\rangle &=& (\\sum_n^\\infty \\frac{(2\\pi i\\hat H)^n}{n!})\\left|\\psi_j\\right\\rangle\\nonumber\\\\\n",
    "&=& \\sum_n^\\infty \\frac{(2\\pi i)^n \\hat H^n \\left|\\psi_j\\right\\rangle}{n!}\\nonumber\\\\\n",
    "&=& \\sum_n^\\infty \\frac{(2\\pi i)^n \\lambda_j^n \\left|\\psi_j\\right\\rangle}{n!}\\nonumber\\\\\n",
    "&=& \\sum_n^\\infty \\frac{(2\\pi i)^n \\lambda_j^n}{n!}\\left|\\psi_j\\right\\rangle\\nonumber\\\\\n",
    "&=& \\sum_n^\\infty \\frac{(2\\pi i \\lambda_j)^n}{n!}\\left|\\psi_j\\right\\rangle\\nonumber\\\\\n",
    "&=& e^{2\\pi i \\lambda_j}\\left|\\psi_j\\right\\rangle.\\nonumber\n",
    "\\end{eqnarray}$$\n",
    "Therefore, $\\left|\\psi_j\\right\\rangle$ is an eigenvector of $U$ and its corresponding eigenvalue is $e^{2\\pi i \\lambda_j}$.\n",
    "\n",
    "So, we can obtain the eivenvalue $\\lambda_j$ of $\\hat H$ by the quantum phase estimation of\n",
    "$$U\\left|\\psi_j\\right\\rangle = e^{2\\pi i\\lambda_j} \\left|\\psi_j\\right\\rangle.$$"
   ]
  },
  {
   "cell_type": "markdown",
   "metadata": {},
   "source": [
    "## Implementation\n",
    "First, we import required libraries. In this time, we use numba backend."
   ]
  },
  {
   "cell_type": "code",
   "execution_count": 1,
   "metadata": {},
   "outputs": [],
   "source": [
    "import math\n",
    "import cmath\n",
    "import random\n",
    "import numpy as np\n",
    "\n",
    "from blueqat import *\n",
    "from blueqat.pauli import X, Y, Z, I\n",
    "\n",
    "BlueqatGlobalSetting.set_default_backend('numba')\n",
    "pi = math.pi\n",
    "\n",
    "# Version check for Blueqat\n",
    "try:\n",
    "    Circuit().r(0.1)[0].run()\n",
    "except AttributeError:\n",
    "    raise ImportError('Blueqat version is old.')"
   ]
  },
  {
   "cell_type": "markdown",
   "metadata": {},
   "source": [
    "Next, we make a random Hermitian matrix $\\hat H$.\n",
    "\n",
    "To obtain the eigenvalue by quantum phase estimation, we also need\n",
    "- A quantum circuit which gives the eigenvector of $\\hat H$ corresponding with desired eigenvalue\n",
    "- A quantum circuit which gives Controlled-$e^{i2\\pi \\hat H 2^n}$.\n",
    "\n",
    "We will create them.\n",
    "\n",
    "A Hermitian matrix can be decomposed into $\\hat H = P D P^\\dagger$\n",
    "where $P$ is a unitary matrix, $D$ is a real diagonal matrix.\n",
    "\n",
    "In this case, diagonal elements of $D$ are eigenvalues of $\\hat H$ and each column of $P$ are eigenvalues of $\\hat H$. Now, we're considering a 2x2 Hermitian with eigenvalues summing up to zero, so, elements of $D$ are $\\pm E$ when $\\hat H$ has an eigenvalue $E$.\n",
    "\n",
    "Thus, we generate random real number $E$ and make $D$, then, generate random three real numbers $\\theta, \\phi, \\lambda$ and make $P$ using U3 gate, i.e. $P = \\mathrm{U3}(\\theta, \\phi, \\lambda)$.\n",
    "\n",
    "Now, we can define the function which returns\n",
    "\n",
    "- A Hermitian matrix $\\hat H$\n",
    "- An eigenvalue $E$, which we desired to calculate\n",
    "- Parameters of U3 gate $\\theta, \\phi, \\lambda$ which gives the eigenvector."
   ]
  },
  {
   "cell_type": "code",
   "execution_count": 1,
   "metadata": {},
   "outputs": [],
   "source": [
    "def is_hermitian(mat):\n",
    "    \"\"\"Check whether mat is Hermitian\"\"\"\n",
    "    return np.allclose(mat, mat.T.conjugate())\n",
    "\n",
    "def get_u3_matrix(theta, phi, lam):\n",
    "    \"\"\"Get a unitary matrix U3(theta, phi, lam)\"\"\"\n",
    "    # Get sympy matrix via Circuit.to_unitary() and convert to numpy matrix\n",
    "    u = Circuit().u3(theta, phi, lam)[0].to_unitary()\n",
    "    return np.array(u.tolist()).astype(np.complex64)\n",
    "\n",
    "def random_hermitian():\n",
    "    \"\"\"Make random Hermitian and returns triplet\n",
    "    (Hermitian, eigenvalue, parameters for U3).\n",
    "    \"\"\"\n",
    "    # Generate random eigenvalue\n",
    "    eigval = random.random()\n",
    "    # Generate random parameters for U3\n",
    "    theta = random.random()\n",
    "    phi = random.random()\n",
    "    lam = random.random()\n",
    "    # Make Hermitian from them\n",
    "    u3 = get_u3_matrix(theta, phi, lam)\n",
    "    hermitian = u3 @ np.diag([eigval, -eigval]) @ u3.T.conjugate()\n",
    "    # Check it is Hermitian\n",
    "    assert is_hermitian(hermitian)\n",
    "    # returns Hermitian, eigenvalue, parameters for U3\n",
    "    return hermitian, eigval, (theta, phi, lam)"
   ]
  },
  {
   "cell_type": "markdown",
   "metadata": {},
   "source": [
    "OK. We will make a Hermitian."
   ]
  },
  {
   "cell_type": "code",
   "execution_count": 3,
   "metadata": {},
   "outputs": [
    {
     "name": "stdout",
     "output_type": "stream",
     "text": [
      "[[ 0.38881099+0.j          0.12507926-0.02545279j]\n",
      " [ 0.12507926+0.02545279j -0.38881099+0.j        ]]\n"
     ]
    }
   ],
   "source": [
    "H, E, (theta, phi, lam) = random_hermitian()\n",
    "print(H)"
   ]
  },
  {
   "cell_type": "markdown",
   "metadata": {},
   "source": [
    "We can make an eigenvector using `theta, phi, lam` and U3 gate."
   ]
  },
  {
   "cell_type": "code",
   "execution_count": 4,
   "metadata": {},
   "outputs": [
    {
     "name": "stdout",
     "output_type": "stream",
     "text": [
      "[0.94269349-0.29391242j 0.15712574-0.01599945j]\n"
     ]
    }
   ],
   "source": [
    "vec = Circuit().u3(theta, phi, lam)[0].run()\n",
    "print(vec)"
   ]
  },
  {
   "cell_type": "markdown",
   "metadata": {},
   "source": [
    "Check `H vec = E vec`, it means, `E, vec` is a pair of eigenvalue and eigenvector of H."
   ]
  },
  {
   "cell_type": "code",
   "execution_count": 5,
   "metadata": {},
   "outputs": [
    {
     "data": {
      "text/plain": [
       "True"
      ]
     },
     "execution_count": 5,
     "metadata": {},
     "output_type": "execute_result"
    }
   ],
   "source": [
    "np.allclose(np.dot(H, vec), E * vec)"
   ]
  },
  {
   "cell_type": "markdown",
   "metadata": {},
   "source": [
    "Preparation is done. We will implement quantum phase estimation. We make the quantum circuit and calculate `E` by quantum phase estimation."
   ]
  },
  {
   "cell_type": "code",
   "execution_count": 6,
   "metadata": {},
   "outputs": [],
   "source": [
    "def iqft(c, q0, n_qubits):\n",
    "    \"\"\"Add inversed quantum Fourier transform operations to q0-th - (q0 + n_qubits)-th qubits of the circuit `c`\"\"\"\n",
    "    for i in reversed(range(n_qubits)):\n",
    "        angle = -0.5\n",
    "        for j in range(i + 1, n_qubits):\n",
    "            c.cr(angle * pi)[q0 + j, q0 + i]\n",
    "            angle *= 0.5\n",
    "        c.h[q0 + i]\n",
    "    return c\n",
    "\n",
    "\n",
    "def initial_circuit(theta, phi, lam):\n",
    "    \"\"\"Prepare a initial circuit which gives eigenvector.\"\"\"\n",
    "    return Circuit().u3(theta, phi, lam)[0]\n",
    "\n",
    "\n",
    "def apply_cu(c, ctrl, theta, phi, lam, eigval, n):\n",
    "    \"\"\"Append Controlled-U^(2^n) to the circuit `c`.\n",
    "    Controll qubit is `ctrl`, target qubit is 0.\n",
    "    \n",
    "    This function requires eigenvalue `eigval` as an argument.\n",
    "    We make Controlled-U^(2^n) by using eigenvalue. You may feel we're cheating.\n",
    "    You can make approximate Controlled-U^(2^n) circuit without eigenvalue,\n",
    "    for example by using Suzuki-Trotter decomposition. In this case, you have to consider about precision.\n",
    "    Generally, making efficient and high-precision Controlled-U^(2^n) circuit without cheating is difficult.\n",
    "    \"\"\"\n",
    "    return c.u3(-theta, -lam, -phi)[0].crz(-2 * pi * eigval * (2**n))[ctrl, 0].u3(theta, phi, lam)[0]\n",
    "\n",
    "def qpe_circuit(eigval, theta, phi, lam, precision):\n",
    "    \"\"\"Returns quantum phase estimation circuit from eigenvalue, parameters of U3 gate and\n",
    "    precision (a number of binary digits) of phase estimation\"\"\"\n",
    "    c = initial_circuit(theta, phi, lam)\n",
    "    c.h[1:1 + precision]\n",
    "    for i in range(precision):\n",
    "        apply_cu(c, i + 1, theta, phi, lam, eigval, i)\n",
    "    iqft(c, 1, precision)\n",
    "    return c"
   ]
  },
  {
   "cell_type": "markdown",
   "metadata": {},
   "source": [
    "Let's see the quantum circuit of quantum phase estimation."
   ]
  },
  {
   "cell_type": "code",
   "execution_count": 7,
   "metadata": {},
   "outputs": [
    {
     "data": {
      "image/png": "[encoded data removed]",
      "text/plain": [
       "<Figure size 1683.19x806.68 with 1 Axes>"
      ]
     },
     "execution_count": 7,
     "metadata": {},
     "output_type": "execute_result"
    }
   ],
   "source": [
    "qpe_circuit(E, theta, phi, lam, 4).run_with_ibmq(returns='draw', output='mpl')"
   ]
  },
  {
   "cell_type": "markdown",
   "metadata": {},
   "source": [
    "Then, we make a function for calculating the eigenvalue from observed result."
   ]
  },
  {
   "cell_type": "code",
   "execution_count": 2,
   "metadata": {},
   "outputs": [],
   "source": [
    "def run_qpe(c, shots=1000, max_candidates=5):\n",
    "    \"\"\"Run the circuit for quantum phase estimation and returns candidates of eigenvalue.\n",
    "    shots: The number of running quantum circuit, max_candidates: Maximum number of candidates\n",
    "    \"\"\"\n",
    "    cnt = c.m[1:].run(shots=shots)\n",
    "\n",
    "    # Convert measured result to floating point value\n",
    "    def to_value(k):\n",
    "        k = k[1:] # Drop first element\n",
    "        val = 0 # Value\n",
    "        a = 1.0 \n",
    "        for ch in k:\n",
    "            if ch == '1':\n",
    "                val += a\n",
    "            a *= 0.5\n",
    "        if val > 1:\n",
    "            # When the phase > π, subtract 2π (phase is negative).\n",
    "            val = val - 2\n",
    "        return val\n",
    "\n",
    "    return [(to_value(k), v) for k, v in cnt.most_common(max_candidates)]"
   ]
  },
  {
   "cell_type": "markdown",
   "metadata": {},
   "source": [
    "Now, we can perform the quantum phase estimation. Let's see the result."
   ]
  },
  {
   "cell_type": "code",
   "execution_count": 9,
   "metadata": {},
   "outputs": [
    {
     "name": "stdout",
     "output_type": "stream",
     "text": [
      "Eigenvalue (expected): 0.4092269088007868\n",
      "3 bit precision:\n",
      "619  0.5               (deviation:  9.077e-02)\n",
      "231  0.25              (deviation: -1.592e-01)\n",
      "50   0.75              (deviation:  3.408e-01)\n",
      "\n",
      "4 bit precision:\n",
      "786  0.375             (deviation: -3.423e-02)\n",
      "114  0.5               (deviation:  9.077e-02)\n",
      "30   0.25              (deviation: -1.592e-01)\n",
      "\n",
      "5 bit precision:\n",
      "454  0.4375            (deviation:  2.827e-02)\n",
      "347  0.375             (deviation: -3.423e-02)\n",
      "47   0.5               (deviation:  9.077e-02)\n",
      "\n",
      "6 bit precision:\n",
      "966  0.40625           (deviation: -2.977e-03)\n",
      "9    0.375             (deviation: -3.423e-02)\n",
      "6    0.4375            (deviation:  2.827e-02)\n",
      "\n",
      "7 bit precision:\n",
      "880  0.40625           (deviation: -2.977e-03)\n",
      "54   0.421875          (deviation:  1.265e-02)\n",
      "23   0.390625          (deviation: -1.860e-02)\n",
      "\n",
      "8 bit precision:\n",
      "586  0.40625           (deviation: -2.977e-03)\n",
      "254  0.4140625         (deviation:  4.836e-03)\n",
      "50   0.3984375         (deviation: -1.079e-02)\n",
      "\n",
      "9 bit precision:\n",
      "832  0.41015625        (deviation:  9.293e-04)\n",
      "77   0.40625           (deviation: -2.977e-03)\n",
      "27   0.4140625         (deviation:  4.836e-03)\n",
      "\n",
      "10 bit precision:\n",
      "429  0.41015625        (deviation:  9.293e-04)\n",
      "376  0.408203125       (deviation: -1.024e-03)\n",
      "52   0.40625           (deviation: -2.977e-03)\n",
      "\n",
      "11 bit precision:\n",
      "995  0.4091796875      (deviation: -4.722e-05)\n",
      "2    0.408203125       (deviation: -1.024e-03)\n",
      "1    0.4111328125      (deviation:  1.906e-03)\n",
      "\n",
      "12 bit precision:\n",
      "969  0.4091796875      (deviation: -4.722e-05)\n",
      "12   0.40966796875     (deviation:  4.411e-04)\n",
      "10   0.40869140625     (deviation: -5.355e-04)\n",
      "\n",
      "13 bit precision:\n",
      "883  0.4091796875      (deviation: -4.722e-05)\n",
      "48   0.409423828125    (deviation:  1.969e-04)\n",
      "14   0.408935546875    (deviation: -2.914e-04)\n",
      "\n",
      "14 bit precision:\n",
      "582  0.4091796875      (deviation: -4.722e-05)\n",
      "229  0.4093017578125   (deviation:  7.485e-05)\n",
      "54   0.4090576171875   (deviation: -1.693e-04)\n",
      "\n",
      "15 bit precision:\n",
      "860  0.40924072265625  (deviation:  1.381e-05)\n",
      "57   0.4091796875      (deviation: -4.722e-05)\n",
      "25   0.4093017578125   (deviation:  7.485e-05)\n",
      "\n"
     ]
    }
   ],
   "source": [
    "print('Eigenvalue (expected):', E) # It's expected value. We desire a value closed to it.\n",
    "# We'll run small to high precision for comparison.\n",
    "for precision in range(3, 16):\n",
    "    print(precision, 'bit precision:')\n",
    "    c = qpe_circuit(E, theta, phi, lam, precision)\n",
    "    result = run_qpe(c, 1000, 3)\n",
    "    for value, count in result:\n",
    "        # Display a number of observation, obtained eigenvalue and a deviation from true eigenvalue.\n",
    "        print(f'{count:<5}{value:<18}(deviation: {value - E: .3e})')\n",
    "    print('')"
   ]
  },
  {
   "cell_type": "markdown",
   "metadata": {},
   "source": [
    "Obtained value are near by true eigenvalue."
   ]
  },
  {
   "cell_type": "markdown",
   "metadata": {},
   "source": [
    "## Quantum Phase Estimation of Hermitian Matrix (without Eigenvalues Summing up to Zero)\n",
    "Generally, the sum of eigenvalues of Hermitian matrix is not zero. In this case, we also can calculate the eigenvalue by quantum phase estimation, but we need to modify the circuit for Controlled-U gate.\n",
    "\n",
    "Let $U$ be $e^{2\\pi i\\hat H}$. The sum of eigenvalues of $U$ is equivalent with a trace of $U$. So, we consider $\\mathrm{tr}(U)$.\n",
    "$$\\begin{eqnarray}\n",
    "\\mathrm{tr}(U) &=& \\mathrm{tr}\\left(\\sum_{n=0}^{\\infty}\\frac{(2\\pi i \\hat H)^n}{n!}\\right)\\nonumber\\\\\n",
    "&=&\\sum_{n=0}^{\\infty}\\mathrm{tr}\\left(\\frac{(2\\pi i \\hat H)^n}{n!}\\right)\\nonumber\\\\\n",
    "&=&\\sum_{n=0}^{\\infty}\\frac{(2\\pi i \\mathrm{tr}(\\hat H))^n}{n!}\\nonumber\\\\\n",
    "&=&e^{2\\pi i \\mathrm{tr}(\\hat H)}\\nonumber.\\\\\n",
    "\\end{eqnarray}$$\n",
    "Therefore, $\\mathrm{tr}(U)$ is appeared with a global phase of $U$. We make Controlled-U gate with considering the global phase. i.e. We add a RZ gate into controll qubit."
   ]
  },
  {
   "cell_type": "code",
   "execution_count": 10,
   "metadata": {},
   "outputs": [],
   "source": [
    "def random_hermitian2():\n",
    "    \"\"\"Make random Hermitian matrix and returns\n",
    "    Hermitian matrix, a pair of eigenvalues, parameters for U3 gate.\n",
    "    \"\"\"\n",
    "    # Get random eigenvalues. The range of eigenvalues is -1 to 1.\n",
    "    eigvals = [random.random() * 2 - 1, random.random() * 2 - 1]\n",
    "    # Sorting eigenvalues. (You may comment out this line if you don't desire.)\n",
    "    eigvals.sort()\n",
    "    # Get random parameters for U3 gate.\n",
    "    theta = random.random()\n",
    "    phi = random.random()\n",
    "    lam = random.random()\n",
    "    # Make a Hermitian matrix from them.\n",
    "    u3 = get_u3_matrix(theta, phi, lam)\n",
    "    hermitian = u3 @ np.diag(eigvals) @ u3.T.conjugate()\n",
    "    # Check if it is Hermitian.\n",
    "    assert is_hermitian(hermitian)\n",
    "    # Returns Hermitian, eigenvalues, parameters.\n",
    "    return hermitian, eigvals, (theta, phi, lam)"
   ]
  },
  {
   "cell_type": "code",
   "execution_count": 11,
   "metadata": {},
   "outputs": [
    {
     "name": "stdout",
     "output_type": "stream",
     "text": [
      "[[-0.09314799+0.00000000e+00j -0.00887058+7.70476954e-03j]\n",
      " [-0.00887058-7.70476954e-03j  0.11637164-6.93889390e-18j]]\n"
     ]
    }
   ],
   "source": [
    "H, eigvals, (theta, phi, lam) = random_hermitian2()\n",
    "print(H)"
   ]
  },
  {
   "cell_type": "code",
   "execution_count": 12,
   "metadata": {},
   "outputs": [],
   "source": [
    "def apply_cu2(c, ctrl, theta, phi, lam, eigvals, n):\n",
    "    \"\"\"Modify apply_cu and consider global phase also.\n",
    "    argument `eigvals` is a pair of eigenvalues.\n",
    "    \"\"\"\n",
    "    bias = sum(eigvals) / 2\n",
    "    angle = (eigvals[0] - eigvals[1]) / 2\n",
    "    return c.u3(-theta, -lam, -phi)[0].crz(-2 * pi * angle * (2**n))[ctrl, 0].u3(theta, phi, lam)[0].rz(pi * bias * (2**n))[ctrl]\n",
    "\n",
    "def qpe_circuit2(eigvals, theta, phi, lam, precision):\n",
    "    \"\"\"Modify qpe_circuit2 for using apply_cu2.\"\"\"\n",
    "    c = initial_circuit(theta, phi, lam)\n",
    "    c.h[1:1 + precision]\n",
    "    for i in range(precision):\n",
    "        apply_cu2(c, i + 1, theta, phi, lam, eigvals, i)\n",
    "    iqft(c, 1, precision)\n",
    "    return c"
   ]
  },
  {
   "cell_type": "markdown",
   "metadata": {},
   "source": [
    "Then, we calculate first eigenvalue."
   ]
  },
  {
   "cell_type": "code",
   "execution_count": 13,
   "metadata": {},
   "outputs": [
    {
     "name": "stdout",
     "output_type": "stream",
     "text": [
      "Eigenvalue (expected): -0.09380483021040753\n",
      "3 bit precision:\n",
      "640  0                 (deviation:  9.380e-02)\n",
      "201  -0.25             (deviation: -1.562e-01)\n",
      "43   -0.5              (deviation: -4.062e-01)\n",
      "\n",
      "4 bit precision:\n",
      "825  -0.125            (deviation: -3.120e-02)\n",
      "94   0                 (deviation:  9.380e-02)\n",
      "26   -0.25             (deviation: -1.562e-01)\n",
      "\n",
      "5 bit precision:\n",
      "422  -0.125            (deviation: -3.120e-02)\n",
      "407  -0.0625           (deviation:  3.130e-02)\n",
      "49   -0.1875           (deviation: -9.370e-02)\n",
      "\n",
      "6 bit precision:\n",
      "1000 -0.09375          (deviation:  5.483e-05)\n",
      "\n",
      "7 bit precision:\n",
      "1000 -0.09375          (deviation:  5.483e-05)\n",
      "\n",
      "8 bit precision:\n",
      "999  -0.09375          (deviation:  5.483e-05)\n",
      "1    -0.0859375        (deviation:  7.867e-03)\n",
      "\n",
      "9 bit precision:\n",
      "1000 -0.09375          (deviation:  5.483e-05)\n",
      "\n",
      "10 bit precision:\n",
      "996  -0.09375          (deviation:  5.483e-05)\n",
      "2    -0.09765625       (deviation: -3.851e-03)\n",
      "1    -0.095703125      (deviation: -1.898e-03)\n",
      "\n",
      "11 bit precision:\n",
      "983  -0.09375          (deviation:  5.483e-05)\n",
      "7    -0.0927734375     (deviation:  1.031e-03)\n",
      "7    -0.0947265625     (deviation: -9.217e-04)\n",
      "\n",
      "12 bit precision:\n",
      "956  -0.09375          (deviation:  5.483e-05)\n",
      "13   -0.09423828125    (deviation: -4.335e-04)\n",
      "6    -0.09326171875    (deviation:  5.431e-04)\n",
      "\n",
      "13 bit precision:\n",
      "853  -0.09375          (deviation:  5.483e-05)\n",
      "62   -0.093994140625   (deviation: -1.893e-04)\n",
      "30   -0.093505859375   (deviation:  2.990e-04)\n",
      "\n",
      "14 bit precision:\n",
      "487  -0.09375          (deviation:  5.483e-05)\n",
      "324  -0.0938720703125  (deviation: -6.724e-05)\n",
      "47   -0.0936279296875  (deviation:  1.769e-04)\n",
      "\n",
      "15 bit precision:\n",
      "962  -0.09381103515625 (deviation: -6.205e-06)\n",
      "21   -0.09375          (deviation:  5.483e-05)\n",
      "7    -0.0938720703125  (deviation: -6.724e-05)\n",
      "\n"
     ]
    }
   ],
   "source": [
    "print('Eigenvalue (expected):', eigvals[0]) # It's expected value. We desire a value closed to it.\n",
    "# We'll run small to high precision for comparison.\n",
    "for precision in range(3, 16):\n",
    "    print(precision, 'bit precision:')\n",
    "    c = qpe_circuit2(eigvals, theta, phi, lam, precision)\n",
    "    result = run_qpe(c, 1000, 3)\n",
    "    for value, count in result:\n",
    "        # Display a number of observation, obtained eigenvalue and a deviation from true eigenvalue.\n",
    "        print(f'{count:<5}{value:<18}(deviation: {value - eigvals[0]: .3e})')\n",
    "    print('')"
   ]
  },
  {
   "cell_type": "markdown",
   "metadata": {},
   "source": [
    "By modifying Controlled-U gate, we obtained a eigenvalue.\n",
    "\n",
    "Next, we consider to obtain another eigenvalue. Another eigenvalue can calculate by quantum phase estimation with another eigenvector.\n",
    "\n",
    "This time, we use the equation $\\hat H = P D P^\\dagger$, where $P$ is a unitary matrix $\\mathrm{U3}(\\theta, \\phi, \\lambda)$. Thus, the eigenvectors of $\\hat H$ are first and second column of $\\mathrm{U3}(\\theta, \\phi, \\lambda)$. To obtain first eigenvalue, we had prepared the first eigenvector with applying $\\mathrm{U3}(\\theta, \\phi, \\lambda)$ gate. We can get second eigenvector with applying X-Gate before $\\mathrm{U3}(\\theta, \\phi, \\lambda)$ gate.\n",
    "\n",
    "Let's implement it."
   ]
  },
  {
   "cell_type": "code",
   "execution_count": 14,
   "metadata": {},
   "outputs": [],
   "source": [
    "def initial_circuit2(theta, phi, lam):\n",
    "    \"\"\"Make an initial circuit which prepares second eigenvector.\"\"\"\n",
    "    return Circuit().x[0].u3(theta, phi, lam)[0]\n",
    "\n",
    "def qpe_circuit3(eigvals, theta, phi, lam, precision):\n",
    "    \"\"\"Modified for using apply_cu2 and initial_circuit2.\"\"\"\n",
    "    c = initial_circuit2(theta, phi, lam)\n",
    "    c.h[1:1 + precision]\n",
    "    for i in range(precision):\n",
    "        apply_cu2(c, i + 1, theta, phi, lam, eigvals, i)\n",
    "    iqft(c, 1, precision)\n",
    "    return c"
   ]
  },
  {
   "cell_type": "code",
   "execution_count": 15,
   "metadata": {},
   "outputs": [
    {
     "name": "stdout",
     "output_type": "stream",
     "text": [
      "Eigenvalue (expected): 0.11702847256952209\n",
      "3 bit precision:\n",
      "464  0                 (deviation: -1.170e-01)\n",
      "350  0.25              (deviation:  1.330e-01)\n",
      "52   -0.25             (deviation: -3.670e-01)\n",
      "\n",
      "4 bit precision:\n",
      "985  0.125             (deviation:  7.972e-03)\n",
      "8    0                 (deviation: -1.170e-01)\n",
      "3    0.25              (deviation:  1.330e-01)\n",
      "\n",
      "5 bit precision:\n",
      "948  0.125             (deviation:  7.972e-03)\n",
      "22   0.0625            (deviation: -5.453e-02)\n",
      "11   0.1875            (deviation:  7.047e-02)\n",
      "\n",
      "6 bit precision:\n",
      "799  0.125             (deviation:  7.972e-03)\n",
      "99   0.09375           (deviation: -2.328e-02)\n",
      "33   0.15625           (deviation:  3.922e-02)\n",
      "\n",
      "7 bit precision:\n",
      "412  0.109375          (deviation: -7.653e-03)\n",
      "395  0.125             (deviation:  7.972e-03)\n",
      "45   0.09375           (deviation: -2.328e-02)\n",
      "\n",
      "8 bit precision:\n",
      "997  0.1171875         (deviation:  1.590e-04)\n",
      "2    0.109375          (deviation: -7.653e-03)\n",
      "1    0.1015625         (deviation: -1.547e-02)\n",
      "\n",
      "9 bit precision:\n",
      "994  0.1171875         (deviation:  1.590e-04)\n",
      "4    0.125             (deviation:  7.972e-03)\n",
      "1    0.12109375        (deviation:  4.065e-03)\n",
      "\n",
      "10 bit precision:\n",
      "975  0.1171875         (deviation:  1.590e-04)\n",
      "10   0.115234375       (deviation: -1.794e-03)\n",
      "4    0.119140625       (deviation:  2.112e-03)\n",
      "\n",
      "11 bit precision:\n",
      "946  0.1171875         (deviation:  1.590e-04)\n",
      "26   0.1162109375      (deviation: -8.175e-04)\n",
      "5    0.1181640625      (deviation:  1.136e-03)\n",
      "\n",
      "12 bit precision:\n",
      "701  0.1171875         (deviation:  1.590e-04)\n",
      "162  0.11669921875     (deviation: -3.293e-04)\n",
      "45   0.11767578125     (deviation:  6.473e-04)\n",
      "\n",
      "13 bit precision:\n",
      "654  0.116943359375    (deviation: -8.511e-05)\n",
      "206  0.1171875         (deviation:  1.590e-04)\n",
      "45   0.11669921875     (deviation: -3.293e-04)\n",
      "\n",
      "14 bit precision:\n",
      "746  0.1170654296875   (deviation:  3.696e-05)\n",
      "120  0.116943359375    (deviation: -8.511e-05)\n",
      "41   0.1171875         (deviation:  1.590e-04)\n",
      "\n",
      "15 bit precision:\n",
      "597  0.11700439453125  (deviation: -2.408e-05)\n",
      "253  0.1170654296875   (deviation:  3.696e-05)\n",
      "36   0.116943359375    (deviation: -8.511e-05)\n",
      "\n"
     ]
    }
   ],
   "source": [
    "print('Eigenvalue (expected):', eigvals[1]) # It's expected value. We desire a value closed to it.\n",
    "# We'll run small to high precision for comparison.\n",
    "for precision in range(3, 16):\n",
    "    print(precision, 'bit precision:')\n",
    "    c = qpe_circuit3(eigvals, theta, phi, lam, precision)\n",
    "    result = run_qpe(c, 1000, 3)\n",
    "    for value, count in result:\n",
    "        # Display a number of observation, obtained eigenvalue and a deviation from true eigenvalue.\n",
    "        print(f'{count:<5}{value:<18}(deviation: {value - eigvals[1]: .3e})')\n",
    "    print('')"
   ]
  },
  {
   "cell_type": "markdown",
   "metadata": {},
   "source": [
    "We got second eigenvalue also."
   ]
  }
 ],
 "metadata": {
  "kernelspec": {
   "display_name": "Python 3",
   "language": "python",
   "name": "python3"
  },
  "language_info": {
   "codemirror_mode": {
    "name": "ipython",
    "version": 3
   },
   "file_extension": ".py",
   "mimetype": "text/x-python",
   "name": "python",
   "nbconvert_exporter": "python",
   "pygments_lexer": "ipython3",
   "version": "3.8.3"
  }
 },
 "nbformat": 4,
 "nbformat_minor": 4
}
